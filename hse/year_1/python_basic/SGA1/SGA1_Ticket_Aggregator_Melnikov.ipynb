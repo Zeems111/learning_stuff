{
 "cells": [
  {
   "cell_type": "markdown",
   "id": "15c1e6f7",
   "metadata": {},
   "source": [
    "**FIRST part** of the assignment."
   ]
  },
  {
   "cell_type": "markdown",
   "id": "a9ffcb8b",
   "metadata": {},
   "source": [
    "In the next cell function **typecast** is declared.<br>\n",
    "Function recieves 2 arguments:\n",
    "- *number* - a string to be converted to a new type;<br>\n",
    "- *new_type* - the type to which string is converted.\n",
    "\n",
    "This function attempts to convert user's input to a specified type (i.e. float/int)\n",
    "- if it is possible, function returns converted number;\n",
    "- otherwise a *ValueError* exception is thrown and function returns *None*;"
   ]
  },
  {
   "cell_type": "code",
   "execution_count": null,
   "id": "2c82473f",
   "metadata": {
    "scrolled": false
   },
   "outputs": [],
   "source": [
    "def typecast(number, new_type):\n",
    "    try:\n",
    "        number = new_type(number)\n",
    "    except ValueError:\n",
    "        number = None\n",
    "    return number"
   ]
  },
  {
   "cell_type": "markdown",
   "id": "5c239da5",
   "metadata": {},
   "source": [
    "Function **grade**.<br>\n",
    "Gets a dictionary which represents an offer with all it's attributes.<br>\n",
    "Returns a string with the offer's grade"
   ]
  },
  {
   "cell_type": "code",
   "execution_count": null,
   "id": "e5df0d98",
   "metadata": {},
   "outputs": [],
   "source": [
    "def grade(offer):\n",
    "    offer_grade = 'other'\n",
    "    if offer['price'] < 200 and offer['transfers'] <= 1 and offer['refund'] and offer['luggage']:\n",
    "        offer_grade = 'the best'\n",
    "    elif 200 <= offer['price'] <= 250 and offer['transfers'] <= 2:\n",
    "        offer_grade = 'good enough'\n",
    "    elif offer['price'] > 250 and offer['transfers'] >= 3:\n",
    "        offer_grade = 'the worst'\n",
    "    return offer_grade"
   ]
  },
  {
   "cell_type": "code",
   "execution_count": null,
   "id": "678fb534",
   "metadata": {
    "scrolled": true
   },
   "outputs": [],
   "source": [
    "print('Welcome to flight tickets evaluation!')\n",
    "newOffer = {}"
   ]
  },
  {
   "cell_type": "markdown",
   "id": "ac68e279",
   "metadata": {},
   "source": [
    "In cells below: <br>\n",
    "infinite loop is running, during which user is invited by prompts to enter offer details, such as:\n",
    "- price, \n",
    "- number of transfers, \n",
    "- availiability of tickets' refund,\n",
    "- whether luggage transportation price is included into the ticket price.\n",
    "\n",
    "If user's input has wrong type (i.e. user enters \"yes\" instead of a number) or is inacurate (i.e. price entered is a negative number),<br>\n",
    "then an error message *'[X] Incorrect input'* appears "
   ]
  },
  {
   "cell_type": "code",
   "execution_count": null,
   "id": "ae7f57bd",
   "metadata": {},
   "outputs": [],
   "source": [
    "while True:\n",
    "    price = input('[>] Enter ticket price: $')\n",
    "    price = typecast(price, float)\n",
    "    if price is None or price < 0:\n",
    "        print('[X] Incorrect input')\n",
    "        continue\n",
    "    newOffer['price'] = round(price, 2)\n",
    "    break"
   ]
  },
  {
   "cell_type": "code",
   "execution_count": null,
   "id": "ff23d50e",
   "metadata": {},
   "outputs": [],
   "source": [
    "while True:\n",
    "    transferNumber = input('[>] Number of transfers: ')\n",
    "    transferNumber = typecast(transferNumber, int)\n",
    "    if transferNumber is None or transferNumber < 0:\n",
    "        print('[X] Incorrect input')\n",
    "        continue\n",
    "    newOffer['transfers'] = transferNumber\n",
    "    break"
   ]
  },
  {
   "cell_type": "code",
   "execution_count": null,
   "id": "4409ae33",
   "metadata": {},
   "outputs": [],
   "source": [
    "while True:\n",
    "    refund = input('[>] Is refund included (Y/N)?: ').lower()\n",
    "    if refund != 'y' and refund != 'n':\n",
    "        print('[X] Incorrect input')\n",
    "        continue\n",
    "    newOffer['refund'] = refund == 'y'\n",
    "    break"
   ]
  },
  {
   "cell_type": "code",
   "execution_count": null,
   "id": "2b70f59d",
   "metadata": {
    "scrolled": true
   },
   "outputs": [],
   "source": [
    "while True:\n",
    "    luggage = input('[>] Is luggage cost included (Y/N)?: ').lower()\n",
    "    if luggage != 'y' and luggage != 'n':\n",
    "        print('[X] Incorrect input')\n",
    "        continue\n",
    "    newOffer['luggage'] = luggage == 'y'\n",
    "    break"
   ]
  },
  {
   "cell_type": "markdown",
   "id": "64d4511e",
   "metadata": {},
   "source": [
    "In this cell overall information about the offer is shown, concluded by it's grade."
   ]
  },
  {
   "cell_type": "code",
   "execution_count": null,
   "id": "a3149efb",
   "metadata": {},
   "outputs": [],
   "source": [
    "print('--- FLIGHT INFORMATION ---')\n",
    "print('Ticket price: $', newOffer['price'], sep='')\n",
    "print('Number of transfers:', newOffer['transfers'])\n",
    "refInclusion = '' if newOffer['refund'] else 'not '\n",
    "print('Refund: ', refInclusion, 'included', sep='')\n",
    "luggageInc = '' if newOffer['luggage'] else 'not '\n",
    "print('Luggage: ', luggageInc, 'included', sep='')\n",
    "print('Offer grade: ', grade(newOffer), sep='')"
   ]
  },
  {
   "cell_type": "markdown",
   "id": "d52872f7",
   "metadata": {},
   "source": [
    "Advantages of this agregator:\n",
    "- easy to use\n",
    "- user gets an easy evaluation of an offer in 'good/ok/bad' style\n",
    "\n",
    "Disadvantages:\n",
    "- offers are hard to split in 3 main categories, so there will be many offers categoised as *other*;\n",
    "- only 4 properties of a flight are taken into account during offer evaluation;\n",
    "- user's priorities might not be met during offer evaluation: \"the cheaper - the beter\" doesn't work for everyone;"
   ]
  },
  {
   "cell_type": "markdown",
   "id": "1a6717db",
   "metadata": {},
   "source": [
    "**SECOND part** of the assignment\n",
    "\n",
    "Suggestions for improvement:\n",
    "- instead of categorising offers we should give it a rating on a certain scale, e.g. from 1 to 5, like \"4.6 out of 5\". This system is rather common now days, so it's easy for user to work with it\n",
    "- there are other properties to consider, like duration of the flight, level of comfort during the flight (1st class, business class, economy), etc;\n",
    "- to better meet users' expectation, we can ask them to select the properties of a flight they value the most.<br>For example, some rich people would prioritise comfort over price.\n",
    "- for better evaluation, we can compare offer's properties with the properties of a current medium offer, and grade it by the level of it's deviation from medium offer values "
   ]
  },
  {
   "cell_type": "markdown",
   "id": "fff5978a",
   "metadata": {},
   "source": [
    "Function *my_grade* recieves 2 dictionaries as arguments: \n",
    "- *offer*, which contains all info on user's ticket and \n",
    "- *priority*, which contains info about user's priorities\n",
    "\n",
    "This function compares user's ticket with information on standart quality tickets, represented by dictionary *std_offer*.<br>\n",
    "It then rates (on scale from 1 - worst, to 5 - best) each property of user's ticket according to the magnitude of difference between user's ticket and standart quality ticket.\n",
    "\n",
    "Next it evaluates the overall grade using user's priorities as 'weights' for each property of a ticket.\n",
    "\n",
    "Returns a dictionary with calculated rating of each property according to the user's prefferences (priorities)."
   ]
  },
  {
   "cell_type": "markdown",
   "id": "4d0f26df",
   "metadata": {},
   "source": [
    "In my example standard ticket costs $700, it includes 2 transfers, 16 hours flight, business level comfort, ticket refund and luggage transportation."
   ]
  },
  {
   "cell_type": "code",
   "execution_count": null,
   "id": "ab31def1",
   "metadata": {},
   "outputs": [],
   "source": [
    "def my_grade(offer, priority):\n",
    "    std_offer = {'price': 700, 'transfers': 2, 'duration': 16,\n",
    "                 'comfort': 2, 'refund': True, 'luggage': True}\n",
    "    mygrade = {}\n",
    "\n",
    "    if offer['price'] <= 0.85 * std_offer['price']:\n",
    "        mygrade['price'] = 5\n",
    "    elif offer['price'] <= 0.95 * std_offer['price']:\n",
    "        mygrade['price'] = 4\n",
    "    elif offer['price'] <= 1.05 * std_offer['price']:\n",
    "        mygrade['price'] = 3\n",
    "    elif offer['price'] <= 1.15 * std_offer['price']:\n",
    "        mygrade['price'] = 2\n",
    "    else:\n",
    "        mygrade['price'] = 1\n",
    "\n",
    "    if offer['transfers'] < std_offer['transfers']:\n",
    "        mygrade['transfers'] = 5\n",
    "    elif offer['transfers'] == std_offer['transfers']:\n",
    "        mygrade['transfers'] = 3\n",
    "    else:\n",
    "        mygrade['transfers'] = 1\n",
    "\n",
    "    if offer['duration'] <= 0.85 * std_offer['duration']:\n",
    "        mygrade['duration'] = 5\n",
    "    elif offer['duration'] <= 0.95 * std_offer['duration']:\n",
    "        mygrade['duration'] = 4\n",
    "    elif offer['duration'] <= 1.05 * std_offer['duration']:\n",
    "        mygrade['duration'] = 3\n",
    "    elif offer['duration'] <= 1.15 * std_offer['duration']:\n",
    "        mygrade['duration'] = 2\n",
    "    else:\n",
    "        mygrade['duration'] = 1\n",
    "\n",
    "    if offer['comfort'] < std_offer['comfort']:\n",
    "        mygrade['comfort'] = 1\n",
    "    elif offer['comfort'] == std_offer['comfort']:\n",
    "        mygrade['comfort'] = 3\n",
    "    else:\n",
    "        mygrade['comfort'] = 5\n",
    "\n",
    "    if offer['refund']:\n",
    "        mygrade['refund'] = 5\n",
    "    else:\n",
    "        mygrade['refund'] = 1\n",
    "\n",
    "    if offer['luggage']:\n",
    "        mygrade['luggage'] = 5\n",
    "    else:\n",
    "        mygrade['luggage'] = 1\n",
    "\n",
    "    n = sum(priority.values())\n",
    "    for key in priority.keys():\n",
    "        priority[key] = priority[key]/n\n",
    "        \n",
    "    for k in offer.keys():\n",
    "        mygrade[k] = mygrade[k] * priority[k]\n",
    "\n",
    "    return mygrade"
   ]
  },
  {
   "cell_type": "markdown",
   "id": "97bdeee2",
   "metadata": {},
   "source": [
    "The cells below describe loops, designed for user's input and for checking recieved data."
   ]
  },
  {
   "cell_type": "code",
   "execution_count": null,
   "id": "90af089e",
   "metadata": {},
   "outputs": [],
   "source": [
    "newOffer = {'price': None, 'transfers': None, 'duration': None,\n",
    "            'comfort': None, 'refund': None, 'luggage': None}"
   ]
  },
  {
   "cell_type": "code",
   "execution_count": null,
   "id": "18e39fb7",
   "metadata": {},
   "outputs": [],
   "source": [
    "while newOffer['price'] is None:\n",
    "    price = input('[>] Enter ticket price: $')\n",
    "    price = typecast(price, float)\n",
    "    if price is None or price < 0:\n",
    "        print('[X] Incorrect input')\n",
    "        continue\n",
    "    newOffer['price'] = round(price, 2)"
   ]
  },
  {
   "cell_type": "code",
   "execution_count": null,
   "id": "17cf2556",
   "metadata": {},
   "outputs": [],
   "source": [
    "while newOffer['transfers'] is None:\n",
    "    transferNumber = input('[>] Number of transfers: ')\n",
    "    transferNumber = typecast(transferNumber, int)\n",
    "    if transferNumber is None or transferNumber < 0:\n",
    "        print('[X] Incorrect input')\n",
    "        continue\n",
    "    newOffer['transfers'] = transferNumber"
   ]
  },
  {
   "cell_type": "code",
   "execution_count": null,
   "id": "cfbe8f65",
   "metadata": {},
   "outputs": [],
   "source": [
    "while newOffer['duration'] is None:\n",
    "    duration = input('[>] Enter flight duration (hours): ')\n",
    "    duration = typecast(duration, float)\n",
    "    if duration is None or duration <= 0:\n",
    "        print('[X] Incorrect input')\n",
    "        continue\n",
    "    newOffer['duration'] = round(duration, 1)"
   ]
  },
  {
   "cell_type": "code",
   "execution_count": null,
   "id": "ed711766",
   "metadata": {},
   "outputs": [],
   "source": [
    "comfortlevel = ['First class', 'Business class', 'Economy']\n",
    "while newOffer['comfort'] is None:\n",
    "    print('Enter a number, which corresponds to ticket\\'s comfort level')\n",
    "    print(*(str(i+1) + '. ' + comfortlevel[i] for i in range(len(comfortlevel))), sep='\\n')\n",
    "    comfort = input('[>] Comfort level: ')\n",
    "    comfort = typecast(comfort, int)\n",
    "    if comfort is None or not 1 <= comfort <= 3:\n",
    "        print('[X] Incorrect input')\n",
    "        continue\n",
    "    newOffer['comfort'] = 7 - 2 * comfort"
   ]
  },
  {
   "cell_type": "code",
   "execution_count": null,
   "id": "952978c3",
   "metadata": {},
   "outputs": [],
   "source": [
    "while newOffer['refund'] is None:\n",
    "    refund = input('[>] Is refund included (Y/N)?: ').lower()\n",
    "    if refund != 'y' and refund != 'n':\n",
    "        print('[X] Incorrect input')\n",
    "        continue\n",
    "    newOffer['refund'] = refund == 'y'"
   ]
  },
  {
   "cell_type": "code",
   "execution_count": null,
   "id": "7c668a7d",
   "metadata": {
    "scrolled": true
   },
   "outputs": [],
   "source": [
    "while newOffer['luggage'] is None:\n",
    "    luggage = input('[>] Is luggage cost included (Y/N)?: ').lower()\n",
    "    if luggage != 'y' and luggage != 'n':\n",
    "        print('[X] Incorrect input')\n",
    "        continue\n",
    "    newOffer['luggage'] = luggage == 'y'"
   ]
  },
  {
   "cell_type": "markdown",
   "id": "74760971",
   "metadata": {},
   "source": [
    "The cell below introduces dictionary *priorities*. By default all priorities are equal.<br>\n",
    "Main and second priorities are correspondingly 4 and 2 times more valuable than others."
   ]
  },
  {
   "cell_type": "code",
   "execution_count": null,
   "id": "30583c66",
   "metadata": {},
   "outputs": [],
   "source": [
    "priorities = {'comfort': 1, 'price': 1, 'transfers': 1,\n",
    "              'luggage': 1, 'refund': 1, 'duration': 1}\n",
    "priorList = list(priorities.keys())\n",
    "prior = None"
   ]
  },
  {
   "cell_type": "code",
   "execution_count": null,
   "id": "13d345a4",
   "metadata": {},
   "outputs": [],
   "source": [
    "print('Select main priority from the list below')\n",
    "for i in range(len(priorList)):\n",
    "    print(i + 1, priorList[i])\n",
    "while prior is None:\n",
    "    prior = input('[>] Main priority number: ')\n",
    "    prior = typecast(prior, int)\n",
    "    if prior is None or prior <= 0 or prior > len(priorList):\n",
    "        print('[X] Incorrect input')\n",
    "        prior = None\n",
    "        continue\n",
    "    priorities[priorList[prior-1]] = 4"
   ]
  },
  {
   "cell_type": "code",
   "execution_count": null,
   "id": "c0b12976",
   "metadata": {},
   "outputs": [],
   "source": [
    "prior = None\n",
    "print('Select second priority from the list below')\n",
    "print('0 No second priority')\n",
    "for i in range(len(priorList)):\n",
    "    print(i + 1, priorList[i])"
   ]
  },
  {
   "cell_type": "code",
   "execution_count": null,
   "id": "0d3c4308",
   "metadata": {},
   "outputs": [],
   "source": [
    "while prior is None:\n",
    "    prior = input('[>] Second priority number: ')\n",
    "    if prior == '0':\n",
    "        break\n",
    "    prior = typecast(prior, int)\n",
    "    if prior is None or prior <= 0 or prior > len(priorList):\n",
    "        print('[X] Incorrect input')\n",
    "        prior = None\n",
    "        continue\n",
    "    priorities[priorList[prior-1]] = 2"
   ]
  },
  {
   "cell_type": "markdown",
   "id": "db21c9fa",
   "metadata": {},
   "source": [
    "Next cell calls function *my_grade* to calculate final rating of the offer"
   ]
  },
  {
   "cell_type": "code",
   "execution_count": null,
   "id": "c609ada6",
   "metadata": {},
   "outputs": [],
   "source": [
    "finalGrade = my_grade(newOffer, priorities)\n",
    "rating = round(sum(finalGrade.values()), 2)"
   ]
  },
  {
   "cell_type": "markdown",
   "id": "a6da6df1",
   "metadata": {},
   "source": [
    "Next cells displays information on the offer and it's final rating"
   ]
  },
  {
   "cell_type": "code",
   "execution_count": null,
   "id": "dedf3236",
   "metadata": {},
   "outputs": [],
   "source": [
    "print('--- FLIGHT INFORMATION ---')\n",
    "print('Ticket price: $', newOffer['price'], sep='')\n",
    "print('Number of transfers:', newOffer['transfers'])\n",
    "print('Flight duration: ', newOffer['duration'], ' hours', sep='')\n",
    "comfi = (5 - newOffer['comfort']) // 2\n",
    "print('Comfort level:', comfortlevel[comfi])\n",
    "refInclusion = '' if newOffer['refund'] else 'not '\n",
    "print('Refund: ', refInclusion, 'included', sep='')\n",
    "luggageInc = '' if newOffer['luggage'] else 'not '\n",
    "print('Luggage: ', luggageInc, 'included', sep='')"
   ]
  },
  {
   "cell_type": "code",
   "execution_count": null,
   "id": "6679f554",
   "metadata": {},
   "outputs": [],
   "source": [
    "print('Offer rating: ', rating, sep='')"
   ]
  }
 ],
 "metadata": {
  "kernelspec": {
   "display_name": "Python 3 (ipykernel)",
   "language": "python",
   "name": "python3"
  },
  "language_info": {
   "codemirror_mode": {
    "name": "ipython",
    "version": 3
   },
   "file_extension": ".py",
   "mimetype": "text/x-python",
   "name": "python",
   "nbconvert_exporter": "python",
   "pygments_lexer": "ipython3",
   "version": "3.11.4"
  }
 },
 "nbformat": 4,
 "nbformat_minor": 5
}
