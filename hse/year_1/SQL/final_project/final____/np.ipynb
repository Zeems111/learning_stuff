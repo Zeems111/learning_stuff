{
 "cells": [
  {
   "cell_type": "markdown",
   "metadata": {},
   "source": [
    "Data manipulations should be implemented in SQL.\n",
    "\n",
    "Plan management (like creating new plan periods, data approval or changing planning status) needs to be done in form of python function calls."
   ]
  },
  {
   "cell_type": "code",
   "execution_count": 1,
   "metadata": {},
   "outputs": [
    {
     "name": "stdout",
     "output_type": "stream",
     "text": [
      "Collecting psycopg2\n",
      "  Downloading psycopg2-2.9.9-cp311-cp311-win_amd64.whl.metadata (4.5 kB)\n",
      "Downloading psycopg2-2.9.9-cp311-cp311-win_amd64.whl (1.2 MB)\n",
      "   ---------------------------------------- 0.0/1.2 MB ? eta -:--:--\n",
      "   ---------------------------------------- 0.0/1.2 MB ? eta -:--:--\n",
      "   - -------------------------------------- 0.0/1.2 MB 487.6 kB/s eta 0:00:03\n",
      "   ----- ---------------------------------- 0.2/1.2 MB 1.3 MB/s eta 0:00:01\n",
      "   -------------- ------------------------- 0.4/1.2 MB 2.6 MB/s eta 0:00:01\n",
      "   ------------------------ --------------- 0.7/1.2 MB 3.5 MB/s eta 0:00:01\n",
      "   ---------------------------------------  1.2/1.2 MB 4.6 MB/s eta 0:00:01\n",
      "   ---------------------------------------- 1.2/1.2 MB 4.6 MB/s eta 0:00:00\n",
      "Installing collected packages: psycopg2\n",
      "Successfully installed psycopg2-2.9.9\n",
      "Note: you may need to restart the kernel to use updated packages.\n"
     ]
    }
   ],
   "source": [
    "pip install psycopg2"
   ]
  },
  {
   "cell_type": "code",
   "execution_count": null,
   "metadata": {},
   "outputs": [],
   "source": []
  },
  {
   "cell_type": "code",
   "execution_count": 4,
   "metadata": {},
   "outputs": [
    {
     "name": "stdout",
     "output_type": "stream",
     "text": [
      "Planning data successfully initialized.\n"
     ]
    }
   ],
   "source": [
    "import psycopg2\n",
    "from psycopg2.extensions import cursor\n",
    "\n",
    "\n",
    "def del_plan_data(cur: cursor, year: int, quarter: int):\n",
    "    delete_plan_data_query = \"\"\"\n",
    "    DELETE FROM plan_data\n",
    "    WHERE quarterid = %s;\"\"\"\n",
    "    cur.execute(delete_plan_data_query, (f\"{year}.{quarter}\",))\n",
    "\n",
    "\n",
    "def del_plan_status(cur: cursor, year: int, quarter: int):\n",
    "    delete_plan_status_query = \"\"\"\n",
    "    DELETE FROM plan_status\n",
    "    WHERE quarterid = %s;\"\"\"\n",
    "    cur.execute(delete_plan_status_query, (f\"{year}.{quarter}\",))\n",
    "\n",
    "\n",
    "def insert_plan_dstatus(cur: cursor, year: int, quarter: int, user: str):\n",
    "    insert_plan_status_query = \"\"\"\n",
    "    INSERT INTO plan_status \n",
    "        (quarterid, country, status, modifieddatetime, author)\n",
    "    SELECT DISTINCT \n",
    "    %s AS quarterid, countrycode AS country, 'R' AS status, NOW(), %s AS author\n",
    "    FROM country2;\"\"\"\n",
    "    cur.execute(insert_plan_status_query, (f\"{year}.{quarter}\", user))\n",
    "\n",
    "\n",
    "def insert_plan_data(cur: psycopg2.extensions.cursor, year: int, quarter: int):\n",
    "    generate_and_copy_plan_data_query = \"\"\"\n",
    "    WITH avg_sales AS (\n",
    "        SELECT c.countrycode AS country, cs.qr AS quarterid, cs.categoryid AS pcid, AVG(cs.salesamt) \n",
    "            FILTER (WHERE cs.ccls IN ('A', 'B')) \n",
    "            OVER (PARTITION BY c.countrycode, cs.categoryid) AS avg_sales\n",
    "        FROM company_sales cs\n",
    "        JOIN company c ON cs.cid = c.id\n",
    "        -- JOIN plan_status ps ON ps.quarterid = cs.qr AND ps.country = c.countrycode\n",
    "        -- WHERE quarterid = %s\n",
    "    )\n",
    "    INSERT INTO plan_data (versionid, country, quarterid, pcid, salesamt)\n",
    "    SELECT 'N' AS versionid, country, %s AS quarterid, pcid, COALESCE(avg_sales, 0)\n",
    "    FROM avg_sales\n",
    "    UNION ALL\n",
    "    SELECT 'P' AS versionid, country, %s AS quarterid, pcid, COALESCE(avg_sales, 0)\n",
    "    FROM avg_sales\n",
    "    ON CONFLICT (quarterid, country, pcid, versionid) DO NOTHING;\"\"\"\n",
    "    # SELECT * FROM avg_sales;\"\"\"\n",
    "    cur.execute(\n",
    "        generate_and_copy_plan_data_query,\n",
    "        (f\"{year}.{quarter}\", f\"{year}.{quarter}\", f\"{year}.{quarter}\"),\n",
    "    )\n",
    "\n",
    "\n",
    "def start_planning(year, quarter, user, pwd):\n",
    "    # Establish a connection to the database\n",
    "    C = \"postgres\"\n",
    "    conn = psycopg2.connect(dbname=C, user=user, password=pwd, host=\"localhost\")\n",
    "\n",
    "    # Create a cursor object\n",
    "    cur = conn.cursor()\n",
    "\n",
    "    try:\n",
    "        del_plan_data(cur, year, quarter)\n",
    "    except Exception as e:\n",
    "        conn.commit()\n",
    "        print(f\"del_plan_data failed: {e}\")\n",
    "        return\n",
    "\n",
    "    try:\n",
    "        del_plan_status(cur, year, quarter)\n",
    "    except Exception as e:\n",
    "        conn.commit()\n",
    "        print(f\"del_plan_status failed: {e}\")\n",
    "        return\n",
    "\n",
    "    try:\n",
    "        insert_plan_dstatus(cur, year, quarter, user)\n",
    "    except Exception as e:\n",
    "        print(f\"insert_plan_dstatus failed: {e}\")\n",
    "        return\n",
    "\n",
    "    try:\n",
    "        insert_plan_data(cur, year, quarter)\n",
    "    except Exception as e:\n",
    "        print(f\"insert_plan_data failed: {e}\")\n",
    "        return\n",
    "\n",
    "    try:\n",
    "        # Commit the transaction\n",
    "        conn.commit()\n",
    "        print(\"Planning data successfully initialized.\")\n",
    "\n",
    "    except Exception as e:\n",
    "        print(f\"An error occurred: {e}\")\n",
    "        conn.rollback()\n",
    "\n",
    "    finally:\n",
    "        # Close the cursor and connection\n",
    "        cur.close()\n",
    "        conn.close()\n",
    "\n",
    "\n",
    "start_planning(2014, 1, \"ivan\", \"password_for_ivan\")"
   ]
  },
  {
   "cell_type": "code",
   "execution_count": 1,
   "metadata": {},
   "outputs": [
    {
     "name": "stdout",
     "output_type": "stream",
     "text": [
      "Lock set successfully.\n",
      "Lock set successfully.\n"
     ]
    }
   ],
   "source": [
    "import psycopg2\n",
    "\n",
    "C = \"postgres\"\n",
    "\n",
    "\n",
    "def set_lock(year: int, quarter: int, user: str, pwd: str):\n",
    "    conn = psycopg2.connect(dbname=C, user=user, password=pwd, host=\"localhost\")\n",
    "    cur = conn.cursor()\n",
    "\n",
    "    try:\n",
    "        # Update plan_status to set status from R to L for records associated with the target quarter and year\n",
    "        # and connected to the current user in the country_managers table\n",
    "        update_query = \"\"\"\n",
    "        UPDATE plan_status\n",
    "        SET status = 'L', modifieddatetime = CURRENT_TIMESTAMP, author = %s\n",
    "        WHERE quarterid = %s AND country IN (\n",
    "            SELECT country FROM country_managers WHERE username = %s\n",
    "        ) AND status = 'R';\n",
    "        \"\"\"\n",
    "        cur.execute(update_query, (user, f\"{year}.{quarter}\", user))\n",
    "\n",
    "        conn.commit()\n",
    "        print(\"Lock set successfully.\")\n",
    "    except Exception as e:\n",
    "        print(f\"An error occurred: {e}\")\n",
    "        conn.rollback()\n",
    "    finally:\n",
    "        cur.close()\n",
    "        conn.close()\n",
    "\n",
    "\n",
    "def remove_lock(year: int, quarter: int, user: str, pwd: str):\n",
    "    conn = psycopg2.connect(dbname=C, user=user, password=pwd, host=\"localhost\")\n",
    "    cur = conn.cursor()\n",
    "\n",
    "    try:\n",
    "        # Update plan_status to set status from L to R for records associated with the target quarter and year\n",
    "        # and connected to the current user in the country_managers table\n",
    "        update_query = \"\"\"\n",
    "        UPDATE plan_status\n",
    "        SET status = 'R', modifieddatetime = CURRENT_TIMESTAMP, author = %s\n",
    "        WHERE quarterid = %s AND country IN (\n",
    "            SELECT country FROM country_managers WHERE username = %s\n",
    "        ) AND status = 'L' AND author = %s;\n",
    "        \"\"\"\n",
    "        cur.execute(update_query, (user, f\"{year}.{quarter}\", user, user))\n",
    "\n",
    "        conn.commit()\n",
    "        print(\"Lock removed successfully.\")\n",
    "    except Exception as e:\n",
    "        print(f\"An error occurred: {e}\")\n",
    "        conn.rollback()\n",
    "    finally:\n",
    "        cur.close()\n",
    "        conn.close()\n",
    "\n",
    "\n",
    "# Example usage of the functions\n",
    "set_lock(2014, 1, \"kirill\", \"password_for_kirill\")\n",
    "set_lock(2014, 1, \"sophie\", \"password_for_sophie\")"
   ]
  },
  {
   "cell_type": "code",
   "execution_count": 2,
   "metadata": {},
   "outputs": [
    {
     "name": "stdout",
     "output_type": "stream",
     "text": [
      "Lock removed successfully.\n",
      "Lock removed successfully.\n"
     ]
    }
   ],
   "source": [
    "remove_lock(2014, 1, \"kirill\", \"password_for_kirill\")\n",
    "remove_lock(2014, 1, \"sophie\", \"password_for_sophie\")"
   ]
  },
  {
   "cell_type": "code",
   "execution_count": 3,
   "metadata": {},
   "outputs": [
    {
     "name": "stdout",
     "output_type": "stream",
     "text": [
      "Plan accepted successfully.\n"
     ]
    }
   ],
   "source": [
    "import psycopg2\n",
    "\n",
    "\n",
    "def accept_plan(year: int, quarter: int, user: str, pwd: str):\n",
    "    conn = psycopg2.connect(dbname=C, user=user, password=pwd, host=\"localhost\")\n",
    "    cur = conn.cursor()\n",
    "\n",
    "    try:\n",
    "        # Define the target quarter\n",
    "        target_quarter = f\"{year}.{quarter}\"\n",
    "\n",
    "        # Step 1: Clear the A version of plan data for specific quarter and countries accessible to the current user\n",
    "        clear_a_version_query = \"\"\"\n",
    "        DELETE FROM plan_data\n",
    "        WHERE quarterid = %s AND versionid = 'A' AND country IN (\n",
    "            SELECT country FROM country_managers WHERE username = %s\n",
    "        );\n",
    "        \"\"\"\n",
    "        cur.execute(clear_a_version_query, (target_quarter, user))\n",
    "\n",
    "        # Step 2: Read data available to the current user from version P and save its copy as version A\n",
    "        copy_to_a_version_query = \"\"\"\n",
    "        INSERT INTO plan_data (versionid, country, quarterid, pcid, salesamt)\n",
    "        SELECT 'A' AS versionid, country, quarterid, pcid, salesamt\n",
    "        FROM plan_data\n",
    "        WHERE quarterid = %s AND versionid = 'P' AND country IN (\n",
    "            SELECT country FROM country_managers WHERE username = %s\n",
    "        );\n",
    "        \"\"\"\n",
    "        cur.execute(copy_to_a_version_query, (target_quarter, user))\n",
    "\n",
    "        # Step 3: Change the status of the processed from 'R' to 'A' in plan_status\n",
    "        update_status_query = \"\"\"\n",
    "        UPDATE plan_status\n",
    "        SET status = 'A', modifieddatetime = CURRENT_TIMESTAMP, author = %s\n",
    "        WHERE quarterid = %s AND country IN (\n",
    "            SELECT country FROM country_managers WHERE username = %s\n",
    "        ) AND status = 'R';\n",
    "        \"\"\"\n",
    "        cur.execute(update_status_query, (user, target_quarter, user))\n",
    "\n",
    "        conn.commit()\n",
    "        print(\"Plan accepted successfully.\")\n",
    "    except Exception as e:\n",
    "        print(f\"An error occurred: {e}\")\n",
    "        conn.rollback()\n",
    "    finally:\n",
    "        cur.close()\n",
    "        conn.close()\n",
    "\n",
    "\n",
    "# Example usage of the function\n",
    "accept_plan(2014, 1, \"ivan\", \"password_for_ivan\")"
   ]
  },
  {
   "cell_type": "code",
   "execution_count": 4,
   "metadata": {},
   "outputs": [
    {
     "name": "stdout",
     "output_type": "stream",
     "text": [
      "Plan accepted successfully.\n"
     ]
    }
   ],
   "source": [
    "accept_plan(2014, 1, \"sophie\", \"password_for_sophie\")\n"
   ]
  },
  {
   "cell_type": "code",
   "execution_count": null,
   "metadata": {},
   "outputs": [],
   "source": []
  }
 ],
 "metadata": {
  "kernelspec": {
   "display_name": "ocr",
   "language": "python",
   "name": "python3"
  },
  "language_info": {
   "codemirror_mode": {
    "name": "ipython",
    "version": 3
   },
   "file_extension": ".py",
   "mimetype": "text/x-python",
   "name": "python",
   "nbconvert_exporter": "python",
   "pygments_lexer": "ipython3",
   "version": "3.11.9"
  }
 },
 "nbformat": 4,
 "nbformat_minor": 2
}
