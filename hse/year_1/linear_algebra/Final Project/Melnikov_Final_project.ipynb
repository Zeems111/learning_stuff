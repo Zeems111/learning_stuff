{
  "cells": [
    {
      "cell_type": "markdown",
      "metadata": {
        "id": "zJlE7LgVBmUY",
        "nbgrader": {
          "grade": false,
          "grade_id": "cell-85b42325683cce03",
          "locked": true,
          "schema_version": 3,
          "solution": false,
          "task": false
        }
      },
      "source": [
        "# Welcome to the final project!\n",
        "In this notebook you will be asked to use singular value decomposition and SVM to classify images. We will be working with the MNIST numbers dataset, where training data consist of pictures of digits, and the target value is the digit itself."
      ]
    },
    {
      "cell_type": "markdown",
      "metadata": {
        "id": "yXwgZx4zNbRZ",
        "nbgrader": {
          "grade": false,
          "grade_id": "cell-aaabae287f8e07b9",
          "locked": true,
          "schema_version": 3,
          "solution": false,
          "task": false
        }
      },
      "source": [
        "First, we import the necessary libraries."
      ]
    },
    {
      "cell_type": "code",
      "execution_count": 169,
      "metadata": {
        "id": "kMBwuxiCBmUf"
      },
      "outputs": [],
      "source": [
        "import numpy as np\n",
        "from numpy.linalg import svd\n",
        "import matplotlib.pyplot as plt\n",
        "from sklearn.decomposition import PCA\n",
        "from sklearn.svm import LinearSVC\n",
        "from sklearn.metrics import accuracy_score\n",
        "from sklearn.preprocessing import StandardScaler"
      ]
    },
    {
      "cell_type": "markdown",
      "metadata": {
        "id": "EhpU83qjBrsO"
      },
      "source": [
        "Now, we read both training and test dataset as arrays."
      ]
    },
    {
      "cell_type": "code",
      "execution_count": 170,
      "metadata": {
        "id": "fg9JsZ70BmUa"
      },
      "outputs": [],
      "source": [
        "data = np.load('mnist.npz')\n",
        "X_test_total, X_train_total, y_train_total, y_test_total = data['x_test'], data['x_train'], data['y_train'], data['y_test']"
      ]
    },
    {
      "cell_type": "markdown",
      "metadata": {
        "id": "M-GsL4osovz3"
      },
      "source": [
        "Let's select two digits that we will be learning to separate, for example 3 and 8."
      ]
    },
    {
      "cell_type": "code",
      "execution_count": 171,
      "metadata": {
        "id": "oWgDAtcnpA7a"
      },
      "outputs": [],
      "source": [
        "num1, num2 = 3, 8"
      ]
    },
    {
      "cell_type": "markdown",
      "metadata": {
        "id": "0qr-a0lnLCSH"
      },
      "source": [
        "Let us form the lists of indices i such that the target of i-th object of our training data is either num1 or num2. Do the same for the test dataset."
      ]
    },
    {
      "cell_type": "code",
      "execution_count": 172,
      "metadata": {
        "id": "35Zf01xgpsHq"
      },
      "outputs": [],
      "source": [
        "train_indx = [y == num1 or y == num2 for y in y_train_total]\n",
        "test_indx = [y == num1 or y == num2 for y in y_test_total] # your code here"
      ]
    },
    {
      "cell_type": "markdown",
      "metadata": {
        "id": "CJwF_Ux9LBVK"
      },
      "source": [
        "Form new arrays consisting of the data with the target values num1 and num2 only."
      ]
    },
    {
      "cell_type": "code",
      "execution_count": 173,
      "metadata": {
        "id": "NJuZq_jdooq2"
      },
      "outputs": [],
      "source": [
        "X_train, y_train = X_train_total[train_indx], y_train_total[train_indx]\n",
        "X_test, y_test = X_test_total[test_indx], y_test_total[test_indx]# your code here"
      ]
    },
    {
      "cell_type": "markdown",
      "metadata": {
        "id": "OU0lGhGNBmUl"
      },
      "source": [
        "## Looking at the data"
      ]
    },
    {
      "cell_type": "markdown",
      "metadata": {
        "id": "49qpdwwBNmcO"
      },
      "source": [
        "Let us check the sizes of the datasets and the shape of one image."
      ]
    },
    {
      "cell_type": "code",
      "execution_count": 174,
      "metadata": {
        "colab": {
          "base_uri": "https://localhost:8080/"
        },
        "id": "hVKvbThsBmUn",
        "outputId": "2da06276-2608-4c72-e1c0-03c908818acf"
      },
      "outputs": [
        {
          "output_type": "stream",
          "name": "stdout",
          "text": [
            "Data shapes: \n",
            "X_train:  (11982, 28, 28)\n",
            "y_train:  (11982,)\n",
            "X_test:  (1984, 28, 28)\n",
            "y_test:  (1984,)\n"
          ]
        }
      ],
      "source": [
        "print('Data shapes: ')\n",
        "print('X_train: ', X_train.shape)\n",
        "print('y_train: ', y_train.shape)\n",
        "print('X_test: ', X_test.shape)\n",
        "print('y_test: ', y_test.shape)"
      ]
    },
    {
      "cell_type": "code",
      "execution_count": 175,
      "metadata": {
        "colab": {
          "base_uri": "https://localhost:8080/"
        },
        "id": "P1EklRAaBmUr",
        "outputId": "69849d46-1dd1-4161-a61a-896c89b4f179"
      },
      "outputs": [
        {
          "output_type": "execute_result",
          "data": {
            "text/plain": [
              "(11982, 1984)"
            ]
          },
          "metadata": {},
          "execution_count": 175
        }
      ],
      "source": [
        "n_train = X_train.shape[0]\n",
        "n_test = X_test.shape[0]\n",
        "\n",
        "n_train, n_test"
      ]
    },
    {
      "cell_type": "code",
      "execution_count": 176,
      "metadata": {
        "colab": {
          "base_uri": "https://localhost:8080/"
        },
        "id": "FZmNEYdDBmUv",
        "outputId": "682daeac-dd11-4fcd-d5d9-8ad974a8665e"
      },
      "outputs": [
        {
          "output_type": "stream",
          "name": "stdout",
          "text": [
            "Shape of one item: \n",
            "(28, 28)\n"
          ]
        }
      ],
      "source": [
        "print('Shape of one item: ')\n",
        "print(X_train[0].shape)"
      ]
    },
    {
      "cell_type": "markdown",
      "metadata": {
        "id": "ERvQjZU5BmU0"
      },
      "source": [
        "Train data are images of digits."
      ]
    },
    {
      "cell_type": "code",
      "execution_count": 177,
      "metadata": {
        "colab": {
          "base_uri": "https://localhost:8080/",
          "height": 606
        },
        "id": "lWsCw2hQBmU0",
        "outputId": "2be449a2-d695-4b26-c83c-624a44df3d60"
      },
      "outputs": [
        {
          "output_type": "display_data",
          "data": {
            "text/plain": [
              "<Figure size 600x600 with 9 Axes>"
            ],
            "image/png": "[encoded data removed]"
          },
          "metadata": {}
        }
      ],
      "source": [
        "plt.figure(figsize=(6,6))\n",
        "a, b = 3, 3\n",
        "for i in range(a*b):\n",
        "    plt.subplot(b, a, i+1)\n",
        "    plt.imshow(X_train[i], cmap='gray')\n",
        "plt.tight_layout()\n",
        "plt.show()"
      ]
    },
    {
      "cell_type": "markdown",
      "metadata": {
        "id": "mt2hv7PSBmU4"
      },
      "source": [
        "Target values are numbers."
      ]
    },
    {
      "cell_type": "code",
      "execution_count": 178,
      "metadata": {
        "colab": {
          "base_uri": "https://localhost:8080/"
        },
        "id": "3ZHMwxyHBmU5",
        "outputId": "90ce2e1e-d2c9-4826-bbb2-2344cbd3771a"
      },
      "outputs": [
        {
          "output_type": "execute_result",
          "data": {
            "text/plain": [
              "array([3, 3, 3, 8, 3, 3, 8, 8, 3], dtype=uint8)"
            ]
          },
          "metadata": {},
          "execution_count": 178
        }
      ],
      "source": [
        "y_train[:9]"
      ]
    },
    {
      "cell_type": "markdown",
      "source": [
        "## Task 1"
      ],
      "metadata": {
        "id": "D96SG2RlCYjK"
      }
    },
    {
      "cell_type": "markdown",
      "metadata": {
        "id": "qynX76dNt1NU"
      },
      "source": [
        "### Task 1.1 (1 point)\n",
        "Now our data is 3-dimensional of shape (number of images, n_pixels, n_pixels). To work with PCA and SVM we need to flatten the images by turning each of them into an array of shape (n_pixels x n_pixels, )."
      ]
    },
    {
      "cell_type": "code",
      "execution_count": 179,
      "metadata": {
        "id": "WD9ThdCMBmVG"
      },
      "outputs": [],
      "source": [
        "def flatten_image(image):\n",
        "    n = image.shape[0]\n",
        "    image.shape = (n*n,)\n",
        "    return image"
      ]
    },
    {
      "cell_type": "code",
      "execution_count": 180,
      "metadata": {
        "id": "AWAJJfmDBmVK",
        "colab": {
          "base_uri": "https://localhost:8080/"
        },
        "outputId": "9464bd63-a5f0-4628-fab3-dc0d74cad49b"
      },
      "outputs": [
        {
          "output_type": "execute_result",
          "data": {
            "text/plain": [
              "((11982, 784), (1984, 784))"
            ]
          },
          "metadata": {},
          "execution_count": 180
        }
      ],
      "source": [
        "X_train_flat = np.array([flatten_image(img) for img in X_train])\n",
        "X_test_flat = np.array([flatten_image(img) for img in X_test])\n",
        "X_train_flat.shape, X_test_flat.shape"
      ]
    },
    {
      "cell_type": "markdown",
      "metadata": {
        "id": "3BIAKuWGukeC"
      },
      "source": [
        "PCA works best when the data is scaled (think, why?), so let's scale our data. We will use [StandartScaler](https://scikit-learn.org/stable/modules/generated/sklearn.preprocessing.StandardScaler.html) for it. Note, that scaling replaces a collection of vectors x by the collection of the vectors $x' = (x-M)/D$, where $M$ is the mean vector of\n",
        "the sample, $D$ is the vector of standard deviations of all components of the vectors, and the division is component-wise. So, the scaled collection has the same size as the original one, and each column has 0 mean and unit standard deviation.\n"
      ]
    },
    {
      "cell_type": "code",
      "execution_count": 181,
      "metadata": {
        "id": "AK1W8FecV9KZ"
      },
      "outputs": [],
      "source": [
        "scaler = StandardScaler()\n",
        "X_train_flat = scaler.fit_transform(X_train_flat)\n",
        "X_test_flat = scaler.transform(X_test_flat)"
      ]
    },
    {
      "cell_type": "markdown",
      "metadata": {
        "id": "Qiq0waK2Brsb"
      },
      "source": [
        "### Question 1.2 (1 point)"
      ]
    },
    {
      "cell_type": "markdown",
      "metadata": {
        "id": "aW4UQRSmlCg5"
      },
      "source": [
        "Please write your answer on the impact of scaling below. Why does scaling help PCA? If your idea need some computer experiments for confirmation (say, training and accuracy calculations  with non-scaled data), please provide the code here as well."
      ]
    },
    {
      "cell_type": "markdown",
      "metadata": {
        "id": "EzU4FS2X76e9"
      },
      "source": [
        "***PCA tries to find principal components according to greatest variance of the values. So smaller differences in values might be ignored, even if corresponding values represent a component, which is important for classification. By scaling data we cancel out such occurences***"
      ]
    },
    {
      "cell_type": "markdown",
      "metadata": {
        "id": "MPYv0JqzQRKA"
      },
      "source": [
        "Now, we call PCA and reduce the number of components for each vector."
      ]
    },
    {
      "cell_type": "code",
      "execution_count": 182,
      "metadata": {
        "id": "H6s30_saBmVO"
      },
      "outputs": [],
      "source": [
        "pca = PCA(n_components=128, random_state=42)\n",
        "X_train_flat = pca.fit_transform(X_train_flat)"
      ]
    },
    {
      "cell_type": "code",
      "execution_count": 183,
      "metadata": {
        "id": "bKRDnygcBmVS"
      },
      "outputs": [],
      "source": [
        "X_test_flat = pca.transform(X_test_flat)"
      ]
    },
    {
      "cell_type": "code",
      "execution_count": 184,
      "metadata": {
        "colab": {
          "base_uri": "https://localhost:8080/"
        },
        "id": "MIkIzz4ACjP5",
        "outputId": "512dd591-fe4f-48fc-c402-b1592f60c0fe"
      },
      "outputs": [
        {
          "output_type": "execute_result",
          "data": {
            "text/plain": [
              "((11982, 128), (1984, 128))"
            ]
          },
          "metadata": {},
          "execution_count": 184
        }
      ],
      "source": [
        "from ctypes import sizeof\n",
        "X_train_flat.shape, X_test_flat.shape"
      ]
    },
    {
      "cell_type": "markdown",
      "metadata": {
        "id": "HjVucBstBrse"
      },
      "source": [
        "### Question 1.3 (1 point)"
      ]
    },
    {
      "cell_type": "markdown",
      "metadata": {
        "id": "s-g0gIUdV6a4"
      },
      "source": [
        "What is the ratio of the memory used for the data `compressed' by PCA and the one used for the original data?"
      ]
    },
    {
      "cell_type": "markdown",
      "metadata": {
        "id": "YxBNsRinBrse"
      },
      "source": [
        "***Every image was described by an array of 768 numbers before PCA, and after\n",
        "every image is discribed by an array of 128 numbers. So the ratio is $\\frac{128}{768}=\\frac{8}{49}$, which means it uses about 16.3% of the memory used originally.***"
      ]
    },
    {
      "cell_type": "markdown",
      "metadata": {
        "id": "tExdDvxVQb-8"
      },
      "source": [
        "Now, we use SVM with linear kernel to separate the two classes."
      ]
    },
    {
      "cell_type": "code",
      "execution_count": 185,
      "metadata": {
        "id": "msj7fbHnBmVW",
        "colab": {
          "base_uri": "https://localhost:8080/",
          "height": 148
        },
        "outputId": "bdf9aac4-1d23-42bf-d904-60229108ad04"
      },
      "outputs": [
        {
          "output_type": "stream",
          "name": "stdout",
          "text": [
            "CPU times: user 5.71 s, sys: 83.7 ms, total: 5.8 s\n",
            "Wall time: 5.7 s\n"
          ]
        },
        {
          "output_type": "stream",
          "name": "stderr",
          "text": [
            "/usr/local/lib/python3.10/dist-packages/sklearn/svm/_base.py:1244: ConvergenceWarning: Liblinear failed to converge, increase the number of iterations.\n",
            "  warnings.warn(\n"
          ]
        },
        {
          "output_type": "execute_result",
          "data": {
            "text/plain": [
              "LinearSVC(random_state=42)"
            ],
            "text/html": [
              "<style>#sk-container-id-7 {color: black;background-color: white;}#sk-container-id-7 pre{padding: 0;}#sk-container-id-7 div.sk-toggleable {background-color: white;}#sk-container-id-7 label.sk-toggleable__label {cursor: pointer;display: block;width: 100%;margin-bottom: 0;padding: 0.3em;box-sizing: border-box;text-align: center;}#sk-container-id-7 label.sk-toggleable__label-arrow:before {content: \"▸\";float: left;margin-right: 0.25em;color: #696969;}#sk-container-id-7 label.sk-toggleable__label-arrow:hover:before {color: black;}#sk-container-id-7 div.sk-estimator:hover label.sk-toggleable__label-arrow:before {color: black;}#sk-container-id-7 div.sk-toggleable__content {max-height: 0;max-width: 0;overflow: hidden;text-align: left;background-color: #f0f8ff;}#sk-container-id-7 div.sk-toggleable__content pre {margin: 0.2em;color: black;border-radius: 0.25em;background-color: #f0f8ff;}#sk-container-id-7 input.sk-toggleable__control:checked~div.sk-toggleable__content {max-height: 200px;max-width: 100%;overflow: auto;}#sk-container-id-7 input.sk-toggleable__control:checked~label.sk-toggleable__label-arrow:before {content: \"▾\";}#sk-container-id-7 div.sk-estimator input.sk-toggleable__control:checked~label.sk-toggleable__label {background-color: #d4ebff;}#sk-container-id-7 div.sk-label input.sk-toggleable__control:checked~label.sk-toggleable__label {background-color: #d4ebff;}#sk-container-id-7 input.sk-hidden--visually {border: 0;clip: rect(1px 1px 1px 1px);clip: rect(1px, 1px, 1px, 1px);height: 1px;margin: -1px;overflow: hidden;padding: 0;position: absolute;width: 1px;}#sk-container-id-7 div.sk-estimator {font-family: monospace;background-color: #f0f8ff;border: 1px dotted black;border-radius: 0.25em;box-sizing: border-box;margin-bottom: 0.5em;}#sk-container-id-7 div.sk-estimator:hover {background-color: #d4ebff;}#sk-container-id-7 div.sk-parallel-item::after {content: \"\";width: 100%;border-bottom: 1px solid gray;flex-grow: 1;}#sk-container-id-7 div.sk-label:hover label.sk-toggleable__label {background-color: #d4ebff;}#sk-container-id-7 div.sk-serial::before {content: \"\";position: absolute;border-left: 1px solid gray;box-sizing: border-box;top: 0;bottom: 0;left: 50%;z-index: 0;}#sk-container-id-7 div.sk-serial {display: flex;flex-direction: column;align-items: center;background-color: white;padding-right: 0.2em;padding-left: 0.2em;position: relative;}#sk-container-id-7 div.sk-item {position: relative;z-index: 1;}#sk-container-id-7 div.sk-parallel {display: flex;align-items: stretch;justify-content: center;background-color: white;position: relative;}#sk-container-id-7 div.sk-item::before, #sk-container-id-7 div.sk-parallel-item::before {content: \"\";position: absolute;border-left: 1px solid gray;box-sizing: border-box;top: 0;bottom: 0;left: 50%;z-index: -1;}#sk-container-id-7 div.sk-parallel-item {display: flex;flex-direction: column;z-index: 1;position: relative;background-color: white;}#sk-container-id-7 div.sk-parallel-item:first-child::after {align-self: flex-end;width: 50%;}#sk-container-id-7 div.sk-parallel-item:last-child::after {align-self: flex-start;width: 50%;}#sk-container-id-7 div.sk-parallel-item:only-child::after {width: 0;}#sk-container-id-7 div.sk-dashed-wrapped {border: 1px dashed gray;margin: 0 0.4em 0.5em 0.4em;box-sizing: border-box;padding-bottom: 0.4em;background-color: white;}#sk-container-id-7 div.sk-label label {font-family: monospace;font-weight: bold;display: inline-block;line-height: 1.2em;}#sk-container-id-7 div.sk-label-container {text-align: center;}#sk-container-id-7 div.sk-container {/* jupyter's `normalize.less` sets `[hidden] { display: none; }` but bootstrap.min.css set `[hidden] { display: none !important; }` so we also need the `!important` here to be able to override the default hidden behavior on the sphinx rendered scikit-learn.org. See: https://github.com/scikit-learn/scikit-learn/issues/21755 */display: inline-block !important;position: relative;}#sk-container-id-7 div.sk-text-repr-fallback {display: none;}</style><div id=\"sk-container-id-7\" class=\"sk-top-container\"><div class=\"sk-text-repr-fallback\"><pre>LinearSVC(random_state=42)</pre><b>In a Jupyter environment, please rerun this cell to show the HTML representation or trust the notebook. <br />On GitHub, the HTML representation is unable to render, please try loading this page with nbviewer.org.</b></div><div class=\"sk-container\" hidden><div class=\"sk-item\"><div class=\"sk-estimator sk-toggleable\"><input class=\"sk-toggleable__control sk-hidden--visually\" id=\"sk-estimator-id-7\" type=\"checkbox\" checked><label for=\"sk-estimator-id-7\" class=\"sk-toggleable__label sk-toggleable__label-arrow\">LinearSVC</label><div class=\"sk-toggleable__content\"><pre>LinearSVC(random_state=42)</pre></div></div></div></div></div>"
            ]
          },
          "metadata": {},
          "execution_count": 185
        }
      ],
      "source": [
        "%%time\n",
        "clf = LinearSVC(random_state=42)\n",
        "clf.fit(X_train_flat, y_train)"
      ]
    },
    {
      "cell_type": "markdown",
      "metadata": {
        "id": "UiQicIFIQMf3"
      },
      "source": [
        "Now, let us make the predictions and calculate the accuracy, that is, the ratio of the true predictions to the test sample size.  Use [accuracy score](https://scikit-learn.org/stable/modules/generated/sklearn.metrics.accuracy_score.html#sklearn.metrics.accuracy_score) as the quality metric here.\n",
        "\n",
        "$$accuracy(y\\_true, y\\_pred) = \\frac{1}{n}\\sum_{i=1}^n [y\\_true_i=y\\_pred_i],$$ where $[a=b]=1$, if $a=b$, and $0$ otherwise."
      ]
    },
    {
      "cell_type": "code",
      "execution_count": 186,
      "metadata": {
        "id": "IWC3hQAMCcPe",
        "colab": {
          "base_uri": "https://localhost:8080/"
        },
        "outputId": "c7f2923f-0716-49f6-f64e-86c7b1fac44a"
      },
      "outputs": [
        {
          "output_type": "stream",
          "name": "stdout",
          "text": [
            "Test accuracy:  0.9667338709677419\n"
          ]
        }
      ],
      "source": [
        "y_pred = clf.predict(X_test_flat)\n",
        "acc = sum(y_pred == y_test)/n_test\n",
        "print(\"Test accuracy: \", acc)"
      ]
    },
    {
      "cell_type": "markdown",
      "metadata": {
        "id": "s4fOnPmPBmWr"
      },
      "source": [
        "### Try it from your own input\n",
        "Try to make your own dataset. You can either make a photo image of an ink-written digit or draw a digit using a graphical editor of your computer or smartphone. Note that the input picture has to be a white number on a black background, like the numbers in the MNIST dataset. It can be either in png or jpeg format. Replace the sample striwith your file name."
      ]
    },
    {
      "cell_type": "code",
      "execution_count": 187,
      "metadata": {
        "id": "GZSU-t3QBmWs"
      },
      "outputs": [],
      "source": [
        "from scipy import misc\n",
        "from PIL import Image"
      ]
    },
    {
      "cell_type": "code",
      "execution_count": 188,
      "metadata": {
        "id": "uqDp92KzBmWv",
        "colab": {
          "base_uri": "https://localhost:8080/"
        },
        "outputId": "ef1a99fa-b7a8-4f34-972a-93753e6118ae"
      },
      "outputs": [
        {
          "output_type": "stream",
          "name": "stdout",
          "text": [
            "(20, 28, 28)\n"
          ]
        }
      ],
      "source": [
        "my_images = []\n",
        "for i in range(10):\n",
        "    image = Image.open(f'3_{i}.jpg').convert('L')\n",
        "    new_image = image.resize((28, 28))\n",
        "    custom = np.array(new_image)\n",
        "    my_images.append(custom)\n",
        "for i in range(10):\n",
        "    image = Image.open(f'8_{i}.jpg').convert('L')\n",
        "    new_image = image.resize((28, 28))\n",
        "    custom = np.array(new_image)\n",
        "    my_images.append(custom)\n",
        "\n",
        "my_images = np.array(my_images)\n",
        "print(my_images.shape)"
      ]
    },
    {
      "cell_type": "code",
      "execution_count": 189,
      "metadata": {
        "id": "pYBKXyglBmWz",
        "colab": {
          "base_uri": "https://localhost:8080/",
          "height": 572
        },
        "outputId": "4856de05-2134-4c7a-bf39-09c93efe5788"
      },
      "outputs": [
        {
          "output_type": "display_data",
          "data": {
            "text/plain": [
              "<Figure size 600x600 with 20 Axes>"
            ],
            "image/png": "[encoded data removed]"
          },
          "metadata": {}
        }
      ],
      "source": [
        "plt.figure(figsize=(6,6))\n",
        "a, b = 5, 4\n",
        "for i in range(a*b):\n",
        "    plt.subplot(b, a, i+1)\n",
        "    plt.imshow(my_images[i], cmap='gray')\n",
        "plt.tight_layout()\n",
        "plt.show()"
      ]
    },
    {
      "cell_type": "markdown",
      "metadata": {
        "id": "qyBWzpsCSJjj"
      },
      "source": [
        "Re-shape your image and make a prediction."
      ]
    },
    {
      "cell_type": "code",
      "execution_count": 190,
      "metadata": {
        "id": "bKy0FPyJ4dg2"
      },
      "outputs": [],
      "source": [
        "my_image_flat = np.array([flatten_image(img) for img in my_images])\n",
        "my_image_flat = scaler.transform(my_image_flat)\n",
        "my_image_flat = pca.transform(my_image_flat)"
      ]
    },
    {
      "cell_type": "code",
      "execution_count": 191,
      "metadata": {
        "id": "80S853_6BmW3",
        "colab": {
          "base_uri": "https://localhost:8080/"
        },
        "outputId": "f649200f-d030-49d0-970f-75468c34fdd1"
      },
      "outputs": [
        {
          "output_type": "stream",
          "name": "stdout",
          "text": [
            "[3 3 3 3 3 3 3 3 3 3 3 3 3 3 3 3 3 3 8 3]\n",
            "[3 3 3 3 3 3 3 3 3 3 8 8 8 8 8 8 8 8 8 8]\n",
            "20\n",
            "Test accuracy:  0.55\n"
          ]
        }
      ],
      "source": [
        "y_true = np.array([3]*10+[8]*10)\n",
        "y_mypred = clf.predict(my_image_flat)\n",
        "print(y_mypred)\n",
        "print(y_true)\n",
        "n = y_true.shape[0]\n",
        "print(n)\n",
        "acc = sum(y_mypred == y_true) / n\n",
        "print(\"Test accuracy: \", acc)"
      ]
    },
    {
      "cell_type": "markdown",
      "metadata": {
        "id": "6ewG0kFVBrsl"
      },
      "source": [
        "### Question 1.4 (1 point)"
      ]
    },
    {
      "cell_type": "markdown",
      "metadata": {
        "id": "PTwHX91JSUL3"
      },
      "source": [
        "Repeat the above digit recognition procedure with other 5 to 10 hand-written images. Do your experiments confirm the above accuracy estimate? How do you think, why they confirm (or not confirm) it?"
      ]
    },
    {
      "cell_type": "markdown",
      "metadata": {
        "id": "Bn8dlIrY7NWe"
      },
      "source": [
        "***Results of testing on my sample of images don't confirm the accuracy of about 96% at all. It might happen for various reasons: quantity of principal components might be low or more likely the problem is that Linear SVC tries to build it's classification on particular set of pixels selected by PCA, so it depends on the placement of numbers in the picture, width/height of a number and other similar factors, which can differ a lot***\n",
        "\n",
        "\n"
      ]
    },
    {
      "cell_type": "markdown",
      "metadata": {
        "id": "OTa1546Jx2J5"
      },
      "source": [
        "## Task 2\n",
        "Now let's try another approach explained [here](https://technodocbox.com/3D_Graphics/77509408-Handwritten-digit-classification-and-reconstruction-of-marred-images-using-singular-value-decomposition.html) in Section 3. For each digit, we create a new matrix $A$ whose columns are flattened images of this digit. The first several (say, 10) columns of the matrix $U$ from SVD decomposition of $A$ represent a collection of \"typical\" images of this digit. Given an unrecognized flatten image, among average typical flattened images we find the closest one. Its target value is considered as a prediction for the target of the unrecognized image."
      ]
    },
    {
      "cell_type": "markdown",
      "metadata": {
        "id": "JTvWQCV8K9qm"
      },
      "source": [
        "## SVD refesher\n",
        "As you may recall from the lectures, SVD of a matrix $A$ is a decomposition:\n",
        "$A = U \\Sigma V^T,$ where $U$ and $V$ are orthogonal matrices. In this method we will be utilizing some properties of SVD."
      ]
    },
    {
      "cell_type": "code",
      "execution_count": 192,
      "metadata": {
        "id": "DA9S5BxlimJy"
      },
      "outputs": [],
      "source": [
        "def getSingularVectorsLeft(matrix, number=10):\n",
        "    U, S, V = np.linalg.svd(matrix)\n",
        "    #print(U[0])\n",
        "    return U.T[:number].T\n",
        "    # let's take first 10 numbers\n",
        "    # return first _number_ columns of U from SVD of _matrix_\n"
      ]
    },
    {
      "cell_type": "code",
      "execution_count": 193,
      "metadata": {
        "id": "TXlw7pLMYYNB"
      },
      "outputs": [],
      "source": [
        "def getSingularImage(X_train, y_train, number):\n",
        "    # find images whose target is _number_\n",
        "    select_images = X_train[y_train == number]\n",
        "    A = [image.reshape(1, -1) for image in select_images]\n",
        "    # iteratively append new column to form matrix A\n",
        "    A = np.array(A)\n",
        "    A = A.T\n",
        "    A = A.reshape(784,-1)\n",
        "    # left_basis = # get left singular vectors\n",
        "    left_basis = getSingularVectorsLeft(A, 10)\n",
        "    return left_basis"
      ]
    },
    {
      "cell_type": "markdown",
      "metadata": {
        "id": "xUaaUCTNx9ea"
      },
      "source": [
        "Try it first on \"0\"."
      ]
    },
    {
      "cell_type": "code",
      "execution_count": 194,
      "metadata": {
        "id": "CPx60DlKaQ8S"
      },
      "outputs": [],
      "source": [
        "left_basis = getSingularImage(X_train_total, y_train_total, 0)\n",
        "\n",
        "assert left_basis.shape, (784, 10)"
      ]
    },
    {
      "cell_type": "markdown",
      "metadata": {
        "id": "qeAC9vo8xnMK"
      },
      "source": [
        "### Task 2.1 (1 point)\n",
        "Plot first 9 singular images of the digit 0 taking columns of matrix U and reshaping them back into images 28x28. Use `numpy.reshape`."
      ]
    },
    {
      "cell_type": "code",
      "execution_count": 195,
      "metadata": {
        "colab": {
          "base_uri": "https://localhost:8080/",
          "height": 606
        },
        "id": "VyJGHMhUtBpT",
        "outputId": "13d50b3d-60b2-48e8-cee3-8a2d5b3c595e"
      },
      "outputs": [
        {
          "output_type": "display_data",
          "data": {
            "text/plain": [
              "<Figure size 600x600 with 9 Axes>"
            ],
            "image/png": "[encoded data removed]"
          },
          "metadata": {}
        }
      ],
      "source": [
        "#singular images\n",
        "plt.figure(figsize=(6,6))\n",
        "a, b = 3, 3\n",
        "for i in range(a*b):\n",
        "    plt.subplot(b, a, i+1)\n",
        "    img = left_basis.T[i].reshape(28,28) # ith element of left basis reshaped back to 28x28\n",
        "    plt.imshow(img, cmap='gray')\n",
        "\n",
        "plt.tight_layout()\n",
        "plt.show()"
      ]
    },
    {
      "cell_type": "markdown",
      "metadata": {
        "id": "VjfFEFmzBrso"
      },
      "source": [
        "### Question 2.2 (1 point)"
      ]
    },
    {
      "cell_type": "markdown",
      "metadata": {
        "id": "24b4QGOI7Vmh"
      },
      "source": [
        "Reflect on properties of the columns of $U_k$. What properties do you think are contained in each of them? Draw more singular images to help you make conclusions."
      ]
    },
    {
      "cell_type": "markdown",
      "metadata": {
        "id": "Gst9OJUY7nMa"
      },
      "source": [
        "***$U_k$ contains 10 column vectors that correspond to greatest singular values. It means that they contain most useful information about initial matrix in a sense, that if we eliminate other singular values and their corresponding vectors, result of SVD will still be pretty close to the initial matrix***"
      ]
    },
    {
      "cell_type": "markdown",
      "metadata": {
        "id": "cDFZgAv4yLLO"
      },
      "source": [
        "Now let's move on and obtain singular images for all numbers. The matrices $U_k$ from  [the article](https://technodocbox.com/3D_Graphics/77509408-Handwritten-digit-classification-and-reconstruction-of-marred-images-using-singular-value-decomposition.html) are represented as `number_basis_matrices[k]`.\n",
        "This might take a while to finish, feel free to add debug print in your function to know the progress."
      ]
    },
    {
      "cell_type": "code",
      "execution_count": 196,
      "metadata": {
        "id": "np3OMUg9hX4L"
      },
      "outputs": [],
      "source": [
        "# use getSingularImage funciton to get matrices for all numbers\n",
        "number_basis_matrices = [getSingularImage(X_train_total,\n",
        "                                          y_train_total,\n",
        "                                          num) for num in range(10)]"
      ]
    },
    {
      "cell_type": "markdown",
      "metadata": {
        "id": "3lSYWDSzyZjQ"
      },
      "source": [
        "### Task 2.3 (1 point)\n",
        "Plot the first singular image of each digit, similarly to the previous task."
      ]
    },
    {
      "cell_type": "code",
      "execution_count": 197,
      "metadata": {
        "colab": {
          "base_uri": "https://localhost:8080/",
          "height": 606
        },
        "id": "2-TS33OpwHVN",
        "outputId": "e10e467c-8a68-42ac-9d56-cc5c29d682cb"
      },
      "outputs": [
        {
          "output_type": "display_data",
          "data": {
            "text/plain": [
              "<Figure size 600x600 with 10 Axes>"
            ],
            "image/png": "[encoded data removed]"
          },
          "metadata": {}
        }
      ],
      "source": [
        "plt.figure(figsize=(6,6))\n",
        "a, b = 3, 4\n",
        "for i in range(10):\n",
        "    plt.subplot(b, a, i+1)\n",
        "    img = number_basis_matrices[i].T[0].reshape(28,28)# first column of U_k in number_basis_matrices[i] reshaped into 28x28 image\n",
        "    plt.imshow(img, cmap='gray')\n",
        "\n",
        "plt.tight_layout()\n",
        "plt.show()"
      ]
    },
    {
      "cell_type": "code",
      "execution_count": 198,
      "metadata": {
        "id": "cKlHDULozHr1",
        "colab": {
          "base_uri": "https://localhost:8080/"
        },
        "outputId": "57cce652-58f1-4302-b731-efdde3c0ea86"
      },
      "outputs": [
        {
          "output_type": "execute_result",
          "data": {
            "text/plain": [
              "784"
            ]
          },
          "metadata": {},
          "execution_count": 198
        }
      ],
      "source": [
        "dim = number_basis_matrices[0].shape[0]\n",
        "dim"
      ]
    },
    {
      "cell_type": "markdown",
      "metadata": {
        "id": "T5XFjCNS8wKt"
      },
      "source": [
        "### Task 2.4 (1.5 points)"
      ]
    },
    {
      "cell_type": "markdown",
      "metadata": {
        "id": "g4u-9qERyjR-"
      },
      "source": [
        "Here we calculate the new projection matrix for each $U_k$ to apply later in testing:\n",
        "$pr = (I - U_k \\cdot U_{k}^{T})$. Use `numpy.matmul` for matrix multiplication and `numpy.identity` to create an identity matrix. Please note that this operation might also take some time to finish."
      ]
    },
    {
      "cell_type": "code",
      "execution_count": 199,
      "metadata": {
        "id": "_QP7drrelSUz"
      },
      "outputs": [],
      "source": [
        "numeric_values = [\n",
        "    np.identity(dim)-basis_matrix@basis_matrix.T\n",
        "    for basis_matrix in number_basis_matrices]# create an array of pr for each number"
      ]
    },
    {
      "cell_type": "markdown",
      "metadata": {
        "id": "BB_nJGgMzTns"
      },
      "source": [
        "### Task 2.5 (1.5 points)\n",
        "Implement function utilizing `numeric_values` matrices to predict labels for unknown images. Use `numpy.norm` and enumerate to iterate over numeric values."
      ]
    },
    {
      "cell_type": "code",
      "execution_count": 200,
      "metadata": {
        "id": "tSwJ-iJtlHav"
      },
      "outputs": [],
      "source": [
        "def find_closest(test_value, numeric_values):\n",
        "    stacked_test = test_value.reshape(-1, 1)\n",
        "    # find closest U_k to test_value using norm and return the target digit\n",
        "    residuals = ([\n",
        "        (np.linalg.norm(num@stacked_test), k)\n",
        "        for k, num in enumerate(numeric_values)])\n",
        "    target = min(residuals, key=lambda x:x[0])[1]\n",
        "    return target"
      ]
    },
    {
      "cell_type": "code",
      "execution_count": 201,
      "metadata": {
        "id": "-G_FrYu5o87N"
      },
      "outputs": [],
      "source": [
        "y_pred = [find_closest(x_test, numeric_values) for x_test in X_test_total] # find array of predictions for test values and calculate accuracy in the cell below"
      ]
    },
    {
      "cell_type": "code",
      "execution_count": 202,
      "metadata": {
        "id": "MO5pFzGcpoIC",
        "colab": {
          "base_uri": "https://localhost:8080/"
        },
        "outputId": "94130a54-6f82-41ef-8ac3-8fc2d73ac8e0"
      },
      "outputs": [
        {
          "output_type": "stream",
          "name": "stdout",
          "text": [
            "SVD accuracy: 0.9485\n"
          ]
        }
      ],
      "source": [
        "acc = accuracy_score(y_test_total, y_pred)\n",
        "print('SVD accuracy:', acc)"
      ]
    },
    {
      "cell_type": "markdown",
      "metadata": {
        "id": "RJ_rqkffzvA7"
      },
      "source": [
        "## Additional task (2 extra points)\n",
        "In the first task we trained Linear SVM to separate 3s and 8s. Here you can implement multiclass classification for _all_ numbers in `MNIST`. Use the same function LinearSVC for “one-vs-the-rest” multi-class strategy, see [the documentation](https://scikit-learn.org/stable/modules/svm.html#classification).  Follow the same steps from task 1: scaling, feature selection, training and testing. Is the accuracy of this method greater then the one calculated above?"
      ]
    },
    {
      "cell_type": "markdown",
      "metadata": {
        "id": "-4WYoVtR9kWG"
      },
      "source": [
        "**Note:** Use `random_state=42` for `PCA` and `LinearSVC`. Training `LinearSVC` on all the data might take a while, that's normal."
      ]
    },
    {
      "cell_type": "code",
      "execution_count": 203,
      "metadata": {
        "id": "Whp8oDkz--OL"
      },
      "outputs": [],
      "source": [
        "# flatten\n",
        "X_train_flat = np.array([flatten_image(img) for img in X_train_total])\n",
        "X_test_flat = np.array([flatten_image(img) for img in X_test_total])\n",
        "# Scandart Scaler\n",
        "X_train_flat = scaler.transform(X_train_flat)\n",
        "X_test_flat = scaler.transform(X_test_flat)"
      ]
    },
    {
      "cell_type": "code",
      "source": [
        "# PCA\n",
        "pca = PCA(n_components=128, random_state=42)\n",
        "X_train_flat = pca.fit_transform(X_train_flat)\n",
        "X_test_flat = pca.transform(X_test_flat)"
      ],
      "metadata": {
        "id": "SQc9Ri2vbDoc"
      },
      "execution_count": 204,
      "outputs": []
    },
    {
      "cell_type": "code",
      "source": [
        "# LinearSVC\n",
        "clf = LinearSVC(random_state=42, dual=True)\n",
        "clf.fit(X_train_flat, y_train_total)"
      ],
      "metadata": {
        "colab": {
          "base_uri": "https://localhost:8080/",
          "height": 111
        },
        "id": "NY34ohBIbBEb",
        "outputId": "45d8dd87-366b-46db-9f4c-723c3f45f03b"
      },
      "execution_count": 205,
      "outputs": [
        {
          "output_type": "stream",
          "name": "stderr",
          "text": [
            "/usr/local/lib/python3.10/dist-packages/sklearn/svm/_base.py:1244: ConvergenceWarning: Liblinear failed to converge, increase the number of iterations.\n",
            "  warnings.warn(\n"
          ]
        },
        {
          "output_type": "execute_result",
          "data": {
            "text/plain": [
              "LinearSVC(random_state=42)"
            ],
            "text/html": [
              "<style>#sk-container-id-8 {color: black;background-color: white;}#sk-container-id-8 pre{padding: 0;}#sk-container-id-8 div.sk-toggleable {background-color: white;}#sk-container-id-8 label.sk-toggleable__label {cursor: pointer;display: block;width: 100%;margin-bottom: 0;padding: 0.3em;box-sizing: border-box;text-align: center;}#sk-container-id-8 label.sk-toggleable__label-arrow:before {content: \"▸\";float: left;margin-right: 0.25em;color: #696969;}#sk-container-id-8 label.sk-toggleable__label-arrow:hover:before {color: black;}#sk-container-id-8 div.sk-estimator:hover label.sk-toggleable__label-arrow:before {color: black;}#sk-container-id-8 div.sk-toggleable__content {max-height: 0;max-width: 0;overflow: hidden;text-align: left;background-color: #f0f8ff;}#sk-container-id-8 div.sk-toggleable__content pre {margin: 0.2em;color: black;border-radius: 0.25em;background-color: #f0f8ff;}#sk-container-id-8 input.sk-toggleable__control:checked~div.sk-toggleable__content {max-height: 200px;max-width: 100%;overflow: auto;}#sk-container-id-8 input.sk-toggleable__control:checked~label.sk-toggleable__label-arrow:before {content: \"▾\";}#sk-container-id-8 div.sk-estimator input.sk-toggleable__control:checked~label.sk-toggleable__label {background-color: #d4ebff;}#sk-container-id-8 div.sk-label input.sk-toggleable__control:checked~label.sk-toggleable__label {background-color: #d4ebff;}#sk-container-id-8 input.sk-hidden--visually {border: 0;clip: rect(1px 1px 1px 1px);clip: rect(1px, 1px, 1px, 1px);height: 1px;margin: -1px;overflow: hidden;padding: 0;position: absolute;width: 1px;}#sk-container-id-8 div.sk-estimator {font-family: monospace;background-color: #f0f8ff;border: 1px dotted black;border-radius: 0.25em;box-sizing: border-box;margin-bottom: 0.5em;}#sk-container-id-8 div.sk-estimator:hover {background-color: #d4ebff;}#sk-container-id-8 div.sk-parallel-item::after {content: \"\";width: 100%;border-bottom: 1px solid gray;flex-grow: 1;}#sk-container-id-8 div.sk-label:hover label.sk-toggleable__label {background-color: #d4ebff;}#sk-container-id-8 div.sk-serial::before {content: \"\";position: absolute;border-left: 1px solid gray;box-sizing: border-box;top: 0;bottom: 0;left: 50%;z-index: 0;}#sk-container-id-8 div.sk-serial {display: flex;flex-direction: column;align-items: center;background-color: white;padding-right: 0.2em;padding-left: 0.2em;position: relative;}#sk-container-id-8 div.sk-item {position: relative;z-index: 1;}#sk-container-id-8 div.sk-parallel {display: flex;align-items: stretch;justify-content: center;background-color: white;position: relative;}#sk-container-id-8 div.sk-item::before, #sk-container-id-8 div.sk-parallel-item::before {content: \"\";position: absolute;border-left: 1px solid gray;box-sizing: border-box;top: 0;bottom: 0;left: 50%;z-index: -1;}#sk-container-id-8 div.sk-parallel-item {display: flex;flex-direction: column;z-index: 1;position: relative;background-color: white;}#sk-container-id-8 div.sk-parallel-item:first-child::after {align-self: flex-end;width: 50%;}#sk-container-id-8 div.sk-parallel-item:last-child::after {align-self: flex-start;width: 50%;}#sk-container-id-8 div.sk-parallel-item:only-child::after {width: 0;}#sk-container-id-8 div.sk-dashed-wrapped {border: 1px dashed gray;margin: 0 0.4em 0.5em 0.4em;box-sizing: border-box;padding-bottom: 0.4em;background-color: white;}#sk-container-id-8 div.sk-label label {font-family: monospace;font-weight: bold;display: inline-block;line-height: 1.2em;}#sk-container-id-8 div.sk-label-container {text-align: center;}#sk-container-id-8 div.sk-container {/* jupyter's `normalize.less` sets `[hidden] { display: none; }` but bootstrap.min.css set `[hidden] { display: none !important; }` so we also need the `!important` here to be able to override the default hidden behavior on the sphinx rendered scikit-learn.org. See: https://github.com/scikit-learn/scikit-learn/issues/21755 */display: inline-block !important;position: relative;}#sk-container-id-8 div.sk-text-repr-fallback {display: none;}</style><div id=\"sk-container-id-8\" class=\"sk-top-container\"><div class=\"sk-text-repr-fallback\"><pre>LinearSVC(random_state=42)</pre><b>In a Jupyter environment, please rerun this cell to show the HTML representation or trust the notebook. <br />On GitHub, the HTML representation is unable to render, please try loading this page with nbviewer.org.</b></div><div class=\"sk-container\" hidden><div class=\"sk-item\"><div class=\"sk-estimator sk-toggleable\"><input class=\"sk-toggleable__control sk-hidden--visually\" id=\"sk-estimator-id-8\" type=\"checkbox\" checked><label for=\"sk-estimator-id-8\" class=\"sk-toggleable__label sk-toggleable__label-arrow\">LinearSVC</label><div class=\"sk-toggleable__content\"><pre>LinearSVC(random_state=42)</pre></div></div></div></div></div>"
            ]
          },
          "metadata": {},
          "execution_count": 205
        }
      ]
    },
    {
      "cell_type": "code",
      "execution_count": 206,
      "metadata": {
        "id": "VtwS1oFs9DwS",
        "colab": {
          "base_uri": "https://localhost:8080/"
        },
        "outputId": "7e815e76-92a1-4649-e193-dd5bd88f3d61"
      },
      "outputs": [
        {
          "output_type": "stream",
          "name": "stdout",
          "text": [
            "Test accuracy:  0.877\n"
          ]
        }
      ],
      "source": [
        "y_pred = clf.predict(X_test_flat)\n",
        "acc = sum(y_pred == y_test_total)/y_test_total.shape[0]\n",
        "print(\"Test accuracy: \", acc)"
      ]
    },
    {
      "cell_type": "markdown",
      "source": [
        "***Accuracy of SVD is better***"
      ],
      "metadata": {
        "id": "XX4zm2PSD-Z_"
      }
    }
  ],
  "metadata": {
    "celltoolbar": "Create Assignment",
    "colab": {
      "provenance": [],
      "toc_visible": true
    },
    "kernelspec": {
      "display_name": "Python 3",
      "language": "python",
      "name": "python3"
    },
    "language_info": {
      "codemirror_mode": {
        "name": "ipython",
        "version": 3
      },
      "file_extension": ".py",
      "mimetype": "text/x-python",
      "name": "python",
      "nbconvert_exporter": "python",
      "pygments_lexer": "ipython3",
      "version": "3.8.3"
    }
  },
  "nbformat": 4,
  "nbformat_minor": 0
}