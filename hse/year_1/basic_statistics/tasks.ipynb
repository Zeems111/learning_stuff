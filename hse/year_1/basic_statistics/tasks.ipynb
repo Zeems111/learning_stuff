{
 "cells": [
  {
   "cell_type": "code",
   "execution_count": 1,
   "metadata": {},
   "outputs": [],
   "source": [
    "import numpy as np\n",
    "import matplotlib.pyplot as plt\n",
    "%matplotlib inline"
   ]
  },
  {
   "cell_type": "code",
   "execution_count": 2,
   "metadata": {},
   "outputs": [],
   "source": [
    "from scipy.stats import ttest_1samp, ttest_ind"
   ]
  },
  {
   "cell_type": "markdown",
   "metadata": {},
   "source": [
    "$$H_0: \\mu=\\mu_0\\\\\n",
    "H_1: \\mu \\neq \\mu_0 $$"
   ]
  },
  {
   "cell_type": "code",
   "execution_count": 3,
   "metadata": {},
   "outputs": [
    {
     "data": {
      "text/plain": [
       "TtestResult(statistic=2.905487990874558, pvalue=0.01743886090834335, df=9)"
      ]
     },
     "execution_count": 3,
     "metadata": {},
     "output_type": "execute_result"
    }
   ],
   "source": [
    "sample = [3,5,4,6,2,3,4,5,5,4]\n",
    "mu0 = 3\n",
    "ttest_1samp(sample, mu0, alternative='two-sided')"
   ]
  },
  {
   "cell_type": "code",
   "execution_count": 4,
   "metadata": {},
   "outputs": [],
   "source": [
    "t_obs = ((np.mean(sample) - mu0) / np.std(sample, ddof=1))*np.sqrt(len(sample))"
   ]
  },
  {
   "cell_type": "code",
   "execution_count": 7,
   "metadata": {},
   "outputs": [],
   "source": []
  },
  {
   "cell_type": "code",
   "execution_count": 5,
   "metadata": {},
   "outputs": [],
   "source": [
    "from scipy.stats import t"
   ]
  },
  {
   "cell_type": "code",
   "execution_count": 6,
   "metadata": {},
   "outputs": [],
   "source": [
    "T = t(df=len(sample)-1)"
   ]
  },
  {
   "cell_type": "code",
   "execution_count": 7,
   "metadata": {},
   "outputs": [
    {
     "data": {
      "text/plain": [
       "<matplotlib.collections.PolyCollection at 0x1cde01376d0>"
      ]
     },
     "execution_count": 7,
     "metadata": {},
     "output_type": "execute_result"
    },
    {
     "data": {
      "image/png": "[encoded data removed]",
      "text/plain": [
       "<Figure size 640x480 with 1 Axes>"
      ]
     },
     "metadata": {},
     "output_type": "display_data"
    }
   ],
   "source": [
    "x = np.linspace(-5, 5, 200)\n",
    "plt.plot(x, T.pdf(x))\n",
    "x_left = np.linspace(-5, -t_obs)\n",
    "x_right = np.linspace(t_obs, 5)\n",
    "plt.fill_between(x_left, T.pdf(x_left))\n",
    "plt.fill_between(x_right, T.pdf(x_right))"
   ]
  },
  {
   "cell_type": "code",
   "execution_count": 8,
   "metadata": {},
   "outputs": [
    {
     "data": {
      "text/plain": [
       "0.017438860908343328"
      ]
     },
     "execution_count": 8,
     "metadata": {},
     "output_type": "execute_result"
    }
   ],
   "source": [
    "p_value = 2 * T.cdf(-t_obs)\n",
    "p_value"
   ]
  },
  {
   "cell_type": "markdown",
   "metadata": {},
   "source": [
    "Simulations to test t-test"
   ]
  },
  {
   "cell_type": "code",
   "execution_count": 9,
   "metadata": {},
   "outputs": [
    {
     "name": "stdout",
     "output_type": "stream",
     "text": [
      "0.0482\n"
     ]
    }
   ],
   "source": [
    "sample_size = 20\n",
    "iterations = 10000\n",
    "significance_level = 0.05\n",
    "fp_counter = 0\n",
    "for i in range(iterations):\n",
    "    sample = np.random.normal(size=sample_size)\n",
    "    t_stat, p_value = ttest_1samp(sample, 0)\n",
    "    if p_value < significance_level:\n",
    "        fp_counter += 1\n",
    "print(fp_counter / iterations)"
   ]
  },
  {
   "cell_type": "code",
   "execution_count": 10,
   "metadata": {},
   "outputs": [
    {
     "name": "stdout",
     "output_type": "stream",
     "text": [
      "0.0486\n"
     ]
    }
   ],
   "source": [
    "sample_size = 50\n",
    "iterations = 10000\n",
    "significance_level = 0.05\n",
    "fp_counter = 0\n",
    "for i in range(iterations):\n",
    "    sample = np.random.uniform(low=-1, high=1, size=sample_size)\n",
    "    t_stat, p_value = ttest_1samp(sample, 0)\n",
    "    if p_value < significance_level:\n",
    "        fp_counter += 1\n",
    "print(fp_counter / iterations)"
   ]
  },
  {
   "cell_type": "code",
   "execution_count": 11,
   "metadata": {},
   "outputs": [
    {
     "name": "stdout",
     "output_type": "stream",
     "text": [
      "0.0819\n"
     ]
    }
   ],
   "source": [
    "sample_size = 50\n",
    "iterations = 10000\n",
    "significance_level = 0.05\n",
    "fp_counter = 0\n",
    "population = [1, 3, 4, 1, 2.2, 4.4, 3.3, 6.6,  10000]\n",
    "for i in range(iterations):\n",
    "    sample = np.random.choice(population, size=sample_size)\n",
    "    t_stat, p_value = ttest_1samp(sample, np.mean(population))\n",
    "    if p_value < significance_level:\n",
    "        fp_counter += 1\n",
    "print(fp_counter / iterations)"
   ]
  },
  {
   "cell_type": "markdown",
   "metadata": {},
   "source": [
    "One-tailed t-test"
   ]
  },
  {
   "cell_type": "code",
   "execution_count": 12,
   "metadata": {},
   "outputs": [
    {
     "name": "stdout",
     "output_type": "stream",
     "text": [
      "0.0522\n"
     ]
    }
   ],
   "source": [
    "sample_size = 20\n",
    "iterations = 10000\n",
    "significance_level = 0.05\n",
    "fp_counter = 0\n",
    "for i in range(iterations):\n",
    "    sample = np.random.normal(size=sample_size)\n",
    "    t_stat, p_value = ttest_1samp(sample, 0)\n",
    "    p_value /= 2\n",
    "    if t_stat > 0 and p_value < significance_level:\n",
    "        fp_counter += 1\n",
    "print(fp_counter / iterations)"
   ]
  },
  {
   "cell_type": "code",
   "execution_count": 13,
   "metadata": {},
   "outputs": [
    {
     "name": "stdout",
     "output_type": "stream",
     "text": [
      "0.0952\n"
     ]
    }
   ],
   "source": [
    "sample_size = 20\n",
    "iterations = 10000\n",
    "significance_level = 0.05\n",
    "fp_counter = 0\n",
    "for i in range(iterations):\n",
    "    sample = np.random.normal(size=sample_size)\n",
    "    t_stat, p_value = ttest_1samp(sample, 0, alternative='greater')\n",
    "    p_value /= 2\n",
    "    if t_stat > 0 and p_value < significance_level:\n",
    "        fp_counter += 1\n",
    "print(fp_counter / iterations)\n"
   ]
  },
  {
   "cell_type": "code",
   "execution_count": 15,
   "metadata": {},
   "outputs": [
    {
     "name": "stdout",
     "output_type": "stream",
     "text": [
      "[ 2.29328157  0.24635058 -0.08375047  0.13709243  1.00527645  1.74626214\n",
      " -1.47675649 -1.66917668  0.62944523 -0.98307203  1.14315417  1.05968794\n",
      " -0.89508841 -0.38822238  1.24494211 -0.0959364  -1.89452812  1.04507719\n",
      "  1.00518025 -1.33721827]\n"
     ]
    },
    {
     "data": {
      "text/plain": [
       "(0.3096174672865992, 0.6192349345731984)"
      ]
     },
     "execution_count": 15,
     "metadata": {},
     "output_type": "execute_result"
    }
   ],
   "source": [
    "print(sample)\n",
    "t_stat, p_value1 = ttest_1samp(sample, 0, alternative='greater')\n",
    "t_stat, p_value = ttest_1samp(sample, 0)\n",
    "p_value1, p_value"
   ]
  },
  {
   "cell_type": "code",
   "execution_count": 55,
   "metadata": {},
   "outputs": [
    {
     "data": {
      "text/plain": [
       "0.03994196807171879"
      ]
     },
     "execution_count": 55,
     "metadata": {},
     "output_type": "execute_result"
    }
   ],
   "source": [
    "t_stat = 3\n",
    "sample_size = 5\n",
    "T = t(df=(sample_size-1))\n",
    "p_value = 1 - T.cdf(t_stat)\n",
    "p_value*2"
   ]
  },
  {
   "cell_type": "markdown",
   "metadata": {},
   "source": [
    "Two-samples t-test"
   ]
  },
  {
   "cell_type": "code",
   "execution_count": 63,
   "metadata": {},
   "outputs": [
    {
     "data": {
      "text/plain": [
       "185.5"
      ]
     },
     "execution_count": 63,
     "metadata": {},
     "output_type": "execute_result"
    }
   ],
   "source": [
    "sample = [165, 170, 175, 180, 185, 185, 190, 195, 200, 210]\n",
    "mu = 175\n",
    "ttest_1samp(sample, mu)\n",
    "np.mean(sample)"
   ]
  },
  {
   "cell_type": "code",
   "execution_count": 62,
   "metadata": {},
   "outputs": [
    {
     "data": {
      "text/plain": [
       "0.06951310490361085"
      ]
     },
     "execution_count": 62,
     "metadata": {},
     "output_type": "execute_result"
    }
   ],
   "source": [
    "mu0 = 39250\n",
    "sample_mu = avg_salary + 1900\n",
    "sample_std = 5000\n",
    "sample_size = 25\n",
    "t_obs = (sample_mu - mu0) / sample_std *np.sqrt(sample_size)\n",
    "\n",
    "T = t(df=24)\n",
    "p_val = (1-T.cdf(t_obs))*2\n",
    "p_val"
   ]
  }
 ],
 "metadata": {
  "kernelspec": {
   "display_name": "Python 3",
   "language": "python",
   "name": "python3"
  },
  "language_info": {
   "codemirror_mode": {
    "name": "ipython",
    "version": 3
   },
   "file_extension": ".py",
   "mimetype": "text/x-python",
   "name": "python",
   "nbconvert_exporter": "python",
   "pygments_lexer": "ipython3",
   "version": "3.11.5"
  }
 },
 "nbformat": 4,
 "nbformat_minor": 2
}
