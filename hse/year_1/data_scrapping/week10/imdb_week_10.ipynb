{
 "cells": [
  {
   "cell_type": "code",
   "execution_count": 24,
   "metadata": {},
   "outputs": [],
   "source": [
    "from imdb_code import get_movies_by_actor_soup, get_actors_by_movie_soup\n",
    "from imdb_helper_functions import actor_soup_by_url, movie_soup_by_url"
   ]
  },
  {
   "cell_type": "code",
   "execution_count": 7,
   "metadata": {},
   "outputs": [],
   "source": [
    "links = {\n",
    "'Dwayne Johnson': 'https://www.imdb.com/name/nm0425005/',\n",
    "'Scarlett Johansson': 'https://www.imdb.com/name/nm0424060/',\n",
    "'Brahmanandam': 'https://www.imdb.com/name/nm0103977/',\n",
    "}"
   ]
  },
  {
   "cell_type": "code",
   "execution_count": 8,
   "metadata": {},
   "outputs": [
    {
     "name": "stdout",
     "output_type": "stream",
     "text": [
      "Dwayne Johnson, limit None: 46\n",
      "Dwayne Johnson, limit 100: 46\n",
      "Dwayne Johnson, limit 5: 5\n",
      "Scarlett Johansson, limit None: 56\n",
      "Scarlett Johansson, limit 100: 56\n",
      "Scarlett Johansson, limit 5: 5\n",
      "Brahmanandam, limit None: 1186\n",
      "Brahmanandam, limit 100: 100\n",
      "Brahmanandam, limit 5: 5\n"
     ]
    }
   ],
   "source": [
    "for actor, url in links.items():\n",
    "    soup = actor_soup_by_url(url)\n",
    "    for i in (None, 100, 5):        \n",
    "        movies = get_movies_by_actor_soup(soup, i)\n",
    "        print(f'{actor}, limit {i}: {len(movies)}')\n",
    "        "
   ]
  },
  {
   "cell_type": "code",
   "execution_count": 21,
   "metadata": {},
   "outputs": [
    {
     "name": "stdout",
     "output_type": "stream",
     "text": [
      "('Usire Usire', 'https://www.imdb.com/title/tt27470768/fullcredits/')\n",
      "('Sundaram Master', 'https://www.imdb.com/title/tt28181729/fullcredits/')\n",
      "('Kuch Khattaa Ho Jaay', 'https://www.imdb.com/title/tt22543124/fullcredits/')\n",
      "Total movies: 5\n"
     ]
    }
   ],
   "source": [
    "print(*movies[-3:], sep='\\n')\n",
    "print('Total movies:', len(movies))\n"
   ]
  },
  {
   "cell_type": "code",
   "execution_count": 23,
   "metadata": {},
   "outputs": [],
   "source": [
    "movie_url = 'https://www.imdb.com/title/tt3480822/fullcredits/'\n",
    "imdb_url = 'https://www.imdb.com/'"
   ]
  },
  {
   "cell_type": "code",
   "execution_count": 11,
   "metadata": {},
   "outputs": [],
   "source": [
    "soup = movie_soup_by_url(movie_url)"
   ]
  },
  {
   "cell_type": "code",
   "execution_count": 22,
   "metadata": {},
   "outputs": [
    {
     "name": "stdout",
     "output_type": "stream",
     "text": [
      "('Scarlett Johansson', 'https://www.imdb.com/name/nm0424060/')\n",
      "('Florence Pugh', 'https://www.imdb.com/name/nm6073955/')\n",
      "('Rachel Weisz', 'https://www.imdb.com/name/nm0001838/')\n",
      "('David Harbour', 'https://www.imdb.com/name/nm1092086/')\n",
      "('Ray Winstone', 'https://www.imdb.com/name/nm0935653/')\n",
      "Total actors/actresses: 108\n"
     ]
    }
   ],
   "source": [
    "cast = get_actors_by_movie_soup(soup)\n",
    "print(*cast[:5], sep='\\n')\n",
    "print('Total actors/actresses:', len(cast))"
   ]
  }
 ],
 "metadata": {
  "kernelspec": {
   "display_name": "Python 3",
   "language": "python",
   "name": "python3"
  },
  "language_info": {
   "codemirror_mode": {
    "name": "ipython",
    "version": 3
   },
   "file_extension": ".py",
   "mimetype": "text/x-python",
   "name": "python",
   "nbconvert_exporter": "python",
   "pygments_lexer": "ipython3",
   "version": "3.11.5"
  }
 },
 "nbformat": 4,
 "nbformat_minor": 2
}
