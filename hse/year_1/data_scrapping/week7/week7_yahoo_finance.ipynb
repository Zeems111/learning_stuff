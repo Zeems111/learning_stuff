{
 "cells": [
  {
   "cell_type": "markdown",
   "metadata": {},
   "source": [
    "# Scraping Yahoo Finance"
   ]
  },
  {
   "cell_type": "markdown",
   "metadata": {},
   "source": [
    "## Week 7. Practice Programming Assignment 1"
   ]
  },
  {
   "cell_type": "markdown",
   "metadata": {},
   "source": [
    "In this assignment you are required to look at historical data for 30 companies from [Dow Jones Index](https://en.wikipedia.org/wiki/Dow_Jones_Industrial_Average). Tickers for companies from the index can be found in *dow_jones_tickers.txt*. For each company you should get historical daily stock prices for 2019 from https://finance.yahoo.com/, and then use the data to answer the questions you will find below. "
   ]
  },
  {
   "cell_type": "markdown",
   "metadata": {},
   "source": [
    "### Coding part"
   ]
  },
  {
   "cell_type": "code",
   "execution_count": 1,
   "metadata": {},
   "outputs": [
    {
     "name": "stdout",
     "output_type": "stream",
     "text": [
      "AXP 124.49 93.91\n",
      "AAPL 73.41 38.72\n",
      "BA 325.76 316.19\n",
      "CAT 147.68 124.03\n",
      "CSCO 47.96 42.28\n",
      "CVX 120.51 107.34\n",
      "XOM 69.78 67.35\n",
      "GS 229.93 164.33\n",
      "HD 218.38 169.71\n",
      "IBM 128.15 107.08\n",
      "INTC 59.85 45.96\n",
      "JNJ 145.87 128.13\n",
      "KO 55.35 46.94\n",
      "JPM 139.4 95.95\n",
      "MCD 197.61 175.41\n",
      "MMM 147.51 157.04\n",
      "MRK 86.78 71.84\n",
      "MSFT 157.7 99.55\n",
      "NKE 101.31 72.79\n",
      "PFE 37.17 40.91\n",
      "PG 124.9 91.03\n",
      "TRV 136.95 117.49\n",
      "UNH 293.98 245.0\n",
      "RTX 94.25 66.18\n",
      "VZ 61.4 56.16\n",
      "V 187.9 130.0\n",
      "WBA 58.96 67.2\n",
      "WMT 39.61 30.55\n",
      "DIS 144.63 108.1\n",
      "DOW 54.73 49.99\n"
     ]
    }
   ],
   "source": [
    "import time\n",
    "from selenium import webdriver\n",
    "from selenium.webdriver.common.by import By\n",
    "from selenium.webdriver.remote.webelement import WebElement\n",
    "\n",
    "\n",
    "def get_elem(selector: By, name: str) -> WebElement:\n",
    "    while True:\n",
    "        try:\n",
    "            return driver.find_element(selector, name)\n",
    "        except:\n",
    "            time.sleep(0.5)\n",
    "\n",
    "\n",
    "def get_elems(elem: WebElement, selector: By, name: str) -> WebElement:\n",
    "    while True:\n",
    "        try:\n",
    "            return elem.find_elements(selector, name)\n",
    "        except:\n",
    "            time.sleep(1)\n",
    "\n",
    "\n",
    "def get_months(lst: list, best: tuple, worst: tuple) -> tuple:\n",
    "    ms = dict()\n",
    "    for line in lst:\n",
    "        if len(line) != 7:\n",
    "            continue\n",
    "\n",
    "        m = line[0].text[:3]\n",
    "        if m in ms.keys():\n",
    "            ms[m][\"s\"] = float(line[4].text)\n",
    "        else:\n",
    "            ms[m] = {\"s\": 0, \"e\": float(line[1].text)}\n",
    "\n",
    "    ms = {k: (v[\"e\"] / v[\"s\"] - 1) * 100 for k, v in ms.items() if v[\"e\"] != \"\"}\n",
    "    ms = dict(sorted(ms.items(), key=lambda x: x[1]))\n",
    "\n",
    "    if list(ms.items())[0][1] < worst[1]:\n",
    "        worst = list(ms.items())[0]\n",
    "\n",
    "    if list(ms.items())[-1][1] > best[1]:\n",
    "        best = list(ms.items())[-1]\n",
    "\n",
    "    return best, worst\n",
    "\n",
    "\n",
    "driver = webdriver.Chrome()\n",
    "price_change = dict()\n",
    "volume = dict()\n",
    "inc = (\"\", 0)\n",
    "dec = (\"\", 0)\n",
    "best = (\"\", 0)\n",
    "worst = (\"\", 0)\n",
    "with open(\"dow_jones_tickers.txt\", mode=\"r\", encoding=\"utf-8\") as f:\n",
    "    for ticker in f:\n",
    "        if ticker.strip() == \"\":\n",
    "            break\n",
    "\n",
    "        driver.get(f\"https://finance.yahoo.com/quote/{ticker.strip()}/history\")\n",
    "        get_elem(By.CLASS_NAME, \"tertiary-btn\").click()\n",
    "        if ticker.strip() == \"DOW\":\n",
    "            dt = \"21.03.2019\"\n",
    "        else:\n",
    "            dt = \"01.01.2019\"\n",
    "\n",
    "        get_elem(By.NAME, \"startDate\").send_keys(dt)\n",
    "        get_elem(By.NAME, \"endDate\").send_keys(\"01.01.2020\")\n",
    "        get_elem(By.CLASS_NAME, \"primary-btn\").click()\n",
    "        time.sleep(1.5)\n",
    "\n",
    "        tbody = get_elem(By.TAG_NAME, \"tbody\")\n",
    "        lines = get_elems(tbody, By.XPATH, \"./*\")\n",
    "        date_1 = float(get_elems(lines[-1], By.XPATH, \"./*\")[1].text)\n",
    "        date_2 = float(get_elems(lines[0], By.XPATH, \"./*\")[-3].text)\n",
    "        print(ticker.strip(), date_2, date_1)\n",
    "        ls = [get_elems(l, By.XPATH, \"./*\") for l in lines]\n",
    "        vols = [l[-1].text.replace(\",\", \"\") for l in ls if len(l) == 7]\n",
    "        volume[ticker.strip()] = max(map(float, vols))\n",
    "\n",
    "        # open / close\n",
    "        # ? or higt / open ?\n",
    "        incs = [float(l[1].text) / float(l[4].text) for l in ls if len(l) == 7]\n",
    "        incs_max = (max(incs) - 1) * 100\n",
    "        if incs_max > inc[1]:\n",
    "            inc = (ticker.strip(), incs_max)\n",
    "\n",
    "        incs_min = (min(incs) - 1) * 100\n",
    "        if incs_min < dec[1]:\n",
    "            dec = (ticker.strip(), incs_min)\n",
    "\n",
    "        best, worst = get_months(ls, best, worst)\n",
    "        price_change[ticker.strip()] = ((date_2 / date_1) - 1) * 100"
   ]
  },
  {
   "cell_type": "code",
   "execution_count": 16,
   "metadata": {},
   "outputs": [
    {
     "data": {
      "text/plain": [
       "{'WBA': -12.261904761904763,\n",
       " 'PFE': -9.142019066242957,\n",
       " 'MMM': -6.068517575140097,\n",
       " 'BA': 3.0266611847306946,\n",
       " 'XOM': 3.6080178173719446,\n",
       " 'VZ': 9.330484330484335,\n",
       " 'DOW': 9.481896379275835,\n",
       " 'CVX': 12.269424259362772,\n",
       " 'MCD': 12.656062938258938,\n",
       " 'CSCO': 13.434247871333959,\n",
       " 'JNJ': 13.845313353625222,\n",
       " 'TRV': 16.56311175419185,\n",
       " 'KO': 17.91648913506605,\n",
       " 'CAT': 19.067967427235356,\n",
       " 'IBM': 19.676877101232737,\n",
       " 'UNH': 19.99183673469389,\n",
       " 'MRK': 20.796213808463236,\n",
       " 'HD': 28.678333627953556,\n",
       " 'WMT': 29.656301145662844,\n",
       " 'INTC': 30.22193211488251,\n",
       " 'AXP': 32.56309232243637,\n",
       " 'DIS': 33.792784458834426,\n",
       " 'PG': 37.207514006371525,\n",
       " 'NKE': 39.18120620964418,\n",
       " 'GS': 39.919673827055306,\n",
       " 'RTX': 42.41462677546084,\n",
       " 'V': 44.53846153846155,\n",
       " 'JPM': 45.28400208441896,\n",
       " 'MSFT': 58.41285786037167,\n",
       " 'AAPL': 89.59194214876032}"
      ]
     },
     "execution_count": 16,
     "metadata": {},
     "output_type": "execute_result"
    }
   ],
   "source": [
    "price_change"
   ]
  },
  {
   "cell_type": "code",
   "execution_count": 30,
   "metadata": {},
   "outputs": [
    {
     "data": {
      "text/plain": [
       "{'AXP': 9872500.0,\n",
       " 'AAPL': 365248800.0,\n",
       " 'BA': 36922600.0,\n",
       " 'CAT': 17421400.0,\n",
       " 'CSCO': 103123400.0,\n",
       " 'CVX': 42693700.0,\n",
       " 'XOM': 35092000.0,\n",
       " 'GS': 15194200.0,\n",
       " 'HD': 14972200.0,\n",
       " 'IBM': 23078630.0,\n",
       " 'INTC': 86455700.0,\n",
       " 'JNJ': 25868700.0,\n",
       " 'KO': 58905400.0,\n",
       " 'JPM': 31115200.0,\n",
       " 'MCD': 17662100.0,\n",
       " 'MMM': 17516855.0,\n",
       " 'MRK': 46684837.0,\n",
       " 'MSFT': 55636400.0,\n",
       " 'NKE': 25330700.0,\n",
       " 'PFE': 95739668.0,\n",
       " 'PG': 30802700.0,\n",
       " 'TRV': 3551600.0,\n",
       " 'UNH': 27361400.0,\n",
       " 'RTX': 21901664.0,\n",
       " 'VZ': 42977900.0,\n",
       " 'V': 20162000.0,\n",
       " 'WBA': 36877800.0,\n",
       " 'WMT': 67512600.0,\n",
       " 'DIS': 65253500.0,\n",
       " 'DOW': 19663400.0}"
      ]
     },
     "execution_count": 30,
     "metadata": {},
     "output_type": "execute_result"
    }
   ],
   "source": [
    "volume"
   ]
  },
  {
   "cell_type": "code",
   "execution_count": 18,
   "metadata": {},
   "outputs": [
    {
     "data": {
      "text/plain": [
       "(-4.203650979735385, 5.388994307400363)"
      ]
     },
     "execution_count": 18,
     "metadata": {},
     "output_type": "execute_result"
    }
   ],
   "source": [
    "incs_min, incs_max"
   ]
  },
  {
   "cell_type": "code",
   "execution_count": 12,
   "metadata": {},
   "outputs": [
    {
     "data": {
      "text/plain": [
       "(('Apr', 23.651231001688732), ('May', -16.283488504655143))"
      ]
     },
     "execution_count": 12,
     "metadata": {},
     "output_type": "execute_result"
    }
   ],
   "source": [
    "best, worst"
   ]
  },
  {
   "cell_type": "markdown",
   "metadata": {},
   "source": [
    "<br><br>\n",
    "\n",
    "### Questions\n",
    "\n",
    "<br><br>\n",
    "\n",
    "**Question 1.** What is the average change of price over the year (in %)?\n",
    "\n",
    "*Note 1*. The opening price is the price at which a stock first trades upon the opening of an exchange on a trading day.\n",
    "\n",
    "*Note 2*. The closing price for any stock is the final price at which it trades during regular market hours on any given day.\n",
    "\n",
    "*Note 3*. Here by the price change we going to mean a ratio of a closing price in the last day of the period to an opening price in the first day of that period, subtracted one and multiplied by 100.\n",
    "\n",
    "Example: if a price of a stock in day 1 opened at \\\\$100, and its close price in the last day was \\\\$120, then the price change during the period is: $$\\left(\\dfrac{120}{100}-1\\right) * 100 = (1.2 - 1) * 100=20.$$\n",
    "\n",
    "The price grew by 20%."
   ]
  },
  {
   "cell_type": "code",
   "execution_count": 9,
   "metadata": {},
   "outputs": [
    {
     "data": {
      "text/plain": [
       "23.85516302707843"
      ]
     },
     "execution_count": 9,
     "metadata": {},
     "output_type": "execute_result"
    }
   ],
   "source": [
    "import pandas as pd\n",
    "\n",
    "pd.Series(price_change.values()).mean()"
   ]
  },
  {
   "cell_type": "code",
   "execution_count": 10,
   "metadata": {},
   "outputs": [
    {
     "data": {
      "text/plain": [
       "23.85516302707843"
      ]
     },
     "execution_count": 10,
     "metadata": {},
     "output_type": "execute_result"
    }
   ],
   "source": [
    "import numpy as np\n",
    "\n",
    "answer_part_1 = np.mean(list(price_change.values()))\n",
    "answer_part_1"
   ]
  },
  {
   "cell_type": "markdown",
   "metadata": {},
   "source": [
    "<br>\n",
    "\n",
    "**Question 2.** What company's stock price grew the most (in %)? Enter ticker of the company as an answer)"
   ]
  },
  {
   "cell_type": "code",
   "execution_count": 21,
   "metadata": {},
   "outputs": [
    {
     "data": {
      "text/plain": [
       "'AAPL'"
      ]
     },
     "execution_count": 21,
     "metadata": {},
     "output_type": "execute_result"
    }
   ],
   "source": [
    "price_change = dict(sorted(price_change.items(), key=lambda x: x[1]))\n",
    "answer_part_2 = list(price_change.items())[-1][0]\n",
    "answer_part_2  # AAPL"
   ]
  },
  {
   "cell_type": "markdown",
   "metadata": {},
   "source": [
    "<br>\n",
    "\n",
    "**Question 3.** What company's stock lost in price the most (in %)? Enter ticker of the company as an answer"
   ]
  },
  {
   "cell_type": "code",
   "execution_count": 22,
   "metadata": {},
   "outputs": [
    {
     "data": {
      "text/plain": [
       "'WBA'"
      ]
     },
     "execution_count": 22,
     "metadata": {},
     "output_type": "execute_result"
    }
   ],
   "source": [
    "answer_part_3 = list(price_change.items())[0][0]\n",
    "answer_part_3  # WBA"
   ]
  },
  {
   "cell_type": "markdown",
   "metadata": {},
   "source": [
    "<br>\n",
    "\n",
    "**Question 4.** What company had the largest summary volume over the year? Enter ticker of the company as an answer"
   ]
  },
  {
   "cell_type": "code",
   "execution_count": 32,
   "metadata": {},
   "outputs": [
    {
     "data": {
      "text/plain": [
       "'AAPL'"
      ]
     },
     "execution_count": 32,
     "metadata": {},
     "output_type": "execute_result"
    }
   ],
   "source": [
    "volume = dict(sorted(volume.items(), key=lambda x: x[1]))\n",
    "answer_part_4 = list(volume.items())[-1][0]\n",
    "answer_part_4  # AAPL"
   ]
  },
  {
   "cell_type": "markdown",
   "metadata": {},
   "source": [
    "<br>\n",
    "\n",
    "**Question 5.** What is the biggest stock price daily increase (in %)? Enter the number "
   ]
  },
  {
   "cell_type": "code",
   "execution_count": 24,
   "metadata": {},
   "outputs": [
    {
     "data": {
      "text/plain": [
       "7.716328747284562"
      ]
     },
     "execution_count": 24,
     "metadata": {},
     "output_type": "execute_result"
    }
   ],
   "source": [
    "answer_part_5 = inc[1]\n",
    "answer_part_5  # 7.716328747284562"
   ]
  },
  {
   "cell_type": "markdown",
   "metadata": {},
   "source": [
    "<br><br>\n",
    "\n",
    "**Question 6.** What is the company that had the biggest stock price daily increase? Enter ticker of the company as an answer"
   ]
  },
  {
   "cell_type": "code",
   "execution_count": 34,
   "metadata": {},
   "outputs": [
    {
     "data": {
      "text/plain": [
       "'UNH'"
      ]
     },
     "execution_count": 34,
     "metadata": {},
     "output_type": "execute_result"
    }
   ],
   "source": [
    "answer_part_6 = dec[0]\n",
    "answer_part_6  # BA"
   ]
  },
  {
   "cell_type": "markdown",
   "metadata": {},
   "source": [
    "<br>\n",
    "\n",
    "**Question 7.** What is the biggest stock price daily decrease (in %)? Enter the number"
   ]
  },
  {
   "cell_type": "code",
   "execution_count": 26,
   "metadata": {},
   "outputs": [
    {
     "data": {
      "text/plain": [
       "-7.184820379490519"
      ]
     },
     "execution_count": 26,
     "metadata": {},
     "output_type": "execute_result"
    }
   ],
   "source": [
    "answer_part_7 = dec[1]\n",
    "answer_part_7  # -7.184820379490519"
   ]
  },
  {
   "cell_type": "markdown",
   "metadata": {},
   "source": [
    "<br>\n",
    "\n",
    "**Question 8.** What is the company that had the biggest stock price daily decrese (in %)? Enter ticker of the company as an answer"
   ]
  },
  {
   "cell_type": "code",
   "execution_count": 13,
   "metadata": {},
   "outputs": [
    {
     "data": {
      "text/plain": [
       "''"
      ]
     },
     "execution_count": 13,
     "metadata": {},
     "output_type": "execute_result"
    }
   ],
   "source": [
    "answer_part_8 = inc[0]\n",
    "answer_part_8  # UNH"
   ]
  },
  {
   "cell_type": "markdown",
   "metadata": {},
   "source": [
    "<br>\n",
    "\n",
    "**Question 9.** What was the best month for all companies (i.e. average monthly price increase was the best)? Enter one of the following: January, February, March, April, May, June, July, August, September, October, November, December"
   ]
  },
  {
   "cell_type": "code",
   "execution_count": 3,
   "metadata": {},
   "outputs": [
    {
     "data": {
      "text/plain": [
       "'Apr'"
      ]
     },
     "execution_count": 3,
     "metadata": {},
     "output_type": "execute_result"
    }
   ],
   "source": [
    "answer_part_9 = best[0]\n",
    "answer_part_9\n",
    "# ! May, April, Apr, March, December"
   ]
  },
  {
   "cell_type": "markdown",
   "metadata": {},
   "source": [
    "<br>\n",
    "\n",
    "**Question 10.** What was the worst month for all companies (i.e. average monthly price increase was the worst)? Enter one of the following: January, February, March, April, May, June, July, August, September, October, November, December"
   ]
  },
  {
   "cell_type": "code",
   "execution_count": 5,
   "metadata": {},
   "outputs": [
    {
     "data": {
      "text/plain": [
       "'May'"
      ]
     },
     "execution_count": 5,
     "metadata": {},
     "output_type": "execute_result"
    }
   ],
   "source": [
    "answer_part_10 = worst[0]\n",
    "answer_part_10  # May"
   ]
  },
  {
   "cell_type": "markdown",
   "metadata": {},
   "source": [
    "<br>\n",
    "<br>\n",
    "\n",
    "#### Submit your answers"
   ]
  },
  {
   "cell_type": "code",
   "execution_count": null,
   "metadata": {},
   "outputs": [],
   "source": []
  }
 ],
 "metadata": {
  "kernelspec": {
   "display_name": "Python 3",
   "language": "python",
   "name": "python3"
  },
  "language_info": {
   "codemirror_mode": {
    "name": "ipython",
    "version": 3
   },
   "file_extension": ".py",
   "mimetype": "text/x-python",
   "name": "python",
   "nbconvert_exporter": "python",
   "pygments_lexer": "ipython3",
   "version": "3.10.13"
  }
 },
 "nbformat": 4,
 "nbformat_minor": 4
}
