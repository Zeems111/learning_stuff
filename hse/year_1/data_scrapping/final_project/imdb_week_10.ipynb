{
 "cells": [
  {
   "cell_type": "code",
   "execution_count": 2,
   "metadata": {},
   "outputs": [],
   "source": [
    "from imdb_code import get_movies_by_actor_url, get_actors_by_movie_url,\\\n",
    " get_movies_by_actor_soup, get_actors_by_movie_soup\n",
    "from imdb_helper_functions import actor_soup_by_url, movie_soup_by_url\n",
    "import imdb_helper_functions as ihf\n"
   ]
  },
  {
   "cell_type": "code",
   "execution_count": 3,
   "metadata": {},
   "outputs": [],
   "source": [
    "links = {\n",
    "'Dwayne Johnson': 'https://www.imdb.com/name/nm0425005/',\n",
    "'Scarlett Johansson': 'https://www.imdb.com/name/nm0424060/'\n",
    "}"
   ]
  },
  {
   "cell_type": "markdown",
   "metadata": {},
   "source": [
    "I decided to parse actor's fullcredits page.\n",
    "It contains similar info as usual actor's page.\n"
   ]
  },
  {
   "cell_type": "markdown",
   "metadata": {},
   "source": [
    "For example let's check pages of Scarlett Johansson.\n",
    "We can see that fullcredits page (on the right) contains same amount of upcoming movies.\n",
    "\n",
    "After that movies come up in the same order.\n",
    "\n",
    "There is also the same amount of movies on both pages:\n",
    "- 82 movies in total on fullcredits page\n",
    "- 6 upcoming + 76 completed movies on the actor page.\n",
    "\n",
    "![alt text](pages.jpg \"Title\")"
   ]
  },
  {
   "cell_type": "code",
   "execution_count": 4,
   "metadata": {},
   "outputs": [],
   "source": [
    "ihf.driver = ihf.driver_setup()"
   ]
  },
  {
   "cell_type": "markdown",
   "metadata": {},
   "source": [
    "# Demonstartion of *actor_soup_by_url* and *get_movies_by_actor_soup* functions"
   ]
  },
  {
   "cell_type": "code",
   "execution_count": 5,
   "metadata": {},
   "outputs": [
    {
     "name": "stdout",
     "output_type": "stream",
     "text": [
      "Dwayne Johnson, limit None: 46 movies\n",
      "Dwayne Johnson, limit 10: 10 movies\n",
      "Dwayne Johnson, limit 3: 3 movies\n",
      "First few movies:\n",
      "('Fast X', 'https://www.imdb.com/title/tt5433140/fullcredits/')\n",
      "('Black Adam', 'https://www.imdb.com/title/tt6443346/fullcredits/')\n",
      "('DC League of Super-Pets', 'https://www.imdb.com/title/tt8912936/fullcredits/')\n",
      "Scarlett Johansson, limit None: 56 movies\n",
      "Scarlett Johansson, limit 10: 10 movies\n",
      "Scarlett Johansson, limit 3: 3 movies\n",
      "First few movies:\n",
      "('North Star', 'https://www.imdb.com/title/tt20911974/fullcredits/')\n",
      "('Asteroid City', 'https://www.imdb.com/title/tt14230388/fullcredits/')\n",
      "('Sing 2', 'https://www.imdb.com/title/tt6467266/fullcredits/')\n"
     ]
    }
   ],
   "source": [
    "# No cache\n",
    "for actor, url in links.items():\n",
    "    soup = actor_soup_by_url(url)\n",
    "    for i in (None, 10, 3):\n",
    "        movies = get_movies_by_actor_soup(soup, i)\n",
    "        print(f'{actor}, limit {i}: {len(movies)} movies') \n",
    "    print(\"First few movies:\")\n",
    "    print(*movies,sep='\\n')      "
   ]
  },
  {
   "cell_type": "code",
   "execution_count": 6,
   "metadata": {},
   "outputs": [
    {
     "name": "stdout",
     "output_type": "stream",
     "text": [
      "Dwayne Johnson, limit None: 46 movies\n",
      "Dwayne Johnson, limit 10: 10 movies\n",
      "Dwayne Johnson, limit 3: 3 movies\n",
      "Scarlett Johansson, limit None: 56 movies\n",
      "Scarlett Johansson, limit 10: 10 movies\n",
      "Scarlett Johansson, limit 3: 3 movies\n"
     ]
    }
   ],
   "source": [
    "#With cache (returns movie links)\n",
    "for actor, url in links.items():\n",
    "    for i in (None, 10, 3):        \n",
    "        movies = get_movies_by_actor_url(url, i)\n",
    "        print(f'{actor}, limit {i}: {len(movies)} movies')"
   ]
  },
  {
   "cell_type": "markdown",
   "metadata": {},
   "source": [
    "# Demonstartion of *movie_soup_by_url* and *get_actors_by_movie_soup* functions"
   ]
  },
  {
   "cell_type": "code",
   "execution_count": 29,
   "metadata": {},
   "outputs": [],
   "source": [
    "movie_url = 'https://www.imdb.com/title/tt3480822/'"
   ]
  },
  {
   "cell_type": "code",
   "execution_count": 39,
   "metadata": {},
   "outputs": [
    {
     "name": "stdout",
     "output_type": "stream",
     "text": [
      "Scarlett Johansson, limit 3: 3 actors\n",
      "('Scarlett Johansson', 'https://www.imdb.com/name/nm0424060/fullcredits/')\n",
      "('Florence Pugh', 'https://www.imdb.com/name/nm6073955/fullcredits/')\n",
      "('Rachel Weisz', 'https://www.imdb.com/name/nm0001838/fullcredits/')\n",
      "Scarlett Johansson, limit 10: 10 actors\n",
      "('Scarlett Johansson', 'https://www.imdb.com/name/nm0424060/fullcredits/')\n",
      "('Florence Pugh', 'https://www.imdb.com/name/nm6073955/fullcredits/')\n",
      "('Rachel Weisz', 'https://www.imdb.com/name/nm0001838/fullcredits/')\n",
      "('David Harbour', 'https://www.imdb.com/name/nm1092086/fullcredits/')\n",
      "('Ray Winstone', 'https://www.imdb.com/name/nm0935653/fullcredits/')\n",
      "('Ever Anderson', 'https://www.imdb.com/name/nm8349839/fullcredits/')\n",
      "('Violet McGraw', 'https://www.imdb.com/name/nm8627157/fullcredits/')\n",
      "('O-T Fagbenle', 'https://www.imdb.com/name/nm1282966/fullcredits/')\n",
      "('William Hurt', 'https://www.imdb.com/name/nm0000458/fullcredits/')\n",
      "('Olga Kurylenko', 'https://www.imdb.com/name/nm1385871/fullcredits/')\n",
      "Scarlett Johansson, limit None: 108 actors\n",
      "('Scarlett Johansson', 'https://www.imdb.com/name/nm0424060/fullcredits/')\n",
      "('Florence Pugh', 'https://www.imdb.com/name/nm6073955/fullcredits/')\n",
      "('Rachel Weisz', 'https://www.imdb.com/name/nm0001838/fullcredits/')\n",
      "('David Harbour', 'https://www.imdb.com/name/nm1092086/fullcredits/')\n",
      "('Ray Winstone', 'https://www.imdb.com/name/nm0935653/fullcredits/')\n",
      "('Ever Anderson', 'https://www.imdb.com/name/nm8349839/fullcredits/')\n",
      "('Violet McGraw', 'https://www.imdb.com/name/nm8627157/fullcredits/')\n",
      "('O-T Fagbenle', 'https://www.imdb.com/name/nm1282966/fullcredits/')\n",
      "('William Hurt', 'https://www.imdb.com/name/nm0000458/fullcredits/')\n",
      "('Olga Kurylenko', 'https://www.imdb.com/name/nm1385871/fullcredits/')\n",
      "('Ryan Kiera Armstrong', 'https://www.imdb.com/name/nm8740834/fullcredits/')\n",
      "('Liani Samuel', 'https://www.imdb.com/name/nm9384191/fullcredits/')\n",
      "('Michelle Lee', 'https://www.imdb.com/name/nm1685477/fullcredits/')\n",
      "('Lewis Young', 'https://www.imdb.com/name/nm4447854/fullcredits/')\n",
      "('C.C. Smiff', 'https://www.imdb.com/name/nm0806905/fullcredits/')\n",
      "('Nanna Blondell', 'https://www.imdb.com/name/nm2116753/fullcredits/')\n",
      "('Simona Zivkovska', 'https://www.imdb.com/name/nm4717792/fullcredits/')\n",
      "('Erin Jameson', 'https://www.imdb.com/name/nm11004715/fullcredits/')\n",
      "('Shaina West', 'https://www.imdb.com/name/nm10964538/fullcredits/')\n",
      "('Yolanda Lynes', 'https://www.imdb.com/name/nm7926404/fullcredits/')\n",
      "('Claudia Heinz', 'https://www.imdb.com/name/nm5817969/fullcredits/')\n",
      "('Fatou Bah', 'https://www.imdb.com/name/nm10929665/fullcredits/')\n",
      "('Jade Ma', 'https://www.imdb.com/name/nm10111016/fullcredits/')\n",
      "('Jade Xu', 'https://www.imdb.com/name/nm4978635/fullcredits/')\n",
      "('Lucy Jayne Murray', 'https://www.imdb.com/name/nm6159195/fullcredits/')\n",
      "('Lucy Cork', 'https://www.imdb.com/name/nm6434811/fullcredits/')\n",
      "('Eniko Fulop', 'https://www.imdb.com/name/nm6041721/fullcredits/')\n",
      "('Lauren Okadigbo', 'https://www.imdb.com/name/nm7413014/fullcredits/')\n",
      "('Aurélia Agel', 'https://www.imdb.com/name/nm9894422/fullcredits/')\n",
      "('Zhane Samuels', 'https://www.imdb.com/name/nm11003681/fullcredits/')\n",
      "('Shawarah Battles', 'https://www.imdb.com/name/nm11003684/fullcredits/')\n",
      "('Tabby Bond', 'https://www.imdb.com/name/nm3660908/fullcredits/')\n",
      "('Madeleine Nicholls', 'https://www.imdb.com/name/nm11003686/fullcredits/')\n",
      "('Yasmin Riley', 'https://www.imdb.com/name/nm10996988/fullcredits/')\n",
      "('Fiona Griffiths', 'https://www.imdb.com/name/nm11003683/fullcredits/')\n",
      "('Georgia Curtis', 'https://www.imdb.com/name/nm4403569/fullcredits/')\n",
      "('Svetlana Rumi', 'https://www.imdb.com/name/nm10323926/fullcredits/')\n",
      "('Ione Butler', 'https://www.imdb.com/name/nm3198287/fullcredits/')\n",
      "('Aubrey Cleland', 'https://www.imdb.com/name/nm5879446/fullcredits/')\n",
      "('Kurt Yue', 'https://www.imdb.com/name/nm4746345/fullcredits/')\n",
      "('Doug Robson', 'https://www.imdb.com/name/nm9910026/fullcredits/')\n",
      "('Zoltan Nagy', 'https://www.imdb.com/name/nm12740703/fullcredits/')\n",
      "('Marcel Dorian', 'https://www.imdb.com/name/nm7773218/fullcredits/')\n",
      "('Liran Nathan', 'https://www.imdb.com/name/nm3879338/fullcredits/')\n",
      "('Judit Varga-Szathmary', 'https://www.imdb.com/name/nm12740704/fullcredits/')\n",
      "('Noel Krisztian Kozak', 'https://www.imdb.com/name/nm12740705/fullcredits/')\n",
      "('Martin Razpopov', 'https://www.imdb.com/name/nm10896437/fullcredits/')\n",
      "('Olivier Richters', 'https://www.imdb.com/name/nm3689528/fullcredits/')\n",
      "('Nina Novich', 'https://www.imdb.com/name/nm7348310/fullcredits/')\n",
      "('Andrew Byron', 'https://www.imdb.com/name/nm1794753/fullcredits/')\n",
      "('Ed Ashe', 'https://www.imdb.com/name/nm10045051/fullcredits/')\n",
      "('Dawid Szatarski', 'https://www.imdb.com/name/nm3606178/fullcredits/')\n",
      "('Cali Nelle', 'https://www.imdb.com/name/nm4754115/fullcredits/')\n",
      "('Geoffrey D. Williams', 'https://www.imdb.com/name/nm1970083/fullcredits/')\n",
      "('Robert Pralgo', 'https://www.imdb.com/name/nm1128418/fullcredits/')\n",
      "('Jacinte Blankenship', 'https://www.imdb.com/name/nm2715450/fullcredits/')\n",
      "('Josh Henry', 'https://www.imdb.com/name/nm1483247/fullcredits/')\n",
      "('Jose Miguel Vasquez', 'https://www.imdb.com/name/nm3650400/fullcredits/')\n",
      "('Valentina Herrera', 'https://www.imdb.com/name/nm9151563/fullcredits/')\n",
      "('Danielle Jalade', 'https://www.imdb.com/name/nm11959928/fullcredits/')\n",
      "('Aria Brooks', 'https://www.imdb.com/name/nm9098598/fullcredits/')\n",
      "('Sophie Colgrove', 'https://www.imdb.com/name/nm10791240/fullcredits/')\n",
      "('Caister Choi', 'https://www.imdb.com/name/nm9834573/fullcredits/')\n",
      "('Omar Alboukharey', 'https://www.imdb.com/name/nm9535459/fullcredits/')\n",
      "('Shane Askam', 'https://www.imdb.com/name/nm10632555/fullcredits/')\n",
      "('Ahmed Bakare', 'https://www.imdb.com/name/nm11023932/fullcredits/')\n",
      "('Luigi Boccanfuso', 'https://www.imdb.com/name/nm9707028/fullcredits/')\n",
      "('Chadwick Boseman', 'https://www.imdb.com/name/nm1569276/fullcredits/')\n",
      "('Wong Charlie', 'https://www.imdb.com/name/nm10360936/fullcredits/')\n",
      "('Jason Christopher', 'https://www.imdb.com/name/nm4415558/fullcredits/')\n",
      "('James Cox', 'https://www.imdb.com/name/nm4157912/fullcredits/')\n",
      "('Jordyn Curet', 'https://www.imdb.com/name/nm4678576/fullcredits/')\n",
      "('Luke Elkins', 'https://www.imdb.com/name/nm8900115/fullcredits/')\n",
      "('Roman Green', 'https://www.imdb.com/name/nm5888932/fullcredits/')\n",
      "('Tom Hiddleston', 'https://www.imdb.com/name/nm1089991/fullcredits/')\n",
      "('Rob Horrocks', 'https://www.imdb.com/name/nm6403979/fullcredits/')\n",
      "('Jaey Howe', 'https://www.imdb.com/name/nm7239258/fullcredits/')\n",
      "('Ty Hurley', 'https://www.imdb.com/name/nm7287176/fullcredits/')\n",
      "('Tyrone Kearns', 'https://www.imdb.com/name/nm6044736/fullcredits/')\n",
      "('Graham Kitchen', 'https://www.imdb.com/name/nm10027279/fullcredits/')\n",
      "('Jorge Leon', 'https://www.imdb.com/name/nm5855226/fullcredits/')\n",
      "('Gavin Lee Lewis', 'https://www.imdb.com/name/nm6818702/fullcredits/')\n",
      "('Eugene Lin', 'https://www.imdb.com/name/nm13889383/fullcredits/')\n",
      "('Dale Liner', 'https://www.imdb.com/name/nm1236209/fullcredits/')\n",
      "('Marian Lorencik', 'https://www.imdb.com/name/nm6631007/fullcredits/')\n",
      "('Julia Louis-Dreyfus', 'https://www.imdb.com/name/nm0000506/fullcredits/')\n",
      "('Yuuki Luna', 'https://www.imdb.com/name/nm3874590/fullcredits/')\n",
      "('Obie Matthew', 'https://www.imdb.com/name/nm1975399/fullcredits/')\n",
      "('Kenny-Lee Mbanefo', 'https://www.imdb.com/name/nm8728573/fullcredits/')\n",
      "('Tony McCarthy', 'https://www.imdb.com/name/nm11105476/fullcredits/')\n",
      "('Stephen McGowan', 'https://www.imdb.com/name/nm1732044/fullcredits/')\n",
      "('Nevaeh Moore', 'https://www.imdb.com/name/nm11258988/fullcredits/')\n",
      "(\"Paul O'Kelly\", 'https://www.imdb.com/name/nm8361490/fullcredits/')\n",
      "('Edward L. Oliver', 'https://www.imdb.com/name/nm10605908/fullcredits/')\n",
      "('Adam Prickett', 'https://www.imdb.com/name/nm4605797/fullcredits/')\n",
      "('Zoltan Rencsar', 'https://www.imdb.com/name/nm11658882/fullcredits/')\n",
      "('Stephen Samson', 'https://www.imdb.com/name/nm0760337/fullcredits/')\n",
      "('Oliver Simms', 'https://www.imdb.com/name/nm8909296/fullcredits/')\n",
      "('Joakim Skarli', 'https://www.imdb.com/name/nm7813817/fullcredits/')\n",
      "('James Snelling', 'https://www.imdb.com/name/nm11240415/fullcredits/')\n",
      "('Clem So', 'https://www.imdb.com/name/nm6680316/fullcredits/')\n",
      "('Iain Tingley', 'https://www.imdb.com/name/nm9974888/fullcredits/')\n",
      "('Andrew Tull', 'https://www.imdb.com/name/nm12241326/fullcredits/')\n",
      "('David Turner', 'https://www.imdb.com/name/nm10491024/fullcredits/')\n",
      "('Kalina Vanska', 'https://www.imdb.com/name/nm2338656/fullcredits/')\n",
      "('Chad J. Wagner', 'https://www.imdb.com/name/nm8242662/fullcredits/')\n",
      "('Ian Wilson', 'https://www.imdb.com/name/nm11227852/fullcredits/')\n",
      "('Daniel Joseph Woolf', 'https://www.imdb.com/name/nm9281009/fullcredits/')\n"
     ]
    }
   ],
   "source": [
    "# No cache\n",
    "soup = movie_soup_by_url(movie_url)\n",
    "for i in (3, 10, None):   \n",
    "    cast = get_actors_by_movie_soup(soup, i)    \n",
    "    print(f'{actor}, limit {i}: {len(cast)} actors')\n",
    "    print(*cast, sep='\\n')"
   ]
  },
  {
   "cell_type": "code",
   "execution_count": 40,
   "metadata": {},
   "outputs": [
    {
     "name": "stdout",
     "output_type": "stream",
     "text": [
      "https://www.imdb.com/name/nm0424060/fullcredits/\n",
      "https://www.imdb.com/name/nm6073955/fullcredits/\n",
      "https://www.imdb.com/name/nm0001838/fullcredits/\n",
      "https://www.imdb.com/name/nm1092086/fullcredits/\n",
      "https://www.imdb.com/name/nm0935653/fullcredits/\n",
      "Total actors/actresses: 108\n"
     ]
    }
   ],
   "source": [
    "#with cache\n",
    "cast = get_actors_by_movie_url(movie_url)\n",
    "print(*cast[:5], sep='\\n')\n",
    "print('Total actors/actresses:', len(cast))"
   ]
  }
 ],
 "metadata": {
  "kernelspec": {
   "display_name": "Python 3",
   "language": "python",
   "name": "python3"
  },
  "language_info": {
   "codemirror_mode": {
    "name": "ipython",
    "version": 3
   },
   "file_extension": ".py",
   "mimetype": "text/x-python",
   "name": "python",
   "nbconvert_exporter": "python",
   "pygments_lexer": "ipython3",
   "version": "3.11.5"
  }
 },
 "nbformat": 4,
 "nbformat_minor": 2
}
