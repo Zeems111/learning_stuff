{
 "cells": [
  {
   "cell_type": "markdown",
   "id": "c33de3c00320c9af",
   "metadata": {},
   "source": [
    "# Peer Review: Creating a Web-Service"
   ]
  },
  {
   "cell_type": "code",
   "execution_count": 1,
   "id": "327fb2d2c056874f",
   "metadata": {
    "ExecuteTime": {
     "end_time": "2024-06-02T20:49:51.396836Z",
     "start_time": "2024-06-02T20:49:51.390109Z"
    }
   },
   "outputs": [],
   "source": [
    "import numpy as np\n",
    "import matplotlib\n",
    "import matplotlib.pyplot as plt\n",
    "matplotlib.use('Agg')\n",
    "\n",
    "from fastapi import FastAPI\n",
    "from fastapi.responses import HTMLResponse\n",
    "from fastapi.responses import JSONResponse\n",
    "from starlette.staticfiles import StaticFiles"
   ]
  },
  {
   "cell_type": "code",
   "execution_count": 2,
   "id": "490327150229ded1",
   "metadata": {
    "ExecuteTime": {
     "end_time": "2024-06-02T20:56:25.566134Z",
     "start_time": "2024-06-02T20:56:25.536699Z"
    }
   },
   "outputs": [],
   "source": [
    "app = FastAPI()\n",
    "\n",
    "def solve(a, b, c):\n",
    "    D = b**2 - 4*a*c\n",
    "    if D > 0:\n",
    "        return [(-b + np.sqrt(D))/(2*a), (-b - np.sqrt(D))/(2*a)]\n",
    "    elif D == 0:\n",
    "        return [-b/(2*a)]\n",
    "    else:\n",
    "        return []\n",
    "\n",
    "@app.get(\"/solve\", response_class=JSONResponse)\n",
    "async def read_item(a: int, b: int, c: int):\n",
    "    return {\"roots\": solve(a, b, c)}\n",
    "\n",
    "@app.get(\"/main\", response_class=HTMLResponse)\n",
    "async def read_item():\n",
    "    return \"\"\"\n",
    "    <html>\n",
    "        <head>\n",
    "            <title>Quadratic equation solver</title>\n",
    "        </head>\n",
    "        <body>\n",
    "            <h1>Quadratic equation solver</h1>\n",
    "            <form action=\"/solve\" method=\"get\">\n",
    "                <label for=\"a\">a:</label>\n",
    "                <input type=\"text\" id=\"a\" name=\"a\"><br><br>\n",
    "                <label for=\"b\">b:</label>\n",
    "                <input type=\"text\" id=\"b\" name=\"b\"><br><br>\n",
    "                <label for=\"c\">c:</label>\n",
    "                <input type=\"text\" id=\"c\" name=\"c\"><br><br>\n",
    "                <input type=\"submit\" value=\"Submit\">\n",
    "            </form>\n",
    "            <form action=\"/plot\" method=\"get\">\n",
    "                <label for=\"a\">a:</label>\n",
    "                <input type=\"text\" id=\"a\" name=\"a\"><br><br>\n",
    "                <label for=\"b\">b:</label>\n",
    "                <input type=\"text\" id=\"b\" name=\"b\"><br><br>\n",
    "                <label for=\"c\">c:</label>\n",
    "                <input type=\"text\" id=\"c\" name=\"c\"><br><br>\n",
    "                <input type=\"submit\" value=\"Plot\">\n",
    "            </form>\n",
    "        </body>\n",
    "    </html>\n",
    "    \"\"\"\n",
    "\n",
    "@app.get(\"/plot\", response_class=HTMLResponse)\n",
    "async def read_item(a: int, b: int, c: int):\n",
    "    roots = solve(a, b, c)\n",
    "    if len(roots) == 0:\n",
    "        return \"No roots\"\n",
    "    elif len(roots) == 1:\n",
    "        x = np.linspace(roots[0]-1, roots[0]+1, 100)\n",
    "        y = a*x**2 + b*x + c\n",
    "        plt.plot(x, y)\n",
    "    else:\n",
    "        x1 = np.linspace(roots[0]-1, roots[0]+1, 100)\n",
    "        y1 = a*x1**2 + b*x1 + c\n",
    "        x2 = np.linspace(roots[1]-1, roots[1]+1, 100)\n",
    "        y2 = a*x2**2 + b*x2 + c\n",
    "        plt.plot(x1, y1)\n",
    "        plt.plot(x2, y2)\n",
    "    plt.savefig(\"plot.png\")\n",
    "    return \"\"\"\n",
    "    <html>\n",
    "        <head>\n",
    "            <title>Quadratic equation plot</title>\n",
    "        </head>\n",
    "        <body>\n",
    "            <h1>Quadratic equation plot</h1>\n",
    "            <img src=\"plot.png\" alt=\"rtt\">\n",
    "        </body>\n",
    "    </html>\n",
    "    \"\"\""
   ]
  },
  {
   "cell_type": "markdown",
   "id": "e751d00dcbd1a1be",
   "metadata": {},
   "source": []
  },
  {
   "cell_type": "markdown",
   "id": "28bcacf725add139",
   "metadata": {},
   "source": [
    "### Trying the app"
   ]
  },
  {
   "cell_type": "code",
   "execution_count": 3,
   "id": "c0c26ff946d73b2f",
   "metadata": {
    "ExecuteTime": {
     "end_time": "2024-06-02T20:56:27.518678Z",
     "start_time": "2024-06-02T20:56:27.507194Z"
    }
   },
   "outputs": [
    {
     "name": "stdout",
     "output_type": "stream",
     "text": [
      "{'roots': [3.0, 1.0]}\n"
     ]
    }
   ],
   "source": [
    "import nest_asyncio\n",
    "nest_asyncio.apply()\n",
    "from fastapi.testclient import TestClient\n",
    "\n",
    "client = TestClient(app)\n",
    "\n",
    "response = client.get(\"/solve?a=1&b=-4&c=3\")\n",
    "print(response.json())"
   ]
  },
  {
   "cell_type": "markdown",
   "id": "e993fe90d10a9267",
   "metadata": {},
   "source": []
  }
 ],
 "metadata": {
  "kernelspec": {
   "display_name": "Python 3",
   "language": "python",
   "name": "python3"
  },
  "language_info": {
   "codemirror_mode": {
    "name": "ipython",
    "version": 3
   },
   "file_extension": ".py",
   "mimetype": "text/x-python",
   "name": "python",
   "nbconvert_exporter": "python",
   "pygments_lexer": "ipython3",
   "version": "3.11.5"
  }
 },
 "nbformat": 4,
 "nbformat_minor": 5
}
