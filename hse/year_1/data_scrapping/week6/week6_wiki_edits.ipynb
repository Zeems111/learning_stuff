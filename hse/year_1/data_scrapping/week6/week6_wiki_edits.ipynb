{
 "cells": [
  {
   "cell_type": "markdown",
   "metadata": {},
   "source": [
    "# Wikipedia Edits"
   ]
  },
  {
   "cell_type": "markdown",
   "metadata": {},
   "source": [
    "## Week 6. Practice Programming Assignment 1"
   ]
  },
  {
   "cell_type": "markdown",
   "metadata": {},
   "source": [
    "Let's look at top-5 countries of the European Union by population. They are [Germany](https://en.wikipedia.org/w/index.php?title=Germany), [France](https://en.wikipedia.org/w/index.php?title=France), [Italy](https://en.wikipedia.org/w/index.php?title=Italy), [Spain](https://en.wikipedia.org/w/index.php?title=Spain), [Poland](https://en.wikipedia.org/w/index.php?title=Poland).\n",
    "\n",
    "\n",
    "In this assignment you are required to look at wikipedia pages of these countries. More specifically, at history of edits of the pages (Click on 'View History' at the top right when you are on wikipedia article page). You are free to use any scraping tools we have covered to answer the questions, that you will find below."
   ]
  },
  {
   "cell_type": "markdown",
   "metadata": {},
   "source": [
    "<br><br><br><br>"
   ]
  },
  {
   "cell_type": "markdown",
   "metadata": {},
   "source": [
    "### Coding part"
   ]
  },
  {
   "cell_type": "code",
   "execution_count": 258,
   "metadata": {},
   "outputs": [],
   "source": [
    "# you can start your web-scraping here\n",
    "import requests\n",
    "from bs4 import BeautifulSoup as bs\n",
    "import re\n",
    "wikiurl = 'https://en.wikipedia.org/w/index.php'\n",
    "countries = ['Germany', 'France', 'Italy', 'Spain', 'Poland']\n"
   ]
  },
  {
   "cell_type": "code",
   "execution_count": 259,
   "metadata": {},
   "outputs": [
    {
     "name": "stdout",
     "output_type": "stream",
     "text": [
      "Germany: response 200\n",
      "France: response 200\n",
      "Italy: response 200\n",
      "Spain: response 200\n",
      "Poland: response 200\n"
     ]
    }
   ],
   "source": [
    "country_users = {}\n",
    "edits = {}\n",
    "for country in countries:\n",
    "    params={'title':country,'date-range-to':'2020-01-01','action':'history', 'limit': 1000}\n",
    "    response = requests.get(wikiurl, params=params)\n",
    "    print(f'{country}: response {response.status_code}')\n",
    "    soup = bs(response.text)\n",
    "    body = soup.body.find_all('form')\n",
    "    body = body[2]\n",
    "    history = body.find('section', attrs={'id':'pagehistory'})\n",
    "    date_links = history.find_all('a', attrs={'class': 'mw-changeslist-date'}, string=re.compile('2019'))\n",
    "    edits[country] = len(date_links)\n",
    "    \n",
    "    user_names = {}\n",
    "    for link in date_links:\n",
    "        parent_tag = link.parent\n",
    "        users = parent_tag.find_all('a', attrs={'class': 'mw-userlink'})\n",
    "        for user in users:\n",
    "            name=user.find('bdi')\n",
    "            user_names.setdefault(name.text, 0)\n",
    "            user_names[name.text] += 1\n",
    "    country_users[country] = user_names"
   ]
  },
  {
   "cell_type": "code",
   "execution_count": 260,
   "metadata": {},
   "outputs": [
    {
     "name": "stdout",
     "output_type": "stream",
     "text": [
      "Germany:135\n",
      "France:152\n",
      "Italy:139\n",
      "Spain:125\n",
      "Poland:96\n",
      "unique users: 480\n"
     ]
    }
   ],
   "source": [
    "number_of_users = {}\n",
    "users = set()\n",
    "for country in countries:\n",
    "    number_of_users[country] = len(country_users[country])\n",
    "    for user in country_users[country]:\n",
    "        users.add(user)\n",
    "    print(f'{country}:{number_of_users[country]}')\n",
    "unique_users = len(users) \n",
    "print('unique users:', unique_users)"
   ]
  },
  {
   "cell_type": "markdown",
   "metadata": {},
   "source": [
    "<br><br>\n",
    "\n",
    "### Questions\n",
    "\n",
    "<br><br>\n",
    "\n",
    "**Question 1.** How many edits overall were made on pages of all the countries in 2019? "
   ]
  },
  {
   "cell_type": "code",
   "execution_count": 261,
   "metadata": {},
   "outputs": [
    {
     "data": {
      "text/plain": [
       "2203"
      ]
     },
     "execution_count": 261,
     "metadata": {},
     "output_type": "execute_result"
    }
   ],
   "source": [
    "number_of_edits"
   ]
  },
  {
   "cell_type": "markdown",
   "metadata": {},
   "source": [
    "<br>\n",
    "\n",
    "**Question 2.** What is the highest number of edits per country in 2019 among all countries present? "
   ]
  },
  {
   "cell_type": "code",
   "execution_count": 262,
   "metadata": {},
   "outputs": [
    {
     "data": {
      "text/plain": [
       "601"
      ]
     },
     "execution_count": 262,
     "metadata": {},
     "output_type": "execute_result"
    }
   ],
   "source": [
    "max(edits.values())"
   ]
  },
  {
   "cell_type": "markdown",
   "metadata": {},
   "source": [
    "<br>\n",
    "\n",
    "**Question 3.** What is the lowest number of edits per country in 2019 among all countries present? "
   ]
  },
  {
   "cell_type": "code",
   "execution_count": 263,
   "metadata": {},
   "outputs": [
    {
     "data": {
      "text/plain": [
       "296"
      ]
     },
     "execution_count": 263,
     "metadata": {},
     "output_type": "execute_result"
    }
   ],
   "source": [
    "min(edits.values())"
   ]
  },
  {
   "cell_type": "markdown",
   "metadata": {},
   "source": [
    "<br>\n",
    "\n",
    "**Question 4.** How many users overall made edits on the countries' pages in 2019? "
   ]
  },
  {
   "cell_type": "code",
   "execution_count": 264,
   "metadata": {},
   "outputs": [
    {
     "data": {
      "text/plain": [
       "480"
      ]
     },
     "execution_count": 264,
     "metadata": {},
     "output_type": "execute_result"
    }
   ],
   "source": [
    "unique_users"
   ]
  },
  {
   "cell_type": "markdown",
   "metadata": {},
   "source": [
    "\n",
    "**Question 5.** What is the highest number of users made edits on country's page among all countries present in 2019? "
   ]
  },
  {
   "cell_type": "markdown",
   "metadata": {},
   "source": [
    "\n",
    "**Question 6.** What user made the most edits? "
   ]
  },
  {
   "cell_type": "code",
   "execution_count": 265,
   "metadata": {},
   "outputs": [
    {
     "name": "stdout",
     "output_type": "stream",
     "text": [
      "Germany: ('TheHistoryBuff101', 20)\n",
      "France: ('TheHistoryBuff101', 40)\n",
      "Italy: ('DavideVeloria88', 96)\n",
      "Spain: ('Ineedisin', 43)\n",
      "Poland: ('Merangs', 148)\n"
     ]
    }
   ],
   "source": [
    "for country in countries:\n",
    "    print(f'{country}: {max(country_users[country].items(), key=lambda x: x[1])}')"
   ]
  },
  {
   "cell_type": "markdown",
   "metadata": {},
   "source": [
    "<br>\n",
    "\n",
    "**Question 7.** What is average number of edits per day in 2019? "
   ]
  },
  {
   "cell_type": "code",
   "execution_count": 266,
   "metadata": {},
   "outputs": [
    {
     "name": "stdout",
     "output_type": "stream",
     "text": [
      "Edits: {'Germany': 296, 'France': 401, 'Italy': 601, 'Spain': 375, 'Poland': 530}\n",
      "Average number of edits per day: 6.035616438356165\n"
     ]
    }
   ],
   "source": [
    "number_of_edits = sum(changes.values())\n",
    "print('Edits:', changes)\n",
    "print('Average number of edits per day:', number_of_edits/365)\n"
   ]
  },
  {
   "cell_type": "markdown",
   "metadata": {},
   "source": [
    "<br>\n",
    "\n",
    "**Question 8.** What is average number of edits per user in 2019? "
   ]
  },
  {
   "cell_type": "code",
   "execution_count": 267,
   "metadata": {},
   "outputs": [
    {
     "name": "stdout",
     "output_type": "stream",
     "text": [
      "Average number of edits per user: 4.589583333333334\n"
     ]
    }
   ],
   "source": [
    "print('Average number of edits per user:', number_of_edits/unique_users)"
   ]
  },
  {
   "cell_type": "markdown",
   "metadata": {},
   "source": [
    "<br>\n",
    "\n",
    "**Question 9.** What is average number of edits per day in the country with most edits in 2019? "
   ]
  },
  {
   "cell_type": "code",
   "execution_count": 268,
   "metadata": {},
   "outputs": [
    {
     "name": "stdout",
     "output_type": "stream",
     "text": [
      "Average number of edits per day: 1.6465753424657534\n"
     ]
    }
   ],
   "source": [
    "print('Average number of edits per day:', edits['Italy']/365)"
   ]
  },
  {
   "cell_type": "markdown",
   "metadata": {},
   "source": [
    "<br>\n",
    "\n",
    "**Question 10.** What is average number of edits per user in the country with most edits in 2019?"
   ]
  },
  {
   "cell_type": "code",
   "execution_count": 269,
   "metadata": {},
   "outputs": [
    {
     "name": "stdout",
     "output_type": "stream",
     "text": [
      "Average number of edits per user: 4.323741007194244\n"
     ]
    }
   ],
   "source": [
    "print('Average number of edits per user:', edits['Italy']/len(country_users['Italy']))"
   ]
  }
 ],
 "metadata": {
  "kernelspec": {
   "display_name": "Python 3",
   "language": "python",
   "name": "python3"
  },
  "language_info": {
   "codemirror_mode": {
    "name": "ipython",
    "version": 3
   },
   "file_extension": ".py",
   "mimetype": "text/x-python",
   "name": "python",
   "nbconvert_exporter": "python",
   "pygments_lexer": "ipython3",
   "version": "3.11.5"
  }
 },
 "nbformat": 4,
 "nbformat_minor": 4
}
