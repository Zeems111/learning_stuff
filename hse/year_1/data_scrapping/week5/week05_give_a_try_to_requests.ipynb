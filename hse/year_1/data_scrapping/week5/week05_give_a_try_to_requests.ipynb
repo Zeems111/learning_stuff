{
 "cells": [
  {
   "cell_type": "markdown",
   "metadata": {},
   "source": [
    "# Give a try to requests module"
   ]
  },
  {
   "cell_type": "markdown",
   "metadata": {},
   "source": [
    "## Week 5. Practice Programming Assignment 1"
   ]
  },
  {
   "cell_type": "markdown",
   "metadata": {},
   "source": [
    "This is a demo assignment to make sure, that we can acomplish python requests basic operations: to send a GET-request and to somehow process it."
   ]
  },
  {
   "cell_type": "markdown",
   "metadata": {},
   "source": [
    "### Practice"
   ]
  },
  {
   "cell_type": "code",
   "execution_count": 1,
   "metadata": {},
   "outputs": [],
   "source": [
    "import requests"
   ]
  },
  {
   "cell_type": "markdown",
   "metadata": {},
   "source": [
    "We are going to use method *get* from python requests-module to send GET-request to https://en.wikipedia.org. Remember, to make sure that the request was successfull, we should check if a status code of a response is equal to 200."
   ]
  },
  {
   "cell_type": "code",
   "execution_count": 2,
   "metadata": {},
   "outputs": [
    {
     "name": "stdout",
     "output_type": "stream",
     "text": [
      "200\n"
     ]
    }
   ],
   "source": [
    "response = requests.get('https://en.wikipedia.org')\n",
    "print(response.status_code)"
   ]
  },
  {
   "cell_type": "markdown",
   "metadata": {},
   "source": [
    "<br><br>\n",
    "**Question 1.** What is a statuse code of a response to a successfull HTTP-request?"
   ]
  },
  {
   "cell_type": "code",
   "execution_count": 4,
   "metadata": {},
   "outputs": [
    {
     "data": {
      "text/plain": [
       "200"
      ]
     },
     "execution_count": 4,
     "metadata": {},
     "output_type": "execute_result"
    }
   ],
   "source": [
    "answer_part_1 = response.status_code\n",
    "answer_part_1"
   ]
  },
  {
   "cell_type": "markdown",
   "metadata": {},
   "source": [
    "<br><br><br><br>Now since we got a respone, we can look at the source code of a page."
   ]
  },
  {
   "cell_type": "code",
   "execution_count": 18,
   "metadata": {},
   "outputs": [
    {
     "name": "stdout",
     "output_type": "stream",
     "text": [
      "<!DOCTYPE html>\n",
      "<html class=\"client-nojs vector-feature-language-in-header-enabled vector-feature-language-in-main-page-header-disabled vector-feature\n"
     ]
    }
   ],
   "source": [
    "print(response.text[:150])"
   ]
  },
  {
   "cell_type": "markdown",
   "metadata": {},
   "source": [
    "**Question 2.** How many characters are in the page's source code?"
   ]
  },
  {
   "cell_type": "code",
   "execution_count": 17,
   "metadata": {},
   "outputs": [
    {
     "data": {
      "text/plain": [
       "103801"
      ]
     },
     "execution_count": 17,
     "metadata": {},
     "output_type": "execute_result"
    }
   ],
   "source": [
    "answer_part_2 = len(response.content)\n",
    "answer_part_2"
   ]
  },
  {
   "cell_type": "markdown",
   "metadata": {},
   "source": [
    "<br><br><br><br>Now we can inspect the source code. For example, we could use regular expressions or python string methods to find information, that we want.\n",
    "\n",
    "For example, let's try to find all `<a>`-tags in the page."
   ]
  },
  {
   "cell_type": "code",
   "execution_count": 8,
   "metadata": {},
   "outputs": [],
   "source": [
    "import re"
   ]
  },
  {
   "cell_type": "code",
   "execution_count": 13,
   "metadata": {},
   "outputs": [],
   "source": [
    "p = re.compile('<\\s*h2[^>]*>(.*?)<\\s*/\\s*h2>')"
   ]
  },
  {
   "cell_type": "code",
   "execution_count": 14,
   "metadata": {},
   "outputs": [],
   "source": [
    "result = [match.group() for match in re.finditer(p, response.text)]"
   ]
  },
  {
   "cell_type": "code",
   "execution_count": 15,
   "metadata": {},
   "outputs": [
    {
     "data": {
      "text/plain": [
       "['<h2 id=\"mp-tfa-h2\" class=\"mp-h2\"><span id=\"From_today.27s_featured_article\"></span><span class=\"mw-headline\" id=\"From_today\\'s_featured_article\">From today\\'s featured article</span></h2>',\n",
       " '<h2 id=\"mp-dyk-h2\" class=\"mp-h2\"><span class=\"mw-headline\" id=\"Did_you_know_...\">Did you know&#160;...</span></h2>',\n",
       " '<h2 id=\"mp-itn-h2\" class=\"mp-h2\"><span class=\"mw-headline\" id=\"In_the_news\">In the news</span></h2>',\n",
       " '<h2 id=\"mp-otd-h2\" class=\"mp-h2\"><span class=\"mw-headline\" id=\"On_this_day\">On this day</span></h2>',\n",
       " '<h2 id=\"mp-tfp-h2\" class=\"mp-h2\"><span id=\"Today.27s_featured_picture\"></span><span class=\"mw-headline\" id=\"Today\\'s_featured_picture\">Today\\'s featured picture</span></h2>',\n",
       " '<h2 id=\"mp-other\" class=\"mp-h2\"><span class=\"mw-headline\" id=\"Other_areas_of_Wikipedia\">Other areas of Wikipedia</span></h2>',\n",
       " '<h2 id=\"mp-sister\" class=\"mp-h2\"><span id=\"Wikipedia.27s_sister_projects\"></span><span class=\"mw-headline\" id=\"Wikipedia\\'s_sister_projects\">Wikipedia\\'s sister projects</span></h2>',\n",
       " '<h2 id=\"mp-lang\" class=\"mp-h2\"><span class=\"mw-headline\" id=\"Wikipedia_languages\">Wikipedia languages</span></h2>']"
      ]
     },
     "execution_count": 15,
     "metadata": {},
     "output_type": "execute_result"
    }
   ],
   "source": [
    "result[:10]"
   ]
  },
  {
   "cell_type": "markdown",
   "metadata": {},
   "source": [
    "**Question 3.** How many `<a>`-tags are in the page?"
   ]
  },
  {
   "cell_type": "code",
   "execution_count": 16,
   "metadata": {},
   "outputs": [
    {
     "data": {
      "text/plain": [
       "8"
      ]
     },
     "execution_count": 16,
     "metadata": {},
     "output_type": "execute_result"
    }
   ],
   "source": [
    "len(result)"
   ]
  },
  {
   "cell_type": "markdown",
   "metadata": {},
   "source": [
    "<br><br><br><br>**Question 4.** How many headers of level 2 (`<h2>`-elements) are in the page?"
   ]
  },
  {
   "cell_type": "code",
   "execution_count": null,
   "metadata": {},
   "outputs": [],
   "source": [
    "answer_part_4 = ..."
   ]
  },
  {
   "cell_type": "markdown",
   "metadata": {},
   "source": [
    "<br>\n",
    "<br>\n",
    "\n",
    "#### Now you can submit your answer. Also, feel free to play around with requests, if you feel like it."
   ]
  }
 ],
 "metadata": {
  "kernelspec": {
   "display_name": "Python 3",
   "language": "python",
   "name": "python3"
  },
  "language_info": {
   "codemirror_mode": {
    "name": "ipython",
    "version": 3
   },
   "file_extension": ".py",
   "mimetype": "text/x-python",
   "name": "python",
   "nbconvert_exporter": "python",
   "pygments_lexer": "ipython3",
   "version": "3.11.5"
  }
 },
 "nbformat": 4,
 "nbformat_minor": 4
}
