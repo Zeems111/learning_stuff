{
  "cells": [
    {
      "cell_type": "markdown",
      "metadata": {
        "id": "DZer04Ae8mrN"
      },
      "source": [
        "# Week 4 Seminar.\n",
        "\n",
        "## Chapter 5. Resampling Methods: Bootstrap, CV.\n",
        "\n",
        "### Course: ML with Python, 2024/2025, HSE\n",
        "### Author: Boris Tseytlin, Teaching Team.\n",
        "\n"
      ]
    },
    {
      "cell_type": "markdown",
      "metadata": {
        "id": "zsWxPVgMdxyT"
      },
      "source": [
        "This week we will be covering two resampling techniques you can use to asses your machine learning models:\n",
        "* Cross-Validation\n",
        "* Bootstrap"
      ]
    },
    {
      "cell_type": "code",
      "execution_count": null,
      "metadata": {
        "id": "bfo1h3IEPnSk"
      },
      "outputs": [],
      "source": [
        "# let the statsmodels library to be consistent with latest pandas\n",
        "\n",
        "# !pip -q install --upgrade statsmodels"
      ]
    },
    {
      "cell_type": "code",
      "execution_count": null,
      "metadata": {
        "id": "Ypp5DaO4cHgf"
      },
      "outputs": [],
      "source": [
        "import numpy as np, pandas as pd, matplotlib.pylab as plt, seaborn as sns, statsmodels.api as sm\n",
        "from sklearn.metrics import roc_auc_score\n",
        "from sklearn.model_selection import train_test_split\n",
        "from sklearn.neighbors import KNeighborsClassifier\n",
        "from sklearn.preprocessing import StandardScaler\n",
        "from sklearn.pipeline import Pipeline\n",
        "from sklearn.model_selection import GridSearchCV\n",
        "from sklearn.model_selection import TimeSeriesSplit, KFold, ShuffleSplit, \\\n",
        "  StratifiedKFold, GroupShuffleSplit, GroupKFold, StratifiedShuffleSplit\n",
        "from matplotlib.patches import Patch\n",
        "\n",
        "# Increase viewable area of Pandas tables, numpy arrays, plots\n",
        "pd.set_option('display.max_rows', 15, 'display.max_columns', 500, 'display.max_colwidth', 1, 'display.precision', 2)\n",
        "np.set_printoptions(linewidth=10000, precision=4, edgeitems=20, suppress=True)"
      ]
    },
    {
      "cell_type": "code",
      "execution_count": null,
      "metadata": {
        "id": "BQ8TDCDaqzKC"
      },
      "outputs": [],
      "source": [
        "sns.set_theme()"
      ]
    },
    {
      "cell_type": "code",
      "execution_count": null,
      "metadata": {
        "id": "3-rk2dGIqyBs"
      },
      "outputs": [],
      "source": [
        "plt.rcParams['figure.figsize'] = [16, 6]"
      ]
    },
    {
      "cell_type": "markdown",
      "metadata": {
        "id": "OTYXtihEc32r"
      },
      "source": [
        "# Loading data"
      ]
    },
    {
      "cell_type": "markdown",
      "metadata": {
        "id": "-WbS57NWiNcA"
      },
      "source": [
        "We will load the Titanic dataset, perform the same preprocessing as we did on week 3, and train a simple model."
      ]
    },
    {
      "cell_type": "code",
      "execution_count": null,
      "metadata": {
        "id": "61ovu4fWc5g3"
      },
      "outputs": [],
      "source": [
        "csv_url = 'https://raw.githubusercontent.com/omelnikov/data/main/titanic/titanic.csv'\n",
        "df = pd.read_csv(csv_url)\n",
        "df.columns=['psgr','srv','pcls','name','sex','age','sibsp','parch','tkt','fare','cabin','emb']\n",
        "df.sex = 1*(df.sex=='male')"
      ]
    },
    {
      "cell_type": "code",
      "execution_count": null,
      "metadata": {
        "colab": {
          "base_uri": "https://localhost:8080/"
        },
        "id": "_NUJoBHUkmjm",
        "outputId": "e4a6190a-fa16-49e5-8846-d3f6eed482ac"
      },
      "outputs": [
        {
          "output_type": "stream",
          "name": "stdout",
          "text": [
            "<class 'pandas.core.frame.DataFrame'>\n",
            "RangeIndex: 891 entries, 0 to 890\n",
            "Data columns (total 12 columns):\n",
            " #   Column  Non-Null Count  Dtype  \n",
            "---  ------  --------------  -----  \n",
            " 0   psgr    891 non-null    int64  \n",
            " 1   srv     891 non-null    int64  \n",
            " 2   pcls    891 non-null    int64  \n",
            " 3   name    891 non-null    object \n",
            " 4   sex     891 non-null    int64  \n",
            " 5   age     714 non-null    float64\n",
            " 6   sibsp   891 non-null    int64  \n",
            " 7   parch   891 non-null    int64  \n",
            " 8   tkt     891 non-null    object \n",
            " 9   fare    891 non-null    float64\n",
            " 10  cabin   204 non-null    object \n",
            " 11  emb     889 non-null    object \n",
            "dtypes: float64(2), int64(6), object(4)\n",
            "memory usage: 83.7+ KB\n"
          ]
        }
      ],
      "source": [
        "df.info()"
      ]
    },
    {
      "cell_type": "code",
      "execution_count": null,
      "metadata": {
        "colab": {
          "base_uri": "https://localhost:8080/"
        },
        "id": "DyctoY4Ud-qn",
        "outputId": "ea52400b-655d-4359-ef45-2de2a6ab0a57"
      },
      "outputs": [
        {
          "output_type": "stream",
          "name": "stdout",
          "text": [
            "Filling NA values with age 28.0\n"
          ]
        }
      ],
      "source": [
        "# Ignore cabin & ticket numbers, as well as passenger name for prediciton\n",
        "df_filtered = df.drop(['cabin', 'tkt', 'name'], axis=1)\n",
        "\n",
        "# Use a product trick to convert categorical features `emb`\n",
        "# with three posible values to two binary features\n",
        "df_filtered[\"emb_is_S\"] = (df_filtered[\"emb\"] == \"S\").astype(int)\n",
        "df_filtered[\"emb_is_C\"] = (df_filtered[\"emb\"] == \"C\").astype(int)\n",
        "\n",
        "# Drop unnecessary feature - we can derive it from `emb_is_S` or `emb_is_C`\n",
        "df_filtered = df_filtered.drop([\"emb\"], axis=1)\n",
        "\n",
        "median_age = df_filtered[\"age\"].median()\n",
        "print(\"Filling NA values with age\", median_age)\n",
        "df_filtered = df_filtered.fillna(median_age)\n",
        "\n",
        "fare_max = df_filtered['fare'].quantile(0.95) # extract 95% percentile of fare\n",
        "df_filtered.loc[df_filtered['fare'] > fare_max, \"fare\"] = fare_max # replace too high values with percentile\n",
        "\n",
        "sibsp_max = df_filtered['sibsp'].quantile(0.95) # extract 95% percentile of sibsp\n",
        "df_filtered.loc[df_filtered['sibsp'] > sibsp_max, \"sibsp\"] = sibsp_max # replace too high values with percentile"
      ]
    },
    {
      "cell_type": "code",
      "execution_count": null,
      "metadata": {
        "colab": {
          "base_uri": "https://localhost:8080/"
        },
        "id": "ADTB84tGifMt",
        "outputId": "2f1000f5-ebf1-4f12-bb47-a29ebeb01548"
      },
      "outputs": [
        {
          "output_type": "stream",
          "name": "stdout",
          "text": [
            "ROC AUC 0.5846446011937059\n"
          ]
        }
      ],
      "source": [
        "X_train, X_test, y_train, y_test = train_test_split(\n",
        "    df_filtered.drop([\"srv\"], axis=1), df_filtered[\"srv\"], test_size=0.3,\n",
        ") # Split data onto train and test subsets\n",
        "\n",
        "model = KNeighborsClassifier(n_neighbors=3)\n",
        "model.fit(X_train, y_train)\n",
        "y_pred = model.predict_proba(X_test)[:, 1]\n",
        "score = roc_auc_score(y_test, y_pred)\n",
        "print('ROC AUC', score)"
      ]
    },
    {
      "cell_type": "markdown",
      "metadata": {
        "id": "p2jzN-vZjTER"
      },
      "source": [
        "We obtained some ROC AUC score for our classifier. However, if we rerun this cell a few times, we will get different results.\n",
        "Let's confirm that:"
      ]
    },
    {
      "cell_type": "code",
      "execution_count": null,
      "metadata": {
        "colab": {
          "base_uri": "https://localhost:8080/",
          "height": 527
        },
        "id": "YouC1Gj3jbNr",
        "outputId": "e9e7d72f-6795-405e-ddca-63ed9efaf600"
      },
      "outputs": [
        {
          "output_type": "display_data",
          "data": {
            "text/plain": [
              "<Figure size 1600x600 with 1 Axes>"
            ],
            "image/png": "[encoded data removed]"
          },
          "metadata": {}
        }
      ],
      "source": [
        "scores = []\n",
        "for i in range(250):\n",
        "    X_train, X_test, y_train, y_test = train_test_split(\n",
        "        df_filtered.drop([\"srv\"], axis=1), df_filtered[\"srv\"], test_size=0.3 )\n",
        "\n",
        "    model = KNeighborsClassifier(n_neighbors=3)\n",
        "    model.fit(X_train, y_train)\n",
        "    y_pred = model.predict_proba(X_test)[:, 1]\n",
        "    scores.append(roc_auc_score(y_test, y_pred))\n",
        "\n",
        "plt.figure()\n",
        "sns.boxplot(x=scores)\n",
        "plt.title('Distribution of ROC AUC scores')\n",
        "plt.xlabel('ROC AUC')\n",
        "plt.show()"
      ]
    },
    {
      "cell_type": "code",
      "execution_count": null,
      "metadata": {
        "colab": {
          "base_uri": "https://localhost:8080/",
          "height": 505
        },
        "id": "xGhCgFWbCh_U",
        "outputId": "4e64fee4-9630-4e16-854a-eae279597d90"
      },
      "outputs": [
        {
          "output_type": "display_data",
          "data": {
            "text/plain": [
              "<Figure size 1600x600 with 1 Axes>"
            ],
            "image/png": "[encoded data removed]"
          },
          "metadata": {}
        }
      ],
      "source": [
        "plt.figure()\n",
        "sns.histplot(scores, kde=True)\n",
        "plt.title('Distribution of ROC AUC scores')\n",
        "plt.xlabel('ROC AUC')\n",
        "plt.show()"
      ]
    },
    {
      "cell_type": "markdown",
      "metadata": {
        "id": "77JBHyLGkBA1"
      },
      "source": [
        "The scores can vary up to 0.1 in absolute value between different runs!"
      ]
    },
    {
      "cell_type": "markdown",
      "metadata": {
        "id": "rp0QZUr3j6mp"
      },
      "source": [
        "**Takeaway:**\n",
        "The performance of a model is heavily dependant on the train-test split.\n",
        "\n",
        "Therefore we can't use train-test splits to get reliable estimates of model performance. That also means that we can't use them to reliably find the best hyperparameters (like the $k$ parameter for KNN)."
      ]
    },
    {
      "cell_type": "markdown",
      "metadata": {
        "id": "Pi2NjK-rlLfH"
      },
      "source": [
        "We want to know how good our model is **overall**.  We would like a method that does not depend on one exact data split. It should be realiable and reasonably fast. Such a method exists and it's called Cross-Validation.\n",
        "\n"
      ]
    },
    {
      "cell_type": "markdown",
      "metadata": {
        "id": "zJ3hOoO-c5zk"
      },
      "source": [
        "# Cross-Validation"
      ]
    },
    {
      "cell_type": "markdown",
      "metadata": {
        "id": "H7sk5q7ch99P"
      },
      "source": [
        "The idea behind Cross-Validation:\n",
        "1. Perform multiple splits.\n",
        "2. For each split, fit a model to the training set, predict and compute a score (e.g. accuracy) on the validation set.\n",
        "3. Average the results, obtain confidence intervals.\n",
        "\n",
        "There are many ways to perform the first step. In general, you want each observation to appear in at least one validation set.\n",
        "\n",
        "For maximum reliability, you could make as many splits as you have observations ($N$). But this is very slow, because you have to fit $N$ models. So instead you might want to make a few non-overlapping splits with $k < N$ observations in each, so that you can fit fewer models and achieve similar results. We will try these and other methods below.\n",
        "\n",
        "Cross-validation can be used for:\n",
        "* Obtaining a reliable estimate of test set error.\n",
        "* Comparing models in terms of performance.\n",
        "* Finding the best values for hyperparameters."
      ]
    },
    {
      "cell_type": "markdown",
      "metadata": {
        "id": "axplQfZpej6A"
      },
      "source": [
        "Source of plotting helpers: [sklearn docs](https://scikit-learn.org/stable/auto_examples/model_selection/plot_cv_indices.html)"
      ]
    },
    {
      "cell_type": "markdown",
      "metadata": {
        "id": "vLFGS5X7sDVG"
      },
      "source": [
        "### Some plotting helpers"
      ]
    },
    {
      "cell_type": "code",
      "execution_count": null,
      "metadata": {
        "id": "6P_wezSuoxl2"
      },
      "outputs": [],
      "source": [
        "np.random.seed(0)\n",
        "cmap_data = plt.cm.Paired\n",
        "cmap_cv = plt.cm.coolwarm\n",
        "n_splits = 4\n",
        "\n",
        "def draw_bars(bars, y=0.5, vmin=-.2, vmax=1.2, label=None):\n",
        "    ax = plt.gca()\n",
        "    ax.scatter(range(len(bars)),  [y] * len(bars), c=bars, marker='_',\n",
        "               lw=50, label=label, cmap=cmap_cv, vmin=vmin, vmax=vmax)"
      ]
    },
    {
      "cell_type": "markdown",
      "metadata": {
        "id": "nfksdOTfpNP6"
      },
      "source": [
        "## Train-test split visualized\n",
        "\n",
        "First of all, let's take a look at our train-test split."
      ]
    },
    {
      "cell_type": "code",
      "execution_count": null,
      "metadata": {
        "colab": {
          "base_uri": "https://localhost:8080/",
          "height": 399
        },
        "id": "fY0XR6L0ozAe",
        "outputId": "a3b74217-0749-4264-fa1b-de3c10e44504"
      },
      "outputs": [
        {
          "output_type": "display_data",
          "data": {
            "text/plain": [
              "<Figure size 1600x600 with 1 Axes>"
            ],
            "image/png": "[encoded data removed]"
          },
          "metadata": {}
        }
      ],
      "source": [
        "train_idx, test_idx = train_test_split(df_filtered.index, test_size=0.3, shuffle=False)\n",
        "idx_labels = np.array([(idx in train_idx) for idx in df_filtered.index])\n",
        "\n",
        "train_idx, test_idx = train_test_split(df_filtered.index, test_size=0.3)\n",
        "idx_labels_shuffled = np.array([(idx in train_idx) for idx in df_filtered.index])\n",
        "\n",
        "plt.figure()\n",
        "draw_bars(idx_labels, y=0.5)\n",
        "draw_bars(idx_labels_shuffled, y=1.5)\n",
        "plt.xlabel('Observation index')\n",
        "plt.yticks([0.5, 1.5], ['Train-test split without shuffling', 'Train-test split shuffled'])\n",
        "plt.legend([Patch(color=cmap_cv(.8)), Patch(color=cmap_cv(.02))],\n",
        "              ['Training set', 'Testing set'], loc=(1.02, .8))\n",
        "\n",
        "plt.ylim([0, 2])\n",
        "plt.title('How train-test split distributes observations')\n",
        "plt.show()"
      ]
    },
    {
      "cell_type": "markdown",
      "metadata": {
        "id": "b1IWVuL7tW0m"
      },
      "source": [
        "## K-Fold Cross-Validation"
      ]
    },
    {
      "cell_type": "markdown",
      "metadata": {
        "id": "uUGwKGdYte4N"
      },
      "source": [
        "Idea: split dataset into $K$ **non-overlapping** groups. Each of the $K$ groups is used as a validation set once, while the other $K-1$ groups are used as the training set.\n",
        "\n",
        "No shuffling is done by default, but usually it's good to do it as well."
      ]
    },
    {
      "cell_type": "code",
      "execution_count": null,
      "metadata": {
        "id": "elGazkwSyDAR"
      },
      "outputs": [],
      "source": [
        "def plot_cv_splits(cv, index, title, y=None, groups=None):\n",
        "    plt.figure()\n",
        "\n",
        "    y_ticks_pos = []\n",
        "    y_ticks = []\n",
        "    for i, (train_idx, test_idx) in enumerate(cv.split(index, y=y, groups=groups)):\n",
        "        idx_labels = np.array([(idx in train_idx) for idx in index])\n",
        "        draw_bars(idx_labels, y=0.5+i)\n",
        "        y_ticks_pos.append(0.5+i)\n",
        "        y_ticks.append(f'Fold {i}')\n",
        "\n",
        "    if y is not None:\n",
        "        i += 1\n",
        "        draw_bars(y, y=0.5+i, vmin=0.5, vmax=0.8)\n",
        "        y_ticks_pos.append(0.5+i)\n",
        "        y_ticks.append(f'Class')\n",
        "\n",
        "    plt.xlabel('Observation index')\n",
        "    plt.yticks(y_ticks_pos, y_ticks)\n",
        "    plt.legend([Patch(color=cmap_cv(.8)), Patch(color=cmap_cv(.02))],\n",
        "                ['Training set', 'Testing set'], loc=(1.02, .8))\n",
        "\n",
        "    plt.ylim([0, i+1])\n",
        "    plt.title(title)\n",
        "    plt.show()"
      ]
    },
    {
      "cell_type": "code",
      "execution_count": null,
      "metadata": {
        "colab": {
          "base_uri": "https://localhost:8080/",
          "height": 449
        },
        "id": "m4cgSKeHq-Os",
        "outputId": "a1d6c0d6-6fdf-4f45-b62c-a95cc06b3819"
      },
      "outputs": [
        {
          "output_type": "display_data",
          "data": {
            "text/plain": [
              "<Figure size 1600x600 with 1 Axes>"
            ],
            "image/png": "[encoded data removed]"
          },
          "metadata": {}
        }
      ],
      "source": [
        "cv = KFold(n_splits, shuffle=False)\n",
        "plot_cv_splits(cv, df_filtered.index, 'How K-Fold distributes observations')"
      ]
    },
    {
      "cell_type": "markdown",
      "metadata": {
        "id": "cEkZTCtkuejO"
      },
      "source": [
        "**Exercise:** implement your own K-Fold cross-validation\n",
        "\n"
      ]
    },
    {
      "cell_type": "code",
      "execution_count": null,
      "metadata": {
        "id": "FoFJQ1EMrGS5"
      },
      "outputs": [],
      "source": [
        "def simple_generator(n):\n",
        "    for i in range(n):\n",
        "        yield i"
      ]
    },
    {
      "cell_type": "code",
      "execution_count": null,
      "metadata": {
        "id": "ZzdN63fqrYG3"
      },
      "outputs": [],
      "source": [
        "a = simple_generator(10)"
      ]
    },
    {
      "cell_type": "code",
      "source": [
        "type(a)"
      ],
      "metadata": {
        "colab": {
          "base_uri": "https://localhost:8080/"
        },
        "id": "Ab1902VAWx7q",
        "outputId": "ab870d6b-dcae-4c32-c010-631be4af6b74"
      },
      "execution_count": null,
      "outputs": [
        {
          "output_type": "execute_result",
          "data": {
            "text/plain": [
              "generator"
            ]
          },
          "metadata": {},
          "execution_count": 25
        }
      ]
    },
    {
      "cell_type": "code",
      "source": [
        "next(a)"
      ],
      "metadata": {
        "colab": {
          "base_uri": "https://localhost:8080/",
          "height": 141
        },
        "id": "k3FLksO8XJOZ",
        "outputId": "9f28249d-d1ce-465c-c6b3-0a43fa511ecf"
      },
      "execution_count": null,
      "outputs": [
        {
          "output_type": "error",
          "ename": "StopIteration",
          "evalue": "",
          "traceback": [
            "\u001b[0;31m---------------------------------------------------------------------------\u001b[0m",
            "\u001b[0;31mStopIteration\u001b[0m                             Traceback (most recent call last)",
            "\u001b[0;32m<ipython-input-40-15841f3f11d4>\u001b[0m in \u001b[0;36m<cell line: 1>\u001b[0;34m()\u001b[0m\n\u001b[0;32m----> 1\u001b[0;31m \u001b[0mnext\u001b[0m\u001b[0;34m(\u001b[0m\u001b[0ma\u001b[0m\u001b[0;34m)\u001b[0m\u001b[0;34m\u001b[0m\u001b[0;34m\u001b[0m\u001b[0m\n\u001b[0m",
            "\u001b[0;31mStopIteration\u001b[0m: "
          ]
        }
      ]
    },
    {
      "cell_type": "code",
      "execution_count": null,
      "metadata": {
        "id": "02ooDd-nrb7x",
        "colab": {
          "base_uri": "https://localhost:8080/"
        },
        "outputId": "8f47e56b-768c-432f-c6fe-6ba76939d5d4"
      },
      "outputs": [
        {
          "output_type": "stream",
          "name": "stdout",
          "text": [
            "0\n",
            "1\n",
            "2\n",
            "3\n",
            "4\n",
            "5\n",
            "6\n",
            "7\n",
            "8\n",
            "9\n"
          ]
        }
      ],
      "source": [
        "for i in a:\n",
        "    print(i)"
      ]
    },
    {
      "cell_type": "code",
      "execution_count": null,
      "metadata": {
        "colab": {
          "base_uri": "https://localhost:8080/"
        },
        "id": "E2KCvbessQsN",
        "outputId": "9451833e-4b3d-4b2b-87fd-dcbf852f25d0"
      },
      "outputs": [
        {
          "output_type": "execute_result",
          "data": {
            "text/plain": [
              "array([0, 1, 2, 3, 4, 5, 6, 7, 8, 9])"
            ]
          },
          "metadata": {},
          "execution_count": 17
        }
      ],
      "source": [
        "syn = np.array(range(10))\n",
        "syn"
      ]
    },
    {
      "cell_type": "code",
      "execution_count": null,
      "metadata": {
        "id": "FtpnbnpwsVGI"
      },
      "outputs": [],
      "source": [
        "np.random.shuffle?"
      ]
    },
    {
      "cell_type": "code",
      "execution_count": null,
      "metadata": {
        "colab": {
          "base_uri": "https://localhost:8080/"
        },
        "id": "1YPQQ6qYPnSr",
        "outputId": "df0065d7-d557-4eb9-814b-fe9c8e907d6a"
      },
      "outputs": [
        {
          "output_type": "execute_result",
          "data": {
            "text/plain": [
              "array([[0, 1, 2],\n",
              "       [3, 4, 5],\n",
              "       [6, 7, 8]])"
            ]
          },
          "metadata": {},
          "execution_count": 19
        }
      ],
      "source": [
        "arr = np.arange(9).reshape((3, 3))\n",
        "arr"
      ]
    },
    {
      "cell_type": "code",
      "execution_count": null,
      "metadata": {
        "colab": {
          "base_uri": "https://localhost:8080/"
        },
        "id": "ZaRSBY1lPnSr",
        "outputId": "d2c63726-2b2c-47b7-d89e-36d680185848"
      },
      "outputs": [
        {
          "output_type": "execute_result",
          "data": {
            "text/plain": [
              "array([[3, 4, 5],\n",
              "       [0, 1, 2],\n",
              "       [6, 7, 8]])"
            ]
          },
          "metadata": {},
          "execution_count": 42
        }
      ],
      "source": [
        "np.random.shuffle(arr)\n",
        "arr"
      ]
    },
    {
      "cell_type": "markdown",
      "metadata": {
        "id": "mFDjyKUbwik7"
      },
      "source": [
        "### Solution:"
      ]
    },
    {
      "cell_type": "code",
      "execution_count": null,
      "metadata": {
        "colab": {
          "base_uri": "https://localhost:8080/",
          "height": 449
        },
        "id": "DFzoINKguj1-",
        "outputId": "d36b750f-1978-400b-fec6-cd7e94140908"
      },
      "outputs": [
        {
          "output_type": "display_data",
          "data": {
            "text/plain": [
              "<Figure size 1600x600 with 1 Axes>"
            ],
            "image/png": "[encoded data removed]"
          },
          "metadata": {}
        }
      ],
      "source": [
        "class MyKFold:\n",
        "    def __init__(self, n_splits, shuffle=False):\n",
        "        self.n_splits = n_splits\n",
        "        self.shuffle = shuffle\n",
        "\n",
        "    def split(self, x, *args, **kwargs):\n",
        "        if self.shuffle:\n",
        "            x = np.array(x)\n",
        "            np.random.shuffle(x)\n",
        "\n",
        "        length = len(x)\n",
        "        cnt_in_split = length // self.n_splits\n",
        "        for i in range(self.n_splits):\n",
        "            start_index = i*cnt_in_split\n",
        "            end_index = (i+1)*cnt_in_split\n",
        "            if (i+2)*cnt_in_split > length:\n",
        "                end_index = length\n",
        "            val = x[start_index:end_index]\n",
        "            train_start = x[:start_index]\n",
        "            train_end = x[end_index:]\n",
        "            train = np.concatenate([train_start, train_end])\n",
        "\n",
        "            yield train, val\n",
        "\n",
        "my_cv = MyKFold(n_splits, False)\n",
        "plot_cv_splits(my_cv, df_filtered.index, 'How my K-Fold distributes observations')"
      ]
    },
    {
      "cell_type": "markdown",
      "metadata": {
        "id": "GRDJPTd2c9LU"
      },
      "source": [
        "## Stratified K-Fold"
      ]
    },
    {
      "cell_type": "markdown",
      "metadata": {
        "id": "4HLq_GLjw6fx"
      },
      "source": [
        "K-Fold is great, but let's take a look at how it handles the classes of Titanic. I sort the target so that the plot is more illustrative."
      ]
    },
    {
      "cell_type": "code",
      "execution_count": null,
      "metadata": {
        "colab": {
          "base_uri": "https://localhost:8080/",
          "height": 449
        },
        "id": "8jX3aO5nc-qu",
        "outputId": "8d8bb764-b9d8-4e57-ed75-e478390e1582"
      },
      "outputs": [
        {
          "output_type": "display_data",
          "data": {
            "text/plain": [
              "<Figure size 1600x600 with 1 Axes>"
            ],
            "image/png": "[encoded data removed]"
          },
          "metadata": {}
        }
      ],
      "source": [
        "plot_cv_splits(cv, df_filtered.index, 'How K-Fold handles an imbalanced dataset', y=sorted(df_filtered['srv']))"
      ]
    },
    {
      "cell_type": "markdown",
      "metadata": {
        "id": "xyITd8qoyMRG"
      },
      "source": [
        "This is not good: folds are going to have a different distribution of classes in them. We want to preserve the class distribution, so that our models can learn something actually useful."
      ]
    },
    {
      "cell_type": "markdown",
      "metadata": {
        "id": "epKp4Q7-ywxN"
      },
      "source": [
        "**Stratified K-fold** makes sure that the original class distribution is preserved in each fold."
      ]
    },
    {
      "cell_type": "code",
      "execution_count": null,
      "metadata": {
        "colab": {
          "base_uri": "https://localhost:8080/",
          "height": 449
        },
        "id": "5nsX2_q_yl95",
        "outputId": "8d5f50a7-c05d-49f4-ff98-54bf4bdcca74",
        "scrolled": false
      },
      "outputs": [
        {
          "output_type": "display_data",
          "data": {
            "text/plain": [
              "<Figure size 1600x600 with 1 Axes>"
            ],
            "image/png": "[encoded data removed]"
          },
          "metadata": {}
        }
      ],
      "source": [
        "cv = StratifiedKFold(n_splits, shuffle=False)\n",
        "plot_cv_splits(cv, df_filtered.index, 'How Startified K-Fold handles an imbalanced dataset', y=sorted(df_filtered['srv']))"
      ]
    },
    {
      "cell_type": "markdown",
      "metadata": {
        "id": "Qtmbpz7hy8dZ"
      },
      "source": [
        "## Other notable CV methods available in sklearn\n",
        "\n",
        "* [GroupKFold](https://scikit-learn.org/stable/modules/generated/sklearn.model_selection.GroupKFold.html#sklearn.model_selection.GroupKFold) - same as K-Fold, except but you can define groups of observations. Observations of some group will always appear in either training or validation set, but never in different sets.\n",
        "\n",
        "* [TimeSeriesSplit](https://scikit-learn.org/stable/modules/generated/sklearn.model_selection.TimeSeriesSplit.html#sklearn.model_selection.TimeSeriesSplit) - the training sets are always in the past and the validation sets are always in the future, so that you are never training on the future to predict the past.\n",
        "\n",
        "More [here](https://scikit-learn.org/stable/modules/cross_validation.html#cross-validation)."
      ]
    },
    {
      "cell_type": "markdown",
      "metadata": {
        "id": "FsBKzYtihQwx"
      },
      "source": [
        "## Optimizing hyperparameters with CV"
      ]
    },
    {
      "cell_type": "markdown",
      "metadata": {
        "id": "WbdCZ1y00c31"
      },
      "source": [
        "Remember how we were looking for the best $k$ value in the previous seminars? Previously we were simply trying some $k$ values on the same train-test split and seeing what worked best. It wasn't very reliable: perhaps the selected $k$ is only good for this exact split.\n",
        "\n",
        "\n",
        "Now that we know about CV, let's do the following:\n",
        "* Choose some $k$ value.\n",
        "* For this value, run cross-validation and compute the mean ROC AUC.\n",
        "* Pick the best $k$ value based on the best obtained ROC AUC."
      ]
    },
    {
      "cell_type": "code",
      "execution_count": null,
      "metadata": {
        "id": "8L6_ht3a1uLz"
      },
      "outputs": [],
      "source": [
        "X_train, X_test, y_train, y_test = train_test_split(\n",
        "    df_filtered.drop([\"srv\"], axis=1), df_filtered[\"srv\"], test_size=0.3, random_state=0,\n",
        ")"
      ]
    },
    {
      "cell_type": "code",
      "execution_count": null,
      "metadata": {
        "id": "pUorh3DzhQVE"
      },
      "outputs": [],
      "source": [
        "cv = StratifiedKFold(n_splits=5)\n",
        "\n",
        "# n_jobs=-1 -> uses all available CPU cores to speed up computation\n",
        "pipe = Pipeline([\n",
        "    ('scale', StandardScaler()),\n",
        "    ('clf', KNeighborsClassifier(n_jobs=-1,))\n",
        "    ])\n",
        "\n",
        "# clf__weights -> Contribution of each neighbors...\n",
        "# ...(uniform -> equaly, distance -> closer more contribution)\n",
        "# verbose -> controls the output informations\n",
        "params = {'clf__n_neighbors': range(1, 11), 'clf__weights':['uniform', 'distance']}\n",
        "search = GridSearchCV(pipe, cv=cv, param_grid=params, n_jobs=-1, verbose=10, scoring='roc_auc')"
      ]
    },
    {
      "cell_type": "code",
      "execution_count": null,
      "metadata": {
        "colab": {
          "base_uri": "https://localhost:8080/",
          "height": 193
        },
        "id": "UU23aTaR1ixm",
        "outputId": "dce20e69-a77c-4464-a757-14aca7ff388c"
      },
      "outputs": [
        {
          "output_type": "stream",
          "name": "stdout",
          "text": [
            "Fitting 5 folds for each of 20 candidates, totalling 100 fits\n"
          ]
        },
        {
          "output_type": "execute_result",
          "data": {
            "text/plain": [
              "GridSearchCV(cv=StratifiedKFold(n_splits=5, random_state=None, shuffle=False),\n",
              "             estimator=Pipeline(steps=[('scale', StandardScaler()),\n",
              "                                       ('clf',\n",
              "                                        KNeighborsClassifier(n_jobs=-1))]),\n",
              "             n_jobs=-1,\n",
              "             param_grid={'clf__n_neighbors': range(1, 11),\n",
              "                         'clf__weights': ['uniform', 'distance']},\n",
              "             scoring='roc_auc', verbose=10)"
            ],
            "text/html": [
              "<style>#sk-container-id-1 {\n",
              "  /* Definition of color scheme common for light and dark mode */\n",
              "  --sklearn-color-text: black;\n",
              "  --sklearn-color-line: gray;\n",
              "  /* Definition of color scheme for unfitted estimators */\n",
              "  --sklearn-color-unfitted-level-0: #fff5e6;\n",
              "  --sklearn-color-unfitted-level-1: #f6e4d2;\n",
              "  --sklearn-color-unfitted-level-2: #ffe0b3;\n",
              "  --sklearn-color-unfitted-level-3: chocolate;\n",
              "  /* Definition of color scheme for fitted estimators */\n",
              "  --sklearn-color-fitted-level-0: #f0f8ff;\n",
              "  --sklearn-color-fitted-level-1: #d4ebff;\n",
              "  --sklearn-color-fitted-level-2: #b3dbfd;\n",
              "  --sklearn-color-fitted-level-3: cornflowerblue;\n",
              "\n",
              "  /* Specific color for light theme */\n",
              "  --sklearn-color-text-on-default-background: var(--sg-text-color, var(--theme-code-foreground, var(--jp-content-font-color1, black)));\n",
              "  --sklearn-color-background: var(--sg-background-color, var(--theme-background, var(--jp-layout-color0, white)));\n",
              "  --sklearn-color-border-box: var(--sg-text-color, var(--theme-code-foreground, var(--jp-content-font-color1, black)));\n",
              "  --sklearn-color-icon: #696969;\n",
              "\n",
              "  @media (prefers-color-scheme: dark) {\n",
              "    /* Redefinition of color scheme for dark theme */\n",
              "    --sklearn-color-text-on-default-background: var(--sg-text-color, var(--theme-code-foreground, var(--jp-content-font-color1, white)));\n",
              "    --sklearn-color-background: var(--sg-background-color, var(--theme-background, var(--jp-layout-color0, #111)));\n",
              "    --sklearn-color-border-box: var(--sg-text-color, var(--theme-code-foreground, var(--jp-content-font-color1, white)));\n",
              "    --sklearn-color-icon: #878787;\n",
              "  }\n",
              "}\n",
              "\n",
              "#sk-container-id-1 {\n",
              "  color: var(--sklearn-color-text);\n",
              "}\n",
              "\n",
              "#sk-container-id-1 pre {\n",
              "  padding: 0;\n",
              "}\n",
              "\n",
              "#sk-container-id-1 input.sk-hidden--visually {\n",
              "  border: 0;\n",
              "  clip: rect(1px 1px 1px 1px);\n",
              "  clip: rect(1px, 1px, 1px, 1px);\n",
              "  height: 1px;\n",
              "  margin: -1px;\n",
              "  overflow: hidden;\n",
              "  padding: 0;\n",
              "  position: absolute;\n",
              "  width: 1px;\n",
              "}\n",
              "\n",
              "#sk-container-id-1 div.sk-dashed-wrapped {\n",
              "  border: 1px dashed var(--sklearn-color-line);\n",
              "  margin: 0 0.4em 0.5em 0.4em;\n",
              "  box-sizing: border-box;\n",
              "  padding-bottom: 0.4em;\n",
              "  background-color: var(--sklearn-color-background);\n",
              "}\n",
              "\n",
              "#sk-container-id-1 div.sk-container {\n",
              "  /* jupyter's `normalize.less` sets `[hidden] { display: none; }`\n",
              "     but bootstrap.min.css set `[hidden] { display: none !important; }`\n",
              "     so we also need the `!important` here to be able to override the\n",
              "     default hidden behavior on the sphinx rendered scikit-learn.org.\n",
              "     See: https://github.com/scikit-learn/scikit-learn/issues/21755 */\n",
              "  display: inline-block !important;\n",
              "  position: relative;\n",
              "}\n",
              "\n",
              "#sk-container-id-1 div.sk-text-repr-fallback {\n",
              "  display: none;\n",
              "}\n",
              "\n",
              "div.sk-parallel-item,\n",
              "div.sk-serial,\n",
              "div.sk-item {\n",
              "  /* draw centered vertical line to link estimators */\n",
              "  background-image: linear-gradient(var(--sklearn-color-text-on-default-background), var(--sklearn-color-text-on-default-background));\n",
              "  background-size: 2px 100%;\n",
              "  background-repeat: no-repeat;\n",
              "  background-position: center center;\n",
              "}\n",
              "\n",
              "/* Parallel-specific style estimator block */\n",
              "\n",
              "#sk-container-id-1 div.sk-parallel-item::after {\n",
              "  content: \"\";\n",
              "  width: 100%;\n",
              "  border-bottom: 2px solid var(--sklearn-color-text-on-default-background);\n",
              "  flex-grow: 1;\n",
              "}\n",
              "\n",
              "#sk-container-id-1 div.sk-parallel {\n",
              "  display: flex;\n",
              "  align-items: stretch;\n",
              "  justify-content: center;\n",
              "  background-color: var(--sklearn-color-background);\n",
              "  position: relative;\n",
              "}\n",
              "\n",
              "#sk-container-id-1 div.sk-parallel-item {\n",
              "  display: flex;\n",
              "  flex-direction: column;\n",
              "}\n",
              "\n",
              "#sk-container-id-1 div.sk-parallel-item:first-child::after {\n",
              "  align-self: flex-end;\n",
              "  width: 50%;\n",
              "}\n",
              "\n",
              "#sk-container-id-1 div.sk-parallel-item:last-child::after {\n",
              "  align-self: flex-start;\n",
              "  width: 50%;\n",
              "}\n",
              "\n",
              "#sk-container-id-1 div.sk-parallel-item:only-child::after {\n",
              "  width: 0;\n",
              "}\n",
              "\n",
              "/* Serial-specific style estimator block */\n",
              "\n",
              "#sk-container-id-1 div.sk-serial {\n",
              "  display: flex;\n",
              "  flex-direction: column;\n",
              "  align-items: center;\n",
              "  background-color: var(--sklearn-color-background);\n",
              "  padding-right: 1em;\n",
              "  padding-left: 1em;\n",
              "}\n",
              "\n",
              "\n",
              "/* Toggleable style: style used for estimator/Pipeline/ColumnTransformer box that is\n",
              "clickable and can be expanded/collapsed.\n",
              "- Pipeline and ColumnTransformer use this feature and define the default style\n",
              "- Estimators will overwrite some part of the style using the `sk-estimator` class\n",
              "*/\n",
              "\n",
              "/* Pipeline and ColumnTransformer style (default) */\n",
              "\n",
              "#sk-container-id-1 div.sk-toggleable {\n",
              "  /* Default theme specific background. It is overwritten whether we have a\n",
              "  specific estimator or a Pipeline/ColumnTransformer */\n",
              "  background-color: var(--sklearn-color-background);\n",
              "}\n",
              "\n",
              "/* Toggleable label */\n",
              "#sk-container-id-1 label.sk-toggleable__label {\n",
              "  cursor: pointer;\n",
              "  display: block;\n",
              "  width: 100%;\n",
              "  margin-bottom: 0;\n",
              "  padding: 0.5em;\n",
              "  box-sizing: border-box;\n",
              "  text-align: center;\n",
              "}\n",
              "\n",
              "#sk-container-id-1 label.sk-toggleable__label-arrow:before {\n",
              "  /* Arrow on the left of the label */\n",
              "  content: \"▸\";\n",
              "  float: left;\n",
              "  margin-right: 0.25em;\n",
              "  color: var(--sklearn-color-icon);\n",
              "}\n",
              "\n",
              "#sk-container-id-1 label.sk-toggleable__label-arrow:hover:before {\n",
              "  color: var(--sklearn-color-text);\n",
              "}\n",
              "\n",
              "/* Toggleable content - dropdown */\n",
              "\n",
              "#sk-container-id-1 div.sk-toggleable__content {\n",
              "  max-height: 0;\n",
              "  max-width: 0;\n",
              "  overflow: hidden;\n",
              "  text-align: left;\n",
              "  /* unfitted */\n",
              "  background-color: var(--sklearn-color-unfitted-level-0);\n",
              "}\n",
              "\n",
              "#sk-container-id-1 div.sk-toggleable__content.fitted {\n",
              "  /* fitted */\n",
              "  background-color: var(--sklearn-color-fitted-level-0);\n",
              "}\n",
              "\n",
              "#sk-container-id-1 div.sk-toggleable__content pre {\n",
              "  margin: 0.2em;\n",
              "  border-radius: 0.25em;\n",
              "  color: var(--sklearn-color-text);\n",
              "  /* unfitted */\n",
              "  background-color: var(--sklearn-color-unfitted-level-0);\n",
              "}\n",
              "\n",
              "#sk-container-id-1 div.sk-toggleable__content.fitted pre {\n",
              "  /* unfitted */\n",
              "  background-color: var(--sklearn-color-fitted-level-0);\n",
              "}\n",
              "\n",
              "#sk-container-id-1 input.sk-toggleable__control:checked~div.sk-toggleable__content {\n",
              "  /* Expand drop-down */\n",
              "  max-height: 200px;\n",
              "  max-width: 100%;\n",
              "  overflow: auto;\n",
              "}\n",
              "\n",
              "#sk-container-id-1 input.sk-toggleable__control:checked~label.sk-toggleable__label-arrow:before {\n",
              "  content: \"▾\";\n",
              "}\n",
              "\n",
              "/* Pipeline/ColumnTransformer-specific style */\n",
              "\n",
              "#sk-container-id-1 div.sk-label input.sk-toggleable__control:checked~label.sk-toggleable__label {\n",
              "  color: var(--sklearn-color-text);\n",
              "  background-color: var(--sklearn-color-unfitted-level-2);\n",
              "}\n",
              "\n",
              "#sk-container-id-1 div.sk-label.fitted input.sk-toggleable__control:checked~label.sk-toggleable__label {\n",
              "  background-color: var(--sklearn-color-fitted-level-2);\n",
              "}\n",
              "\n",
              "/* Estimator-specific style */\n",
              "\n",
              "/* Colorize estimator box */\n",
              "#sk-container-id-1 div.sk-estimator input.sk-toggleable__control:checked~label.sk-toggleable__label {\n",
              "  /* unfitted */\n",
              "  background-color: var(--sklearn-color-unfitted-level-2);\n",
              "}\n",
              "\n",
              "#sk-container-id-1 div.sk-estimator.fitted input.sk-toggleable__control:checked~label.sk-toggleable__label {\n",
              "  /* fitted */\n",
              "  background-color: var(--sklearn-color-fitted-level-2);\n",
              "}\n",
              "\n",
              "#sk-container-id-1 div.sk-label label.sk-toggleable__label,\n",
              "#sk-container-id-1 div.sk-label label {\n",
              "  /* The background is the default theme color */\n",
              "  color: var(--sklearn-color-text-on-default-background);\n",
              "}\n",
              "\n",
              "/* On hover, darken the color of the background */\n",
              "#sk-container-id-1 div.sk-label:hover label.sk-toggleable__label {\n",
              "  color: var(--sklearn-color-text);\n",
              "  background-color: var(--sklearn-color-unfitted-level-2);\n",
              "}\n",
              "\n",
              "/* Label box, darken color on hover, fitted */\n",
              "#sk-container-id-1 div.sk-label.fitted:hover label.sk-toggleable__label.fitted {\n",
              "  color: var(--sklearn-color-text);\n",
              "  background-color: var(--sklearn-color-fitted-level-2);\n",
              "}\n",
              "\n",
              "/* Estimator label */\n",
              "\n",
              "#sk-container-id-1 div.sk-label label {\n",
              "  font-family: monospace;\n",
              "  font-weight: bold;\n",
              "  display: inline-block;\n",
              "  line-height: 1.2em;\n",
              "}\n",
              "\n",
              "#sk-container-id-1 div.sk-label-container {\n",
              "  text-align: center;\n",
              "}\n",
              "\n",
              "/* Estimator-specific */\n",
              "#sk-container-id-1 div.sk-estimator {\n",
              "  font-family: monospace;\n",
              "  border: 1px dotted var(--sklearn-color-border-box);\n",
              "  border-radius: 0.25em;\n",
              "  box-sizing: border-box;\n",
              "  margin-bottom: 0.5em;\n",
              "  /* unfitted */\n",
              "  background-color: var(--sklearn-color-unfitted-level-0);\n",
              "}\n",
              "\n",
              "#sk-container-id-1 div.sk-estimator.fitted {\n",
              "  /* fitted */\n",
              "  background-color: var(--sklearn-color-fitted-level-0);\n",
              "}\n",
              "\n",
              "/* on hover */\n",
              "#sk-container-id-1 div.sk-estimator:hover {\n",
              "  /* unfitted */\n",
              "  background-color: var(--sklearn-color-unfitted-level-2);\n",
              "}\n",
              "\n",
              "#sk-container-id-1 div.sk-estimator.fitted:hover {\n",
              "  /* fitted */\n",
              "  background-color: var(--sklearn-color-fitted-level-2);\n",
              "}\n",
              "\n",
              "/* Specification for estimator info (e.g. \"i\" and \"?\") */\n",
              "\n",
              "/* Common style for \"i\" and \"?\" */\n",
              "\n",
              ".sk-estimator-doc-link,\n",
              "a:link.sk-estimator-doc-link,\n",
              "a:visited.sk-estimator-doc-link {\n",
              "  float: right;\n",
              "  font-size: smaller;\n",
              "  line-height: 1em;\n",
              "  font-family: monospace;\n",
              "  background-color: var(--sklearn-color-background);\n",
              "  border-radius: 1em;\n",
              "  height: 1em;\n",
              "  width: 1em;\n",
              "  text-decoration: none !important;\n",
              "  margin-left: 1ex;\n",
              "  /* unfitted */\n",
              "  border: var(--sklearn-color-unfitted-level-1) 1pt solid;\n",
              "  color: var(--sklearn-color-unfitted-level-1);\n",
              "}\n",
              "\n",
              ".sk-estimator-doc-link.fitted,\n",
              "a:link.sk-estimator-doc-link.fitted,\n",
              "a:visited.sk-estimator-doc-link.fitted {\n",
              "  /* fitted */\n",
              "  border: var(--sklearn-color-fitted-level-1) 1pt solid;\n",
              "  color: var(--sklearn-color-fitted-level-1);\n",
              "}\n",
              "\n",
              "/* On hover */\n",
              "div.sk-estimator:hover .sk-estimator-doc-link:hover,\n",
              ".sk-estimator-doc-link:hover,\n",
              "div.sk-label-container:hover .sk-estimator-doc-link:hover,\n",
              ".sk-estimator-doc-link:hover {\n",
              "  /* unfitted */\n",
              "  background-color: var(--sklearn-color-unfitted-level-3);\n",
              "  color: var(--sklearn-color-background);\n",
              "  text-decoration: none;\n",
              "}\n",
              "\n",
              "div.sk-estimator.fitted:hover .sk-estimator-doc-link.fitted:hover,\n",
              ".sk-estimator-doc-link.fitted:hover,\n",
              "div.sk-label-container:hover .sk-estimator-doc-link.fitted:hover,\n",
              ".sk-estimator-doc-link.fitted:hover {\n",
              "  /* fitted */\n",
              "  background-color: var(--sklearn-color-fitted-level-3);\n",
              "  color: var(--sklearn-color-background);\n",
              "  text-decoration: none;\n",
              "}\n",
              "\n",
              "/* Span, style for the box shown on hovering the info icon */\n",
              ".sk-estimator-doc-link span {\n",
              "  display: none;\n",
              "  z-index: 9999;\n",
              "  position: relative;\n",
              "  font-weight: normal;\n",
              "  right: .2ex;\n",
              "  padding: .5ex;\n",
              "  margin: .5ex;\n",
              "  width: min-content;\n",
              "  min-width: 20ex;\n",
              "  max-width: 50ex;\n",
              "  color: var(--sklearn-color-text);\n",
              "  box-shadow: 2pt 2pt 4pt #999;\n",
              "  /* unfitted */\n",
              "  background: var(--sklearn-color-unfitted-level-0);\n",
              "  border: .5pt solid var(--sklearn-color-unfitted-level-3);\n",
              "}\n",
              "\n",
              ".sk-estimator-doc-link.fitted span {\n",
              "  /* fitted */\n",
              "  background: var(--sklearn-color-fitted-level-0);\n",
              "  border: var(--sklearn-color-fitted-level-3);\n",
              "}\n",
              "\n",
              ".sk-estimator-doc-link:hover span {\n",
              "  display: block;\n",
              "}\n",
              "\n",
              "/* \"?\"-specific style due to the `<a>` HTML tag */\n",
              "\n",
              "#sk-container-id-1 a.estimator_doc_link {\n",
              "  float: right;\n",
              "  font-size: 1rem;\n",
              "  line-height: 1em;\n",
              "  font-family: monospace;\n",
              "  background-color: var(--sklearn-color-background);\n",
              "  border-radius: 1rem;\n",
              "  height: 1rem;\n",
              "  width: 1rem;\n",
              "  text-decoration: none;\n",
              "  /* unfitted */\n",
              "  color: var(--sklearn-color-unfitted-level-1);\n",
              "  border: var(--sklearn-color-unfitted-level-1) 1pt solid;\n",
              "}\n",
              "\n",
              "#sk-container-id-1 a.estimator_doc_link.fitted {\n",
              "  /* fitted */\n",
              "  border: var(--sklearn-color-fitted-level-1) 1pt solid;\n",
              "  color: var(--sklearn-color-fitted-level-1);\n",
              "}\n",
              "\n",
              "/* On hover */\n",
              "#sk-container-id-1 a.estimator_doc_link:hover {\n",
              "  /* unfitted */\n",
              "  background-color: var(--sklearn-color-unfitted-level-3);\n",
              "  color: var(--sklearn-color-background);\n",
              "  text-decoration: none;\n",
              "}\n",
              "\n",
              "#sk-container-id-1 a.estimator_doc_link.fitted:hover {\n",
              "  /* fitted */\n",
              "  background-color: var(--sklearn-color-fitted-level-3);\n",
              "}\n",
              "</style><div id=\"sk-container-id-1\" class=\"sk-top-container\"><div class=\"sk-text-repr-fallback\"><pre>GridSearchCV(cv=StratifiedKFold(n_splits=5, random_state=None, shuffle=False),\n",
              "             estimator=Pipeline(steps=[(&#x27;scale&#x27;, StandardScaler()),\n",
              "                                       (&#x27;clf&#x27;,\n",
              "                                        KNeighborsClassifier(n_jobs=-1))]),\n",
              "             n_jobs=-1,\n",
              "             param_grid={&#x27;clf__n_neighbors&#x27;: range(1, 11),\n",
              "                         &#x27;clf__weights&#x27;: [&#x27;uniform&#x27;, &#x27;distance&#x27;]},\n",
              "             scoring=&#x27;roc_auc&#x27;, verbose=10)</pre><b>In a Jupyter environment, please rerun this cell to show the HTML representation or trust the notebook. <br />On GitHub, the HTML representation is unable to render, please try loading this page with nbviewer.org.</b></div><div class=\"sk-container\" hidden><div class=\"sk-item sk-dashed-wrapped\"><div class=\"sk-label-container\"><div class=\"sk-label fitted sk-toggleable\"><input class=\"sk-toggleable__control sk-hidden--visually\" id=\"sk-estimator-id-1\" type=\"checkbox\" ><label for=\"sk-estimator-id-1\" class=\"sk-toggleable__label fitted sk-toggleable__label-arrow fitted\">&nbsp;&nbsp;GridSearchCV<a class=\"sk-estimator-doc-link fitted\" rel=\"noreferrer\" target=\"_blank\" href=\"https://scikit-learn.org/1.5/modules/generated/sklearn.model_selection.GridSearchCV.html\">?<span>Documentation for GridSearchCV</span></a><span class=\"sk-estimator-doc-link fitted\">i<span>Fitted</span></span></label><div class=\"sk-toggleable__content fitted\"><pre>GridSearchCV(cv=StratifiedKFold(n_splits=5, random_state=None, shuffle=False),\n",
              "             estimator=Pipeline(steps=[(&#x27;scale&#x27;, StandardScaler()),\n",
              "                                       (&#x27;clf&#x27;,\n",
              "                                        KNeighborsClassifier(n_jobs=-1))]),\n",
              "             n_jobs=-1,\n",
              "             param_grid={&#x27;clf__n_neighbors&#x27;: range(1, 11),\n",
              "                         &#x27;clf__weights&#x27;: [&#x27;uniform&#x27;, &#x27;distance&#x27;]},\n",
              "             scoring=&#x27;roc_auc&#x27;, verbose=10)</pre></div> </div></div><div class=\"sk-parallel\"><div class=\"sk-parallel-item\"><div class=\"sk-item\"><div class=\"sk-label-container\"><div class=\"sk-label fitted sk-toggleable\"><input class=\"sk-toggleable__control sk-hidden--visually\" id=\"sk-estimator-id-2\" type=\"checkbox\" ><label for=\"sk-estimator-id-2\" class=\"sk-toggleable__label fitted sk-toggleable__label-arrow fitted\">best_estimator_: Pipeline</label><div class=\"sk-toggleable__content fitted\"><pre>Pipeline(steps=[(&#x27;scale&#x27;, StandardScaler()),\n",
              "                (&#x27;clf&#x27;,\n",
              "                 KNeighborsClassifier(n_jobs=-1, n_neighbors=10,\n",
              "                                      weights=&#x27;distance&#x27;))])</pre></div> </div></div><div class=\"sk-serial\"><div class=\"sk-item\"><div class=\"sk-serial\"><div class=\"sk-item\"><div class=\"sk-estimator fitted sk-toggleable\"><input class=\"sk-toggleable__control sk-hidden--visually\" id=\"sk-estimator-id-3\" type=\"checkbox\" ><label for=\"sk-estimator-id-3\" class=\"sk-toggleable__label fitted sk-toggleable__label-arrow fitted\">&nbsp;StandardScaler<a class=\"sk-estimator-doc-link fitted\" rel=\"noreferrer\" target=\"_blank\" href=\"https://scikit-learn.org/1.5/modules/generated/sklearn.preprocessing.StandardScaler.html\">?<span>Documentation for StandardScaler</span></a></label><div class=\"sk-toggleable__content fitted\"><pre>StandardScaler()</pre></div> </div></div><div class=\"sk-item\"><div class=\"sk-estimator fitted sk-toggleable\"><input class=\"sk-toggleable__control sk-hidden--visually\" id=\"sk-estimator-id-4\" type=\"checkbox\" ><label for=\"sk-estimator-id-4\" class=\"sk-toggleable__label fitted sk-toggleable__label-arrow fitted\">&nbsp;KNeighborsClassifier<a class=\"sk-estimator-doc-link fitted\" rel=\"noreferrer\" target=\"_blank\" href=\"https://scikit-learn.org/1.5/modules/generated/sklearn.neighbors.KNeighborsClassifier.html\">?<span>Documentation for KNeighborsClassifier</span></a></label><div class=\"sk-toggleable__content fitted\"><pre>KNeighborsClassifier(n_jobs=-1, n_neighbors=10, weights=&#x27;distance&#x27;)</pre></div> </div></div></div></div></div></div></div></div></div></div></div>"
            ]
          },
          "metadata": {},
          "execution_count": 48
        }
      ],
      "source": [
        "search.fit(X_train, y_train)"
      ]
    },
    {
      "cell_type": "code",
      "execution_count": null,
      "metadata": {
        "colab": {
          "base_uri": "https://localhost:8080/"
        },
        "id": "wFhFqPxo7IOf",
        "outputId": "cb3a520f-5525-4780-8e15-c69995e88e58"
      },
      "outputs": [
        {
          "output_type": "execute_result",
          "data": {
            "text/plain": [
              "(Pipeline(steps=[('scale', StandardScaler()),\n",
              "                 ('clf',\n",
              "                  KNeighborsClassifier(n_jobs=-1, n_neighbors=10,\n",
              "                                       weights='distance'))]),\n",
              " 0.8271259011977996)"
            ]
          },
          "metadata": {},
          "execution_count": 49
        }
      ],
      "source": [
        "search.best_estimator_, search.best_score_"
      ]
    },
    {
      "cell_type": "code",
      "execution_count": null,
      "metadata": {
        "colab": {
          "base_uri": "https://localhost:8080/",
          "height": 791
        },
        "id": "04bkmr0b1yf_",
        "outputId": "471fc84d-f92a-4e82-f50f-11949810d6e1"
      },
      "outputs": [
        {
          "output_type": "execute_result",
          "data": {
            "text/plain": [
              "    mean_fit_time  std_fit_time  mean_score_time  std_score_time  \\\n",
              "19  1.04e-02       2.87e-03      0.02             1.41e-03         \n",
              "16  8.53e-03       2.98e-03      0.02             1.01e-03         \n",
              "17  9.54e-03       4.33e-03      0.02             4.48e-03         \n",
              "15  8.60e-03       6.96e-04      0.02             6.95e-04         \n",
              "13  7.54e-03       1.47e-03      0.02             6.37e-03         \n",
              "..       ...            ...       ...                  ...         \n",
              "4   2.10e-02       7.45e-03      0.03             8.79e-03         \n",
              "3   1.89e-02       3.01e-03      0.03             2.67e-03         \n",
              "2   2.51e-02       7.32e-03      0.03             5.47e-03         \n",
              "1   1.77e-02       6.36e-03      0.03             4.29e-03         \n",
              "0   1.87e-02       4.27e-03      0.04             5.75e-03         \n",
              "\n",
              "    param_clf__n_neighbors param_clf__weights  \\\n",
              "19  10                      distance            \n",
              "16  9                       uniform             \n",
              "17  9                       distance            \n",
              "15  8                       distance            \n",
              "13  7                       distance            \n",
              ".. ..                            ...            \n",
              "4   3                       uniform             \n",
              "3   2                       distance            \n",
              "2   2                       uniform             \n",
              "1   1                       distance            \n",
              "0   1                       uniform             \n",
              "\n",
              "                                                  params  split0_test_score  \\\n",
              "19  {'clf__n_neighbors': 10, 'clf__weights': 'distance'}  0.83                \n",
              "16  {'clf__n_neighbors': 9, 'clf__weights': 'uniform'}    0.84                \n",
              "17  {'clf__n_neighbors': 9, 'clf__weights': 'distance'}   0.83                \n",
              "15  {'clf__n_neighbors': 8, 'clf__weights': 'distance'}   0.82                \n",
              "13  {'clf__n_neighbors': 7, 'clf__weights': 'distance'}   0.82                \n",
              "..                                                  ...    ...                \n",
              "4   {'clf__n_neighbors': 3, 'clf__weights': 'uniform'}    0.78                \n",
              "3   {'clf__n_neighbors': 2, 'clf__weights': 'distance'}   0.75                \n",
              "2   {'clf__n_neighbors': 2, 'clf__weights': 'uniform'}    0.75                \n",
              "1   {'clf__n_neighbors': 1, 'clf__weights': 'distance'}   0.70                \n",
              "0   {'clf__n_neighbors': 1, 'clf__weights': 'uniform'}    0.70                \n",
              "\n",
              "    split1_test_score  split2_test_score  split3_test_score  \\\n",
              "19  0.85               0.78               0.79                \n",
              "16  0.85               0.78               0.78                \n",
              "17  0.86               0.79               0.79                \n",
              "15  0.86               0.78               0.79                \n",
              "13  0.86               0.79               0.79                \n",
              "..   ...                ...                ...                \n",
              "4   0.82               0.74               0.74                \n",
              "3   0.77               0.77               0.74                \n",
              "2   0.77               0.76               0.73                \n",
              "1   0.76               0.71               0.69                \n",
              "0   0.76               0.71               0.69                \n",
              "\n",
              "    split4_test_score  mean_test_score  std_test_score  rank_test_score  \n",
              "19  0.88               0.83             0.04            1                \n",
              "16  0.88               0.83             0.04            2                \n",
              "17  0.88               0.83             0.04            3                \n",
              "15  0.87               0.83             0.04            4                \n",
              "13  0.88               0.83             0.04            5                \n",
              "..   ...                ...              ...           ..                \n",
              "4   0.83               0.78             0.04            16               \n",
              "3   0.82               0.77             0.03            17               \n",
              "2   0.81               0.76             0.03            18               \n",
              "1   0.75               0.72             0.03            19               \n",
              "0   0.75               0.72             0.03            19               \n",
              "\n",
              "[20 rows x 15 columns]"
            ],
            "text/html": [
              "\n",
              "  <div id=\"df-ed3f82b8-de98-4c11-bd11-dd561a4a7d54\" class=\"colab-df-container\">\n",
              "    <div>\n",
              "<style scoped>\n",
              "    .dataframe tbody tr th:only-of-type {\n",
              "        vertical-align: middle;\n",
              "    }\n",
              "\n",
              "    .dataframe tbody tr th {\n",
              "        vertical-align: top;\n",
              "    }\n",
              "\n",
              "    .dataframe thead th {\n",
              "        text-align: right;\n",
              "    }\n",
              "</style>\n",
              "<table border=\"1\" class=\"dataframe\">\n",
              "  <thead>\n",
              "    <tr style=\"text-align: right;\">\n",
              "      <th></th>\n",
              "      <th>mean_fit_time</th>\n",
              "      <th>std_fit_time</th>\n",
              "      <th>mean_score_time</th>\n",
              "      <th>std_score_time</th>\n",
              "      <th>param_clf__n_neighbors</th>\n",
              "      <th>param_clf__weights</th>\n",
              "      <th>params</th>\n",
              "      <th>split0_test_score</th>\n",
              "      <th>split1_test_score</th>\n",
              "      <th>split2_test_score</th>\n",
              "      <th>split3_test_score</th>\n",
              "      <th>split4_test_score</th>\n",
              "      <th>mean_test_score</th>\n",
              "      <th>std_test_score</th>\n",
              "      <th>rank_test_score</th>\n",
              "    </tr>\n",
              "  </thead>\n",
              "  <tbody>\n",
              "    <tr>\n",
              "      <th>19</th>\n",
              "      <td>1.04e-02</td>\n",
              "      <td>2.87e-03</td>\n",
              "      <td>0.02</td>\n",
              "      <td>1.41e-03</td>\n",
              "      <td>10</td>\n",
              "      <td>distance</td>\n",
              "      <td>{'clf__n_neighbors': 10, 'clf__weights': 'distance'}</td>\n",
              "      <td>0.83</td>\n",
              "      <td>0.85</td>\n",
              "      <td>0.78</td>\n",
              "      <td>0.79</td>\n",
              "      <td>0.88</td>\n",
              "      <td>0.83</td>\n",
              "      <td>0.04</td>\n",
              "      <td>1</td>\n",
              "    </tr>\n",
              "    <tr>\n",
              "      <th>16</th>\n",
              "      <td>8.53e-03</td>\n",
              "      <td>2.98e-03</td>\n",
              "      <td>0.02</td>\n",
              "      <td>1.01e-03</td>\n",
              "      <td>9</td>\n",
              "      <td>uniform</td>\n",
              "      <td>{'clf__n_neighbors': 9, 'clf__weights': 'uniform'}</td>\n",
              "      <td>0.84</td>\n",
              "      <td>0.85</td>\n",
              "      <td>0.78</td>\n",
              "      <td>0.78</td>\n",
              "      <td>0.88</td>\n",
              "      <td>0.83</td>\n",
              "      <td>0.04</td>\n",
              "      <td>2</td>\n",
              "    </tr>\n",
              "    <tr>\n",
              "      <th>17</th>\n",
              "      <td>9.54e-03</td>\n",
              "      <td>4.33e-03</td>\n",
              "      <td>0.02</td>\n",
              "      <td>4.48e-03</td>\n",
              "      <td>9</td>\n",
              "      <td>distance</td>\n",
              "      <td>{'clf__n_neighbors': 9, 'clf__weights': 'distance'}</td>\n",
              "      <td>0.83</td>\n",
              "      <td>0.86</td>\n",
              "      <td>0.79</td>\n",
              "      <td>0.79</td>\n",
              "      <td>0.88</td>\n",
              "      <td>0.83</td>\n",
              "      <td>0.04</td>\n",
              "      <td>3</td>\n",
              "    </tr>\n",
              "    <tr>\n",
              "      <th>15</th>\n",
              "      <td>8.60e-03</td>\n",
              "      <td>6.96e-04</td>\n",
              "      <td>0.02</td>\n",
              "      <td>6.95e-04</td>\n",
              "      <td>8</td>\n",
              "      <td>distance</td>\n",
              "      <td>{'clf__n_neighbors': 8, 'clf__weights': 'distance'}</td>\n",
              "      <td>0.82</td>\n",
              "      <td>0.86</td>\n",
              "      <td>0.78</td>\n",
              "      <td>0.79</td>\n",
              "      <td>0.87</td>\n",
              "      <td>0.83</td>\n",
              "      <td>0.04</td>\n",
              "      <td>4</td>\n",
              "    </tr>\n",
              "    <tr>\n",
              "      <th>13</th>\n",
              "      <td>7.54e-03</td>\n",
              "      <td>1.47e-03</td>\n",
              "      <td>0.02</td>\n",
              "      <td>6.37e-03</td>\n",
              "      <td>7</td>\n",
              "      <td>distance</td>\n",
              "      <td>{'clf__n_neighbors': 7, 'clf__weights': 'distance'}</td>\n",
              "      <td>0.82</td>\n",
              "      <td>0.86</td>\n",
              "      <td>0.79</td>\n",
              "      <td>0.79</td>\n",
              "      <td>0.88</td>\n",
              "      <td>0.83</td>\n",
              "      <td>0.04</td>\n",
              "      <td>5</td>\n",
              "    </tr>\n",
              "    <tr>\n",
              "      <th>...</th>\n",
              "      <td>...</td>\n",
              "      <td>...</td>\n",
              "      <td>...</td>\n",
              "      <td>...</td>\n",
              "      <td>...</td>\n",
              "      <td>...</td>\n",
              "      <td>...</td>\n",
              "      <td>...</td>\n",
              "      <td>...</td>\n",
              "      <td>...</td>\n",
              "      <td>...</td>\n",
              "      <td>...</td>\n",
              "      <td>...</td>\n",
              "      <td>...</td>\n",
              "      <td>...</td>\n",
              "    </tr>\n",
              "    <tr>\n",
              "      <th>4</th>\n",
              "      <td>2.10e-02</td>\n",
              "      <td>7.45e-03</td>\n",
              "      <td>0.03</td>\n",
              "      <td>8.79e-03</td>\n",
              "      <td>3</td>\n",
              "      <td>uniform</td>\n",
              "      <td>{'clf__n_neighbors': 3, 'clf__weights': 'uniform'}</td>\n",
              "      <td>0.78</td>\n",
              "      <td>0.82</td>\n",
              "      <td>0.74</td>\n",
              "      <td>0.74</td>\n",
              "      <td>0.83</td>\n",
              "      <td>0.78</td>\n",
              "      <td>0.04</td>\n",
              "      <td>16</td>\n",
              "    </tr>\n",
              "    <tr>\n",
              "      <th>3</th>\n",
              "      <td>1.89e-02</td>\n",
              "      <td>3.01e-03</td>\n",
              "      <td>0.03</td>\n",
              "      <td>2.67e-03</td>\n",
              "      <td>2</td>\n",
              "      <td>distance</td>\n",
              "      <td>{'clf__n_neighbors': 2, 'clf__weights': 'distance'}</td>\n",
              "      <td>0.75</td>\n",
              "      <td>0.77</td>\n",
              "      <td>0.77</td>\n",
              "      <td>0.74</td>\n",
              "      <td>0.82</td>\n",
              "      <td>0.77</td>\n",
              "      <td>0.03</td>\n",
              "      <td>17</td>\n",
              "    </tr>\n",
              "    <tr>\n",
              "      <th>2</th>\n",
              "      <td>2.51e-02</td>\n",
              "      <td>7.32e-03</td>\n",
              "      <td>0.03</td>\n",
              "      <td>5.47e-03</td>\n",
              "      <td>2</td>\n",
              "      <td>uniform</td>\n",
              "      <td>{'clf__n_neighbors': 2, 'clf__weights': 'uniform'}</td>\n",
              "      <td>0.75</td>\n",
              "      <td>0.77</td>\n",
              "      <td>0.76</td>\n",
              "      <td>0.73</td>\n",
              "      <td>0.81</td>\n",
              "      <td>0.76</td>\n",
              "      <td>0.03</td>\n",
              "      <td>18</td>\n",
              "    </tr>\n",
              "    <tr>\n",
              "      <th>1</th>\n",
              "      <td>1.77e-02</td>\n",
              "      <td>6.36e-03</td>\n",
              "      <td>0.03</td>\n",
              "      <td>4.29e-03</td>\n",
              "      <td>1</td>\n",
              "      <td>distance</td>\n",
              "      <td>{'clf__n_neighbors': 1, 'clf__weights': 'distance'}</td>\n",
              "      <td>0.70</td>\n",
              "      <td>0.76</td>\n",
              "      <td>0.71</td>\n",
              "      <td>0.69</td>\n",
              "      <td>0.75</td>\n",
              "      <td>0.72</td>\n",
              "      <td>0.03</td>\n",
              "      <td>19</td>\n",
              "    </tr>\n",
              "    <tr>\n",
              "      <th>0</th>\n",
              "      <td>1.87e-02</td>\n",
              "      <td>4.27e-03</td>\n",
              "      <td>0.04</td>\n",
              "      <td>5.75e-03</td>\n",
              "      <td>1</td>\n",
              "      <td>uniform</td>\n",
              "      <td>{'clf__n_neighbors': 1, 'clf__weights': 'uniform'}</td>\n",
              "      <td>0.70</td>\n",
              "      <td>0.76</td>\n",
              "      <td>0.71</td>\n",
              "      <td>0.69</td>\n",
              "      <td>0.75</td>\n",
              "      <td>0.72</td>\n",
              "      <td>0.03</td>\n",
              "      <td>19</td>\n",
              "    </tr>\n",
              "  </tbody>\n",
              "</table>\n",
              "<p>20 rows × 15 columns</p>\n",
              "</div>\n",
              "    <div class=\"colab-df-buttons\">\n",
              "\n",
              "  <div class=\"colab-df-container\">\n",
              "    <button class=\"colab-df-convert\" onclick=\"convertToInteractive('df-ed3f82b8-de98-4c11-bd11-dd561a4a7d54')\"\n",
              "            title=\"Convert this dataframe to an interactive table.\"\n",
              "            style=\"display:none;\">\n",
              "\n",
              "  <svg xmlns=\"http://www.w3.org/2000/svg\" height=\"24px\" viewBox=\"0 -960 960 960\">\n",
              "    <path d=\"M120-120v-720h720v720H120Zm60-500h600v-160H180v160Zm220 220h160v-160H400v160Zm0 220h160v-160H400v160ZM180-400h160v-160H180v160Zm440 0h160v-160H620v160ZM180-180h160v-160H180v160Zm440 0h160v-160H620v160Z\"/>\n",
              "  </svg>\n",
              "    </button>\n",
              "\n",
              "  <style>\n",
              "    .colab-df-container {\n",
              "      display:flex;\n",
              "      gap: 12px;\n",
              "    }\n",
              "\n",
              "    .colab-df-convert {\n",
              "      background-color: #E8F0FE;\n",
              "      border: none;\n",
              "      border-radius: 50%;\n",
              "      cursor: pointer;\n",
              "      display: none;\n",
              "      fill: #1967D2;\n",
              "      height: 32px;\n",
              "      padding: 0 0 0 0;\n",
              "      width: 32px;\n",
              "    }\n",
              "\n",
              "    .colab-df-convert:hover {\n",
              "      background-color: #E2EBFA;\n",
              "      box-shadow: 0px 1px 2px rgba(60, 64, 67, 0.3), 0px 1px 3px 1px rgba(60, 64, 67, 0.15);\n",
              "      fill: #174EA6;\n",
              "    }\n",
              "\n",
              "    .colab-df-buttons div {\n",
              "      margin-bottom: 4px;\n",
              "    }\n",
              "\n",
              "    [theme=dark] .colab-df-convert {\n",
              "      background-color: #3B4455;\n",
              "      fill: #D2E3FC;\n",
              "    }\n",
              "\n",
              "    [theme=dark] .colab-df-convert:hover {\n",
              "      background-color: #434B5C;\n",
              "      box-shadow: 0px 1px 3px 1px rgba(0, 0, 0, 0.15);\n",
              "      filter: drop-shadow(0px 1px 2px rgba(0, 0, 0, 0.3));\n",
              "      fill: #FFFFFF;\n",
              "    }\n",
              "  </style>\n",
              "\n",
              "    <script>\n",
              "      const buttonEl =\n",
              "        document.querySelector('#df-ed3f82b8-de98-4c11-bd11-dd561a4a7d54 button.colab-df-convert');\n",
              "      buttonEl.style.display =\n",
              "        google.colab.kernel.accessAllowed ? 'block' : 'none';\n",
              "\n",
              "      async function convertToInteractive(key) {\n",
              "        const element = document.querySelector('#df-ed3f82b8-de98-4c11-bd11-dd561a4a7d54');\n",
              "        const dataTable =\n",
              "          await google.colab.kernel.invokeFunction('convertToInteractive',\n",
              "                                                    [key], {});\n",
              "        if (!dataTable) return;\n",
              "\n",
              "        const docLinkHtml = 'Like what you see? Visit the ' +\n",
              "          '<a target=\"_blank\" href=https://colab.research.google.com/notebooks/data_table.ipynb>data table notebook</a>'\n",
              "          + ' to learn more about interactive tables.';\n",
              "        element.innerHTML = '';\n",
              "        dataTable['output_type'] = 'display_data';\n",
              "        await google.colab.output.renderOutput(dataTable, element);\n",
              "        const docLink = document.createElement('div');\n",
              "        docLink.innerHTML = docLinkHtml;\n",
              "        element.appendChild(docLink);\n",
              "      }\n",
              "    </script>\n",
              "  </div>\n",
              "\n",
              "\n",
              "<div id=\"df-37a656f2-03e2-4fc4-82b5-59574b73a559\">\n",
              "  <button class=\"colab-df-quickchart\" onclick=\"quickchart('df-37a656f2-03e2-4fc4-82b5-59574b73a559')\"\n",
              "            title=\"Suggest charts\"\n",
              "            style=\"display:none;\">\n",
              "\n",
              "<svg xmlns=\"http://www.w3.org/2000/svg\" height=\"24px\"viewBox=\"0 0 24 24\"\n",
              "     width=\"24px\">\n",
              "    <g>\n",
              "        <path d=\"M19 3H5c-1.1 0-2 .9-2 2v14c0 1.1.9 2 2 2h14c1.1 0 2-.9 2-2V5c0-1.1-.9-2-2-2zM9 17H7v-7h2v7zm4 0h-2V7h2v10zm4 0h-2v-4h2v4z\"/>\n",
              "    </g>\n",
              "</svg>\n",
              "  </button>\n",
              "\n",
              "<style>\n",
              "  .colab-df-quickchart {\n",
              "      --bg-color: #E8F0FE;\n",
              "      --fill-color: #1967D2;\n",
              "      --hover-bg-color: #E2EBFA;\n",
              "      --hover-fill-color: #174EA6;\n",
              "      --disabled-fill-color: #AAA;\n",
              "      --disabled-bg-color: #DDD;\n",
              "  }\n",
              "\n",
              "  [theme=dark] .colab-df-quickchart {\n",
              "      --bg-color: #3B4455;\n",
              "      --fill-color: #D2E3FC;\n",
              "      --hover-bg-color: #434B5C;\n",
              "      --hover-fill-color: #FFFFFF;\n",
              "      --disabled-bg-color: #3B4455;\n",
              "      --disabled-fill-color: #666;\n",
              "  }\n",
              "\n",
              "  .colab-df-quickchart {\n",
              "    background-color: var(--bg-color);\n",
              "    border: none;\n",
              "    border-radius: 50%;\n",
              "    cursor: pointer;\n",
              "    display: none;\n",
              "    fill: var(--fill-color);\n",
              "    height: 32px;\n",
              "    padding: 0;\n",
              "    width: 32px;\n",
              "  }\n",
              "\n",
              "  .colab-df-quickchart:hover {\n",
              "    background-color: var(--hover-bg-color);\n",
              "    box-shadow: 0 1px 2px rgba(60, 64, 67, 0.3), 0 1px 3px 1px rgba(60, 64, 67, 0.15);\n",
              "    fill: var(--button-hover-fill-color);\n",
              "  }\n",
              "\n",
              "  .colab-df-quickchart-complete:disabled,\n",
              "  .colab-df-quickchart-complete:disabled:hover {\n",
              "    background-color: var(--disabled-bg-color);\n",
              "    fill: var(--disabled-fill-color);\n",
              "    box-shadow: none;\n",
              "  }\n",
              "\n",
              "  .colab-df-spinner {\n",
              "    border: 2px solid var(--fill-color);\n",
              "    border-color: transparent;\n",
              "    border-bottom-color: var(--fill-color);\n",
              "    animation:\n",
              "      spin 1s steps(1) infinite;\n",
              "  }\n",
              "\n",
              "  @keyframes spin {\n",
              "    0% {\n",
              "      border-color: transparent;\n",
              "      border-bottom-color: var(--fill-color);\n",
              "      border-left-color: var(--fill-color);\n",
              "    }\n",
              "    20% {\n",
              "      border-color: transparent;\n",
              "      border-left-color: var(--fill-color);\n",
              "      border-top-color: var(--fill-color);\n",
              "    }\n",
              "    30% {\n",
              "      border-color: transparent;\n",
              "      border-left-color: var(--fill-color);\n",
              "      border-top-color: var(--fill-color);\n",
              "      border-right-color: var(--fill-color);\n",
              "    }\n",
              "    40% {\n",
              "      border-color: transparent;\n",
              "      border-right-color: var(--fill-color);\n",
              "      border-top-color: var(--fill-color);\n",
              "    }\n",
              "    60% {\n",
              "      border-color: transparent;\n",
              "      border-right-color: var(--fill-color);\n",
              "    }\n",
              "    80% {\n",
              "      border-color: transparent;\n",
              "      border-right-color: var(--fill-color);\n",
              "      border-bottom-color: var(--fill-color);\n",
              "    }\n",
              "    90% {\n",
              "      border-color: transparent;\n",
              "      border-bottom-color: var(--fill-color);\n",
              "    }\n",
              "  }\n",
              "</style>\n",
              "\n",
              "  <script>\n",
              "    async function quickchart(key) {\n",
              "      const quickchartButtonEl =\n",
              "        document.querySelector('#' + key + ' button');\n",
              "      quickchartButtonEl.disabled = true;  // To prevent multiple clicks.\n",
              "      quickchartButtonEl.classList.add('colab-df-spinner');\n",
              "      try {\n",
              "        const charts = await google.colab.kernel.invokeFunction(\n",
              "            'suggestCharts', [key], {});\n",
              "      } catch (error) {\n",
              "        console.error('Error during call to suggestCharts:', error);\n",
              "      }\n",
              "      quickchartButtonEl.classList.remove('colab-df-spinner');\n",
              "      quickchartButtonEl.classList.add('colab-df-quickchart-complete');\n",
              "    }\n",
              "    (() => {\n",
              "      let quickchartButtonEl =\n",
              "        document.querySelector('#df-37a656f2-03e2-4fc4-82b5-59574b73a559 button');\n",
              "      quickchartButtonEl.style.display =\n",
              "        google.colab.kernel.accessAllowed ? 'block' : 'none';\n",
              "    })();\n",
              "  </script>\n",
              "</div>\n",
              "    </div>\n",
              "  </div>\n"
            ],
            "application/vnd.google.colaboratory.intrinsic+json": {
              "type": "dataframe",
              "variable_name": "results_df",
              "summary": "{\n  \"name\": \"results_df\",\n  \"rows\": 20,\n  \"fields\": [\n    {\n      \"column\": \"mean_fit_time\",\n      \"properties\": {\n        \"dtype\": \"number\",\n        \"std\": 0.005338586692143575,\n        \"min\": 0.007537698745727539,\n        \"max\": 0.025147247314453124,\n        \"num_unique_values\": 20,\n        \"samples\": [\n          0.01035308837890625,\n          0.025147247314453124,\n          0.02095179557800293\n        ],\n        \"semantic_type\": \"\",\n        \"description\": \"\"\n      }\n    },\n    {\n      \"column\": \"std_fit_time\",\n      \"properties\": {\n        \"dtype\": \"number\",\n        \"std\": 0.0021581008100368102,\n        \"min\": 0.0004396537792054954,\n        \"max\": 0.007452946927079126,\n        \"num_unique_values\": 20,\n        \"samples\": [\n          0.0028689540486570397,\n          0.007322046259767051,\n          0.007452946927079126\n        ],\n        \"semantic_type\": \"\",\n        \"description\": \"\"\n      }\n    },\n    {\n      \"column\": \"mean_score_time\",\n      \"properties\": {\n        \"dtype\": \"number\",\n        \"std\": 0.0066290435267329605,\n        \"min\": 0.019000148773193358,\n        \"max\": 0.040140533447265626,\n        \"num_unique_values\": 20,\n        \"samples\": [\n          0.020453262329101562,\n          0.03231363296508789,\n          0.029733610153198243\n        ],\n        \"semantic_type\": \"\",\n        \"description\": \"\"\n      }\n    },\n    {\n      \"column\": \"std_score_time\",\n      \"properties\": {\n        \"dtype\": \"number\",\n        \"std\": 0.0029173312834593085,\n        \"min\": 0.0002900707706008592,\n        \"max\": 0.00878512951065831,\n        \"num_unique_values\": 20,\n        \"samples\": [\n          0.0014081588991859029,\n          0.005470561369807505,\n          0.00878512951065831\n        ],\n        \"semantic_type\": \"\",\n        \"description\": \"\"\n      }\n    },\n    {\n      \"column\": \"param_clf__n_neighbors\",\n      \"properties\": {\n        \"dtype\": \"number\",\n        \"std\": 2,\n        \"min\": 1,\n        \"max\": 10,\n        \"num_unique_values\": 10,\n        \"samples\": [\n          2,\n          9,\n          5\n        ],\n        \"semantic_type\": \"\",\n        \"description\": \"\"\n      }\n    },\n    {\n      \"column\": \"param_clf__weights\",\n      \"properties\": {\n        \"dtype\": \"category\",\n        \"num_unique_values\": 2,\n        \"samples\": [\n          \"uniform\",\n          \"distance\"\n        ],\n        \"semantic_type\": \"\",\n        \"description\": \"\"\n      }\n    },\n    {\n      \"column\": \"params\",\n      \"properties\": {\n        \"dtype\": \"object\",\n        \"semantic_type\": \"\",\n        \"description\": \"\"\n      }\n    },\n    {\n      \"column\": \"split0_test_score\",\n      \"properties\": {\n        \"dtype\": \"number\",\n        \"std\": 0.04422120327702025,\n        \"min\": 0.697905477980666,\n        \"max\": 0.8431793770139635,\n        \"num_unique_values\": 19,\n        \"samples\": [\n          0.8325725026852846,\n          0.8431793770139635\n        ],\n        \"semantic_type\": \"\",\n        \"description\": \"\"\n      }\n    },\n    {\n      \"column\": \"split1_test_score\",\n      \"properties\": {\n        \"dtype\": \"number\",\n        \"std\": 0.03688683512879848,\n        \"min\": 0.7577873254564984,\n        \"max\": 0.8623791621911923,\n        \"num_unique_values\": 19,\n        \"samples\": [\n          0.8524436090225564,\n          0.8425080558539205\n        ],\n        \"semantic_type\": \"\",\n        \"description\": \"\"\n      }\n    },\n    {\n      \"column\": \"split2_test_score\",\n      \"properties\": {\n        \"dtype\": \"number\",\n        \"std\": 0.02288604986582833,\n        \"min\": 0.7125270562770563,\n        \"max\": 0.7888257575757576,\n        \"num_unique_values\": 18,\n        \"samples\": [\n          0.7846320346320346,\n          0.7804383116883118\n        ],\n        \"semantic_type\": \"\",\n        \"description\": \"\"\n      }\n    },\n    {\n      \"column\": \"split3_test_score\",\n      \"properties\": {\n        \"dtype\": \"number\",\n        \"std\": 0.031324891422364574,\n        \"min\": 0.6902412280701754,\n        \"max\": 0.7891995614035089,\n        \"num_unique_values\": 19,\n        \"samples\": [\n          0.7875548245614036,\n          0.7844024122807017\n        ],\n        \"semantic_type\": \"\",\n        \"description\": \"\"\n      }\n    },\n    {\n      \"column\": \"split4_test_score\",\n      \"properties\": {\n        \"dtype\": \"number\",\n        \"std\": 0.04047692060936347,\n        \"min\": 0.7489035087719299,\n        \"max\": 0.879111842105263,\n        \"num_unique_values\": 19,\n        \"samples\": [\n          0.8784265350877192,\n          0.8778782894736843\n        ],\n        \"semantic_type\": \"\",\n        \"description\": \"\"\n      }\n    },\n    {\n      \"column\": \"mean_test_score\",\n      \"properties\": {\n        \"dtype\": \"number\",\n        \"std\": 0.03393593124900614,\n        \"min\": 0.7214729193112651,\n        \"max\": 0.8271259011977996,\n        \"num_unique_values\": 19,\n        \"samples\": [\n          0.8271259011977996,\n          0.8253295576603847\n        ],\n        \"semantic_type\": \"\",\n        \"description\": \"\"\n      }\n    },\n    {\n      \"column\": \"std_test_score\",\n      \"properties\": {\n        \"dtype\": \"number\",\n        \"std\": 0.0059265110763318755,\n        \"min\": 0.02619909668262446,\n        \"max\": 0.04837356729972907,\n        \"num_unique_values\": 19,\n        \"samples\": [\n          0.03653493023571651,\n          0.03801665644600516\n        ],\n        \"semantic_type\": \"\",\n        \"description\": \"\"\n      }\n    },\n    {\n      \"column\": \"rank_test_score\",\n      \"properties\": {\n        \"dtype\": \"int32\",\n        \"num_unique_values\": 19,\n        \"samples\": [\n          1,\n          6\n        ],\n        \"semantic_type\": \"\",\n        \"description\": \"\"\n      }\n    }\n  ]\n}"
            }
          },
          "metadata": {},
          "execution_count": 50
        }
      ],
      "source": [
        "results_df = pd.DataFrame(search.cv_results_).sort_values(by='rank_test_score')\n",
        "results_df"
      ]
    },
    {
      "cell_type": "code",
      "execution_count": null,
      "metadata": {
        "colab": {
          "base_uri": "https://localhost:8080/"
        },
        "id": "DalwK8g02QIt",
        "outputId": "8e6c2fd0-089a-4fec-ac0a-b624ace55e73"
      },
      "outputs": [
        {
          "output_type": "stream",
          "name": "stdout",
          "text": [
            "The best ROC AUC 0.827 is obtained for k=10\n"
          ]
        }
      ],
      "source": [
        "best_score, best_k = results_df.iloc[0]['mean_test_score'], results_df.iloc[0]['param_clf__n_neighbors']\n",
        "print(f'The best ROC AUC {best_score:0.3f} is obtained for k={best_k}')"
      ]
    },
    {
      "cell_type": "markdown",
      "metadata": {
        "id": "xtr10mQS1_Y6"
      },
      "source": [
        "This result is much better than what we obtained in the previous seminar. However, it's not the test score yet. It's only the CV estimate of the test score. Depending on our CV pipeline, it could either be a good estimate for the real test score or a poor one.\n",
        "\n",
        "Let's use the best obtained model to predict on the test set and check."
      ]
    },
    {
      "cell_type": "code",
      "execution_count": null,
      "metadata": {
        "colab": {
          "base_uri": "https://localhost:8080/"
        },
        "id": "N14znp4W23En",
        "outputId": "29a6e1c5-4479-40a5-aec3-4cb065dc354c"
      },
      "outputs": [
        {
          "output_type": "stream",
          "name": "stdout",
          "text": [
            "Test set ROC AUC 0.875\n"
          ]
        }
      ],
      "source": [
        "y_pred = search.predict_proba(X_test)[:, 1]\n",
        "score = roc_auc_score(y_test, y_pred)\n",
        "print(f'Test set ROC AUC {score:0.3f}')"
      ]
    },
    {
      "cell_type": "markdown",
      "metadata": {
        "id": "rJXoXB6Mc_5k"
      },
      "source": [
        "# Bootstrap"
      ]
    },
    {
      "cell_type": "markdown",
      "metadata": {
        "id": "D82b6Ny-3BC_"
      },
      "source": [
        "Bootstrap is a general statistical technique about using **sampling with replacement** to get estimates of statistics like mean and variance, compute confidence intervals and more. It works **regardless of the underlying distribution**, so it works for non-Gaussian things. Imagine how cool that is.\n",
        "\n",
        "The idea of bootstrap: use a lot of (in the thousands) small samples to estimate quantities of the whole population.\n",
        "\n",
        "An algorithm for obtaining a bootstrap estimate for the mean:\n",
        "1. Choose a number of bootstrap samples to perform.\n",
        "2. Choose a sample size.\n",
        "3. For each bootstrap sample, draw a sample with replacement with the chosen size.\n",
        "4. Calculate the mean of the sample and store it.\n",
        "5. Calculate the mean of the calculated sample means."
      ]
    },
    {
      "cell_type": "code",
      "execution_count": null,
      "metadata": {
        "colab": {
          "base_uri": "https://localhost:8080/",
          "height": 606
        },
        "id": "jJGimGCHdDPF",
        "outputId": "1361b448-b003-463c-d93e-e80f77fd84c8"
      },
      "outputs": [
        {
          "output_type": "stream",
          "name": "stdout",
          "text": [
            "Length of source 891\n",
            "Length of sample 90\n"
          ]
        },
        {
          "output_type": "display_data",
          "data": {
            "text/plain": [
              "<Figure size 1600x600 with 1 Axes>"
            ],
            "image/png": "[encoded data removed]"
          },
          "metadata": {}
        },
        {
          "output_type": "stream",
          "name": "stdout",
          "text": [
            "Source values 891\n",
            "Sample values 90\n",
            "Source mean 27.72048569023569\n",
            "Sample mean 30.192498333333333\n"
          ]
        }
      ],
      "source": [
        "column = 'fare'\n",
        "column_sample = df_filtered[column][::10].values\n",
        "print('Length of source', len(df_filtered[column]))\n",
        "print('Length of sample', len(column_sample))\n",
        "sns.histplot(df_filtered[column], label=column)\n",
        "sns.histplot(column_sample, label='Sample')\n",
        "plt.legend()\n",
        "plt.title('Distributions of fare and sample of fare')\n",
        "plt.show()\n",
        "print('Source values', len(df_filtered[column]))\n",
        "print('Sample values', len(column_sample))\n",
        "\n",
        "print('Source mean', df_filtered[column].mean())\n",
        "print('Sample mean', column_sample.mean())"
      ]
    },
    {
      "cell_type": "markdown",
      "metadata": {
        "id": "sOYoUjxF8BPY"
      },
      "source": [
        "We are interested in obtaining an estimate for the mean of fare and a confidence interval for it."
      ]
    },
    {
      "cell_type": "code",
      "execution_count": null,
      "metadata": {
        "id": "wHRZCd8TeCiw"
      },
      "outputs": [],
      "source": [
        "sample_size = len(column_sample)//2\n",
        "sample = np.random.choice(column_sample, size=sample_size, replace=True)"
      ]
    },
    {
      "cell_type": "code",
      "execution_count": null,
      "metadata": {
        "colab": {
          "base_uri": "https://localhost:8080/"
        },
        "id": "Hx9DtcsL4GOT",
        "outputId": "a16a49f7-8d39-43a2-b853-3038fde8bef9"
      },
      "outputs": [
        {
          "output_type": "stream",
          "name": "stdout",
          "text": [
            "Bootstrap mean 30.135593908888893\n"
          ]
        }
      ],
      "source": [
        "n_iterations = 1000\n",
        "sample_size = len(column_sample)//2\n",
        "means = []\n",
        "for i in range(n_iterations):\n",
        "    sample = np.random.choice(column_sample, size=sample_size, replace=True)\n",
        "    means.append(np.mean(sample))\n",
        "means = np.array(means)\n",
        "print('Bootstrap mean', np.mean(means))"
      ]
    },
    {
      "cell_type": "markdown",
      "metadata": {
        "id": "2_6perM89KfZ"
      },
      "source": [
        "We can use the **bootstrap percentile method** of the sample means to obtain confidence intervals.\n",
        "\n",
        "Let $\\theta$ be the bootstrap sampled means.\n",
        "\n",
        "For some width of confidence interval $p$, e.g. $95\\%$:\n",
        "1. Compute $\\alpha$  as $1 - p$\n",
        "2. Obtain the lower percentile $\\alpha / 2$\n",
        "3. Obtain the upper percentile $1 - \\alpha/2$\n",
        "4. Obtain the confidence interval: $[ percentile(\\theta, \\alpha / 2), percentile(\\theta, 1- \\alpha / 2) ]$"
      ]
    },
    {
      "cell_type": "code",
      "execution_count": null,
      "metadata": {
        "colab": {
          "base_uri": "https://localhost:8080/"
        },
        "id": "jen2kJSa8jGh",
        "outputId": "bb64c420-e753-4b23-fae2-9b90dbdd2321"
      },
      "outputs": [
        {
          "output_type": "stream",
          "name": "stdout",
          "text": [
            "95% confidence interval for the bootstrap mean: (22.026707, 39.386813)\n"
          ]
        }
      ],
      "source": [
        "p = 0.95\n",
        "alpha = 1 - p\n",
        "lower = np.percentile(means, (alpha/2)*100)\n",
        "upper = np.percentile(means, (1-alpha/2)*100)\n",
        "print(f'{round(p*100)}% confidence interval for the bootstrap mean: ({lower:2f}, {upper:2f})')"
      ]
    },
    {
      "cell_type": "markdown",
      "metadata": {
        "id": "sKmrNQ69COfD"
      },
      "source": [
        "This method is the simplest one and it is most likely [the worst one](https://stats.stackexchange.com/questions/355781/is-it-true-that-the-percentile-bootstrap-should-never-be-used). It's known to produce poor results when the distribution of sampled statistic is skewed.\n",
        "\n",
        "A less biased method is the **empirical bootstrap**. In that, you use the deviation of sample means from the mean of sample means to estimate the confidence interval.\n",
        "\n",
        "1. Compute deviations of sample means from the mean $\\delta = \\{\\theta_0 - \\mathop{\\mathbb{E}}[\\theta], \\theta_1 - \\mathop{\\mathbb{E}}[\\theta], \\dots \\}$\n",
        "2. Obtain the confidence interval: $[ \\mathop{\\mathbb{E}}[\\theta] - percentile(\\delta, 1 - \\alpha / 2), \\mathop{\\mathbb{E}}[\\theta] - percentile(\\delta,  \\alpha / 2) ]$"
      ]
    },
    {
      "cell_type": "markdown",
      "metadata": {
        "id": "DwTXtgIWFAd8"
      },
      "source": [
        "In the code cell below, compute the empirical bootstrap confidence interval for the mean of age."
      ]
    },
    {
      "cell_type": "code",
      "execution_count": null,
      "metadata": {
        "colab": {
          "base_uri": "https://localhost:8080/"
        },
        "id": "FqU4D2B0FIRc",
        "outputId": "09dd7864-5868-412f-b18e-b62d241d4a86"
      },
      "outputs": [
        {
          "output_type": "stream",
          "name": "stdout",
          "text": [
            "Empirical bootstrap 95% confidence interval for the bootstrap mean: (20.884375, 38.244481)\n"
          ]
        }
      ],
      "source": [
        "deviations = means - np.mean(means)\n",
        "lower = np.mean(means) - np.percentile(deviations, (1-alpha/2)*100)\n",
        "upper = np.mean(means) - np.percentile(deviations, (alpha/2)*100)\n",
        "print(f'Empirical bootstrap {round(p*100)}% confidence interval for the bootstrap mean: ({lower:2f}, {upper:2f})')"
      ]
    },
    {
      "cell_type": "markdown",
      "metadata": {
        "id": "BO3fzVpIE-49"
      },
      "source": [
        "### Solution:"
      ]
    },
    {
      "cell_type": "code",
      "execution_count": null,
      "metadata": {
        "id": "N_2tkf4q9gu4"
      },
      "outputs": [],
      "source": [
        "deviations = means - np.mean(means)\n",
        "lower = np.mean(means) - np.percentile(deviations, (1-alpha/2)*100)\n",
        "upper = np.mean(means) - np.percentile(deviations, (alpha/2)*100)\n",
        "print(f'Empirical bootstrap {round(p*100)}% confidence interval for the bootstrap mean: ({lower:2f}, {upper:2f})')"
      ]
    },
    {
      "cell_type": "markdown",
      "metadata": {
        "id": "Z78Coo54dDtK"
      },
      "source": [
        "## Getting a confidence interval for classifier accuracy with bootstrap"
      ]
    },
    {
      "cell_type": "markdown",
      "metadata": {
        "id": "np1RnBGyFb9k"
      },
      "source": [
        "Imagine that there is some unknown population of our classifier accuracies. We want to get the mean of this population. We have a \"samples\" of our accuracies: results of fitting the classifier to some data and computing the accuracy on a validation set."
      ]
    },
    {
      "cell_type": "code",
      "execution_count": null,
      "metadata": {
        "id": "4428XmvVG6Zy"
      },
      "outputs": [],
      "source": [
        "X_train = X_train.values\n",
        "y_train = y_train.values"
      ]
    },
    {
      "cell_type": "code",
      "execution_count": null,
      "metadata": {
        "colab": {
          "base_uri": "https://localhost:8080/",
          "height": 502
        },
        "id": "DRGwfM3RdF_G",
        "outputId": "6287a412-59c4-42b7-f329-464d15a76497",
        "scrolled": false
      },
      "outputs": [
        {
          "output_type": "stream",
          "name": "stderr",
          "text": [
            "100%|██████████| 100/100 [00:04<00:00, 21.67it/s]\n"
          ]
        },
        {
          "output_type": "display_data",
          "data": {
            "text/plain": [
              "<Figure size 1600x600 with 1 Axes>"
            ],
            "image/png": "[encoded data removed]"
          },
          "metadata": {}
        }
      ],
      "source": [
        "from tqdm import tqdm\n",
        "from sklearn.metrics import accuracy_score\n",
        "from sklearn.utils import resample\n",
        "\n",
        "n_iterations = 100\n",
        "n_size = len(X_train)//2\n",
        "model = pipe\n",
        "\n",
        "accuracies = []\n",
        "for i in tqdm(range(n_iterations)):\n",
        "    train_idx = resample(range(len(X_train)), n_samples=n_size)\n",
        "    val_idx = np.array([i for i in range(len(X_train)) if i not in train_idx])\n",
        "\n",
        "    model.fit(X_train[train_idx], y_train[train_idx])\n",
        "    # evaluate model\n",
        "    predictions = model.predict(X_train[val_idx])\n",
        "    score = accuracy_score(y_train[val_idx], predictions)\n",
        "    accuracies.append(score)\n",
        "\n",
        "sns.histplot(accuracies)\n",
        "plt.title('Accuracies on bootstrap samples')\n",
        "plt.show()"
      ]
    },
    {
      "cell_type": "code",
      "execution_count": null,
      "metadata": {
        "colab": {
          "base_uri": "https://localhost:8080/"
        },
        "id": "0qyO6j-SHD8Z",
        "outputId": "69078370-9c5e-48a6-b1c2-f604ab7016a8"
      },
      "outputs": [
        {
          "output_type": "stream",
          "name": "stdout",
          "text": [
            "Accuracy according to percentile bootstrap: (0.736550, 0.813835)\n"
          ]
        }
      ],
      "source": [
        "p = 0.95\n",
        "alpha = 1 - p\n",
        "lower = np.percentile(accuracies, (alpha/2)*100)\n",
        "upper = np.percentile(accuracies, (1-alpha/2)*100)\n",
        "print(f'Accuracy according to percentile bootstrap: ({lower:2f}, {upper:2f})')"
      ]
    },
    {
      "cell_type": "code",
      "execution_count": null,
      "metadata": {
        "colab": {
          "base_uri": "https://localhost:8080/"
        },
        "id": "9d0vrq74Gwh6",
        "outputId": "e15298e9-a9ed-4529-999b-e2439d061b37"
      },
      "outputs": [
        {
          "output_type": "stream",
          "name": "stdout",
          "text": [
            "True accuracy on test set: 0.791045\n"
          ]
        },
        {
          "output_type": "stream",
          "name": "stderr",
          "text": [
            "/usr/local/lib/python3.10/dist-packages/sklearn/base.py:486: UserWarning: X has feature names, but StandardScaler was fitted without feature names\n",
            "  warnings.warn(\n"
          ]
        }
      ],
      "source": [
        "model.fit(X_train, y_train)\n",
        "predictions = model.predict(X_test)\n",
        "accuracy = accuracy_score(y_test, predictions)\n",
        "print(f'True accuracy on test set: {accuracy:2f}')"
      ]
    },
    {
      "cell_type": "code",
      "execution_count": null,
      "metadata": {
        "id": "j2q045sCPnS5"
      },
      "outputs": [],
      "source": []
    }
  ],
  "metadata": {
    "colab": {
      "provenance": []
    },
    "kernelspec": {
      "display_name": "Python 3 (ipykernel)",
      "language": "python",
      "name": "python3"
    },
    "language_info": {
      "codemirror_mode": {
        "name": "ipython",
        "version": 3
      },
      "file_extension": ".py",
      "mimetype": "text/x-python",
      "name": "python",
      "nbconvert_exporter": "python",
      "pygments_lexer": "ipython3",
      "version": "3.10.9"
    }
  },
  "nbformat": 4,
  "nbformat_minor": 0
}