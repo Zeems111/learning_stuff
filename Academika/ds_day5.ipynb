{
 "cells": [
  {
   "cell_type": "markdown",
   "id": "1e333d65",
   "metadata": {},
   "source": [
    "# Инструменты Data Science: анализ зарплат в IT\n",
    "\n",
    "## День 5. Результаты анализа вакансий Data Science – чего хотят работодатели?"
   ]
  },
  {
   "cell_type": "code",
   "execution_count": 1,
   "id": "09374e04",
   "metadata": {},
   "outputs": [],
   "source": [
    "import pandas as pd\n",
    "from collections import Counter\n",
    "import matplotlib.pyplot as plt \n",
    "import plotly.express as px\n",
    "import plotly.graph_objects as go"
   ]
  },
  {
   "cell_type": "code",
   "execution_count": 2,
   "id": "06c40c82",
   "metadata": {},
   "outputs": [
    {
     "data": {
      "text/html": [
       "<div>\n",
       "<style scoped>\n",
       "    .dataframe tbody tr th:only-of-type {\n",
       "        vertical-align: middle;\n",
       "    }\n",
       "\n",
       "    .dataframe tbody tr th {\n",
       "        vertical-align: top;\n",
       "    }\n",
       "\n",
       "    .dataframe thead th {\n",
       "        text-align: right;\n",
       "    }\n",
       "</style>\n",
       "<table border=\"1\" class=\"dataframe\">\n",
       "  <thead>\n",
       "    <tr style=\"text-align: right;\">\n",
       "      <th></th>\n",
       "      <th>name</th>\n",
       "      <th>address</th>\n",
       "      <th>experience</th>\n",
       "      <th>skills</th>\n",
       "      <th>sal_from</th>\n",
       "      <th>sal_to</th>\n",
       "    </tr>\n",
       "  </thead>\n",
       "  <tbody>\n",
       "    <tr>\n",
       "      <th>0</th>\n",
       "      <td>Начинающий специалист по работе с нейросетям</td>\n",
       "      <td>Санкт-Петербург</td>\n",
       "      <td>От 1 года до 3 лет</td>\n",
       "      <td>Разработка технических заданий, Python, Сбор и...</td>\n",
       "      <td>55000</td>\n",
       "      <td>60000</td>\n",
       "    </tr>\n",
       "    <tr>\n",
       "      <th>1</th>\n",
       "      <td>Junior Data Engineer</td>\n",
       "      <td>Нижний Новгород</td>\n",
       "      <td>От 1 года до 3 лет</td>\n",
       "      <td>SQL, jvm, Hadoop</td>\n",
       "      <td>150000</td>\n",
       "      <td>200000</td>\n",
       "    </tr>\n",
       "    <tr>\n",
       "      <th>2</th>\n",
       "      <td>ML-инженер</td>\n",
       "      <td>Москва</td>\n",
       "      <td>Нет опыта</td>\n",
       "      <td>Знания математики, алгоритмов, структур данных...</td>\n",
       "      <td>150000</td>\n",
       "      <td>170000</td>\n",
       "    </tr>\n",
       "    <tr>\n",
       "      <th>3</th>\n",
       "      <td>Data Scientist</td>\n",
       "      <td>Москва</td>\n",
       "      <td>От 1 года до 3 лет</td>\n",
       "      <td>Python, Machine Learning, Математическое модел...</td>\n",
       "      <td>180000</td>\n",
       "      <td>200000</td>\n",
       "    </tr>\n",
       "    <tr>\n",
       "      <th>4</th>\n",
       "      <td>Python Developer (Junior)</td>\n",
       "      <td>Томск</td>\n",
       "      <td>От 1 года до 3 лет</td>\n",
       "      <td>Python, Git, ООП, MySQL</td>\n",
       "      <td>60000</td>\n",
       "      <td>110000</td>\n",
       "    </tr>\n",
       "  </tbody>\n",
       "</table>\n",
       "</div>"
      ],
      "text/plain": [
       "                                           name          address  \\\n",
       "0  Начинающий специалист по работе с нейросетям  Санкт-Петербург   \n",
       "1                          Junior Data Engineer  Нижний Новгород   \n",
       "2                                    ML-инженер           Москва   \n",
       "3                                Data Scientist           Москва   \n",
       "4                     Python Developer (Junior)            Томск   \n",
       "\n",
       "           experience                                             skills  \\\n",
       "0  От 1 года до 3 лет  Разработка технических заданий, Python, Сбор и...   \n",
       "1  От 1 года до 3 лет                                   SQL, jvm, Hadoop   \n",
       "2           Нет опыта  Знания математики, алгоритмов, структур данных...   \n",
       "3  От 1 года до 3 лет  Python, Machine Learning, Математическое модел...   \n",
       "4  От 1 года до 3 лет                            Python, Git, ООП, MySQL   \n",
       "\n",
       "   sal_from  sal_to  \n",
       "0     55000   60000  \n",
       "1    150000  200000  \n",
       "2    150000  170000  \n",
       "3    180000  200000  \n",
       "4     60000  110000  "
      ]
     },
     "execution_count": 2,
     "metadata": {},
     "output_type": "execute_result"
    }
   ],
   "source": [
    "df = pd.read_csv('DataScienceJobs.csv')\n",
    "df.head()"
   ]
  },
  {
   "cell_type": "markdown",
   "id": "4b247691",
   "metadata": {},
   "source": [
    "### Вопрос 1. В каких городах больше всего вакансий для Data Scientists?"
   ]
  },
  {
   "cell_type": "code",
   "execution_count": 7,
   "id": "a08d9054",
   "metadata": {},
   "outputs": [
    {
     "data": {
      "application/vnd.plotly.v1+json": {
       "config": {
        "plotlyServerURL": "https://plot.ly"
       },
       "data": [
        {
         "hovertemplate": "<b>%{label}</b><br>Доля: %{percent} </br>Количество: %{value} вакансий",
         "labels": [
          "Москва",
          "Санкт-Петербург",
          "Московская область",
          "Новосибирск",
          "Нижний Новгород"
         ],
         "name": "",
         "type": "pie",
         "values": [
          188,
          40,
          28,
          27,
          15
         ]
        }
       ],
       "layout": {
        "template": {
         "data": {
          "bar": [
           {
            "error_x": {
             "color": "#2a3f5f"
            },
            "error_y": {
             "color": "#2a3f5f"
            },
            "marker": {
             "line": {
              "color": "#E5ECF6",
              "width": 0.5
             }
            },
            "type": "bar"
           }
          ],
          "barpolar": [
           {
            "marker": {
             "line": {
              "color": "#E5ECF6",
              "width": 0.5
             }
            },
            "type": "barpolar"
           }
          ],
          "carpet": [
           {
            "aaxis": {
             "endlinecolor": "#2a3f5f",
             "gridcolor": "white",
             "linecolor": "white",
             "minorgridcolor": "white",
             "startlinecolor": "#2a3f5f"
            },
            "baxis": {
             "endlinecolor": "#2a3f5f",
             "gridcolor": "white",
             "linecolor": "white",
             "minorgridcolor": "white",
             "startlinecolor": "#2a3f5f"
            },
            "type": "carpet"
           }
          ],
          "choropleth": [
           {
            "colorbar": {
             "outlinewidth": 0,
             "ticks": ""
            },
            "type": "choropleth"
           }
          ],
          "contour": [
           {
            "colorbar": {
             "outlinewidth": 0,
             "ticks": ""
            },
            "colorscale": [
             [
              0,
              "#0d0887"
             ],
             [
              0.1111111111111111,
              "#46039f"
             ],
             [
              0.2222222222222222,
              "#7201a8"
             ],
             [
              0.3333333333333333,
              "#9c179e"
             ],
             [
              0.4444444444444444,
              "#bd3786"
             ],
             [
              0.5555555555555556,
              "#d8576b"
             ],
             [
              0.6666666666666666,
              "#ed7953"
             ],
             [
              0.7777777777777778,
              "#fb9f3a"
             ],
             [
              0.8888888888888888,
              "#fdca26"
             ],
             [
              1,
              "#f0f921"
             ]
            ],
            "type": "contour"
           }
          ],
          "contourcarpet": [
           {
            "colorbar": {
             "outlinewidth": 0,
             "ticks": ""
            },
            "type": "contourcarpet"
           }
          ],
          "heatmap": [
           {
            "colorbar": {
             "outlinewidth": 0,
             "ticks": ""
            },
            "colorscale": [
             [
              0,
              "#0d0887"
             ],
             [
              0.1111111111111111,
              "#46039f"
             ],
             [
              0.2222222222222222,
              "#7201a8"
             ],
             [
              0.3333333333333333,
              "#9c179e"
             ],
             [
              0.4444444444444444,
              "#bd3786"
             ],
             [
              0.5555555555555556,
              "#d8576b"
             ],
             [
              0.6666666666666666,
              "#ed7953"
             ],
             [
              0.7777777777777778,
              "#fb9f3a"
             ],
             [
              0.8888888888888888,
              "#fdca26"
             ],
             [
              1,
              "#f0f921"
             ]
            ],
            "type": "heatmap"
           }
          ],
          "heatmapgl": [
           {
            "colorbar": {
             "outlinewidth": 0,
             "ticks": ""
            },
            "colorscale": [
             [
              0,
              "#0d0887"
             ],
             [
              0.1111111111111111,
              "#46039f"
             ],
             [
              0.2222222222222222,
              "#7201a8"
             ],
             [
              0.3333333333333333,
              "#9c179e"
             ],
             [
              0.4444444444444444,
              "#bd3786"
             ],
             [
              0.5555555555555556,
              "#d8576b"
             ],
             [
              0.6666666666666666,
              "#ed7953"
             ],
             [
              0.7777777777777778,
              "#fb9f3a"
             ],
             [
              0.8888888888888888,
              "#fdca26"
             ],
             [
              1,
              "#f0f921"
             ]
            ],
            "type": "heatmapgl"
           }
          ],
          "histogram": [
           {
            "marker": {
             "colorbar": {
              "outlinewidth": 0,
              "ticks": ""
             }
            },
            "type": "histogram"
           }
          ],
          "histogram2d": [
           {
            "colorbar": {
             "outlinewidth": 0,
             "ticks": ""
            },
            "colorscale": [
             [
              0,
              "#0d0887"
             ],
             [
              0.1111111111111111,
              "#46039f"
             ],
             [
              0.2222222222222222,
              "#7201a8"
             ],
             [
              0.3333333333333333,
              "#9c179e"
             ],
             [
              0.4444444444444444,
              "#bd3786"
             ],
             [
              0.5555555555555556,
              "#d8576b"
             ],
             [
              0.6666666666666666,
              "#ed7953"
             ],
             [
              0.7777777777777778,
              "#fb9f3a"
             ],
             [
              0.8888888888888888,
              "#fdca26"
             ],
             [
              1,
              "#f0f921"
             ]
            ],
            "type": "histogram2d"
           }
          ],
          "histogram2dcontour": [
           {
            "colorbar": {
             "outlinewidth": 0,
             "ticks": ""
            },
            "colorscale": [
             [
              0,
              "#0d0887"
             ],
             [
              0.1111111111111111,
              "#46039f"
             ],
             [
              0.2222222222222222,
              "#7201a8"
             ],
             [
              0.3333333333333333,
              "#9c179e"
             ],
             [
              0.4444444444444444,
              "#bd3786"
             ],
             [
              0.5555555555555556,
              "#d8576b"
             ],
             [
              0.6666666666666666,
              "#ed7953"
             ],
             [
              0.7777777777777778,
              "#fb9f3a"
             ],
             [
              0.8888888888888888,
              "#fdca26"
             ],
             [
              1,
              "#f0f921"
             ]
            ],
            "type": "histogram2dcontour"
           }
          ],
          "mesh3d": [
           {
            "colorbar": {
             "outlinewidth": 0,
             "ticks": ""
            },
            "type": "mesh3d"
           }
          ],
          "parcoords": [
           {
            "line": {
             "colorbar": {
              "outlinewidth": 0,
              "ticks": ""
             }
            },
            "type": "parcoords"
           }
          ],
          "scatter": [
           {
            "marker": {
             "colorbar": {
              "outlinewidth": 0,
              "ticks": ""
             }
            },
            "type": "scatter"
           }
          ],
          "scatter3d": [
           {
            "line": {
             "colorbar": {
              "outlinewidth": 0,
              "ticks": ""
             }
            },
            "marker": {
             "colorbar": {
              "outlinewidth": 0,
              "ticks": ""
             }
            },
            "type": "scatter3d"
           }
          ],
          "scattercarpet": [
           {
            "marker": {
             "colorbar": {
              "outlinewidth": 0,
              "ticks": ""
             }
            },
            "type": "scattercarpet"
           }
          ],
          "scattergeo": [
           {
            "marker": {
             "colorbar": {
              "outlinewidth": 0,
              "ticks": ""
             }
            },
            "type": "scattergeo"
           }
          ],
          "scattergl": [
           {
            "marker": {
             "colorbar": {
              "outlinewidth": 0,
              "ticks": ""
             }
            },
            "type": "scattergl"
           }
          ],
          "scattermapbox": [
           {
            "marker": {
             "colorbar": {
              "outlinewidth": 0,
              "ticks": ""
             }
            },
            "type": "scattermapbox"
           }
          ],
          "scatterpolar": [
           {
            "marker": {
             "colorbar": {
              "outlinewidth": 0,
              "ticks": ""
             }
            },
            "type": "scatterpolar"
           }
          ],
          "scatterpolargl": [
           {
            "marker": {
             "colorbar": {
              "outlinewidth": 0,
              "ticks": ""
             }
            },
            "type": "scatterpolargl"
           }
          ],
          "scatterternary": [
           {
            "marker": {
             "colorbar": {
              "outlinewidth": 0,
              "ticks": ""
             }
            },
            "type": "scatterternary"
           }
          ],
          "surface": [
           {
            "colorbar": {
             "outlinewidth": 0,
             "ticks": ""
            },
            "colorscale": [
             [
              0,
              "#0d0887"
             ],
             [
              0.1111111111111111,
              "#46039f"
             ],
             [
              0.2222222222222222,
              "#7201a8"
             ],
             [
              0.3333333333333333,
              "#9c179e"
             ],
             [
              0.4444444444444444,
              "#bd3786"
             ],
             [
              0.5555555555555556,
              "#d8576b"
             ],
             [
              0.6666666666666666,
              "#ed7953"
             ],
             [
              0.7777777777777778,
              "#fb9f3a"
             ],
             [
              0.8888888888888888,
              "#fdca26"
             ],
             [
              1,
              "#f0f921"
             ]
            ],
            "type": "surface"
           }
          ],
          "table": [
           {
            "cells": {
             "fill": {
              "color": "#EBF0F8"
             },
             "line": {
              "color": "white"
             }
            },
            "header": {
             "fill": {
              "color": "#C8D4E3"
             },
             "line": {
              "color": "white"
             }
            },
            "type": "table"
           }
          ]
         },
         "layout": {
          "annotationdefaults": {
           "arrowcolor": "#2a3f5f",
           "arrowhead": 0,
           "arrowwidth": 1
          },
          "colorscale": {
           "diverging": [
            [
             0,
             "#8e0152"
            ],
            [
             0.1,
             "#c51b7d"
            ],
            [
             0.2,
             "#de77ae"
            ],
            [
             0.3,
             "#f1b6da"
            ],
            [
             0.4,
             "#fde0ef"
            ],
            [
             0.5,
             "#f7f7f7"
            ],
            [
             0.6,
             "#e6f5d0"
            ],
            [
             0.7,
             "#b8e186"
            ],
            [
             0.8,
             "#7fbc41"
            ],
            [
             0.9,
             "#4d9221"
            ],
            [
             1,
             "#276419"
            ]
           ],
           "sequential": [
            [
             0,
             "#0d0887"
            ],
            [
             0.1111111111111111,
             "#46039f"
            ],
            [
             0.2222222222222222,
             "#7201a8"
            ],
            [
             0.3333333333333333,
             "#9c179e"
            ],
            [
             0.4444444444444444,
             "#bd3786"
            ],
            [
             0.5555555555555556,
             "#d8576b"
            ],
            [
             0.6666666666666666,
             "#ed7953"
            ],
            [
             0.7777777777777778,
             "#fb9f3a"
            ],
            [
             0.8888888888888888,
             "#fdca26"
            ],
            [
             1,
             "#f0f921"
            ]
           ],
           "sequentialminus": [
            [
             0,
             "#0d0887"
            ],
            [
             0.1111111111111111,
             "#46039f"
            ],
            [
             0.2222222222222222,
             "#7201a8"
            ],
            [
             0.3333333333333333,
             "#9c179e"
            ],
            [
             0.4444444444444444,
             "#bd3786"
            ],
            [
             0.5555555555555556,
             "#d8576b"
            ],
            [
             0.6666666666666666,
             "#ed7953"
            ],
            [
             0.7777777777777778,
             "#fb9f3a"
            ],
            [
             0.8888888888888888,
             "#fdca26"
            ],
            [
             1,
             "#f0f921"
            ]
           ]
          },
          "colorway": [
           "#636efa",
           "#EF553B",
           "#00cc96",
           "#ab63fa",
           "#FFA15A",
           "#19d3f3",
           "#FF6692",
           "#B6E880",
           "#FF97FF",
           "#FECB52"
          ],
          "font": {
           "color": "#2a3f5f"
          },
          "geo": {
           "bgcolor": "white",
           "lakecolor": "white",
           "landcolor": "#E5ECF6",
           "showlakes": true,
           "showland": true,
           "subunitcolor": "white"
          },
          "hoverlabel": {
           "align": "left"
          },
          "hovermode": "closest",
          "mapbox": {
           "style": "light"
          },
          "paper_bgcolor": "white",
          "plot_bgcolor": "#E5ECF6",
          "polar": {
           "angularaxis": {
            "gridcolor": "white",
            "linecolor": "white",
            "ticks": ""
           },
           "bgcolor": "#E5ECF6",
           "radialaxis": {
            "gridcolor": "white",
            "linecolor": "white",
            "ticks": ""
           }
          },
          "scene": {
           "xaxis": {
            "backgroundcolor": "#E5ECF6",
            "gridcolor": "white",
            "gridwidth": 2,
            "linecolor": "white",
            "showbackground": true,
            "ticks": "",
            "zerolinecolor": "white"
           },
           "yaxis": {
            "backgroundcolor": "#E5ECF6",
            "gridcolor": "white",
            "gridwidth": 2,
            "linecolor": "white",
            "showbackground": true,
            "ticks": "",
            "zerolinecolor": "white"
           },
           "zaxis": {
            "backgroundcolor": "#E5ECF6",
            "gridcolor": "white",
            "gridwidth": 2,
            "linecolor": "white",
            "showbackground": true,
            "ticks": "",
            "zerolinecolor": "white"
           }
          },
          "shapedefaults": {
           "line": {
            "color": "#2a3f5f"
           }
          },
          "ternary": {
           "aaxis": {
            "gridcolor": "white",
            "linecolor": "white",
            "ticks": ""
           },
           "baxis": {
            "gridcolor": "white",
            "linecolor": "white",
            "ticks": ""
           },
           "bgcolor": "#E5ECF6",
           "caxis": {
            "gridcolor": "white",
            "linecolor": "white",
            "ticks": ""
           }
          },
          "title": {
           "x": 0.05
          },
          "xaxis": {
           "automargin": true,
           "gridcolor": "white",
           "linecolor": "white",
           "ticks": "",
           "zerolinecolor": "white",
           "zerolinewidth": 2
          },
          "yaxis": {
           "automargin": true,
           "gridcolor": "white",
           "linecolor": "white",
           "ticks": "",
           "zerolinecolor": "white",
           "zerolinewidth": 2
          }
         }
        },
        "title": {
         "text": "Распределение вакансий по городам"
        }
       }
      },
      "text/html": [
       "<div>\n",
       "        \n",
       "        \n",
       "            <div id=\"3f4a1d37-1e04-4b5a-a111-90866c1f101d\" class=\"plotly-graph-div\" style=\"height:525px; width:100%;\"></div>\n",
       "            <script type=\"text/javascript\">\n",
       "                require([\"plotly\"], function(Plotly) {\n",
       "                    window.PLOTLYENV=window.PLOTLYENV || {};\n",
       "                    \n",
       "                if (document.getElementById(\"3f4a1d37-1e04-4b5a-a111-90866c1f101d\")) {\n",
       "                    Plotly.newPlot(\n",
       "                        '3f4a1d37-1e04-4b5a-a111-90866c1f101d',\n",
       "                        [{\"hovertemplate\": \"<b>%{label}</b><br>\\u0414\\u043e\\u043b\\u044f: %{percent} </br>\\u041a\\u043e\\u043b\\u0438\\u0447\\u0435\\u0441\\u0442\\u0432\\u043e: %{value} \\u0432\\u0430\\u043a\\u0430\\u043d\\u0441\\u0438\\u0439\", \"labels\": [\"\\u041c\\u043e\\u0441\\u043a\\u0432\\u0430\", \"\\u0421\\u0430\\u043d\\u043a\\u0442-\\u041f\\u0435\\u0442\\u0435\\u0440\\u0431\\u0443\\u0440\\u0433\", \"\\u041c\\u043e\\u0441\\u043a\\u043e\\u0432\\u0441\\u043a\\u0430\\u044f \\u043e\\u0431\\u043b\\u0430\\u0441\\u0442\\u044c\", \"\\u041d\\u043e\\u0432\\u043e\\u0441\\u0438\\u0431\\u0438\\u0440\\u0441\\u043a\", \"\\u041d\\u0438\\u0436\\u043d\\u0438\\u0439 \\u041d\\u043e\\u0432\\u0433\\u043e\\u0440\\u043e\\u0434\"], \"name\": \"\", \"type\": \"pie\", \"values\": [188, 40, 28, 27, 15]}],\n",
       "                        {\"template\": {\"data\": {\"bar\": [{\"error_x\": {\"color\": \"#2a3f5f\"}, \"error_y\": {\"color\": \"#2a3f5f\"}, \"marker\": {\"line\": {\"color\": \"#E5ECF6\", \"width\": 0.5}}, \"type\": \"bar\"}], \"barpolar\": [{\"marker\": {\"line\": {\"color\": \"#E5ECF6\", \"width\": 0.5}}, \"type\": \"barpolar\"}], \"carpet\": [{\"aaxis\": {\"endlinecolor\": \"#2a3f5f\", \"gridcolor\": \"white\", \"linecolor\": \"white\", \"minorgridcolor\": \"white\", \"startlinecolor\": \"#2a3f5f\"}, \"baxis\": {\"endlinecolor\": \"#2a3f5f\", \"gridcolor\": \"white\", \"linecolor\": \"white\", \"minorgridcolor\": \"white\", \"startlinecolor\": \"#2a3f5f\"}, \"type\": \"carpet\"}], \"choropleth\": [{\"colorbar\": {\"outlinewidth\": 0, \"ticks\": \"\"}, \"type\": \"choropleth\"}], \"contour\": [{\"colorbar\": {\"outlinewidth\": 0, \"ticks\": \"\"}, \"colorscale\": [[0.0, \"#0d0887\"], [0.1111111111111111, \"#46039f\"], [0.2222222222222222, \"#7201a8\"], [0.3333333333333333, \"#9c179e\"], [0.4444444444444444, \"#bd3786\"], [0.5555555555555556, \"#d8576b\"], [0.6666666666666666, \"#ed7953\"], [0.7777777777777778, \"#fb9f3a\"], [0.8888888888888888, \"#fdca26\"], [1.0, \"#f0f921\"]], \"type\": \"contour\"}], \"contourcarpet\": [{\"colorbar\": {\"outlinewidth\": 0, \"ticks\": \"\"}, \"type\": \"contourcarpet\"}], \"heatmap\": [{\"colorbar\": {\"outlinewidth\": 0, \"ticks\": \"\"}, \"colorscale\": [[0.0, \"#0d0887\"], [0.1111111111111111, \"#46039f\"], [0.2222222222222222, \"#7201a8\"], [0.3333333333333333, \"#9c179e\"], [0.4444444444444444, \"#bd3786\"], [0.5555555555555556, \"#d8576b\"], [0.6666666666666666, \"#ed7953\"], [0.7777777777777778, \"#fb9f3a\"], [0.8888888888888888, \"#fdca26\"], [1.0, \"#f0f921\"]], \"type\": \"heatmap\"}], \"heatmapgl\": [{\"colorbar\": {\"outlinewidth\": 0, \"ticks\": \"\"}, \"colorscale\": [[0.0, \"#0d0887\"], [0.1111111111111111, \"#46039f\"], [0.2222222222222222, \"#7201a8\"], [0.3333333333333333, \"#9c179e\"], [0.4444444444444444, \"#bd3786\"], [0.5555555555555556, \"#d8576b\"], [0.6666666666666666, \"#ed7953\"], [0.7777777777777778, \"#fb9f3a\"], [0.8888888888888888, \"#fdca26\"], [1.0, \"#f0f921\"]], \"type\": \"heatmapgl\"}], \"histogram\": [{\"marker\": {\"colorbar\": {\"outlinewidth\": 0, \"ticks\": \"\"}}, \"type\": \"histogram\"}], \"histogram2d\": [{\"colorbar\": {\"outlinewidth\": 0, \"ticks\": \"\"}, \"colorscale\": [[0.0, \"#0d0887\"], [0.1111111111111111, \"#46039f\"], [0.2222222222222222, \"#7201a8\"], [0.3333333333333333, \"#9c179e\"], [0.4444444444444444, \"#bd3786\"], [0.5555555555555556, \"#d8576b\"], [0.6666666666666666, \"#ed7953\"], [0.7777777777777778, \"#fb9f3a\"], [0.8888888888888888, \"#fdca26\"], [1.0, \"#f0f921\"]], \"type\": \"histogram2d\"}], \"histogram2dcontour\": [{\"colorbar\": {\"outlinewidth\": 0, \"ticks\": \"\"}, \"colorscale\": [[0.0, \"#0d0887\"], [0.1111111111111111, \"#46039f\"], [0.2222222222222222, \"#7201a8\"], [0.3333333333333333, \"#9c179e\"], [0.4444444444444444, \"#bd3786\"], [0.5555555555555556, \"#d8576b\"], [0.6666666666666666, \"#ed7953\"], [0.7777777777777778, \"#fb9f3a\"], [0.8888888888888888, \"#fdca26\"], [1.0, \"#f0f921\"]], \"type\": \"histogram2dcontour\"}], \"mesh3d\": [{\"colorbar\": {\"outlinewidth\": 0, \"ticks\": \"\"}, \"type\": \"mesh3d\"}], \"parcoords\": [{\"line\": {\"colorbar\": {\"outlinewidth\": 0, \"ticks\": \"\"}}, \"type\": \"parcoords\"}], \"scatter\": [{\"marker\": {\"colorbar\": {\"outlinewidth\": 0, \"ticks\": \"\"}}, \"type\": \"scatter\"}], \"scatter3d\": [{\"line\": {\"colorbar\": {\"outlinewidth\": 0, \"ticks\": \"\"}}, \"marker\": {\"colorbar\": {\"outlinewidth\": 0, \"ticks\": \"\"}}, \"type\": \"scatter3d\"}], \"scattercarpet\": [{\"marker\": {\"colorbar\": {\"outlinewidth\": 0, \"ticks\": \"\"}}, \"type\": \"scattercarpet\"}], \"scattergeo\": [{\"marker\": {\"colorbar\": {\"outlinewidth\": 0, \"ticks\": \"\"}}, \"type\": \"scattergeo\"}], \"scattergl\": [{\"marker\": {\"colorbar\": {\"outlinewidth\": 0, \"ticks\": \"\"}}, \"type\": \"scattergl\"}], \"scattermapbox\": [{\"marker\": {\"colorbar\": {\"outlinewidth\": 0, \"ticks\": \"\"}}, \"type\": \"scattermapbox\"}], \"scatterpolar\": [{\"marker\": {\"colorbar\": {\"outlinewidth\": 0, \"ticks\": \"\"}}, \"type\": \"scatterpolar\"}], \"scatterpolargl\": [{\"marker\": {\"colorbar\": {\"outlinewidth\": 0, \"ticks\": \"\"}}, \"type\": \"scatterpolargl\"}], \"scatterternary\": [{\"marker\": {\"colorbar\": {\"outlinewidth\": 0, \"ticks\": \"\"}}, \"type\": \"scatterternary\"}], \"surface\": [{\"colorbar\": {\"outlinewidth\": 0, \"ticks\": \"\"}, \"colorscale\": [[0.0, \"#0d0887\"], [0.1111111111111111, \"#46039f\"], [0.2222222222222222, \"#7201a8\"], [0.3333333333333333, \"#9c179e\"], [0.4444444444444444, \"#bd3786\"], [0.5555555555555556, \"#d8576b\"], [0.6666666666666666, \"#ed7953\"], [0.7777777777777778, \"#fb9f3a\"], [0.8888888888888888, \"#fdca26\"], [1.0, \"#f0f921\"]], \"type\": \"surface\"}], \"table\": [{\"cells\": {\"fill\": {\"color\": \"#EBF0F8\"}, \"line\": {\"color\": \"white\"}}, \"header\": {\"fill\": {\"color\": \"#C8D4E3\"}, \"line\": {\"color\": \"white\"}}, \"type\": \"table\"}]}, \"layout\": {\"annotationdefaults\": {\"arrowcolor\": \"#2a3f5f\", \"arrowhead\": 0, \"arrowwidth\": 1}, \"colorscale\": {\"diverging\": [[0, \"#8e0152\"], [0.1, \"#c51b7d\"], [0.2, \"#de77ae\"], [0.3, \"#f1b6da\"], [0.4, \"#fde0ef\"], [0.5, \"#f7f7f7\"], [0.6, \"#e6f5d0\"], [0.7, \"#b8e186\"], [0.8, \"#7fbc41\"], [0.9, \"#4d9221\"], [1, \"#276419\"]], \"sequential\": [[0.0, \"#0d0887\"], [0.1111111111111111, \"#46039f\"], [0.2222222222222222, \"#7201a8\"], [0.3333333333333333, \"#9c179e\"], [0.4444444444444444, \"#bd3786\"], [0.5555555555555556, \"#d8576b\"], [0.6666666666666666, \"#ed7953\"], [0.7777777777777778, \"#fb9f3a\"], [0.8888888888888888, \"#fdca26\"], [1.0, \"#f0f921\"]], \"sequentialminus\": [[0.0, \"#0d0887\"], [0.1111111111111111, \"#46039f\"], [0.2222222222222222, \"#7201a8\"], [0.3333333333333333, \"#9c179e\"], [0.4444444444444444, \"#bd3786\"], [0.5555555555555556, \"#d8576b\"], [0.6666666666666666, \"#ed7953\"], [0.7777777777777778, \"#fb9f3a\"], [0.8888888888888888, \"#fdca26\"], [1.0, \"#f0f921\"]]}, \"colorway\": [\"#636efa\", \"#EF553B\", \"#00cc96\", \"#ab63fa\", \"#FFA15A\", \"#19d3f3\", \"#FF6692\", \"#B6E880\", \"#FF97FF\", \"#FECB52\"], \"font\": {\"color\": \"#2a3f5f\"}, \"geo\": {\"bgcolor\": \"white\", \"lakecolor\": \"white\", \"landcolor\": \"#E5ECF6\", \"showlakes\": true, \"showland\": true, \"subunitcolor\": \"white\"}, \"hoverlabel\": {\"align\": \"left\"}, \"hovermode\": \"closest\", \"mapbox\": {\"style\": \"light\"}, \"paper_bgcolor\": \"white\", \"plot_bgcolor\": \"#E5ECF6\", \"polar\": {\"angularaxis\": {\"gridcolor\": \"white\", \"linecolor\": \"white\", \"ticks\": \"\"}, \"bgcolor\": \"#E5ECF6\", \"radialaxis\": {\"gridcolor\": \"white\", \"linecolor\": \"white\", \"ticks\": \"\"}}, \"scene\": {\"xaxis\": {\"backgroundcolor\": \"#E5ECF6\", \"gridcolor\": \"white\", \"gridwidth\": 2, \"linecolor\": \"white\", \"showbackground\": true, \"ticks\": \"\", \"zerolinecolor\": \"white\"}, \"yaxis\": {\"backgroundcolor\": \"#E5ECF6\", \"gridcolor\": \"white\", \"gridwidth\": 2, \"linecolor\": \"white\", \"showbackground\": true, \"ticks\": \"\", \"zerolinecolor\": \"white\"}, \"zaxis\": {\"backgroundcolor\": \"#E5ECF6\", \"gridcolor\": \"white\", \"gridwidth\": 2, \"linecolor\": \"white\", \"showbackground\": true, \"ticks\": \"\", \"zerolinecolor\": \"white\"}}, \"shapedefaults\": {\"line\": {\"color\": \"#2a3f5f\"}}, \"ternary\": {\"aaxis\": {\"gridcolor\": \"white\", \"linecolor\": \"white\", \"ticks\": \"\"}, \"baxis\": {\"gridcolor\": \"white\", \"linecolor\": \"white\", \"ticks\": \"\"}, \"bgcolor\": \"#E5ECF6\", \"caxis\": {\"gridcolor\": \"white\", \"linecolor\": \"white\", \"ticks\": \"\"}}, \"title\": {\"x\": 0.05}, \"xaxis\": {\"automargin\": true, \"gridcolor\": \"white\", \"linecolor\": \"white\", \"ticks\": \"\", \"zerolinecolor\": \"white\", \"zerolinewidth\": 2}, \"yaxis\": {\"automargin\": true, \"gridcolor\": \"white\", \"linecolor\": \"white\", \"ticks\": \"\", \"zerolinecolor\": \"white\", \"zerolinewidth\": 2}}}, \"title\": {\"text\": \"\\u0420\\u0430\\u0441\\u043f\\u0440\\u0435\\u0434\\u0435\\u043b\\u0435\\u043d\\u0438\\u0435 \\u0432\\u0430\\u043a\\u0430\\u043d\\u0441\\u0438\\u0439 \\u043f\\u043e \\u0433\\u043e\\u0440\\u043e\\u0434\\u0430\\u043c\"}},\n",
       "                        {\"responsive\": true}\n",
       "                    ).then(function(){\n",
       "                            \n",
       "var gd = document.getElementById('3f4a1d37-1e04-4b5a-a111-90866c1f101d');\n",
       "var x = new MutationObserver(function (mutations, observer) {{\n",
       "        var display = window.getComputedStyle(gd).display;\n",
       "        if (!display || display === 'none') {{\n",
       "            console.log([gd, 'removed!']);\n",
       "            Plotly.purge(gd);\n",
       "            observer.disconnect();\n",
       "        }}\n",
       "}});\n",
       "\n",
       "// Listen for the removal of the full notebook cells\n",
       "var notebookContainer = gd.closest('#notebook-container');\n",
       "if (notebookContainer) {{\n",
       "    x.observe(notebookContainer, {childList: true});\n",
       "}}\n",
       "\n",
       "// Listen for the clearing of the current output cell\n",
       "var outputEl = gd.closest('.output');\n",
       "if (outputEl) {{\n",
       "    x.observe(outputEl, {childList: true});\n",
       "}}\n",
       "\n",
       "                        })\n",
       "                };\n",
       "                });\n",
       "            </script>\n",
       "        </div>"
      ]
     },
     "metadata": {},
     "output_type": "display_data"
    }
   ],
   "source": [
    "cities = df['address'].value_counts()[:5]\n",
    "\n",
    "trace0 = go.Pie(\n",
    "    name = \"\",\n",
    "    values = cities.values,\n",
    "    labels = cities.index,\n",
    "    hovertemplate = \"<b>%{label}</b><br>Доля: %{percent} </br>Количество: %{value} вакансий\"\n",
    ")\n",
    "layout= go.Layout(\n",
    "    title= 'Распределение вакансий по городам'\n",
    ")\n",
    "fig = go.Figure(data = [trace0], layout = layout)\n",
    "fig.show()"
   ]
  },
  {
   "cell_type": "markdown",
   "id": "b6b41db2",
   "metadata": {},
   "source": [
    "### Вопрос 2. Какие навыки требуются на рынке? Чему учиться?"
   ]
  },
  {
   "cell_type": "code",
   "execution_count": 17,
   "id": "a740f0bf",
   "metadata": {},
   "outputs": [
    {
     "data": {
      "text/html": [
       "<div>\n",
       "<style scoped>\n",
       "    .dataframe tbody tr th:only-of-type {\n",
       "        vertical-align: middle;\n",
       "    }\n",
       "\n",
       "    .dataframe tbody tr th {\n",
       "        vertical-align: top;\n",
       "    }\n",
       "\n",
       "    .dataframe thead th {\n",
       "        text-align: right;\n",
       "    }\n",
       "</style>\n",
       "<table border=\"1\" class=\"dataframe\">\n",
       "  <thead>\n",
       "    <tr style=\"text-align: right;\">\n",
       "      <th></th>\n",
       "      <th>skill</th>\n",
       "      <th>num</th>\n",
       "    </tr>\n",
       "  </thead>\n",
       "  <tbody>\n",
       "    <tr>\n",
       "      <th>0</th>\n",
       "      <td>PYTHON</td>\n",
       "      <td>255</td>\n",
       "    </tr>\n",
       "    <tr>\n",
       "      <th>1</th>\n",
       "      <td>SQL</td>\n",
       "      <td>165</td>\n",
       "    </tr>\n",
       "    <tr>\n",
       "      <th>2</th>\n",
       "      <td>ДАННЫХ</td>\n",
       "      <td>90</td>\n",
       "    </tr>\n",
       "    <tr>\n",
       "      <th>3</th>\n",
       "      <td>DATA</td>\n",
       "      <td>87</td>\n",
       "    </tr>\n",
       "    <tr>\n",
       "      <th>4</th>\n",
       "      <td>ML</td>\n",
       "      <td>82</td>\n",
       "    </tr>\n",
       "    <tr>\n",
       "      <th>5</th>\n",
       "      <td>LEARNING</td>\n",
       "      <td>80</td>\n",
       "    </tr>\n",
       "    <tr>\n",
       "      <th>6</th>\n",
       "      <td>ОПЫТ</td>\n",
       "      <td>76</td>\n",
       "    </tr>\n",
       "    <tr>\n",
       "      <th>7</th>\n",
       "      <td>MACHINE</td>\n",
       "      <td>64</td>\n",
       "    </tr>\n",
       "    <tr>\n",
       "      <th>8</th>\n",
       "      <td>PYTORCH</td>\n",
       "      <td>63</td>\n",
       "    </tr>\n",
       "    <tr>\n",
       "      <th>9</th>\n",
       "      <td>РАБОТЫ</td>\n",
       "      <td>54</td>\n",
       "    </tr>\n",
       "    <tr>\n",
       "      <th>10</th>\n",
       "      <td>PANDAS</td>\n",
       "      <td>51</td>\n",
       "    </tr>\n",
       "    <tr>\n",
       "      <th>11</th>\n",
       "      <td>АНАЛИЗ</td>\n",
       "      <td>47</td>\n",
       "    </tr>\n",
       "    <tr>\n",
       "      <th>12</th>\n",
       "      <td>NLP</td>\n",
       "      <td>47</td>\n",
       "    </tr>\n",
       "    <tr>\n",
       "      <th>13</th>\n",
       "      <td>GIT</td>\n",
       "      <td>42</td>\n",
       "    </tr>\n",
       "    <tr>\n",
       "      <th>14</th>\n",
       "      <td>SPARK</td>\n",
       "      <td>42</td>\n",
       "    </tr>\n",
       "  </tbody>\n",
       "</table>\n",
       "</div>"
      ],
      "text/plain": [
       "       skill  num\n",
       "0     PYTHON  255\n",
       "1        SQL  165\n",
       "2     ДАННЫХ   90\n",
       "3       DATA   87\n",
       "4         ML   82\n",
       "5   LEARNING   80\n",
       "6       ОПЫТ   76\n",
       "7    MACHINE   64\n",
       "8    PYTORCH   63\n",
       "9     РАБОТЫ   54\n",
       "10    PANDAS   51\n",
       "11    АНАЛИЗ   47\n",
       "12       NLP   47\n",
       "13       GIT   42\n",
       "14     SPARK   42"
      ]
     },
     "execution_count": 17,
     "metadata": {},
     "output_type": "execute_result"
    }
   ],
   "source": [
    "skills = df['skills'].str.cat(sep = ' ').lower().replace(',', '').replace(';', '').split()\n",
    "skills = [skill for skill in skills if len(skill) > 1]\n",
    "\n",
    "skills_vis = Counter(skills).most_common(15)\n",
    "sk = pd.DataFrame(skills_vis, columns = ['skill', 'num'])\n",
    "sk['skill'] = sk['skill'].str.upper() # приведем все названия к верхнему регистру\n",
    "sk"
   ]
  },
  {
   "cell_type": "code",
   "execution_count": 18,
   "id": "0cc0c52b",
   "metadata": {},
   "outputs": [
    {
     "data": {
      "application/vnd.plotly.v1+json": {
       "config": {
        "plotlyServerURL": "https://plot.ly"
       },
       "data": [
        {
         "hovertemplate": "<b>%{label}</b>\n <br>Доля: %{percent} </br>Количество: %{value} упоминаний",
         "labels": [
          "PYTHON",
          "SQL",
          "ДАННЫХ",
          "DATA",
          "ML",
          "LEARNING",
          "ОПЫТ",
          "MACHINE",
          "PYTORCH",
          "РАБОТЫ",
          "PANDAS",
          "АНАЛИЗ",
          "NLP",
          "GIT",
          "SPARK"
         ],
         "name": "",
         "type": "pie",
         "values": [
          255,
          165,
          90,
          87,
          82,
          80,
          76,
          64,
          63,
          54,
          51,
          47,
          47,
          42,
          42
         ]
        }
       ],
       "layout": {
        "template": {
         "data": {
          "bar": [
           {
            "error_x": {
             "color": "#2a3f5f"
            },
            "error_y": {
             "color": "#2a3f5f"
            },
            "marker": {
             "line": {
              "color": "#E5ECF6",
              "width": 0.5
             }
            },
            "type": "bar"
           }
          ],
          "barpolar": [
           {
            "marker": {
             "line": {
              "color": "#E5ECF6",
              "width": 0.5
             }
            },
            "type": "barpolar"
           }
          ],
          "carpet": [
           {
            "aaxis": {
             "endlinecolor": "#2a3f5f",
             "gridcolor": "white",
             "linecolor": "white",
             "minorgridcolor": "white",
             "startlinecolor": "#2a3f5f"
            },
            "baxis": {
             "endlinecolor": "#2a3f5f",
             "gridcolor": "white",
             "linecolor": "white",
             "minorgridcolor": "white",
             "startlinecolor": "#2a3f5f"
            },
            "type": "carpet"
           }
          ],
          "choropleth": [
           {
            "colorbar": {
             "outlinewidth": 0,
             "ticks": ""
            },
            "type": "choropleth"
           }
          ],
          "contour": [
           {
            "colorbar": {
             "outlinewidth": 0,
             "ticks": ""
            },
            "colorscale": [
             [
              0,
              "#0d0887"
             ],
             [
              0.1111111111111111,
              "#46039f"
             ],
             [
              0.2222222222222222,
              "#7201a8"
             ],
             [
              0.3333333333333333,
              "#9c179e"
             ],
             [
              0.4444444444444444,
              "#bd3786"
             ],
             [
              0.5555555555555556,
              "#d8576b"
             ],
             [
              0.6666666666666666,
              "#ed7953"
             ],
             [
              0.7777777777777778,
              "#fb9f3a"
             ],
             [
              0.8888888888888888,
              "#fdca26"
             ],
             [
              1,
              "#f0f921"
             ]
            ],
            "type": "contour"
           }
          ],
          "contourcarpet": [
           {
            "colorbar": {
             "outlinewidth": 0,
             "ticks": ""
            },
            "type": "contourcarpet"
           }
          ],
          "heatmap": [
           {
            "colorbar": {
             "outlinewidth": 0,
             "ticks": ""
            },
            "colorscale": [
             [
              0,
              "#0d0887"
             ],
             [
              0.1111111111111111,
              "#46039f"
             ],
             [
              0.2222222222222222,
              "#7201a8"
             ],
             [
              0.3333333333333333,
              "#9c179e"
             ],
             [
              0.4444444444444444,
              "#bd3786"
             ],
             [
              0.5555555555555556,
              "#d8576b"
             ],
             [
              0.6666666666666666,
              "#ed7953"
             ],
             [
              0.7777777777777778,
              "#fb9f3a"
             ],
             [
              0.8888888888888888,
              "#fdca26"
             ],
             [
              1,
              "#f0f921"
             ]
            ],
            "type": "heatmap"
           }
          ],
          "heatmapgl": [
           {
            "colorbar": {
             "outlinewidth": 0,
             "ticks": ""
            },
            "colorscale": [
             [
              0,
              "#0d0887"
             ],
             [
              0.1111111111111111,
              "#46039f"
             ],
             [
              0.2222222222222222,
              "#7201a8"
             ],
             [
              0.3333333333333333,
              "#9c179e"
             ],
             [
              0.4444444444444444,
              "#bd3786"
             ],
             [
              0.5555555555555556,
              "#d8576b"
             ],
             [
              0.6666666666666666,
              "#ed7953"
             ],
             [
              0.7777777777777778,
              "#fb9f3a"
             ],
             [
              0.8888888888888888,
              "#fdca26"
             ],
             [
              1,
              "#f0f921"
             ]
            ],
            "type": "heatmapgl"
           }
          ],
          "histogram": [
           {
            "marker": {
             "colorbar": {
              "outlinewidth": 0,
              "ticks": ""
             }
            },
            "type": "histogram"
           }
          ],
          "histogram2d": [
           {
            "colorbar": {
             "outlinewidth": 0,
             "ticks": ""
            },
            "colorscale": [
             [
              0,
              "#0d0887"
             ],
             [
              0.1111111111111111,
              "#46039f"
             ],
             [
              0.2222222222222222,
              "#7201a8"
             ],
             [
              0.3333333333333333,
              "#9c179e"
             ],
             [
              0.4444444444444444,
              "#bd3786"
             ],
             [
              0.5555555555555556,
              "#d8576b"
             ],
             [
              0.6666666666666666,
              "#ed7953"
             ],
             [
              0.7777777777777778,
              "#fb9f3a"
             ],
             [
              0.8888888888888888,
              "#fdca26"
             ],
             [
              1,
              "#f0f921"
             ]
            ],
            "type": "histogram2d"
           }
          ],
          "histogram2dcontour": [
           {
            "colorbar": {
             "outlinewidth": 0,
             "ticks": ""
            },
            "colorscale": [
             [
              0,
              "#0d0887"
             ],
             [
              0.1111111111111111,
              "#46039f"
             ],
             [
              0.2222222222222222,
              "#7201a8"
             ],
             [
              0.3333333333333333,
              "#9c179e"
             ],
             [
              0.4444444444444444,
              "#bd3786"
             ],
             [
              0.5555555555555556,
              "#d8576b"
             ],
             [
              0.6666666666666666,
              "#ed7953"
             ],
             [
              0.7777777777777778,
              "#fb9f3a"
             ],
             [
              0.8888888888888888,
              "#fdca26"
             ],
             [
              1,
              "#f0f921"
             ]
            ],
            "type": "histogram2dcontour"
           }
          ],
          "mesh3d": [
           {
            "colorbar": {
             "outlinewidth": 0,
             "ticks": ""
            },
            "type": "mesh3d"
           }
          ],
          "parcoords": [
           {
            "line": {
             "colorbar": {
              "outlinewidth": 0,
              "ticks": ""
             }
            },
            "type": "parcoords"
           }
          ],
          "scatter": [
           {
            "marker": {
             "colorbar": {
              "outlinewidth": 0,
              "ticks": ""
             }
            },
            "type": "scatter"
           }
          ],
          "scatter3d": [
           {
            "line": {
             "colorbar": {
              "outlinewidth": 0,
              "ticks": ""
             }
            },
            "marker": {
             "colorbar": {
              "outlinewidth": 0,
              "ticks": ""
             }
            },
            "type": "scatter3d"
           }
          ],
          "scattercarpet": [
           {
            "marker": {
             "colorbar": {
              "outlinewidth": 0,
              "ticks": ""
             }
            },
            "type": "scattercarpet"
           }
          ],
          "scattergeo": [
           {
            "marker": {
             "colorbar": {
              "outlinewidth": 0,
              "ticks": ""
             }
            },
            "type": "scattergeo"
           }
          ],
          "scattergl": [
           {
            "marker": {
             "colorbar": {
              "outlinewidth": 0,
              "ticks": ""
             }
            },
            "type": "scattergl"
           }
          ],
          "scattermapbox": [
           {
            "marker": {
             "colorbar": {
              "outlinewidth": 0,
              "ticks": ""
             }
            },
            "type": "scattermapbox"
           }
          ],
          "scatterpolar": [
           {
            "marker": {
             "colorbar": {
              "outlinewidth": 0,
              "ticks": ""
             }
            },
            "type": "scatterpolar"
           }
          ],
          "scatterpolargl": [
           {
            "marker": {
             "colorbar": {
              "outlinewidth": 0,
              "ticks": ""
             }
            },
            "type": "scatterpolargl"
           }
          ],
          "scatterternary": [
           {
            "marker": {
             "colorbar": {
              "outlinewidth": 0,
              "ticks": ""
             }
            },
            "type": "scatterternary"
           }
          ],
          "surface": [
           {
            "colorbar": {
             "outlinewidth": 0,
             "ticks": ""
            },
            "colorscale": [
             [
              0,
              "#0d0887"
             ],
             [
              0.1111111111111111,
              "#46039f"
             ],
             [
              0.2222222222222222,
              "#7201a8"
             ],
             [
              0.3333333333333333,
              "#9c179e"
             ],
             [
              0.4444444444444444,
              "#bd3786"
             ],
             [
              0.5555555555555556,
              "#d8576b"
             ],
             [
              0.6666666666666666,
              "#ed7953"
             ],
             [
              0.7777777777777778,
              "#fb9f3a"
             ],
             [
              0.8888888888888888,
              "#fdca26"
             ],
             [
              1,
              "#f0f921"
             ]
            ],
            "type": "surface"
           }
          ],
          "table": [
           {
            "cells": {
             "fill": {
              "color": "#EBF0F8"
             },
             "line": {
              "color": "white"
             }
            },
            "header": {
             "fill": {
              "color": "#C8D4E3"
             },
             "line": {
              "color": "white"
             }
            },
            "type": "table"
           }
          ]
         },
         "layout": {
          "annotationdefaults": {
           "arrowcolor": "#2a3f5f",
           "arrowhead": 0,
           "arrowwidth": 1
          },
          "colorscale": {
           "diverging": [
            [
             0,
             "#8e0152"
            ],
            [
             0.1,
             "#c51b7d"
            ],
            [
             0.2,
             "#de77ae"
            ],
            [
             0.3,
             "#f1b6da"
            ],
            [
             0.4,
             "#fde0ef"
            ],
            [
             0.5,
             "#f7f7f7"
            ],
            [
             0.6,
             "#e6f5d0"
            ],
            [
             0.7,
             "#b8e186"
            ],
            [
             0.8,
             "#7fbc41"
            ],
            [
             0.9,
             "#4d9221"
            ],
            [
             1,
             "#276419"
            ]
           ],
           "sequential": [
            [
             0,
             "#0d0887"
            ],
            [
             0.1111111111111111,
             "#46039f"
            ],
            [
             0.2222222222222222,
             "#7201a8"
            ],
            [
             0.3333333333333333,
             "#9c179e"
            ],
            [
             0.4444444444444444,
             "#bd3786"
            ],
            [
             0.5555555555555556,
             "#d8576b"
            ],
            [
             0.6666666666666666,
             "#ed7953"
            ],
            [
             0.7777777777777778,
             "#fb9f3a"
            ],
            [
             0.8888888888888888,
             "#fdca26"
            ],
            [
             1,
             "#f0f921"
            ]
           ],
           "sequentialminus": [
            [
             0,
             "#0d0887"
            ],
            [
             0.1111111111111111,
             "#46039f"
            ],
            [
             0.2222222222222222,
             "#7201a8"
            ],
            [
             0.3333333333333333,
             "#9c179e"
            ],
            [
             0.4444444444444444,
             "#bd3786"
            ],
            [
             0.5555555555555556,
             "#d8576b"
            ],
            [
             0.6666666666666666,
             "#ed7953"
            ],
            [
             0.7777777777777778,
             "#fb9f3a"
            ],
            [
             0.8888888888888888,
             "#fdca26"
            ],
            [
             1,
             "#f0f921"
            ]
           ]
          },
          "colorway": [
           "#636efa",
           "#EF553B",
           "#00cc96",
           "#ab63fa",
           "#FFA15A",
           "#19d3f3",
           "#FF6692",
           "#B6E880",
           "#FF97FF",
           "#FECB52"
          ],
          "font": {
           "color": "#2a3f5f"
          },
          "geo": {
           "bgcolor": "white",
           "lakecolor": "white",
           "landcolor": "#E5ECF6",
           "showlakes": true,
           "showland": true,
           "subunitcolor": "white"
          },
          "hoverlabel": {
           "align": "left"
          },
          "hovermode": "closest",
          "mapbox": {
           "style": "light"
          },
          "paper_bgcolor": "white",
          "plot_bgcolor": "#E5ECF6",
          "polar": {
           "angularaxis": {
            "gridcolor": "white",
            "linecolor": "white",
            "ticks": ""
           },
           "bgcolor": "#E5ECF6",
           "radialaxis": {
            "gridcolor": "white",
            "linecolor": "white",
            "ticks": ""
           }
          },
          "scene": {
           "xaxis": {
            "backgroundcolor": "#E5ECF6",
            "gridcolor": "white",
            "gridwidth": 2,
            "linecolor": "white",
            "showbackground": true,
            "ticks": "",
            "zerolinecolor": "white"
           },
           "yaxis": {
            "backgroundcolor": "#E5ECF6",
            "gridcolor": "white",
            "gridwidth": 2,
            "linecolor": "white",
            "showbackground": true,
            "ticks": "",
            "zerolinecolor": "white"
           },
           "zaxis": {
            "backgroundcolor": "#E5ECF6",
            "gridcolor": "white",
            "gridwidth": 2,
            "linecolor": "white",
            "showbackground": true,
            "ticks": "",
            "zerolinecolor": "white"
           }
          },
          "shapedefaults": {
           "line": {
            "color": "#2a3f5f"
           }
          },
          "ternary": {
           "aaxis": {
            "gridcolor": "white",
            "linecolor": "white",
            "ticks": ""
           },
           "baxis": {
            "gridcolor": "white",
            "linecolor": "white",
            "ticks": ""
           },
           "bgcolor": "#E5ECF6",
           "caxis": {
            "gridcolor": "white",
            "linecolor": "white",
            "ticks": ""
           }
          },
          "title": {
           "x": 0.05
          },
          "xaxis": {
           "automargin": true,
           "gridcolor": "white",
           "linecolor": "white",
           "ticks": "",
           "zerolinecolor": "white",
           "zerolinewidth": 2
          },
          "yaxis": {
           "automargin": true,
           "gridcolor": "white",
           "linecolor": "white",
           "ticks": "",
           "zerolinecolor": "white",
           "zerolinewidth": 2
          }
         }
        },
        "title": {
         "text": "Топ-15 ключевых слов в описаниях вакансий"
        }
       }
      },
      "text/html": [
       "<div>\n",
       "        \n",
       "        \n",
       "            <div id=\"142b9bbb-49f9-4e22-85f1-ff5b1e60b32b\" class=\"plotly-graph-div\" style=\"height:525px; width:100%;\"></div>\n",
       "            <script type=\"text/javascript\">\n",
       "                require([\"plotly\"], function(Plotly) {\n",
       "                    window.PLOTLYENV=window.PLOTLYENV || {};\n",
       "                    \n",
       "                if (document.getElementById(\"142b9bbb-49f9-4e22-85f1-ff5b1e60b32b\")) {\n",
       "                    Plotly.newPlot(\n",
       "                        '142b9bbb-49f9-4e22-85f1-ff5b1e60b32b',\n",
       "                        [{\"hovertemplate\": \"<b>%{label}</b>\\n <br>\\u0414\\u043e\\u043b\\u044f: %{percent} </br>\\u041a\\u043e\\u043b\\u0438\\u0447\\u0435\\u0441\\u0442\\u0432\\u043e: %{value} \\u0443\\u043f\\u043e\\u043c\\u0438\\u043d\\u0430\\u043d\\u0438\\u0439\", \"labels\": [\"PYTHON\", \"SQL\", \"\\u0414\\u0410\\u041d\\u041d\\u042b\\u0425\", \"DATA\", \"ML\", \"LEARNING\", \"\\u041e\\u041f\\u042b\\u0422\", \"MACHINE\", \"PYTORCH\", \"\\u0420\\u0410\\u0411\\u041e\\u0422\\u042b\", \"PANDAS\", \"\\u0410\\u041d\\u0410\\u041b\\u0418\\u0417\", \"NLP\", \"GIT\", \"SPARK\"], \"name\": \"\", \"type\": \"pie\", \"values\": [255, 165, 90, 87, 82, 80, 76, 64, 63, 54, 51, 47, 47, 42, 42]}],\n",
       "                        {\"template\": {\"data\": {\"bar\": [{\"error_x\": {\"color\": \"#2a3f5f\"}, \"error_y\": {\"color\": \"#2a3f5f\"}, \"marker\": {\"line\": {\"color\": \"#E5ECF6\", \"width\": 0.5}}, \"type\": \"bar\"}], \"barpolar\": [{\"marker\": {\"line\": {\"color\": \"#E5ECF6\", \"width\": 0.5}}, \"type\": \"barpolar\"}], \"carpet\": [{\"aaxis\": {\"endlinecolor\": \"#2a3f5f\", \"gridcolor\": \"white\", \"linecolor\": \"white\", \"minorgridcolor\": \"white\", \"startlinecolor\": \"#2a3f5f\"}, \"baxis\": {\"endlinecolor\": \"#2a3f5f\", \"gridcolor\": \"white\", \"linecolor\": \"white\", \"minorgridcolor\": \"white\", \"startlinecolor\": \"#2a3f5f\"}, \"type\": \"carpet\"}], \"choropleth\": [{\"colorbar\": {\"outlinewidth\": 0, \"ticks\": \"\"}, \"type\": \"choropleth\"}], \"contour\": [{\"colorbar\": {\"outlinewidth\": 0, \"ticks\": \"\"}, \"colorscale\": [[0.0, \"#0d0887\"], [0.1111111111111111, \"#46039f\"], [0.2222222222222222, \"#7201a8\"], [0.3333333333333333, \"#9c179e\"], [0.4444444444444444, \"#bd3786\"], [0.5555555555555556, \"#d8576b\"], [0.6666666666666666, \"#ed7953\"], [0.7777777777777778, \"#fb9f3a\"], [0.8888888888888888, \"#fdca26\"], [1.0, \"#f0f921\"]], \"type\": \"contour\"}], \"contourcarpet\": [{\"colorbar\": {\"outlinewidth\": 0, \"ticks\": \"\"}, \"type\": \"contourcarpet\"}], \"heatmap\": [{\"colorbar\": {\"outlinewidth\": 0, \"ticks\": \"\"}, \"colorscale\": [[0.0, \"#0d0887\"], [0.1111111111111111, \"#46039f\"], [0.2222222222222222, \"#7201a8\"], [0.3333333333333333, \"#9c179e\"], [0.4444444444444444, \"#bd3786\"], [0.5555555555555556, \"#d8576b\"], [0.6666666666666666, \"#ed7953\"], [0.7777777777777778, \"#fb9f3a\"], [0.8888888888888888, \"#fdca26\"], [1.0, \"#f0f921\"]], \"type\": \"heatmap\"}], \"heatmapgl\": [{\"colorbar\": {\"outlinewidth\": 0, \"ticks\": \"\"}, \"colorscale\": [[0.0, \"#0d0887\"], [0.1111111111111111, \"#46039f\"], [0.2222222222222222, \"#7201a8\"], [0.3333333333333333, \"#9c179e\"], [0.4444444444444444, \"#bd3786\"], [0.5555555555555556, \"#d8576b\"], [0.6666666666666666, \"#ed7953\"], [0.7777777777777778, \"#fb9f3a\"], [0.8888888888888888, \"#fdca26\"], [1.0, \"#f0f921\"]], \"type\": \"heatmapgl\"}], \"histogram\": [{\"marker\": {\"colorbar\": {\"outlinewidth\": 0, \"ticks\": \"\"}}, \"type\": \"histogram\"}], \"histogram2d\": [{\"colorbar\": {\"outlinewidth\": 0, \"ticks\": \"\"}, \"colorscale\": [[0.0, \"#0d0887\"], [0.1111111111111111, \"#46039f\"], [0.2222222222222222, \"#7201a8\"], [0.3333333333333333, \"#9c179e\"], [0.4444444444444444, \"#bd3786\"], [0.5555555555555556, \"#d8576b\"], [0.6666666666666666, \"#ed7953\"], [0.7777777777777778, \"#fb9f3a\"], [0.8888888888888888, \"#fdca26\"], [1.0, \"#f0f921\"]], \"type\": \"histogram2d\"}], \"histogram2dcontour\": [{\"colorbar\": {\"outlinewidth\": 0, \"ticks\": \"\"}, \"colorscale\": [[0.0, \"#0d0887\"], [0.1111111111111111, \"#46039f\"], [0.2222222222222222, \"#7201a8\"], [0.3333333333333333, \"#9c179e\"], [0.4444444444444444, \"#bd3786\"], [0.5555555555555556, \"#d8576b\"], [0.6666666666666666, \"#ed7953\"], [0.7777777777777778, \"#fb9f3a\"], [0.8888888888888888, \"#fdca26\"], [1.0, \"#f0f921\"]], \"type\": \"histogram2dcontour\"}], \"mesh3d\": [{\"colorbar\": {\"outlinewidth\": 0, \"ticks\": \"\"}, \"type\": \"mesh3d\"}], \"parcoords\": [{\"line\": {\"colorbar\": {\"outlinewidth\": 0, \"ticks\": \"\"}}, \"type\": \"parcoords\"}], \"scatter\": [{\"marker\": {\"colorbar\": {\"outlinewidth\": 0, \"ticks\": \"\"}}, \"type\": \"scatter\"}], \"scatter3d\": [{\"line\": {\"colorbar\": {\"outlinewidth\": 0, \"ticks\": \"\"}}, \"marker\": {\"colorbar\": {\"outlinewidth\": 0, \"ticks\": \"\"}}, \"type\": \"scatter3d\"}], \"scattercarpet\": [{\"marker\": {\"colorbar\": {\"outlinewidth\": 0, \"ticks\": \"\"}}, \"type\": \"scattercarpet\"}], \"scattergeo\": [{\"marker\": {\"colorbar\": {\"outlinewidth\": 0, \"ticks\": \"\"}}, \"type\": \"scattergeo\"}], \"scattergl\": [{\"marker\": {\"colorbar\": {\"outlinewidth\": 0, \"ticks\": \"\"}}, \"type\": \"scattergl\"}], \"scattermapbox\": [{\"marker\": {\"colorbar\": {\"outlinewidth\": 0, \"ticks\": \"\"}}, \"type\": \"scattermapbox\"}], \"scatterpolar\": [{\"marker\": {\"colorbar\": {\"outlinewidth\": 0, \"ticks\": \"\"}}, \"type\": \"scatterpolar\"}], \"scatterpolargl\": [{\"marker\": {\"colorbar\": {\"outlinewidth\": 0, \"ticks\": \"\"}}, \"type\": \"scatterpolargl\"}], \"scatterternary\": [{\"marker\": {\"colorbar\": {\"outlinewidth\": 0, \"ticks\": \"\"}}, \"type\": \"scatterternary\"}], \"surface\": [{\"colorbar\": {\"outlinewidth\": 0, \"ticks\": \"\"}, \"colorscale\": [[0.0, \"#0d0887\"], [0.1111111111111111, \"#46039f\"], [0.2222222222222222, \"#7201a8\"], [0.3333333333333333, \"#9c179e\"], [0.4444444444444444, \"#bd3786\"], [0.5555555555555556, \"#d8576b\"], [0.6666666666666666, \"#ed7953\"], [0.7777777777777778, \"#fb9f3a\"], [0.8888888888888888, \"#fdca26\"], [1.0, \"#f0f921\"]], \"type\": \"surface\"}], \"table\": [{\"cells\": {\"fill\": {\"color\": \"#EBF0F8\"}, \"line\": {\"color\": \"white\"}}, \"header\": {\"fill\": {\"color\": \"#C8D4E3\"}, \"line\": {\"color\": \"white\"}}, \"type\": \"table\"}]}, \"layout\": {\"annotationdefaults\": {\"arrowcolor\": \"#2a3f5f\", \"arrowhead\": 0, \"arrowwidth\": 1}, \"colorscale\": {\"diverging\": [[0, \"#8e0152\"], [0.1, \"#c51b7d\"], [0.2, \"#de77ae\"], [0.3, \"#f1b6da\"], [0.4, \"#fde0ef\"], [0.5, \"#f7f7f7\"], [0.6, \"#e6f5d0\"], [0.7, \"#b8e186\"], [0.8, \"#7fbc41\"], [0.9, \"#4d9221\"], [1, \"#276419\"]], \"sequential\": [[0.0, \"#0d0887\"], [0.1111111111111111, \"#46039f\"], [0.2222222222222222, \"#7201a8\"], [0.3333333333333333, \"#9c179e\"], [0.4444444444444444, \"#bd3786\"], [0.5555555555555556, \"#d8576b\"], [0.6666666666666666, \"#ed7953\"], [0.7777777777777778, \"#fb9f3a\"], [0.8888888888888888, \"#fdca26\"], [1.0, \"#f0f921\"]], \"sequentialminus\": [[0.0, \"#0d0887\"], [0.1111111111111111, \"#46039f\"], [0.2222222222222222, \"#7201a8\"], [0.3333333333333333, \"#9c179e\"], [0.4444444444444444, \"#bd3786\"], [0.5555555555555556, \"#d8576b\"], [0.6666666666666666, \"#ed7953\"], [0.7777777777777778, \"#fb9f3a\"], [0.8888888888888888, \"#fdca26\"], [1.0, \"#f0f921\"]]}, \"colorway\": [\"#636efa\", \"#EF553B\", \"#00cc96\", \"#ab63fa\", \"#FFA15A\", \"#19d3f3\", \"#FF6692\", \"#B6E880\", \"#FF97FF\", \"#FECB52\"], \"font\": {\"color\": \"#2a3f5f\"}, \"geo\": {\"bgcolor\": \"white\", \"lakecolor\": \"white\", \"landcolor\": \"#E5ECF6\", \"showlakes\": true, \"showland\": true, \"subunitcolor\": \"white\"}, \"hoverlabel\": {\"align\": \"left\"}, \"hovermode\": \"closest\", \"mapbox\": {\"style\": \"light\"}, \"paper_bgcolor\": \"white\", \"plot_bgcolor\": \"#E5ECF6\", \"polar\": {\"angularaxis\": {\"gridcolor\": \"white\", \"linecolor\": \"white\", \"ticks\": \"\"}, \"bgcolor\": \"#E5ECF6\", \"radialaxis\": {\"gridcolor\": \"white\", \"linecolor\": \"white\", \"ticks\": \"\"}}, \"scene\": {\"xaxis\": {\"backgroundcolor\": \"#E5ECF6\", \"gridcolor\": \"white\", \"gridwidth\": 2, \"linecolor\": \"white\", \"showbackground\": true, \"ticks\": \"\", \"zerolinecolor\": \"white\"}, \"yaxis\": {\"backgroundcolor\": \"#E5ECF6\", \"gridcolor\": \"white\", \"gridwidth\": 2, \"linecolor\": \"white\", \"showbackground\": true, \"ticks\": \"\", \"zerolinecolor\": \"white\"}, \"zaxis\": {\"backgroundcolor\": \"#E5ECF6\", \"gridcolor\": \"white\", \"gridwidth\": 2, \"linecolor\": \"white\", \"showbackground\": true, \"ticks\": \"\", \"zerolinecolor\": \"white\"}}, \"shapedefaults\": {\"line\": {\"color\": \"#2a3f5f\"}}, \"ternary\": {\"aaxis\": {\"gridcolor\": \"white\", \"linecolor\": \"white\", \"ticks\": \"\"}, \"baxis\": {\"gridcolor\": \"white\", \"linecolor\": \"white\", \"ticks\": \"\"}, \"bgcolor\": \"#E5ECF6\", \"caxis\": {\"gridcolor\": \"white\", \"linecolor\": \"white\", \"ticks\": \"\"}}, \"title\": {\"x\": 0.05}, \"xaxis\": {\"automargin\": true, \"gridcolor\": \"white\", \"linecolor\": \"white\", \"ticks\": \"\", \"zerolinecolor\": \"white\", \"zerolinewidth\": 2}, \"yaxis\": {\"automargin\": true, \"gridcolor\": \"white\", \"linecolor\": \"white\", \"ticks\": \"\", \"zerolinecolor\": \"white\", \"zerolinewidth\": 2}}}, \"title\": {\"text\": \"\\u0422\\u043e\\u043f-15 \\u043a\\u043b\\u044e\\u0447\\u0435\\u0432\\u044b\\u0445 \\u0441\\u043b\\u043e\\u0432 \\u0432 \\u043e\\u043f\\u0438\\u0441\\u0430\\u043d\\u0438\\u044f\\u0445 \\u0432\\u0430\\u043a\\u0430\\u043d\\u0441\\u0438\\u0439\"}},\n",
       "                        {\"responsive\": true}\n",
       "                    ).then(function(){\n",
       "                            \n",
       "var gd = document.getElementById('142b9bbb-49f9-4e22-85f1-ff5b1e60b32b');\n",
       "var x = new MutationObserver(function (mutations, observer) {{\n",
       "        var display = window.getComputedStyle(gd).display;\n",
       "        if (!display || display === 'none') {{\n",
       "            console.log([gd, 'removed!']);\n",
       "            Plotly.purge(gd);\n",
       "            observer.disconnect();\n",
       "        }}\n",
       "}});\n",
       "\n",
       "// Listen for the removal of the full notebook cells\n",
       "var notebookContainer = gd.closest('#notebook-container');\n",
       "if (notebookContainer) {{\n",
       "    x.observe(notebookContainer, {childList: true});\n",
       "}}\n",
       "\n",
       "// Listen for the clearing of the current output cell\n",
       "var outputEl = gd.closest('.output');\n",
       "if (outputEl) {{\n",
       "    x.observe(outputEl, {childList: true});\n",
       "}}\n",
       "\n",
       "                        })\n",
       "                };\n",
       "                });\n",
       "            </script>\n",
       "        </div>"
      ]
     },
     "metadata": {},
     "output_type": "display_data"
    }
   ],
   "source": [
    "trace0 = go.Pie(\n",
    "    name = \"\",\n",
    "    values = sk['num'],\n",
    "    labels = sk['skill'],\n",
    "    hovertemplate = \"<b>%{label}</b>\\n <br>Доля: %{percent} </br>Количество: %{value} упоминаний\"\n",
    ")\n",
    "layout= go.Layout(\n",
    "    title= 'Топ-15 ключевых слов в описаниях вакансий'\n",
    ")\n",
    "fig = go.Figure(data = [trace0], layout = layout)\n",
    "fig.show()"
   ]
  },
  {
   "cell_type": "markdown",
   "id": "550d90c4",
   "metadata": {},
   "source": [
    "### Вопрос 3. Какие зарплаты на рынке? С каким опытом берут на работу?"
   ]
  },
  {
   "cell_type": "code",
   "execution_count": 19,
   "id": "936bedf6",
   "metadata": {},
   "outputs": [
    {
     "data": {
      "text/html": [
       "<div>\n",
       "<style scoped>\n",
       "    .dataframe tbody tr th:only-of-type {\n",
       "        vertical-align: middle;\n",
       "    }\n",
       "\n",
       "    .dataframe tbody tr th {\n",
       "        vertical-align: top;\n",
       "    }\n",
       "\n",
       "    .dataframe thead th {\n",
       "        text-align: right;\n",
       "    }\n",
       "</style>\n",
       "<table border=\"1\" class=\"dataframe\">\n",
       "  <thead>\n",
       "    <tr style=\"text-align: right;\">\n",
       "      <th></th>\n",
       "      <th>sal_from</th>\n",
       "      <th>sal_to</th>\n",
       "    </tr>\n",
       "  </thead>\n",
       "  <tbody>\n",
       "    <tr>\n",
       "      <th>count</th>\n",
       "      <td>360.00</td>\n",
       "      <td>360.00</td>\n",
       "    </tr>\n",
       "    <tr>\n",
       "      <th>mean</th>\n",
       "      <td>182,694.44</td>\n",
       "      <td>231,416.67</td>\n",
       "    </tr>\n",
       "    <tr>\n",
       "      <th>std</th>\n",
       "      <td>70,581.28</td>\n",
       "      <td>79,938.65</td>\n",
       "    </tr>\n",
       "    <tr>\n",
       "      <th>min</th>\n",
       "      <td>45,000.00</td>\n",
       "      <td>55,000.00</td>\n",
       "    </tr>\n",
       "    <tr>\n",
       "      <th>25%</th>\n",
       "      <td>120,000.00</td>\n",
       "      <td>170,000.00</td>\n",
       "    </tr>\n",
       "    <tr>\n",
       "      <th>50%</th>\n",
       "      <td>180,000.00</td>\n",
       "      <td>225,000.00</td>\n",
       "    </tr>\n",
       "    <tr>\n",
       "      <th>75%</th>\n",
       "      <td>242,500.00</td>\n",
       "      <td>290,000.00</td>\n",
       "    </tr>\n",
       "    <tr>\n",
       "      <th>max</th>\n",
       "      <td>350,000.00</td>\n",
       "      <td>570,000.00</td>\n",
       "    </tr>\n",
       "  </tbody>\n",
       "</table>\n",
       "</div>"
      ],
      "text/plain": [
       "         sal_from      sal_to\n",
       "count      360.00      360.00\n",
       "mean   182,694.44  231,416.67\n",
       "std     70,581.28   79,938.65\n",
       "min     45,000.00   55,000.00\n",
       "25%    120,000.00  170,000.00\n",
       "50%    180,000.00  225,000.00\n",
       "75%    242,500.00  290,000.00\n",
       "max    350,000.00  570,000.00"
      ]
     },
     "execution_count": 19,
     "metadata": {},
     "output_type": "execute_result"
    }
   ],
   "source": [
    "df.describe().map(\"{0:,.2f}\".format)"
   ]
  },
  {
   "cell_type": "code",
   "execution_count": 20,
   "id": "a29436c2",
   "metadata": {},
   "outputs": [],
   "source": [
    "# разобьем длинные строки навыков на строки покороче, чтобы они лучше отрисовывались\n",
    "\n",
    "import textwrap\n",
    "df.skills = df.skills.apply(lambda txt: '<br>'.join(textwrap.wrap(txt, width=50)))"
   ]
  },
  {
   "cell_type": "code",
   "execution_count": 21,
   "id": "14fecfd9",
   "metadata": {},
   "outputs": [
    {
     "data": {
      "text/plain": [
       "'Разработка технических заданий, Python, Сбор и<br>анализ информации, Midjorney, Внедрение<br>нейросетей, Нейросеть, ChatGPT, Работа в команде,<br>Обучение и развитие, Stabile Diffusion, Работа с<br>большим объемом информации'"
      ]
     },
     "execution_count": 21,
     "metadata": {},
     "output_type": "execute_result"
    }
   ],
   "source": [
    "df['skills'][0]"
   ]
  },
  {
   "cell_type": "code",
   "execution_count": 22,
   "id": "508aa93d",
   "metadata": {},
   "outputs": [
    {
     "data": {
      "application/vnd.plotly.v1+json": {
       "config": {
        "plotlyServerURL": "https://plot.ly"
       },
       "data": [
        {
         "customdata": [
          [
           170000,
           150000,
           "Знания математики, алгоритмов, структур данных,<br>классического ML, CNN, YOLO, U-Net, ViT, Word2Vec,<br>fasttext, RNN, трансформеры, Python, Linux, SQL,<br>Git, PyTorch, TensorFlow"
          ],
          [
           300000,
           280000,
           "Знание основ SQL, Базовое знание Python, Знание<br>основных алгоритмов машинного обучения и ключевых<br>метрик (бинарная классификация/линейная регрессия)"
          ],
          [
           55000,
           55000,
           "Писать SQL-запросы (у нас Greenplum),<br>Анализировать данные на Python (с использованием<br>библиотек pandas, numpy, matplotlib и т.п.),<br>Считать p-value в AB-тестах"
          ],
          [
           180000,
           150000,
           "Обучение и развитие, Аналитика, Системное<br>мышление, Аналитическое мышление, Внутренние<br>коммуникации, Python, Математическая статистика,<br>MS SQL, Data Analysis, Базы данных, Git, NLP, ML,<br>Machine Learning, Машинное обучение, A/B тесты"
          ],
          [
           120000,
           100000,
           "Python, SQL, bash"
          ],
          [
           250000,
           200000,
           "Обучение и развитие, Аналитика, Системное<br>мышление, Аналитическое мышление, Внутренние<br>коммуникации, Python, Математическая статистика,<br>MS SQL, Data Analysis, Базы данных, Git, Bash,<br>NLP, ML, Machine Learning, Машинное обучение"
          ],
          [
           230000,
           180000,
           "ML"
          ],
          [
           190000,
           180000,
           "Linux, Git, Bash, Docker"
          ],
          [
           370000,
           300000,
           "SQL, Python, Базы данных, Скоринговая карта, База<br>данных: Oracle, Sas"
          ]
         ],
         "hoverlabel": {
          "namelength": 0
         },
         "hovertemplate": "<b>%{hovertext}</b><br><br>Опыт=Нет опыта<br>Нижняя вилка зарплаты=%{customdata[1]}<br>Верхняя вилка зарплаты=%{customdata[0]}<br>Требуемые навыки=%{customdata[2]}",
         "hovertext": [
          "ML-инженер",
          "Стажер ML-инженер",
          "Стажер Data analyst",
          "Стажёр - Дата аналитик",
          "Solution engineer (Junior)",
          "Стажёр - Data Scientist",
          "Lead Data Scientist",
          "Machine learning engineer, Middle/Senior",
          "Стажер - разработчик скоринговых карт"
         ],
         "legendgroup": "Опыт=Нет опыта",
         "marker": {
          "color": "#636EFA",
          "size": 10,
          "symbol": "circle"
         },
         "mode": "markers",
         "name": "Опыт=Нет опыта",
         "showlegend": true,
         "type": "scatter",
         "x": [
          150000,
          280000,
          55000,
          150000,
          100000,
          200000,
          180000,
          180000,
          300000
         ],
         "xaxis": "x",
         "y": [
          170000,
          300000,
          55000,
          180000,
          120000,
          250000,
          230000,
          190000,
          370000
         ],
         "yaxis": "y"
        },
        {
         "customdata": [
          [
           60000,
           55000,
           "Разработка технических заданий, Python, Сбор и<br>анализ информации, Midjorney, Внедрение<br>нейросетей, Нейросеть, ChatGPT, Работа в команде,<br>Обучение и развитие, Stabile Diffusion, Работа с<br>большим объемом информации"
          ],
          [
           200000,
           150000,
           "SQL, jvm, Hadoop"
          ],
          [
           200000,
           180000,
           "Python, Machine Learning, Математическое<br>моделирование, Spark, Data Science, Математическая<br>статистика"
          ],
          [
           110000,
           60000,
           "Python, Git, ООП, MySQL"
          ],
          [
           330000,
           280000,
           "Большой интерес к инновациям в области медиа и<br>технологий, Знание рынка существующих нейронных<br>сетей и вариантов их применения, Проактивная<br>позиция в вопросе применения нейронных сетей для<br>задач производственной компании, Желание<br>исследовать и креативить, Системное мышление,<br>внимательность, нацеленность на результат, умение<br>работать в команде, ответственность, Высшее<br>образование, Аналитический склад"
          ],
          [
           180000,
           170000,
           "Python, Pandas, NumPy, Transformers, openai,<br>LangChain, SQL, Понимание принципов классического<br>ML и погружение в современные нейросетевые<br>архитектуры: трансформеры, bert, gpt, Умение<br>использовать LLM - промптинг, файнтюнинг."
          ],
          [
           250000,
           200000,
           "Уверенное владение Python;   Уверенное владение<br>PyTorch;   Знание библиотек для машинного обучения<br>(Scikit-learn, Pandas, Matplotlib, Numpy, Scipy);<br>Опыт работы с нейросетями в CV от 2-х лет;<br>Знание алгоритмов ML, основных архитектур моделей<br>CV, и понимание критериев оценки их работы;<br>Умение делать рисерч, читать статьи на arxiv и<br>воплощать их идеи в рабочий код;   Понимание того,<br>как выстроить pipeline от сырых неразмеченных<br>данных до готовой модели;   Будет плюсом:   Опыт<br>работы над задачами в области медицины;   Опыт<br>работы с медицинскими изображениями;   Понимание и<br>опыт работы с DICOM и Nifti;   Опыт настройки<br>пайплайнов разметки данных;   Успешный опыт<br>участия в соревнованиях типа Kaggle;   Широкое и<br>глубокое понимание как вообще работает ML,<br>практический опыт в разных областях - CV, NLP,<br>Tabular, RL."
          ],
          [
           200000,
           180000,
           "Python, Математическая статистика, Английский<br>язык, sklearn, Статистический анализ"
          ],
          [
           250000,
           200000,
           "Pytorch, TensorFlow, Python"
          ],
          [
           140000,
           130000,
           "Python, TensorFlow, NLP, PyTorch, ML алгоритмы,<br>ML, CV, Работа с данными, предиктивные модели"
          ],
          [
           100000,
           70000,
           "знания Python на хорошем уровне, в том числе<br>популярные библиотеки (TensorFlow, PyTorch, Keras,<br>spaCy, Pandas, NumPy и другие); знания особенности<br>анализа и прогнозирования временных рядов; опыт<br>работы в DS не менее 3 лет, опыт на позиции<br>middle/senior DS не менее 2 лет; SQL (написание<br>запросов, понимание принципов организации БД);<br>навыки работы с количественной информацией, знания<br>теории вероятностей и математической статистики."
          ],
          [
           350000,
           300000,
           "Python, Linux, NLP, ML, TensorFlow, PyTorch"
          ],
          [
           250000,
           200000,
           "Уверенное владение Python;   Знание SQL/NoSQL-<br>запросов;   Знание методов и технологий Machine<br>Learning, Data Mining;   Технический английский.<br>Будет плюсом:   Опыт работы с инструментами<br>полного цикла работы ML моделей;   Опыт работы с<br>большими данными и системами распределенных<br>вычислений mapreduce Hadoop/Spark;   Работа с<br>задачами обработки естественного языка;   Работа с<br>Docker."
          ],
          [
           220000,
           200000,
           "Python, SQL, ClickHouse, Airflow"
          ],
          [
           170000,
           120000,
           "Python, Tensorflow, OpenCV, Keras, Numpy"
          ],
          [
           230000,
           180000,
           "Python, SQL, Linux"
          ],
          [
           230000,
           180000,
           "Отличное знание SQL: написания запросов, хранимых<br>процедур, уверенное владение агрегирующими и<br>оконными функциями, оптимизация запросов; Знание<br>основ программирования (Python), опыт работы с<br>экосистемой Hadoop (HDFS, Spark); Понимание<br>основных концепций DWH, реляционных БД;<br>Дополнительным преимуществом будет понимание<br>методов и подходов машинного обучения"
          ],
          [
           300000,
           270000,
           "Python, SQL, PostgreSQL, Анализ данных, ORACLE,<br>Git"
          ],
          [
           100000,
           70000,
           "Python, SQL, Airflow, Hadoop, Git"
          ],
          [
           240000,
           210000,
           "DL фреймворки, NLP"
          ],
          [
           170000,
           120000,
           "Python, Data science, IT, PySpark"
          ],
          [
           320000,
           300000,
           "ML, Python, Machine Learning"
          ],
          [
           90000,
           55000,
           "Python,  Linux, Jupyter notebook, git, SQL,<br>matplotlib, pandas, numpy"
          ],
          [
           230000,
           180000,
           "Хорошее знание языков SQL, Python; Опыт работы с<br>базами данных, с продуктами класса ETL, MPP;<br>Знание архитектуры распределенных хранилищ данных;<br>Опыт обогащения данных, интеграции смежных<br>источников данных Опыт работы с серверными<br>дистрибутивами ОС Linux – настройка сетевых<br>интерфейсов, межсетевого экрана, управления<br>разделами диска, мониторинга производительности,<br>управления файловой системой Продвинутый уровень<br>владения табличным процессором (MS Excel,<br>OpenOffice/LibreOffice Calc, и т.п.), текстовым<br>редактором (MS Word, OpenOffice/LibreOffice Writer<br>и т.п.)"
          ],
          [
           190000,
           180000,
           "TensorFlow, PyTorch, Keras, spaCy, Pandas, NumPy"
          ],
          [
           250000,
           150000,
           "Python, SQL, ML, A/B тесты"
          ],
          [
           250000,
           200000,
           "Python, ClickHouse, SQL, Airflow"
          ],
          [
           310000,
           300000,
           "SQL, Git, Python, Анализ данных, Моделирование"
          ],
          [
           400000,
           200000,
           "Python, ML, ML/DS, NLP, OCR, Data Science, LLM,<br>Prompt Engineering, AWS, ML Ops"
          ],
          [
           250000,
           200000,
           "Python, Big Data, Machine Learning, NLP, Data<br>Science, ML, SQL, Pandas"
          ],
          [
           200000,
           150000,
           "CV, mmdet, detectron2, Python, ML, Docret, Tryton"
          ],
          [
           180000,
           150000,
           "SQL, Python, Big Data, Machine Learning, Работа с<br>базами данных, Математическая статистика, Бизнес<br>статистика"
          ],
          [
           160000,
           130000,
           "Уверенное владение SQL (аналитические функции,<br>подзапросы, хранимые процедуры/функции,<br>оптимизация производительности) - Обязателено<br>иметь опыт работы с реляционными базами данных<br>(PostgreSQL) - Опыт использования экосистемы<br>Hadoop: HDFS, Spark, Hive - Умение оптимизировать<br>программный код в соответствии с особенностями<br>архитектур хранения данных - Продвинутые<br>аналитические навыки и вариативное видение решения<br>задач - Ориентация на достижение результата,<br>внимательность к деталям, коммуникабельность"
          ],
          [
           320000,
           270000,
           "Математическое моделирование, Анализ данных,<br>Статистический анализ, Валидация моделей,<br>Модельный риск, SQL"
          ],
          [
           150000,
           130000,
           "Оценка рисков, MS PowerPoint, Статистический<br>анализ, Управление рисками, Математическое<br>моделирование, PD, LGD, EAD, SQL, Портфельные<br>риски, кредитные риски"
          ],
          [
           340000,
           270000,
           "SQL, Аналитика, Сбор и анализ информации,<br>Аналитическое мышление, Системный анализ, Анализ<br>данных, SPL, Визуализация, Работа с базами данных,<br>Подготовка презентаций, Работа с большим объемом<br>информации, Базы данных, Страхование"
          ],
          [
           300000,
           270000,
           "Python, Pandas, SQL"
          ],
          [
           200000,
           150000,
           "ETL, MS SQL Server, ORACLE, ApacheAirflow"
          ],
          [
           160000,
           130000,
           "Python, PyTorch, NLP, NER, Machine Learning"
          ],
          [
           300000,
           200000,
           "NLP, Python, ML, PyTorch, REST, LLM"
          ],
          [
           150000,
           100000,
           "SQL на профессиональном уровне, включая<br>оптимизацию запросов Опыт интеграции систем,<br>загрузки и трансформации данных (ETL) Опыт работы<br>с качеством данных (очистка данных, процедуры Data<br>Quality) Знание принципов работы BI-систем,<br>построения аналитических панелей Профессиональный<br>пользователь Excel (сводные таблицы, формулы, ВПР<br>Базовые знания) принципов построения системной<br>архитектуры, архитектуры данных, работы с базами<br>данных Опыт настройки взаимодействия систем (REST<br>API, ODBC/JDBC) Желателен опыт работы с любым BI -<br>Qlik, Tableau, Power BI, NiFi и/или Airflow/DBT,<br>навыки работы с Python"
          ],
          [
           105000,
           55000,
           "sklearn, scipy, pytorch, Git, Docker"
          ],
          [
           200000,
           130000,
           "опыт работы с задачами машинного обучения/ опыт<br>статистической обработки данных от 1,5 лет;   опыт<br>разработки на Python, опыт code review;   опыт<br>работы с библиотеками для анализа данных: pandas,<br>matplotlib, numpy, sklearn;   уверенные навыки<br>использования Linux, Jupyter notebook, git, SQL;<br>знание основных моделей машинного обучения:<br>градиентный бустинг на основе деревьев решений,<br>логистическая регрессия с регуляризацией, метод<br>ближайших соседей"
          ],
          [
           170000,
           150000,
           "опыт работы с задачами машинного обучения/ опыт<br>статистической обработки данных от 1,5 лет;   опыт<br>разработки на Python, опыт code review;   опыт<br>работы с библиотеками для анализа данных: pandas,<br>matplotlib, numpy, sklearn;   уверенные навыки<br>использования Linux, Jupyter notebook, git, SQL;<br>знание основных моделей машинного обучения:<br>градиентный бустинг на основе деревьев решений,<br>логистическая регрессия с регуляризацией, метод<br>ближайших соседей"
          ],
          [
           330000,
           280000,
           "ETL, MS SQL Server, ORACLE, ApacheAirflow"
          ],
          [
           130000,
           100000,
           "опыт работы с задачами машинного обучения/ опыт<br>статистической обработки данных от 1,5 лет;   опыт<br>разработки на Python, опыт code review;   опыт<br>работы с библиотеками для анализа данных: pandas,<br>matplotlib, numpy, sklearn;   уверенные навыки<br>использования Linux, Jupyter notebook, git, SQL;<br>знание основных моделей машинного обучения:<br>градиентный бустинг на основе деревьев решений,<br>логистическая регрессия с регуляризацией, метод<br>ближайших соседей"
          ],
          [
           170000,
           100000,
           "Работа с одним из фреймворков PyTorch/TensorFlow;<br>Знание основных подходов для предобработки и<br>векторизации текста; Наличие опыта решения задач<br>NLP для текста (Text Classification, NER, Text<br>Summarization); Знакомство и понимание основных<br>принципов современных SOTA моделей NLP; Владение:<br>git, docker, sql и одним из фреймворков для<br>реализации api.  Будет плюсом:  Участие в<br>соревнованиях по ML/DL; Практический опыт до<br>обучения и работы с open source LLM; Публикации по<br>NLP; Собственные проекты по NLP"
          ],
          [
           280000,
           180000,
           "Математическое моделирование, Анализ данных,<br>Статистический анализ, Валидация моделей,<br>Модельный риск, SQL, Python"
          ],
          [
           160000,
           150000,
           "Коммерция"
          ],
          [
           200000,
           150000,
           "Знание классического ML, DL; Опыт работы с Python,<br>PyTorch, Pandas, Numpy; Навыки работы с большими<br>объемами данных; Опыт разработки ML решений<br>полного цикла."
          ],
          [
           100000,
           100000,
           "Python, SQL, Анализ данных, Pandas, ML"
          ],
          [
           290000,
           280000,
           "Python, Spark, Oracle, Airflow, Superset, Docker"
          ],
          [
           370000,
           270000,
           "Python, SQL, Pandas, sklearn, PyTorch, PySpark"
          ],
          [
           240000,
           210000,
           "Python, PySpark, ML, NLP, A/B тестирование"
          ],
          [
           200000,
           100000,
           "Python, Machine Learning, Анализ данных,<br>Математическая статистика, Pandas, Numpy, Hadoop"
          ],
          [
           230000,
           180000,
           "NLP, LLM, Python, PyTorch, Seq2Seq, BERT, T5"
          ],
          [
           330000,
           280000,
           "Python, SQL, Pandas, Git, OCR, CV"
          ],
          [
           150000,
           100000,
           "Знание SQL на продвинутом уровне (аналитические<br>функции, подзапросы, хранимые процедуры,<br>оптимизация запросов); Отличное знание<br>Python/Scala и библиотеки pySpark; Знание основных<br>понятий и концепций Data Warehousing и Big Data;<br>Опыт разработки ETL-процессов; Опыт работы с<br>большими объемами данных, построения хранилищ и<br>витрин данных; Опыт работы со стеком технологий<br>Big Data (Hadoop, Spark, Hive/Impala, Kafka)"
          ],
          [
           160000,
           130000,
           "Python, numpy, pytorch, hadoop, PySpark, SQL"
          ],
          [
           210000,
           180000,
           "PyTorch, ML, Machine Learning, Линейная алгебра,<br>Python, базовая статистика, Написание научных<br>статей"
          ],
          [
           370000,
           270000,
           "Python, SQL"
          ],
          [
           240000,
           210000,
           "Python, NLP, machine learning, Linux, Docker, Data<br>science, Deep learning, MLFlow, Извлечение<br>сущностей, Поисковые алгоритмы, Git"
          ],
          [
           230000,
           130000,
           "MS SQL, PostgreSQL, API, Базы данных, Техническая<br>поддержка"
          ],
          [
           190000,
           120000,
           "Python, Numpy, pandas, sklearn, SQL, ML"
          ],
          [
           280000,
           210000,
           "Python, SQL, ML, Science, RecSys, PostgreSQL,<br>Анализ данных, Machine Learning, Data Science"
          ],
          [
           230000,
           200000,
           "Python, SQL, API"
          ],
          [
           370000,
           300000,
           "Python, SQL, API"
          ],
          [
           320000,
           300000,
           "Анализ данных, Умение работать в коллективе,<br>Python, SQL, MS Excel, Linux"
          ],
          [
           200000,
           100000,
           "Уверенное владение Python; Понимание принципа<br>работы и построения базовых алгоритмов ML\\DL<br>(классический ML, CNN, RNN, Transformer, RL,<br>RecSys, LLM)"
          ],
          [
           300000,
           270000,
           "NCL, NPV, RBP, Python, SQL"
          ],
          [
           230000,
           200000,
           "Python, Математическое моделирование,<br>Математическая статистика, SQL, Machine Learning,<br>Машинное обучение, Data Mining"
          ],
          [
           320000,
           300000,
           "Уверенное владение R или Python<br>(pandas/numpy/sklearn)"
          ],
          [
           130000,
           120000,
           "SQL, Python"
          ],
          [
           210000,
           180000,
           "Python, ClickHouse, SQL, Airflow"
          ],
          [
           230000,
           180000,
           "знание математической статистики; Python (pandas,<br>sklearn, xgboost, lightgbm, matplotlib etc.);<br>Отличное знание SQL; Владение инструментами из<br>стека Hadoop (Hive, Spark); Опыт работы с Git,<br>Confluence"
          ],
          [
           150000,
           100000,
           "Hadoop, SQL"
          ],
          [
           220000,
           150000,
           "Python, SQL, Big Data, Machine Learning, ML"
          ],
          [
           230000,
           180000,
           "DAMA DMBOK"
          ],
          [
           210000,
           180000,
           "PostgreSQL, ClickHouse, PowerBI, Python, A/B тесты"
          ],
          [
           190000,
           120000,
           "Python, SQL"
          ],
          [
           350000,
           300000,
           "Spark, Big Data, Hadoop, Базы данных, Python"
          ],
          [
           210000,
           180000,
           "Python, PyTorch, Transformers, NLP, Kubernetes,<br>Kafka, Docker, LLM"
          ],
          [
           250000,
           200000,
           "Kaldi, PyTorch, TensorFlow, librosa, ffmpeg, soxi"
          ],
          [
           130000,
           120000,
           "Работа с базами данных, PostgreSQL, Postgre,<br>Kafka, Английский язык, Базы данных, Docker,<br>Linux, ClickHouse, RabbitMQ, Spark, Airflow, MQ,<br>Выгрузка данных (ETL), ATL, Azure, AWS, Google<br>Cloud"
          ],
          [
           250000,
           180000,
           "Python, Machine Learning, SQL, Английский язык,<br>Анализ данных, Linux, Математическая статистика,<br>Статистический анализ, Статистика,<br>Прогнозирование, Машинное обучение, Data Science,<br>Аналитические исследования"
          ],
          [
           220000,
           120000,
           "Python, Data Science, ML-модели, Machine Learning,<br>SQL, Docker, Kubernetes, ClickHouse"
          ],
          [
           370000,
           270000,
           "SQL, Python, Математическая статистика, Анализ<br>данных"
          ],
          [
           280000,
           210000,
           "Python, SAS, SQL"
          ],
          [
           130000,
           100000,
           "Pytorch, OpenCV, HuggingFace, Torchvision"
          ],
          [
           200000,
           150000,
           "MicroKernel, UML, ArchiMate, EDA, SOA, DDD, MSA,<br>GoF, GRASP, TOGAF, Kubernetes, OpenShift,<br>RabbitMQ, Apache, Kafka, PostgreSQL, Redis, Hadoop"
          ],
          [
           380000,
           280000,
           "Big Data, ETL, MS SQL, Базы данных, Анализ данных"
          ],
          [
           180000,
           150000,
           "Python, NLP, ML, Pytorch, Cuda, Neural Network,<br>Speech Recognition"
          ],
          [
           310000,
           300000,
           "Scala / Python Hadoop (hdfs, hive) Apache Spark<br>Airflow"
          ],
          [
           250000,
           180000,
           "C++, Linux, Математическое программирование, ML,<br>нейросети, облако точек, система управления, ROS2,<br>Machine Learning"
          ],
          [
           220000,
           210000,
           "Python, PyTorch, TensorFlow"
          ],
          [
           100000,
           80000,
           "НСИ, MDM, ТОиР, 1С"
          ],
          [
           150000,
           120000,
           "LLM, NLP, Python"
          ],
          [
           370000,
           270000,
           "Python, SQL, API"
          ],
          [
           270000,
           200000,
           "Python, Big Data, Machine Learning, ML"
          ],
          [
           160000,
           150000,
           "Data Engineer, Big Data, PostgreSQL, Python, ETL,<br>Data lake, Хранилище данных, витрины данных, NiFi"
          ],
          [
           150000,
           120000,
           "Кластерный анализ, SQL, Анализ данных, Python, MS<br>SQL, Data Analysis, Базы данных, Аналитика,<br>Математическая статистика, Аналитическое мышление"
          ],
          [
           130000,
           100000,
           "Python, Machine Learning, Pandas, SQL, Numpy, Big<br>Data, NLP, Sas"
          ],
          [
           210000,
           180000,
           "NumPy, Pandas, OpenCV, Sklearn, Matplotlib"
          ],
          [
           350000,
           300000,
           "SQL, MS SQL, Big Data, Python, Spark, Hadoop,<br>Machine Learning, Математическая статистика,<br>Аналитические исследования, Работа с базами<br>данных, Статистический анализ, Аналитическое<br>мышление, Математический анализ"
          ],
          [
           230000,
           130000,
           "Разработки на Python3 от 1 года; Глубокие знания и<br>опыт работы с PyTorch; Опыт работы с медицинскими<br>изображениями и медицинскими заключениями; Знание<br>статистики, алгоритмов машинного обучения и теории<br>нейронных сетей; Опыт работы с Docker и Kubernetes"
          ],
          [
           170000,
           100000,
           "NumPy, Pandas, OpenCV, Sklearn, Matplotlib"
          ],
          [
           170000,
           120000,
           "SQL, Linux, Работа с базами данных"
          ],
          [
           200000,
           130000,
           "Python, Hadoop, Spark, ML, DL"
          ],
          [
           310000,
           300000,
           "NumPy, Pandas, OpenCV, Sklearn, Matplotlib, CI/CD"
          ],
          [
           250000,
           150000,
           "Понимание типовой архитектуры хранилищ и принципов<br>работы реляционных баз данных; Уверенное владение<br>любым из диалектов SQL: Microsoft, Postgre,<br>Oracle, другие; Умение писать поддерживаемый и<br>масштабируемый код, опыт работы с Python"
          ],
          [
           350000,
           300000,
           "MS SQL, PostgreSQL, API, Базы данных, Техническая<br>поддержка"
          ],
          [
           240000,
           210000,
           "Python, SQL"
          ],
          [
           330000,
           280000,
           "Python, Java, Scala, SQL"
          ],
          [
           170000,
           120000,
           "Python, Spark, Big Data, Dagster, Kafka, Airflow,<br>C++, геоданные, SQL, ETL"
          ],
          [
           250000,
           200000,
           "Python, OpenCV"
          ],
          [
           180000,
           130000,
           "ClickHouse, Pythоn, SQL, AirFlow, Spark, Apache<br>Kafka, Yandex Cloud, Big Data, Kubernetes,<br>FastAPI\\Flask API"
          ],
          [
           230000,
           210000,
           "OpenCV, PyTorch, Gstreamer, Nvidia Triton Server<br>(TRT), OpenVINO, С++"
          ],
          [
           130000,
           120000,
           "NumPy, Pandas, OpenCV, Sklearn, Matplotlib, git"
          ],
          [
           320000,
           270000,
           "Опыт работы с DVC, MLFlow, Airflow, Docker;<br>Уверенное знание PostgreSQL, Redis, Kafka,<br>ClickHouse; Опыт разработки REST-сервисов (FastApi<br>(Flask, Django) + aiohttp); Умение работать с git"
          ],
          [
           200000,
           180000,
           "Python, SQL, ML"
          ],
          [
           110000,
           100000,
           "Python, ML, Data Science, Анализ данных"
          ],
          [
           150000,
           130000,
           "Python, SQL, ML, Science, RecSys, PostgreSQL,<br>Анализ данных, Machine Learning, Data Science"
          ],
          [
           230000,
           180000,
           "Python"
          ],
          [
           280000,
           180000,
           "ClickHouse, Pythоn, SQL, AirFlow, Spark, Apache<br>Kafka, Yandex Cloud, Big Data, Kubernetes,<br>FastAPI\\Flask API, Java"
          ],
          [
           200000,
           150000,
           "Python, ООП, ML"
          ],
          [
           200000,
           130000,
           "SQL, ETL, Power BI, Yandex Cloud Platform"
          ],
          [
           290000,
           270000,
           "SQL, Data Analysis"
          ],
          [
           120000,
           100000,
           "Apache Kafka, SQL"
          ],
          [
           145000,
           45000,
           "MS SQL, PostgreSQL, API, Базы данных, Техническая<br>поддержка"
          ],
          [
           230000,
           210000,
           "SQL, Python, ML"
          ],
          [
           300000,
           270000,
           "Python, SQL, Математическое моделирование,<br>Математический анализ, R"
          ],
          [
           210000,
           180000,
           "Ценообразование, Power BI, SQL, Кластеризация,<br>регрессия, классификация, методы проверки гипотез"
          ],
          [
           280000,
           210000,
           "SQL, IBM InfoSphere Guardium"
          ],
          [
           110000,
           100000,
           "Linux, PowerShell, Transact-SQL, Python, С#, SQL"
          ],
          [
           140000,
           100000,
           "Python, Java, Rust"
          ],
          [
           220000,
           120000,
           "SQL, Математическая статистика, Математическое<br>моделирование, Работа с базами данных,<br>Математический анализ, Бизнес-анализ,<br>Статистический анализ, Аналитическое мышление, MS<br>SQL, Финансовый анализ"
          ],
          [
           200000,
           150000,
           "Python, machine learning, SQL, Базы данных"
          ],
          [
           300000,
           150000,
           "Уверенное знание Python (3.8+) понимание, как<br>устроены основные ML и DL алгоритмы (от решающих<br>деревьев до трансформеров) хорошее владение<br>pytorch, torchaudio, docker  опыт работы в ML от<br>1,5 лет     опыт работать с аудио данными   Будет<br>плюсом:  опыт создания сервисов умение в MLOps"
          ],
          [
           110000,
           100000,
           "Python, SQL, PyTorch, Математическая статистика,<br>Keras"
          ],
          [
           105000,
           55000,
           "SQL, Sas, Базы данных, Скоринговая карта, База<br>данных: Oracle, Python"
          ]
         ],
         "hoverlabel": {
          "namelength": 0
         },
         "hovertemplate": "<b>%{hovertext}</b><br><br>Опыт=От 1 года до 3 лет<br>Нижняя вилка зарплаты=%{customdata[1]}<br>Верхняя вилка зарплаты=%{customdata[0]}<br>Требуемые навыки=%{customdata[2]}",
         "hovertext": [
          "Начинающий специалист по работе с нейросетям",
          "Junior Data Engineer",
          "Data Scientist",
          "Python Developer (Junior)",
          "Специалист по работе с нейронными сетями\\Promt инженер",
          "Junior / Middle ML Engineer (Data Scientist)",
          "ML engineer",
          "Data Scientist (Junior/middle)",
          "Computer Vision Engineer 2/2 (удаленно)",
          "Data Scientist (CV)",
          "Data Scientist",
          "ML-разработчик/Data Scientist",
          "Data Scientist",
          "Data Engineer",
          "Computer vision Data Engineer",
          "Data Analyst",
          "Junior Data Analyst",
          "Data Scientist",
          "Data scientist ML",
          "Data Scientist",
          "Математик-разработчик (Data Scientist), Маркетплейс, Цены и анализ конкурентов",
          "Data Scientist",
          "Дата аналитик (Data Scientist)",
          "Инженер данных",
          "Дата Сайнтист",
          "Data Scientist",
          "Data Scientist",
          "Эксперт по моделированию и анализу данных / Data Scientist",
          "Prompt Engineer в Startup-студию (Remote)",
          "Data Scientist",
          "CV / ML разработчик",
          "Data-Scientist (международное направление)",
          "Data Engineer",
          "Data Scientist Управления модельных рисков и валидации",
          "Data Scientist (сопровождение процесса разработки и использования моделей)",
          "Data Science",
          "Data Scientist",
          "Data Engineer (ETL)",
          "Cпециалист-исследователь в области обработки аудиосигналов и текста",
          "Data Scientist (LLM)",
          "Data engineer",
          "Data Scientist",
          "Дата аналитик (Data Scientist)",
          "Дата аналитик (Data Scientist)",
          "Data Engineer (ETL)",
          "Дата аналитик (Data Scientist)",
          "Data scientist NLP",
          "Data Scientist (модельные риски и валидация)",
          "Дата аналитик (Отдел анализа конкурентов)",
          "ML Engineer",
          "Data Scientist",
          "Data scientist (Персонализация)",
          "Middle Data Scientist (рекомендательные системы, классификация)",
          "Senior Data scientist",
          "Data Scientist / Machine Learning Engineer в команду рекомендаций и машинного обучения",
          "Data Scientist",
          "Data Scientist",
          "Data Engineer",
          "Data Scientist",
          "Research Engineer DL/ML",
          "Data Scientist (Моделирование рисков корпоративного кредитования)",
          "Data Scientist / ML engineer",
          "Специалист в группу технического сопровождения",
          "Data Scientist (middle)",
          "ML engineer",
          "Data Scientist (middle)",
          "Data Scientist (middle)",
          "Аналитик данных",
          "Data Scientist",
          "Data Science",
          "Эксперт Группа аналитики и моделирования (Data scientist)",
          "Middle Python Developer",
          "Data инженер",
          "Analytics Engineer в команду Experimentation platform",
          "Data Scientist (Middle)",
          "Data Engineer",
          "ML-инженер",
          "Менеджер по управлению данными",
          "Data analyst",
          "Data Scientist",
          "Data Engineer",
          "Аналитик данных NLP",
          "Data Scientist",
          "Data Engineer (Middle/ Middle +)",
          "Data Scientist (Middle)",
          "Data Scientist Микротранзит",
          "Эксперт направления анализа данных и моделирования",
          "Старший аналитик по валидации моделей рыночного риска",
          "Data Scientist (CV+NLP)",
          "Architect AI (Remote) / Архитектор ИИ (Solution)",
          "Data инженер",
          "Программист Data Science (распознавание речи)",
          "Data Engineer",
          "ML разработчик (отдел технического зрения)",
          "ML инженер / Data scientist",
          "Специалист по ведению данных ТОиР",
          "Machine Learning Engineer в Knowledge Base capitalization",
          "Data Scientist (middle)",
          "Старший Data Scientist в команду поискового ранжирования",
          "Data Engineer",
          "Data scientist",
          "Data Scientist (Middle)",
          "Middle Computer Vision Engineer",
          "Senior Data Scientist",
          "Reinforcement learning in multi-modal medical imaging specialist (Junior)",
          "Middle Computer Vision Engineer",
          "Администратор баз данных",
          "Middle \\ Senior Data scientist (команды CRM и модели оптимизации)",
          "Middle Computer Vision Engineer",
          "Data Engineer (PostgreSQL, Greenplum)",
          "Специалист в группу технического сопровождения",
          "Data Engineer (middle)",
          "Data Engineer",
          "Data Engineer Управления разработки продукта программного обеспечения автономного вождения",
          "Computer Vision (CV, Python, C++) инженер",
          "Data engineer",
          "Computer Vision Engineer C/C++",
          "Middle Computer Vision Engineer",
          "Machine Learning / Machine Learning Ops Engineer",
          "Data Analytics Team Lead",
          "Data Scientist (модели PD/LGD/EAD)",
          "ML engineer",
          "Руководитель управления моделирования по автострахованию",
          "Senior Data Engineer",
          "Data scientist Middle\\Senior (кредитный скоринг)",
          "Data Scientist (middle)",
          "Data Analyst в команду DS",
          "Data Engineer",
          "Специалист в группу технического сопровождения",
          "Эксперт по разработке моделей (модели PD/LGD/EAD)",
          "Middle \\ Senior Data Scientist в команду моделирования розничного бизнеса",
          "Эксперт цифровой продуктовой витрины",
          "Администратор данных",
          "Data Engineer",
          "Data Engineer (Middle)",
          "Бизнес-аналитик",
          "Ведущий специалист DATA SCIENCE",
          "Middle MLE/DS c NLP направленностью",
          "Data Scientist (CoreML + RecSys)",
          "Ведущий специалист по разработке скоринговых карт"
         ],
         "legendgroup": "Опыт=От 1 года до 3 лет",
         "marker": {
          "color": "#EF553B",
          "size": 10,
          "symbol": "circle"
         },
         "mode": "markers",
         "name": "Опыт=От 1 года до 3 лет",
         "showlegend": true,
         "type": "scatter",
         "x": [
          55000,
          150000,
          180000,
          60000,
          280000,
          170000,
          200000,
          180000,
          200000,
          130000,
          70000,
          300000,
          200000,
          200000,
          120000,
          180000,
          180000,
          270000,
          70000,
          210000,
          120000,
          300000,
          55000,
          180000,
          180000,
          150000,
          200000,
          300000,
          200000,
          200000,
          150000,
          150000,
          130000,
          270000,
          130000,
          270000,
          270000,
          150000,
          130000,
          200000,
          100000,
          55000,
          130000,
          150000,
          280000,
          100000,
          100000,
          180000,
          150000,
          150000,
          100000,
          280000,
          270000,
          210000,
          100000,
          180000,
          280000,
          100000,
          130000,
          180000,
          270000,
          210000,
          130000,
          120000,
          210000,
          200000,
          300000,
          300000,
          100000,
          270000,
          200000,
          300000,
          120000,
          180000,
          180000,
          100000,
          150000,
          180000,
          180000,
          120000,
          300000,
          180000,
          200000,
          120000,
          180000,
          120000,
          270000,
          210000,
          100000,
          150000,
          280000,
          150000,
          300000,
          180000,
          210000,
          80000,
          120000,
          270000,
          200000,
          150000,
          120000,
          100000,
          180000,
          300000,
          130000,
          100000,
          120000,
          130000,
          300000,
          150000,
          300000,
          210000,
          280000,
          120000,
          200000,
          130000,
          210000,
          120000,
          270000,
          180000,
          100000,
          130000,
          180000,
          180000,
          150000,
          130000,
          270000,
          100000,
          45000,
          210000,
          270000,
          180000,
          210000,
          100000,
          100000,
          120000,
          150000,
          150000,
          100000,
          55000
         ],
         "xaxis": "x",
         "y": [
          60000,
          200000,
          200000,
          110000,
          330000,
          180000,
          250000,
          200000,
          250000,
          140000,
          100000,
          350000,
          250000,
          220000,
          170000,
          230000,
          230000,
          300000,
          100000,
          240000,
          170000,
          320000,
          90000,
          230000,
          190000,
          250000,
          250000,
          310000,
          400000,
          250000,
          200000,
          180000,
          160000,
          320000,
          150000,
          340000,
          300000,
          200000,
          160000,
          300000,
          150000,
          105000,
          200000,
          170000,
          330000,
          130000,
          170000,
          280000,
          160000,
          200000,
          100000,
          290000,
          370000,
          240000,
          200000,
          230000,
          330000,
          150000,
          160000,
          210000,
          370000,
          240000,
          230000,
          190000,
          280000,
          230000,
          370000,
          320000,
          200000,
          300000,
          230000,
          320000,
          130000,
          210000,
          230000,
          150000,
          220000,
          230000,
          210000,
          190000,
          350000,
          210000,
          250000,
          130000,
          250000,
          220000,
          370000,
          280000,
          130000,
          200000,
          380000,
          180000,
          310000,
          250000,
          220000,
          100000,
          150000,
          370000,
          270000,
          160000,
          150000,
          130000,
          210000,
          350000,
          230000,
          170000,
          170000,
          200000,
          310000,
          250000,
          350000,
          240000,
          330000,
          170000,
          250000,
          180000,
          230000,
          130000,
          320000,
          200000,
          110000,
          150000,
          230000,
          280000,
          200000,
          200000,
          290000,
          120000,
          145000,
          230000,
          300000,
          210000,
          280000,
          110000,
          140000,
          220000,
          200000,
          300000,
          110000,
          105000
         ],
         "yaxis": "y"
        },
        {
         "customdata": [
          [
           400000,
           200000,
           "Python, NLP, Artificial intelligence,<br>Искусственный интеллект, Machine Learning,<br>Машинное обучение, Обработка естественного языка,<br>Data science, Language Processing, Natural, ООП"
          ],
          [
           570000,
           350000,
           "Machine Learning, Python, numpy, pandas,<br>matplotlib, seaborn, Обучение нейронных сетей,<br>TensorFlow, CNTK, Keras, PyTorch, Caffe, Nvidia<br>TLT, Linux"
          ],
          [
           300000,
           200000,
           "Опыт в компьютерном зрении от 3 лет, Уверенные<br>знания машинного обучения и особенно deep<br>learning, Python и его dl-стэк - pytorch,<br>tensorflow (huggingface - плюс), Знать состояние<br>генеративных моделей в CV и опыт работы с<br>диффузионными моделями."
          ],
          [
           300000,
           270000,
           "Python, SQL, Обучение и развитие, Машинное<br>обучение, Data Science"
          ],
          [
           200000,
           200000,
           "Pytorch, TensorFlow, OpenVino, OpenCV, Pandas,<br>NumPy, scipy, GPU, S3, LLM"
          ],
          [
           200000,
           150000,
           "SQL, Сбор и анализ информации, Работа с базами<br>данных"
          ],
          [
           130000,
           100000,
           "знание Data Science процессов; знание и понимание<br>подходов обучения с учителем и обучения без<br>учителя; умение проводить Data Science<br>эксперименты от формулирования гипотезы до<br>анализа; результатов и описания выводов; умение<br>работать с большими объемами данных; умение<br>визуализировать данные в matplotlib, seaborn и<br>plotly; умение демонстрировать результаты работы<br>руководству и другим коллегам; высшее образование<br>(математика, физика); умение и готовность<br>самостоятельно собирать отчеты из разных систем;<br>опыт работы в Data Science от 3х лет; уверенные<br>теоретические знания ML; уверенное владение<br>python; SQL средний уровень; умение работать как в<br>команде, так и самостоятельно."
          ],
          [
           350000,
           270000,
           "Хорошие навыки разработки на Python"
          ],
          [
           200000,
           150000,
           "Глубокие знания Python, эмбеддингов, pytests Опыт<br>обучения нейронных сетей Понимание архитектуры<br>современных языковых моделей (langchain, RAG)"
          ],
          [
           320000,
           300000,
           "Python, Pyspark, Финансы, IT"
          ],
          [
           85000,
           55000,
           "Python"
          ],
          [
           150000,
           100000,
           "NLP, Computer Vision, Python, LLM"
          ],
          [
           300000,
           270000,
           "Python, LLM, Speech"
          ],
          [
           200000,
           150000,
           "Управление командой, SQL, Python, Моделирование,<br>Data science"
          ],
          [
           110000,
           100000,
           "ArcGIS QGIS Git/Gitlab Python пространственные<br>базы данных Agile"
          ],
          [
           230000,
           180000,
           "Power BI, СУБД, SQL, DataLens, Базы данных,<br>Аналитическое мышление, Сбор и анализ информации,<br>Анализ данных, Python"
          ],
          [
           330000,
           300000,
           "Python, Machine Learning, RecSys, C++, ML, Data<br>Science"
          ],
          [
           250000,
           150000,
           "Python, SQL, Big Data, Математический анализ"
          ],
          [
           260000,
           210000,
           "Python, Hadoop, Big Data, Machine Learning"
          ],
          [
           200000,
           150000,
           "Экспертиза в области искусственного интеллекта и<br>машинного обучения: глубокие знания и понимание<br>текущих технологий ИИ, машинного обучения,<br>нейронных сетей, алгоритмов и связанных с ними<br>инноваций Управленческие и лидерские навыки:<br>способность строить и вести команду специалистов,<br>создавать продуктивную рабочую среду, и<br>мотивировать сотрудников"
          ],
          [
           280000,
           240000,
           "MS SQL, PostgreSQL, Java, Базы данных, Hadoop,<br>MySQL, REST, SCALA, API, REST API, SOAP, Python,<br>HDFS, S3, Spark, Airflow, dbt, Data Lakehouse"
          ],
          [
           370000,
           300000,
           "Spark, Hive, MLFlow, ML, AirFlow, MLOps,<br>Forecasting"
          ],
          [
           140000,
           90000,
           "уверенное знание Python (библиотеки: NumPy,<br>Pandas, Scikit-learn, Keras, PyTorch); знания в<br>области машинного обучения и статистики, а также<br>понимание основных алгоритмов ML, используемых в<br>NLP; понимание основных принципов обработки<br>естественного языка, включая токенизацию,<br>лемматизацию, стемминг, извлечение сущностей и<br>классификацию текста; знание основных алгоритмов<br>обучения моделей (линейная регрессия,<br>логистическая регрессия, деревья решений, SVM и<br>Naive Bayes); понимание основных аспектов<br>предобработки текстовых данных: очистка данных,<br>удаление стоп-слов, приведение к нижнему регистру,<br>устранение шума, нормализация текста; знание<br>основных методов оценки моделей, таких как кросс-<br>валидация, ROC-кривые, Precision-Recall кривые,<br>confusion matrix и прочее; опыт обучения моделей<br>глубоких нейронных сетей, понимание архитектур и<br>основных принципов."
          ],
          [
           150000,
           100000,
           "Big Data, Английский язык, Data Mining,<br>Организаторские навыки, Обучение и развитие,<br>Прогнозирование, Работа с большим объемом<br>информации, Работа с базами данных, Аналитические<br>исследования, Data Analysis, Аналитическое<br>мышление"
          ],
          [
           230000,
           180000,
           "Успешный опыт построения крупных nlp-based<br>продуктов   Опыт работы с трансформерами<br>Технологический стек: python + pytorch, spark,<br>docker, git, linux"
          ],
          [
           320000,
           270000,
           "Python, SQL, Математическая статистика, Big Data,<br>ML"
          ],
          [
           370000,
           300000,
           "SQL, Python, ETL, ELT, СУБД, Airflow, dbt,<br>ClickHouse, GreenPlum, Spark, Kafka, Kubernetes"
          ],
          [
           210000,
           180000,
           "Python, bash, git, SQL, Hadoop"
          ],
          [
           150000,
           130000,
           "Triton, Python, PyTorch, Git"
          ],
          [
           180000,
           150000,
           "ML, Python, CatBoost, STT, ASR, LabelStudio"
          ],
          [
           150000,
           120000,
           "IT, Разработка поисковых технологий, data science,<br>Python, Deep Learning, Алгоритмы и структуры<br>данных"
          ],
          [
           350000,
           300000,
           "SQL, Python, Pandas, ML, machine learning,<br>обучение модели, машинное обучение, NLP, CV,<br>Computer Vision, нейронная сеть"
          ],
          [
           190000,
           180000,
           "Управление командой, Анализ данных, A/B тесты,<br>Data scientist"
          ],
          [
           280000,
           240000,
           "MS SQL, PostgreSQL, Java, Базы данных, Hadoop,<br>MySQL, REST, SCALA, API, REST API, SOAP, Python,<br>HDFS, S3, Spark, Airflow, dbt, Data Lakehouse"
          ],
          [
           125000,
           105000,
           "Основной язык: Python, C++. Основной ML фрэймворк:<br>Pytorch. Опыт переноса ML пайплайна с Python на<br>C++. Системы разметки данных для CV: CVAT (или<br>другая подобная). Библиотеки обработки изображений<br>и тензоров: OpenCV, numpy, pillow. Запуск ML<br>модели в продакшн под CPU: Onnx, OnnxRuntime,<br>OpenVino. Общие инструменты разработки: Git,<br>Docker"
          ],
          [
           200000,
           150000,
           "Python, Machine Learning, SQL, A/B тесты, Docker,<br>Git"
          ],
          [
           300000,
           200000,
           "Уметь выкладывать свой код в кластер кубернетес<br>Python - хороший уровень кода Docker - уметь<br>заворачивать решения в контейнер Pytorch - для<br>нейронных сетей FastAPI - для создания REST<br>сервисов по взаимодействию с моделью OpenCV Linux<br>Ubuntu Triton inference server + onnx для<br>инференса"
          ],
          [
           310000,
           280000,
           "Python, Spark, Dagster, S3, Kafka, Kubernetes"
          ],
          [
           170000,
           100000,
           "Python, SQL, Английский язык, ML, Машинное<br>обучение, NLP, GPT"
          ],
          [
           180000,
           150000,
           "Python, SQL, Pandas, Аналитическое мышление, Базы<br>данных, Machine Learning, Аналитические<br>исследования, Машинное обучение, ML, BigQuery,<br>Greenplum, Clickhouse, Spark"
          ],
          [
           330000,
           300000,
           "RecSys, рекомендательная система, ml, Python"
          ],
          [
           90000,
           60000,
           "Python, Machine Learning, Linux"
          ],
          [
           330000,
           300000,
           "Опыт Python разработчика (pytorch, opencv), знание<br>ООП, git, numpy, pandas, sklearn"
          ],
          [
           150000,
           100000,
           "Python, SQL, Анализ данных, Teamleading"
          ],
          [
           400000,
           250000,
           "Python, SQL, Apache Airflow, СlickHouse"
          ],
          [
           290000,
           280000,
           "Pytorch, Tensorflow"
          ],
          [
           200000,
           180000,
           "GreenPlum, ClickHouse, AirFlow, Python, Debezium,<br>Yandex Cloud, DBT, SQL"
          ],
          [
           310000,
           210000,
           "Python, Big Data, Математическая статистика,<br>Математический анализ, Аналитические исследования,<br>Математическое моделирование, Machine Learning"
          ],
          [
           330000,
           280000,
           "Базы данных, Моделирование бизнес процессов,<br>Моделирование процессов, Системное мышление,<br>Проектная деятельность, SQL запросы, Cистемы<br>управления базами данных, Внимательность к<br>деталям, способность работать с большими массивами<br>информации, модели данных"
          ],
          [
           220000,
           120000,
           "Уверенное владение R или Python<br>(pandas/numpy/sklearn)"
          ],
          [
           200000,
           150000,
           "SQL, Python, Аналитическое мышление,<br>Математический анализ, Математическая статистика,<br>Работа с большим объемом информации,<br>Математическое моделирование"
          ],
          [
           330000,
           280000,
           "Уверенное владение Python. Опыт работы с<br>библиотеками и фреймворками Data Science, такими<br>как pandas, sklearn, scipy, matplotlib, catboost и<br>др. Знание основ статистического анализа и его<br>применение. Опыт проведения A/B тестирования.<br>Понимание классических методов и алгоритмов<br>машинного обучения, с опытом их применения на<br>практике. Базовые навыки SQL запросов. Опыт работы<br>с Git и Docker.  Будет плюсом:  Опыт работы с<br>MLflow / KubeFlow / ClearML. Знание GitLab CI/CD.<br>Опыт работы с Airflow / Argo"
          ],
          [
           220000,
           150000,
           "Вы знаете основные Machine Learning алгоритмы,<br>умеете использовать numpy, pandas, scipy,<br>matplotlib и готовы работать с ключевыми ML<br>библиотеками (XGBoost, Scikit-learn, LightGBM);<br>Обладаете уверенным знанием Python и опытом<br>разработки API (Flask Django, FastAPI);<br>Пользуетесь инструментами командной строки в<br>linux-системах; Есть опыт работы с opensource<br>MLOps решениями (AirFlow, MLFlow, Seldon Core или<br>их аналогами); Используете Docker в повседневной<br>работе и применяете DevOps практики (git, CI/CD);<br>Понимаете, в чем отличие Kafka от RabbitMQ;<br>Уверенно пользуетесь SQL и обладаете опытом работы<br>с реляционными СУБД (например, PostgreSQL)"
          ],
          [
           210000,
           180000,
           "Желателен опыт в решении ML-задач из банковского<br>сектора (скоринги, кредитные риски и пр.) Опыт<br>лидирования стримов с технической точки зрения,<br>управления командой DS и ML-специалистов; Опыт и<br>решенные практические задачи с использованием<br>методов ML и DL (Python) Опыт работы с системами<br>больших данных (Spark), Понимание общей культуры<br>современной разработки: Git, работа по спринтам в<br>SAFe фреймворке"
          ],
          [
           140000,
           120000,
           "Python, PySpark, Big Data, Machine Learning"
          ],
          [
           290000,
           270000,
           "Владение Python; Отличное знание PyTorch;  Опыт в<br>решении задач object detection/ocr;   Знание<br>любого фреймворка (Fast api, Flask , Django ,<br>Black sheep и т.п)"
          ],
          [
           370000,
           300000,
           "высокий уровень знания Python; умение<br>декомпозировать задачу в переиспользуемые и<br>тестируемые библиотеки и компоненты; хорошая<br>теоретическая подготовка в областях математики,<br>алгоритмов и структур данных, прикладной<br>статистики; практические знания Git, Bash, Docker;<br>знание SQL"
          ],
          [
           280000,
           180000,
           "Greenplum, Teradata, ORACLE, MSSQL, DWH, Python,<br>ETL, Hadoop, CI/CD, Jenkins, Bitbucket, Git, Linux"
          ],
          [
           200000,
           150000,
           "Greenplum (Arenadata DB), PostgreSQL, Clickhouse"
          ],
          [
           220000,
           200000,
           "Python, Machine Learning, Linux"
          ],
          [
           250000,
           150000,
           "Python, Machine Learning, Linux"
          ],
          [
           170000,
           70000,
           "Python, Machine Learning, Linux"
          ],
          [
           350000,
           300000,
           "Python, Docker, Kubernetes, RESTAPI"
          ],
          [
           190000,
           120000,
           "Опыт настройки и администрирования БД, которые<br>используются у нас - Clickhouse и Postgres (опыт с<br>Oracle или MySQL тоже подойдет);   Глубокое знание<br>принципов организации логической структуры таблиц<br>и ETL процессов на текущем месте работы;   Знание<br>Python, либо желание на него перейти с другого<br>языка с ОП"
          ],
          [
           220000,
           200000,
           "Python, ML, NLP"
          ],
          [
           230000,
           180000,
           "Python, Git, Hadoop/Spark, SQL, Linux"
          ],
          [
           280000,
           210000,
           "pandas, TensorFlow, PyTorch, Scikit-learn"
          ],
          [
           220000,
           150000,
           "Pandas, NumPy, SciPy, sklearn, SQL"
          ],
          [
           220000,
           150000,
           "Python, C++, Математическая статистика, Методы<br>оптимизации"
          ],
          [
           180000,
           150000,
           "Python, Git, Docker, Machine Learning, Stable<br>Diffusion, PyTorch, Computer Vision"
          ],
          [
           150000,
           120000,
           "Python, pd, lgd"
          ],
          [
           150000,
           100000,
           "построение рекомендаций с нуля"
          ],
          [
           310000,
           280000,
           "Cross-validation, Machine Learning, Python,<br>Docker, K8S"
          ],
          [
           170000,
           100000,
           "владение Python (pandas, numpy, seaborn,<br>matplotlib); владение SQL; опыт работы с Hadoop,<br>Spark"
          ],
          [
           300000,
           250000,
           "Python, SQL, Hadoop, Spark, Airflow"
          ],
          [
           100000,
           80000,
           "Cross-validation, Machine Learning, Python,<br>Docker, K8S"
          ],
          [
           65000,
           55000,
           "SQL, Python, Airflow, ORACLE, Postgres, Git,<br>Clickhouse, ETL, Jira, Trello"
          ],
          [
           170000,
           120000,
           "SQL, Python, Работа с базами данных,<br>Математическое моделирование, Аналитические<br>исследования, Сегментирование аудитории,<br>Кластерный анализ"
          ],
          [
           190000,
           180000,
           "ML, Data Science, Python, SQL, Hive, PostgreSQL,<br>Greenplum, Airflow, MLflow, Docker, FastAPI,<br>PySpark"
          ],
          [
           200000,
           150000,
           "Python, SQL, Базы данных, Машинное обучение, NLP"
          ],
          [
           170000,
           100000,
           "Python, SQL, Прогнозирование, Airflow"
          ],
          [
           230000,
           180000,
           "IT, поиск, Python, ML, Hadoop, Spark, Yarn, Hive,<br>HDFS, MLFlow, Разработка поисковых технологий"
          ],
          [
           290000,
           270000,
           "Python, data science, Разработка поисковых<br>технологий, IT"
          ],
          [
           260000,
           210000,
           "PD, LGD, Математическое моделирование, Python"
          ],
          [
           150000,
           120000,
           "Python, Machine Learning, SQL, A/B тесты, Docker,<br>Git"
          ],
          [
           230000,
           180000,
           "SQL, Python, Математическая статистика,<br>Математический анализ, Machine Learning, Numpy,<br>Pandas"
          ],
          [
           250000,
           200000,
           "Python, PyTorch, Hadoop, Computer Vision, NLP"
          ],
          [
           450000,
           330000,
           "Python, SQL, Spark, Базы данных, PHP, ClickHouse,<br>Elastic Search, MySQL, SCALA, TypeScript"
          ],
          [
           150000,
           100000,
           "Python, Математическая статистика, SQL, Анализ<br>рисков, Английский язык"
          ],
          [
           350000,
           300000,
           "ML и DL (Python)"
          ],
          [
           290000,
           280000,
           "Python, Spark, Dagster, S3, Kafka, Kubernetes"
          ],
          [
           110000,
           100000,
           "Python, Machine Learning"
          ],
          [
           300000,
           200000,
           "TTS, Text to speach, NumPy, Matplotlib, pandas,<br>PyTorch, Transformers"
          ],
          [
           250000,
           150000,
           "Python, Big Data, SQL, Hadoop, АВ-тестирование,<br>Математическая статистика, Математический анализ"
          ],
          [
           150000,
           100000,
           "Pytorch, Git, Docker, Deep learning, Python, Jira"
          ],
          [
           105000,
           55000,
           "Deep Learning, Прогнозирование, Time Series"
          ],
          [
           290000,
           270000,
           "NLP, Python, Machine Learning, Deep Learning,<br>Numpy, Алгоритмы, Машинное обучение, ML, Git"
          ],
          [
           230000,
           180000,
           "Python3 (numpy, pandas, scikit-learn, xgboost,<br>lightgbm, catboost, etc), git"
          ],
          [
           330000,
           300000,
           "PostgreSQL, ETL, DWH, ClickHouse"
          ],
          [
           230000,
           180000,
           "python, pandas, numpy, визуализация (matplotlib,<br>seaborn, plotly, пр.), sklearn,CatBoost, XGBoost,<br>LightGBM, Git, Flask, FastAPI- для получения<br>данных: SQL (PostgreSQL)- для мониторинга: Grafana"
          ],
          [
           230000,
           180000,
           "PyTorch, PySpark, Python, ML"
          ],
          [
           210000,
           180000,
           "Python, Machine Learning, Linux"
          ],
          [
           105000,
           75000,
           "Python, Machine Learning, Linux"
          ],
          [
           170000,
           120000,
           "Python, Machine Learning, Big Data, ML, Spark"
          ],
          [
           200000,
           150000,
           "matplotlib, seaborn, plotly, pandas, numpy,<br>scikit-learn, scipy, statsmodels"
          ],
          [
           180000,
           150000,
           "Python, SQL, Machine Learning, Анализ данных"
          ],
          [
           260000,
           250000,
           "Python, Docker, Pandas, Kafka, Kubernetes, Luigi,<br>Clickhouse"
          ],
          [
           150000,
           100000,
           "NLP, Python, PyTorch, Data Science, Numpy, Sklearn"
          ],
          [
           160000,
           130000,
           "Pandas, Matplotlib, Numpy, Scipy, Sklearn, SQL"
          ],
          [
           340000,
           270000,
           "Python, SQL, Spark"
          ],
          [
           230000,
           200000,
           "SAP BusinessObject, SAP DataIntegrator, MS SQL,<br>Oracle"
          ],
          [
           350000,
           300000,
           "Python, SQL"
          ],
          [
           230000,
           180000,
           "Математическое моделирование, Java, Kotlin"
          ],
          [
           260000,
           210000,
           "Python, PyTorch, Machine Learning, Deep Learning,<br>OpenCV, Алгоритмы, Resnet, Mobilenet, U-net, Yolo,<br>Deeplab, Computer Vision, Английский язык, GitLab<br>CI"
          ],
          [
           200000,
           130000,
           "SQL, Python, Kafka, Docker"
          ],
          [
           300000,
           270000,
           "Python, classic ML, Data Science, SQL, Airflow,<br>MLflow, Deep Learning"
          ],
          [
           150000,
           120000,
           "PostgreSQL, Python, SQL, MLFlow, Airflow"
          ],
          [
           310000,
           280000,
           "Python, SQL, PySpark, Pandas, PyTorch, RecBole,<br>Scikit-learn, MLFlow, AirFlow, Prefect, Luigi"
          ],
          [
           320000,
           300000,
           "Greenplum (Arenadata DB), PostgreSQL, Clickhouse"
          ],
          [
           250000,
           200000,
           "Python, SQL, MS SQL, ORACLE, PostgreSQL, Git, ETL,<br>Hadoop, Airflow, Spark"
          ],
          [
           290000,
           280000,
           "Python, Big Data, Kubernetes, FastAPI, Pytorch,<br>Triton inference server, OpenCV, Docker, Умение<br>принимать решения, Организаторские навыки,<br>Управление командой, Работа с большим объемом<br>информации"
          ],
          [
           370000,
           270000,
           "Python ML stack, Python NLP stack, JupyterLab"
          ],
          [
           230000,
           180000,
           "SQL, Python, Machine learning, Data Analysis"
          ],
          [
           170000,
           100000,
           "SQL, Python, Математическое моделирование, Big<br>Data, ML"
          ],
          [
           260000,
           210000,
           "Python, jupyter, pycharm, sql, pyspark, sparkML,<br>git, jira, confluence"
          ],
          [
           310000,
           300000,
           "Опыт построения моделей с помощью классического<br>ML-стека; Любовь к Python, ООП и структурам<br>данных; Навыки работы с (py)Spark, Уверенные<br>знания SQL, теории вероятности и статистики; Кейсы<br>с применением собственных методик в анализе данных<br>и построении моделей на табличных данных; Хорошие<br>отношения с Git, Jira, Confluence"
          ],
          [
           230000,
           180000,
           "Python, data science, Разработка поисковых<br>технологий, IT"
          ],
          [
           210000,
           200000,
           "NLP, Llama, LoRA"
          ],
          [
           320000,
           270000,
           "Python, Machine Learning, Bokeh, Plotly, SQL"
          ],
          [
           110000,
           100000,
           "PySpark, Airflow, Hadoop"
          ],
          [
           150000,
           120000,
           "Hadoop, Spark, Hive, Map Reduce, Data streaming<br>(Kafka, NiFi), Greenplum; Python Application<br>Server (Anaconda); Jupiter notebook, Jupiter Hub;<br>Red Hat, Ubuntu, CentOS; GitLab"
          ],
          [
           150000,
           100000,
           "Python, pd, lgd, SQL"
          ],
          [
           340000,
           270000,
           "SQL, ML"
          ],
          [
           210000,
           180000,
           "deep learning (Reinforcement Learning, RNN, LSTM);<br>знание инструментов AutoML; опыт работы с Apache<br>NiFi; отличное знание Python (scikit-learn,<br>pandas, numpy, scipy, xgboost, tensorflow/pytorch,<br>keras) Scala"
          ],
          [
           300000,
           280000,
           "Python, Scala"
          ],
          [
           180000,
           80000,
           "Python, PyTorch, Tensorflow, Pandas, Numpy,<br>Xgboost, Catboost, HuggingFace, Arima"
          ],
          [
           170000,
           100000,
           "Python, PL/pgSQL и SQL"
          ],
          [
           210000,
           200000,
           "Python, PL/pgSQL и SQL"
          ],
          [
           350000,
           300000,
           "Python, Docker, SCALA, Hadoop, Big Data, Spark,<br>Machine Learning"
          ],
          [
           330000,
           300000,
           "PostgreSQL, MS SQL Server, DWH, Power BI, Базы<br>данных, ETL"
          ],
          [
           200000,
           150000,
           "Python Application Server (Anaconda); Jupiter<br>notebook, Jupiter Hub; Red Hat, Ubuntu, CentOS;<br>GitLab"
          ],
          [
           150000,
           100000,
           "Python: PyTorch, Transformers, Peft, Scikit-learn,<br>Pandas; Spark, GitLab, Docker, Kubernetes,<br>AirFlow; Hadoop, PostgreSQL, Kafka; Jira,<br>Confluence"
          ],
          [
           340000,
           220000,
           "Python, DWH, PostgresSQL, CRM, ERP, SQL, ETL,<br>PowerBI, PostgreSQL, Power BI, ML"
          ],
          [
           220000,
           120000,
           "Python, Machine Learning, Hadoop, Spark, Big Data,<br>Kafka, Airflow"
          ],
          [
           330000,
           280000,
           "Python, Linux, OpenCV, PyTorch, Computer Vision"
          ],
          [
           230000,
           180000,
           "ML, NLP (Python)"
          ],
          [
           125000,
           55000,
           "PyTorch, TensorFlow, Transformers, T5, Bert,<br>HuggingFace, ChatGPT, Deep Learning, NLP, Data<br>Science, Machine Learning, ML"
          ],
          [
           250000,
           180000,
           "Python, data science, Разработка поисковых<br>технологий, IT"
          ],
          [
           230000,
           180000,
           "QA, MLOps/DevOps"
          ],
          [
           290000,
           190000,
           "Kafka, DWH, ClickHouse, Greenplum, Airflow,<br>Hadoop, Spark"
          ],
          [
           180000,
           150000,
           "data science, Python, SQL"
          ],
          [
           370000,
           300000,
           "Scikit-learn, TensorFlow, XGBoost, CatBoost"
          ],
          [
           370000,
           270000,
           "SQL, PostgreSQL, СУБД, Java, Power BI"
          ],
          [
           170000,
           120000,
           "C++, Python, Cuda, Computer vision, Deep Learning"
          ],
          [
           210000,
           180000,
           "ORACLE, Hadoop, Big Data, PostgreSQL, Spark,<br>FastApi, AirFlow"
          ],
          [
           370000,
           270000,
           "Clickhouse, АirFlow, Postgres, Grafana, Prometheus"
          ],
          [
           300000,
           270000,
           "Machine learning, Data science, RecSys"
          ],
          [
           370000,
           300000,
           "Python, Управление командой"
          ],
          [
           170000,
           120000,
           "PySpark, Airflow, Hadoop, redis, rabbitMQ, k8s,<br>LLM, NLP"
          ],
          [
           170000,
           150000,
           "Python, Hadoop, Big Data, Spark, Airflow, SCALA,<br>Hive, ETL, DWH"
          ],
          [
           310000,
           210000,
           "Python, SQL"
          ],
          [
           210000,
           180000,
           "Python, Big Data, Machine Learning, Hadoop, Hive,<br>Spark, ML"
          ],
          [
           230000,
           180000,
           "Знание R или Python (Pandas, NumPy, Scikit-Learn,<br>LightGBM, XGBoost, CatBoost)"
          ],
          [
           160000,
           150000,
           "Python, pytorch, numpy, sklearn, pandas, OCR, CV,<br>OpenCV, docker"
          ],
          [
           230000,
           180000,
           "Python, Анализ данных, Git, Docker, LLM, NLP"
          ],
          [
           330000,
           280000,
           "Scikit-learn, HuggingFace, PyTorch"
          ],
          [
           210000,
           180000,
           "Python, Docker, SCALA, Hadoop, Big Data, Spark,<br>Machine Learning"
          ],
          [
           500000,
           300000,
           "ML (GBDT, LR), Kotlin"
          ],
          [
           250000,
           200000,
           "Python, ML, Spark, Machine Learning"
          ],
          [
           270000,
           200000,
           "Python, PostgreSQL, nlp, MATLAB, Анализ данных,<br>PyTorch, Data Science, NLP"
          ],
          [
           210000,
           200000,
           "Аналитическое мышление, Аналитические<br>исследования, Математическое моделирование, Data<br>Analysis, Machine Learning, Big Data,<br>Прогнозирование, ML, MongoDB, NoSQL, ETL, MATLAB,<br>NLP, LLM-driven, LoRa, RAG, PyTorch"
          ],
          [
           280000,
           270000,
           "ML, Data Science"
          ],
          [
           340000,
           270000,
           "Transformers, GPT, LLMs, BERT, T5, чат-боты,<br>fairseq"
          ],
          [
           260000,
           210000,
           "Управление командой, Цифровые каналы, Цифровые<br>продажи, Аналитика данных, Структура и презентация<br>цифр, Командообразование, Бизнес-анализ,<br>Стратегическое мышление, Управление интернет-<br>проектами"
          ],
          [
           150000,
           100000,
           "Python, SQL, Математическая статистика, Hadoop,<br>Математическое моделирование, Spark, ML"
          ],
          [
           260000,
           210000,
           "Python, PostgreSQL, nlp, MATLAB, Анализ данных,<br>PyTorch, Data Science, NLP"
          ],
          [
           400000,
           300000,
           "Python, SQL, алгоритмы ML, Pandas, Sklearn, Numpy,<br>Математическая статистика, машинное обучение"
          ],
          [
           220000,
           150000,
           "MongoDB, ElasticSearch, Redis, .NET Core, Python,<br>PostgreSQL, EF Core"
          ],
          [
           150000,
           130000,
           "NLTK, genism, word2vec, Bert"
          ],
          [
           130000,
           120000,
           "Python, SQL"
          ],
          [
           130000,
           100000,
           "Python, Spark, SQL, Machine learning, Deep<br>learning, NLP"
          ],
          [
           310000,
           280000,
           "Аналитическое мышление, Аналитические<br>исследования, Математическое моделирование, Data<br>Analysis, Machine Learning, Big Data,<br>Прогнозирование, ML, MongoDB, NoSQL, ETL, MATLAB,<br>NLP, LLM-driven, LoRa, RAG, PyTorch"
          ],
          [
           180000,
           130000,
           "Python, SQL, PySpark, Pandas, PyTorch, RecBole,<br>Scikit-learn, MLFlow"
          ],
          [
           130000,
           100000,
           "Python, Математическое моделирование, Hadoop,<br>Spark, Математическая статистика"
          ],
          [
           280000,
           270000,
           "Machine Learning, ML, C#"
          ],
          [
           220000,
           210000,
           "Python, SQL, PySpark, Pandas, PyTorch, RecBole,<br>Scikit-learn, MLFlow, AirFlow, Prefect, Luigi"
          ],
          [
           115000,
           85000,
           "Python, SQL, PySpark, Pandas, PyTorch, RecBole,<br>Scikit-learn, MLFlow"
          ],
          [
           220000,
           150000,
           "Python, SQL, deep learning, ML"
          ],
          [
           260000,
           210000,
           "NLP, Python, PyTorch, Data Science, Numpy, Sklearn"
          ],
          [
           320000,
           270000,
           "Python, PyTorch, Clickhouse, Docker, K8S,<br>huggingface"
          ],
          [
           350000,
           280000,
           "Python, SQL"
          ],
          [
           250000,
           180000,
           "Machine Learning, Deep Learning, Generative<br>design, AI, ML, CV, Python, LLM"
          ],
          [
           270000,
           200000,
           "SQL, Python, PyTorch, Docker, Hadoop, DVC, git"
          ],
          [
           250000,
           180000,
           "PyTorch"
          ],
          [
           170000,
           100000,
           "NLP, Python, ML, Математическая статистика"
          ],
          [
           150000,
           100000,
           "Machine Learning, ML, Data Science, DS, Машинное<br>обучение, CV, Computer Vision, MLE, Deep Learning,<br>DL, Generative Design, GD, Генеративный Дизайн"
          ],
          [
           200000,
           180000,
           "PyData: Pandas, NumPy, SciPy, scikit-learn,<br>pytorch/keras/TensoFlow, SQL"
          ],
          [
           180000,
           150000,
           "Linux, ETL, Apache Kafka, Apache Spark, Apache<br>NiFi, SQL, Python, SCALA, Kubernetes, C#, .NET<br>Framework"
          ],
          [
           320000,
           270000,
           "NLP, ML, Data Science, Обучение и развитие,<br>Написание текстов"
          ]
         ],
         "hoverlabel": {
          "namelength": 0
         },
         "hovertemplate": "<b>%{hovertext}</b><br><br>Опыт=От 3 до 6 лет<br>Нижняя вилка зарплаты=%{customdata[1]}<br>Верхняя вилка зарплаты=%{customdata[0]}<br>Требуемые навыки=%{customdata[2]}",
         "hovertext": [
          "Data Scientist (NLP)",
          "Senior Machine Learning Engineer",
          "Computer vision инженер",
          "Data Scientist",
          "ML специалист",
          "Специалист по работе с данными",
          "Data Scientist",
          "Machine learning engineer",
          "Инженер по искусственному интеллекту (middle/senior)",
          "ML разработчик, B2B",
          "Data Scientist",
          "AI Engineer",
          "Аналитик-разработчик",
          "Лидер команды (разработка моделей для малого бизнеса)",
          "Data scientist (Анализ ГИС данных)",
          "Аналитик данных / Data analyst",
          "ML-разработчик",
          "Data Scientist",
          "Data Scientist middle/senior",
          "Руководитель центра экспертизы по искусственному интеллекту",
          "Data Engineer",
          "Data Scientist",
          "Data Scientist",
          "Промт инженер/data scientist (удаленно)",
          "Data Scientist / Machine Learning Engineer",
          "Аналитик данных",
          "Data Engineer",
          "Middle/Senior Data Scientist",
          "Machine learning Engineer / ML Engineer",
          "Data Scientist (nlp)",
          "Data Scientist (Deep Learning), Рекомендации и персонализация",
          "Senior Data Scientist",
          "Руководитель направления DS",
          "Data Engineer",
          "ML-инженер",
          "Data scientist (ML)",
          "Senior Data Science",
          "Дата-инженер (Motion Prediction)",
          "Machine Learning Engineer (NLP/LLM)",
          "Data Scientist",
          "ML Engineer (Рекомендательные системы)",
          "Machine Learning Engineer",
          "Data Scientist",
          "Team Lead DS",
          "Data Engineer",
          "Machine Learning Engineer (удаленно)",
          "Data Engineer",
          "Data Scientist в команду аукциона",
          "Архитектор данных",
          "Эконометрист / Data scientist",
          "Аналитик-математик (команда Ранжирования)",
          "Data Scientist",
          "MLOps/ML Инженер",
          "ML engineer",
          "Data Scientist",
          "Computer Vision Engineer",
          "ML Инженер",
          "Data Engineer",
          "Lead Data Engineer",
          "Machine Learning Engineer",
          "Machine Learning Engineer",
          "Machine Learning Engineer",
          "Team-Lead Data Science",
          "Дата инженер",
          "Инженер ML-группы, NLP, Ozon Fintech",
          "Data Scientist",
          "Data Scientist",
          "AI Project Manager (Data Scientist)",
          "Data Scientist (Алгоритмы оптимизации)",
          "Senior Computer Vision Engineer",
          "Team Lead Data Scientist",
          "Machine Learning Engineer (удаленно)",
          "Machine Learning Engineer (CV)",
          "Аналитик мониторинга ПВР моделей",
          "Middle Data Engineer",
          "Machine Learning Engineer (CV)",
          "Data Engineer",
          "Специалист по сегментации и кластеризации данных",
          "Data scientist (Middle/Middle+)",
          "Data Science",
          "Senior Data Scientist (Прогноз заказов)",
          "Старший Data Scientist, Эффективность рекламы",
          "Data Scientist, Ранжирование поиска",
          "Data Scientist (математическое моделирование)",
          "Data scientist (ML)",
          "Аналитик данных",
          "Data Scientist (CV+NLP)",
          "Senior Data Scientist",
          "Data scientist, проекты по разработке симуляционных моделей, моделей оценки стресс-тестирования",
          "ML&Optimization engineer",
          "Data Engineer (Perception)",
          "Data Scientist (LLM) в команду рекомендаций",
          "Data scientist TTS (Text To Speech)",
          "Team Lead Data Science",
          "Middle Research Engineer",
          "Data Scientist (Deep Learning for Demand Forecast)",
          "NLP разработчик",
          "Middle+/Senior Data Scientist (модели кредитного риска)",
          "Data Engineer",
          "Руководитель направления (team lead) Data Science",
          "Senior ML Engineer (Senior Data Scientist), Маркетплейс, Цены и анализ конкурентов",
          "Machine Learning Engineer",
          "Machine Learning Engineer",
          "Senior Data Scientist (Pricing)",
          "Data Scientist",
          "Senior Data Scientist",
          "Senior Data Engineer",
          "Middle/Senior Data Scientist в команду NLP",
          "Data Scientist Middle+/Senior",
          "ML Engineer",
          "Разработчик ETL",
          "ML Engineer RecSyS",
          "Разработчик алгоритмов оптимизации",
          "Machine Learning / Computer Vision Engineer",
          "Data engineer",
          "Senior/Lead Data Scientist",
          "Middle Data Science",
          "TeamLead Data Scientist",
          "Lead Data Engineer",
          "Data Scientist",
          "Teamlead Data Science",
          "Senior Data scientist",
          "Data Scientist/ML Engineer",
          "Data scientist (команда Collection)",
          "Data Scienti​​​​​​​st ",
          "Data Scientist (Scoring)",
          "Ведущий Data Scientist, Ранжирование поиска",
          "Data Scientist (NLP AI)",
          "ML Data Scientist (Middle, Senior)",
          "Senior Machine Learning Engineer",
          "Data Engineer / Big Data Engineer",
          "Data Scientist (Моделирование рисков розничного кредитования)",
          "Data scientist",
          "ML Engineer",
          "Senior Data инженер в команду Data Финансовой платформы",
          "Data Scientist",
          "Lead Data Engineer",
          "Lead Data Engineer",
          "ML Engineer",
          "Системный архитектор (Data Warehouse)",
          "Senior Data Engineer / Senior Big Data Engineer",
          "Data Scientinst (NLP)",
          "Data Engineer AI (удаленно)",
          "ML Engineer",
          "Computer Vision engineer (Team lead)",
          "Team Lead Data Scientist",
          "Senior NLP Researcher",
          "Ведущий Data Scientist, Ранжирование поиска",
          "Data collection engineer",
          "Data Engineer Senior/Lead",
          "Data scientist senior",
          "Data Scientist",
          "Data engineer/BI-аналитик",
          "Deep Learning Engineer (Motion Prediction)",
          "Руководитель направления MLOps",
          "Data инженер",
          "Team Lead Data Scientist (RecSys)",
          "Руководитель группы машинного обучения",
          "Data Science Team Lead",
          "Team Lead ML",
          "Data Scientist",
          "Senior Data Scientist (Ranking&Search)",
          "Senior Data Scientist",
          "Middle/Senior CV Engineer (OCR/HCR)",
          "Middle Data Scientist",
          "Senior Data Scientist (NLP) в автоматизацию коммуникаций",
          "ML Engineer",
          "Senior MLE/DS в команду рекомендаций",
          "Team Lead ML Campaining",
          "NLP engineer",
          "Middle NLP Data Scientist (LLM)",
          "Team Lead ML Engineer",
          "Senior NLP Engineer",
          "Руководитель по развитию цифрового клиентского опыта",
          "Middle/ senior data scientist (разработка моделей для казначейства и рыночных рисков)",
          "NLP engineer",
          "Senior Data science expert в Центр технологий ИИ",
          "Data Scientist",
          "Senior Data Scientist NLP",
          "Data Science Lead / Руководитель группы специалистов по машинному обучению и аналитике данных",
          "Data scientist",
          "Middle NLP Data Scientist (LLM)",
          "Senior Data Scientist",
          "Senior Data Scientist в команду моделирования партнерств и ИТ - процессов",
          "Machine Learning Lead engineer",
          "Senior Data Scientist",
          "DS NLP (LLM), Senior",
          "Senior Data Scientist (Rec. system)",
          "Middle/Senior Data Scientist в команду NLP",
          "Senior Data Scientist (NLP)",
          "Руководитель направления Data Science",
          "Team Lead Data Scientist CV (Generative design)",
          "Data Scientist Teamlead NLP",
          "Medical foundation model research data scientist CV+NLP (Middle+)",
          "Data Scientist (Автор курса \"Векторизация и работа с векторами\")",
          "Senior Data Scientist CV (Generative design)",
          "Lead data scientist (Анализ цены и Trade in)",
          "Data engineer (middle+)",
          "Автор дисциплины \"Задачи NLP в машинном обучении\""
         ],
         "legendgroup": "Опыт=От 3 до 6 лет",
         "marker": {
          "color": "#00CC96",
          "size": 10,
          "symbol": "circle"
         },
         "mode": "markers",
         "name": "Опыт=От 3 до 6 лет",
         "showlegend": true,
         "type": "scatter",
         "x": [
          200000,
          350000,
          200000,
          270000,
          200000,
          150000,
          100000,
          270000,
          150000,
          300000,
          55000,
          100000,
          270000,
          150000,
          100000,
          180000,
          300000,
          150000,
          210000,
          150000,
          240000,
          300000,
          90000,
          100000,
          180000,
          270000,
          300000,
          180000,
          130000,
          150000,
          120000,
          300000,
          180000,
          240000,
          105000,
          150000,
          200000,
          280000,
          100000,
          150000,
          300000,
          60000,
          300000,
          100000,
          250000,
          280000,
          180000,
          210000,
          280000,
          120000,
          150000,
          280000,
          150000,
          180000,
          120000,
          270000,
          300000,
          180000,
          150000,
          200000,
          150000,
          70000,
          300000,
          120000,
          200000,
          180000,
          210000,
          150000,
          150000,
          150000,
          120000,
          100000,
          280000,
          100000,
          250000,
          80000,
          55000,
          120000,
          180000,
          150000,
          100000,
          180000,
          270000,
          210000,
          120000,
          180000,
          200000,
          330000,
          100000,
          300000,
          280000,
          100000,
          200000,
          150000,
          100000,
          55000,
          270000,
          180000,
          300000,
          180000,
          180000,
          180000,
          75000,
          120000,
          150000,
          150000,
          250000,
          100000,
          130000,
          270000,
          200000,
          300000,
          180000,
          210000,
          130000,
          270000,
          120000,
          280000,
          300000,
          200000,
          280000,
          270000,
          180000,
          100000,
          210000,
          300000,
          180000,
          200000,
          270000,
          100000,
          120000,
          100000,
          270000,
          180000,
          280000,
          80000,
          100000,
          200000,
          300000,
          300000,
          150000,
          100000,
          220000,
          120000,
          280000,
          180000,
          55000,
          180000,
          180000,
          190000,
          150000,
          300000,
          270000,
          120000,
          180000,
          270000,
          270000,
          300000,
          120000,
          150000,
          210000,
          180000,
          180000,
          150000,
          180000,
          280000,
          180000,
          300000,
          200000,
          200000,
          200000,
          270000,
          270000,
          210000,
          100000,
          210000,
          300000,
          150000,
          130000,
          120000,
          100000,
          280000,
          130000,
          100000,
          270000,
          210000,
          85000,
          150000,
          210000,
          270000,
          280000,
          180000,
          200000,
          180000,
          100000,
          100000,
          180000,
          150000,
          270000
         ],
         "xaxis": "x",
         "y": [
          400000,
          570000,
          300000,
          300000,
          200000,
          200000,
          130000,
          350000,
          200000,
          320000,
          85000,
          150000,
          300000,
          200000,
          110000,
          230000,
          330000,
          250000,
          260000,
          200000,
          280000,
          370000,
          140000,
          150000,
          230000,
          320000,
          370000,
          210000,
          150000,
          180000,
          150000,
          350000,
          190000,
          280000,
          125000,
          200000,
          300000,
          310000,
          170000,
          180000,
          330000,
          90000,
          330000,
          150000,
          400000,
          290000,
          200000,
          310000,
          330000,
          220000,
          200000,
          330000,
          220000,
          210000,
          140000,
          290000,
          370000,
          280000,
          200000,
          220000,
          250000,
          170000,
          350000,
          190000,
          220000,
          230000,
          280000,
          220000,
          220000,
          180000,
          150000,
          150000,
          310000,
          170000,
          300000,
          100000,
          65000,
          170000,
          190000,
          200000,
          170000,
          230000,
          290000,
          260000,
          150000,
          230000,
          250000,
          450000,
          150000,
          350000,
          290000,
          110000,
          300000,
          250000,
          150000,
          105000,
          290000,
          230000,
          330000,
          230000,
          230000,
          210000,
          105000,
          170000,
          200000,
          180000,
          260000,
          150000,
          160000,
          340000,
          230000,
          350000,
          230000,
          260000,
          200000,
          300000,
          150000,
          310000,
          320000,
          250000,
          290000,
          370000,
          230000,
          170000,
          260000,
          310000,
          230000,
          210000,
          320000,
          110000,
          150000,
          150000,
          340000,
          210000,
          300000,
          180000,
          170000,
          210000,
          350000,
          330000,
          200000,
          150000,
          340000,
          220000,
          330000,
          230000,
          125000,
          250000,
          230000,
          290000,
          180000,
          370000,
          370000,
          170000,
          210000,
          370000,
          300000,
          370000,
          170000,
          170000,
          310000,
          210000,
          230000,
          160000,
          230000,
          330000,
          210000,
          500000,
          250000,
          270000,
          210000,
          280000,
          340000,
          260000,
          150000,
          260000,
          400000,
          220000,
          150000,
          130000,
          130000,
          310000,
          180000,
          130000,
          280000,
          220000,
          115000,
          220000,
          260000,
          320000,
          350000,
          250000,
          270000,
          250000,
          170000,
          150000,
          200000,
          180000,
          320000
         ],
         "yaxis": "y"
        },
        {
         "customdata": [
          [
           145000,
           95000,
           "Управление командами, Hadoop, Big Data"
          ],
          [
           240000,
           210000,
           "ensorflow, pytorch, CUDA, SQL"
          ],
          [
           250000,
           180000,
           "machine learning, pytorch, torchaudio, LangChain,<br>Saiga-2, fastText, kaldi, Milvus, cython, C++,<br>SQL, RabbitMQ, PostgreSQL, FreeSwitch"
          ],
          [
           180000,
           150000,
           "PostgreSQL, MySQL"
          ],
          [
           280000,
           180000,
           "Hadoop, Spark, Airflow, Docker"
          ],
          [
           110000,
           100000,
           "PostgreSQL, ClickHouse, PyTorch, Tensorflow,<br>Scikit-learn, ML, Golang"
          ],
          [
           230000,
           200000,
           "Python, PySpark, Pandas, PyTorch, RecBole, Scikit-<br>learn, MLFlow"
          ],
          [
           180000,
           130000,
           "pandas, numpy, matplotlib, sklearn, xgboost"
          ],
          [
           330000,
           300000,
           "Java/Scala, Golang, Python"
          ],
          [
           150000,
           100000,
           "OpenCV, Data Science, OCR"
          ],
          [
           230000,
           130000,
           "Яндекс Облако, PySpark в k8s, Jupyterhub, Airflow,<br>MLFlow, Postgres, Gitlab, Grafana"
          ],
          [
           210000,
           200000,
           "SQL, Анализ данных, A/B тесты, LTV prediction,<br>RecSys, Ulift modeling, Churn prediction"
          ]
         ],
         "hoverlabel": {
          "namelength": 0
         },
         "hovertemplate": "<b>%{hovertext}</b><br><br>Опыт=Более 6 лет<br>Нижняя вилка зарплаты=%{customdata[1]}<br>Верхняя вилка зарплаты=%{customdata[0]}<br>Требуемые навыки=%{customdata[2]}",
         "hovertext": [
          "Руководитель направления по машинному обучению и анализу больших данных",
          "Data-scientist",
          "Senior DS/ML Developer (LLM/NLP, ASR)",
          "DBA (Администратор баз данных)",
          "DevOps инженер",
          "Senior ML инженер",
          "TeamLead DS",
          "Руководитель отдела Data Science",
          "Ведущий Data Engineer / Lead (Java)",
          "Data scientist CV (senior)",
          "Исследователь больших данных/ Middle+ MLE (GeoML)",
          "Senior Data Scientist"
         ],
         "legendgroup": "Опыт=Более 6 лет",
         "marker": {
          "color": "#AB63FA",
          "size": 10,
          "symbol": "circle"
         },
         "mode": "markers",
         "name": "Опыт=Более 6 лет",
         "showlegend": true,
         "type": "scatter",
         "x": [
          95000,
          210000,
          180000,
          150000,
          180000,
          100000,
          200000,
          130000,
          300000,
          100000,
          130000,
          200000
         ],
         "xaxis": "x",
         "y": [
          145000,
          240000,
          250000,
          180000,
          280000,
          110000,
          230000,
          180000,
          330000,
          150000,
          230000,
          210000
         ],
         "yaxis": "y"
        }
       ],
       "layout": {
        "height": 600,
        "legend": {
         "tracegroupgap": 0
        },
        "template": {
         "data": {
          "bar": [
           {
            "error_x": {
             "color": "#2a3f5f"
            },
            "error_y": {
             "color": "#2a3f5f"
            },
            "marker": {
             "line": {
              "color": "#E5ECF6",
              "width": 0.5
             }
            },
            "type": "bar"
           }
          ],
          "barpolar": [
           {
            "marker": {
             "line": {
              "color": "#E5ECF6",
              "width": 0.5
             }
            },
            "type": "barpolar"
           }
          ],
          "carpet": [
           {
            "aaxis": {
             "endlinecolor": "#2a3f5f",
             "gridcolor": "white",
             "linecolor": "white",
             "minorgridcolor": "white",
             "startlinecolor": "#2a3f5f"
            },
            "baxis": {
             "endlinecolor": "#2a3f5f",
             "gridcolor": "white",
             "linecolor": "white",
             "minorgridcolor": "white",
             "startlinecolor": "#2a3f5f"
            },
            "type": "carpet"
           }
          ],
          "choropleth": [
           {
            "colorbar": {
             "outlinewidth": 0,
             "ticks": ""
            },
            "type": "choropleth"
           }
          ],
          "contour": [
           {
            "colorbar": {
             "outlinewidth": 0,
             "ticks": ""
            },
            "colorscale": [
             [
              0,
              "#0d0887"
             ],
             [
              0.1111111111111111,
              "#46039f"
             ],
             [
              0.2222222222222222,
              "#7201a8"
             ],
             [
              0.3333333333333333,
              "#9c179e"
             ],
             [
              0.4444444444444444,
              "#bd3786"
             ],
             [
              0.5555555555555556,
              "#d8576b"
             ],
             [
              0.6666666666666666,
              "#ed7953"
             ],
             [
              0.7777777777777778,
              "#fb9f3a"
             ],
             [
              0.8888888888888888,
              "#fdca26"
             ],
             [
              1,
              "#f0f921"
             ]
            ],
            "type": "contour"
           }
          ],
          "contourcarpet": [
           {
            "colorbar": {
             "outlinewidth": 0,
             "ticks": ""
            },
            "type": "contourcarpet"
           }
          ],
          "heatmap": [
           {
            "colorbar": {
             "outlinewidth": 0,
             "ticks": ""
            },
            "colorscale": [
             [
              0,
              "#0d0887"
             ],
             [
              0.1111111111111111,
              "#46039f"
             ],
             [
              0.2222222222222222,
              "#7201a8"
             ],
             [
              0.3333333333333333,
              "#9c179e"
             ],
             [
              0.4444444444444444,
              "#bd3786"
             ],
             [
              0.5555555555555556,
              "#d8576b"
             ],
             [
              0.6666666666666666,
              "#ed7953"
             ],
             [
              0.7777777777777778,
              "#fb9f3a"
             ],
             [
              0.8888888888888888,
              "#fdca26"
             ],
             [
              1,
              "#f0f921"
             ]
            ],
            "type": "heatmap"
           }
          ],
          "heatmapgl": [
           {
            "colorbar": {
             "outlinewidth": 0,
             "ticks": ""
            },
            "colorscale": [
             [
              0,
              "#0d0887"
             ],
             [
              0.1111111111111111,
              "#46039f"
             ],
             [
              0.2222222222222222,
              "#7201a8"
             ],
             [
              0.3333333333333333,
              "#9c179e"
             ],
             [
              0.4444444444444444,
              "#bd3786"
             ],
             [
              0.5555555555555556,
              "#d8576b"
             ],
             [
              0.6666666666666666,
              "#ed7953"
             ],
             [
              0.7777777777777778,
              "#fb9f3a"
             ],
             [
              0.8888888888888888,
              "#fdca26"
             ],
             [
              1,
              "#f0f921"
             ]
            ],
            "type": "heatmapgl"
           }
          ],
          "histogram": [
           {
            "marker": {
             "colorbar": {
              "outlinewidth": 0,
              "ticks": ""
             }
            },
            "type": "histogram"
           }
          ],
          "histogram2d": [
           {
            "colorbar": {
             "outlinewidth": 0,
             "ticks": ""
            },
            "colorscale": [
             [
              0,
              "#0d0887"
             ],
             [
              0.1111111111111111,
              "#46039f"
             ],
             [
              0.2222222222222222,
              "#7201a8"
             ],
             [
              0.3333333333333333,
              "#9c179e"
             ],
             [
              0.4444444444444444,
              "#bd3786"
             ],
             [
              0.5555555555555556,
              "#d8576b"
             ],
             [
              0.6666666666666666,
              "#ed7953"
             ],
             [
              0.7777777777777778,
              "#fb9f3a"
             ],
             [
              0.8888888888888888,
              "#fdca26"
             ],
             [
              1,
              "#f0f921"
             ]
            ],
            "type": "histogram2d"
           }
          ],
          "histogram2dcontour": [
           {
            "colorbar": {
             "outlinewidth": 0,
             "ticks": ""
            },
            "colorscale": [
             [
              0,
              "#0d0887"
             ],
             [
              0.1111111111111111,
              "#46039f"
             ],
             [
              0.2222222222222222,
              "#7201a8"
             ],
             [
              0.3333333333333333,
              "#9c179e"
             ],
             [
              0.4444444444444444,
              "#bd3786"
             ],
             [
              0.5555555555555556,
              "#d8576b"
             ],
             [
              0.6666666666666666,
              "#ed7953"
             ],
             [
              0.7777777777777778,
              "#fb9f3a"
             ],
             [
              0.8888888888888888,
              "#fdca26"
             ],
             [
              1,
              "#f0f921"
             ]
            ],
            "type": "histogram2dcontour"
           }
          ],
          "mesh3d": [
           {
            "colorbar": {
             "outlinewidth": 0,
             "ticks": ""
            },
            "type": "mesh3d"
           }
          ],
          "parcoords": [
           {
            "line": {
             "colorbar": {
              "outlinewidth": 0,
              "ticks": ""
             }
            },
            "type": "parcoords"
           }
          ],
          "scatter": [
           {
            "marker": {
             "colorbar": {
              "outlinewidth": 0,
              "ticks": ""
             }
            },
            "type": "scatter"
           }
          ],
          "scatter3d": [
           {
            "line": {
             "colorbar": {
              "outlinewidth": 0,
              "ticks": ""
             }
            },
            "marker": {
             "colorbar": {
              "outlinewidth": 0,
              "ticks": ""
             }
            },
            "type": "scatter3d"
           }
          ],
          "scattercarpet": [
           {
            "marker": {
             "colorbar": {
              "outlinewidth": 0,
              "ticks": ""
             }
            },
            "type": "scattercarpet"
           }
          ],
          "scattergeo": [
           {
            "marker": {
             "colorbar": {
              "outlinewidth": 0,
              "ticks": ""
             }
            },
            "type": "scattergeo"
           }
          ],
          "scattergl": [
           {
            "marker": {
             "colorbar": {
              "outlinewidth": 0,
              "ticks": ""
             }
            },
            "type": "scattergl"
           }
          ],
          "scattermapbox": [
           {
            "marker": {
             "colorbar": {
              "outlinewidth": 0,
              "ticks": ""
             }
            },
            "type": "scattermapbox"
           }
          ],
          "scatterpolar": [
           {
            "marker": {
             "colorbar": {
              "outlinewidth": 0,
              "ticks": ""
             }
            },
            "type": "scatterpolar"
           }
          ],
          "scatterpolargl": [
           {
            "marker": {
             "colorbar": {
              "outlinewidth": 0,
              "ticks": ""
             }
            },
            "type": "scatterpolargl"
           }
          ],
          "scatterternary": [
           {
            "marker": {
             "colorbar": {
              "outlinewidth": 0,
              "ticks": ""
             }
            },
            "type": "scatterternary"
           }
          ],
          "surface": [
           {
            "colorbar": {
             "outlinewidth": 0,
             "ticks": ""
            },
            "colorscale": [
             [
              0,
              "#0d0887"
             ],
             [
              0.1111111111111111,
              "#46039f"
             ],
             [
              0.2222222222222222,
              "#7201a8"
             ],
             [
              0.3333333333333333,
              "#9c179e"
             ],
             [
              0.4444444444444444,
              "#bd3786"
             ],
             [
              0.5555555555555556,
              "#d8576b"
             ],
             [
              0.6666666666666666,
              "#ed7953"
             ],
             [
              0.7777777777777778,
              "#fb9f3a"
             ],
             [
              0.8888888888888888,
              "#fdca26"
             ],
             [
              1,
              "#f0f921"
             ]
            ],
            "type": "surface"
           }
          ],
          "table": [
           {
            "cells": {
             "fill": {
              "color": "#EBF0F8"
             },
             "line": {
              "color": "white"
             }
            },
            "header": {
             "fill": {
              "color": "#C8D4E3"
             },
             "line": {
              "color": "white"
             }
            },
            "type": "table"
           }
          ]
         },
         "layout": {
          "annotationdefaults": {
           "arrowcolor": "#2a3f5f",
           "arrowhead": 0,
           "arrowwidth": 1
          },
          "colorscale": {
           "diverging": [
            [
             0,
             "#8e0152"
            ],
            [
             0.1,
             "#c51b7d"
            ],
            [
             0.2,
             "#de77ae"
            ],
            [
             0.3,
             "#f1b6da"
            ],
            [
             0.4,
             "#fde0ef"
            ],
            [
             0.5,
             "#f7f7f7"
            ],
            [
             0.6,
             "#e6f5d0"
            ],
            [
             0.7,
             "#b8e186"
            ],
            [
             0.8,
             "#7fbc41"
            ],
            [
             0.9,
             "#4d9221"
            ],
            [
             1,
             "#276419"
            ]
           ],
           "sequential": [
            [
             0,
             "#0d0887"
            ],
            [
             0.1111111111111111,
             "#46039f"
            ],
            [
             0.2222222222222222,
             "#7201a8"
            ],
            [
             0.3333333333333333,
             "#9c179e"
            ],
            [
             0.4444444444444444,
             "#bd3786"
            ],
            [
             0.5555555555555556,
             "#d8576b"
            ],
            [
             0.6666666666666666,
             "#ed7953"
            ],
            [
             0.7777777777777778,
             "#fb9f3a"
            ],
            [
             0.8888888888888888,
             "#fdca26"
            ],
            [
             1,
             "#f0f921"
            ]
           ],
           "sequentialminus": [
            [
             0,
             "#0d0887"
            ],
            [
             0.1111111111111111,
             "#46039f"
            ],
            [
             0.2222222222222222,
             "#7201a8"
            ],
            [
             0.3333333333333333,
             "#9c179e"
            ],
            [
             0.4444444444444444,
             "#bd3786"
            ],
            [
             0.5555555555555556,
             "#d8576b"
            ],
            [
             0.6666666666666666,
             "#ed7953"
            ],
            [
             0.7777777777777778,
             "#fb9f3a"
            ],
            [
             0.8888888888888888,
             "#fdca26"
            ],
            [
             1,
             "#f0f921"
            ]
           ]
          },
          "colorway": [
           "#636efa",
           "#EF553B",
           "#00cc96",
           "#ab63fa",
           "#FFA15A",
           "#19d3f3",
           "#FF6692",
           "#B6E880",
           "#FF97FF",
           "#FECB52"
          ],
          "font": {
           "color": "#2a3f5f"
          },
          "geo": {
           "bgcolor": "white",
           "lakecolor": "white",
           "landcolor": "#E5ECF6",
           "showlakes": true,
           "showland": true,
           "subunitcolor": "white"
          },
          "hoverlabel": {
           "align": "left"
          },
          "hovermode": "closest",
          "mapbox": {
           "style": "light"
          },
          "paper_bgcolor": "white",
          "plot_bgcolor": "#E5ECF6",
          "polar": {
           "angularaxis": {
            "gridcolor": "white",
            "linecolor": "white",
            "ticks": ""
           },
           "bgcolor": "#E5ECF6",
           "radialaxis": {
            "gridcolor": "white",
            "linecolor": "white",
            "ticks": ""
           }
          },
          "scene": {
           "xaxis": {
            "backgroundcolor": "#E5ECF6",
            "gridcolor": "white",
            "gridwidth": 2,
            "linecolor": "white",
            "showbackground": true,
            "ticks": "",
            "zerolinecolor": "white"
           },
           "yaxis": {
            "backgroundcolor": "#E5ECF6",
            "gridcolor": "white",
            "gridwidth": 2,
            "linecolor": "white",
            "showbackground": true,
            "ticks": "",
            "zerolinecolor": "white"
           },
           "zaxis": {
            "backgroundcolor": "#E5ECF6",
            "gridcolor": "white",
            "gridwidth": 2,
            "linecolor": "white",
            "showbackground": true,
            "ticks": "",
            "zerolinecolor": "white"
           }
          },
          "shapedefaults": {
           "line": {
            "color": "#2a3f5f"
           }
          },
          "ternary": {
           "aaxis": {
            "gridcolor": "white",
            "linecolor": "white",
            "ticks": ""
           },
           "baxis": {
            "gridcolor": "white",
            "linecolor": "white",
            "ticks": ""
           },
           "bgcolor": "#E5ECF6",
           "caxis": {
            "gridcolor": "white",
            "linecolor": "white",
            "ticks": ""
           }
          },
          "title": {
           "x": 0.05
          },
          "xaxis": {
           "automargin": true,
           "gridcolor": "white",
           "linecolor": "white",
           "ticks": "",
           "zerolinecolor": "white",
           "zerolinewidth": 2
          },
          "yaxis": {
           "automargin": true,
           "gridcolor": "white",
           "linecolor": "white",
           "ticks": "",
           "zerolinecolor": "white",
           "zerolinewidth": 2
          }
         }
        },
        "title": {
         "text": "Распределение заработных плат в зависимости от опыта"
        },
        "xaxis": {
         "anchor": "y",
         "domain": [
          0,
          0.98
         ],
         "title": {
          "text": "Нижняя вилка зарплаты"
         }
        },
        "yaxis": {
         "anchor": "x",
         "domain": [
          0,
          1
         ],
         "title": {
          "text": "Верхняя вилка зарплаты"
         }
        }
       }
      },
      "text/html": [
       "<div>\n",
       "        \n",
       "        \n",
       "            <div id=\"f8f73c7c-73a0-4334-8283-174eb361b1bd\" class=\"plotly-graph-div\" style=\"height:600px; width:100%;\"></div>\n",
       "            <script type=\"text/javascript\">\n",
       "                require([\"plotly\"], function(Plotly) {\n",
       "                    window.PLOTLYENV=window.PLOTLYENV || {};\n",
       "                    \n",
       "                if (document.getElementById(\"f8f73c7c-73a0-4334-8283-174eb361b1bd\")) {\n",
       "                    Plotly.newPlot(\n",
       "                        'f8f73c7c-73a0-4334-8283-174eb361b1bd',\n",
       "                        [{\"customdata\": [[170000, 150000, \"\\u0417\\u043d\\u0430\\u043d\\u0438\\u044f \\u043c\\u0430\\u0442\\u0435\\u043c\\u0430\\u0442\\u0438\\u043a\\u0438, \\u0430\\u043b\\u0433\\u043e\\u0440\\u0438\\u0442\\u043c\\u043e\\u0432, \\u0441\\u0442\\u0440\\u0443\\u043a\\u0442\\u0443\\u0440 \\u0434\\u0430\\u043d\\u043d\\u044b\\u0445,<br>\\u043a\\u043b\\u0430\\u0441\\u0441\\u0438\\u0447\\u0435\\u0441\\u043a\\u043e\\u0433\\u043e ML, CNN, YOLO, U-Net, ViT, Word2Vec,<br>fasttext, RNN, \\u0442\\u0440\\u0430\\u043d\\u0441\\u0444\\u043e\\u0440\\u043c\\u0435\\u0440\\u044b, Python, Linux, SQL,<br>Git, PyTorch, TensorFlow\"], [300000, 280000, \"\\u0417\\u043d\\u0430\\u043d\\u0438\\u0435 \\u043e\\u0441\\u043d\\u043e\\u0432 SQL, \\u0411\\u0430\\u0437\\u043e\\u0432\\u043e\\u0435 \\u0437\\u043d\\u0430\\u043d\\u0438\\u0435 Python, \\u0417\\u043d\\u0430\\u043d\\u0438\\u0435<br>\\u043e\\u0441\\u043d\\u043e\\u0432\\u043d\\u044b\\u0445 \\u0430\\u043b\\u0433\\u043e\\u0440\\u0438\\u0442\\u043c\\u043e\\u0432 \\u043c\\u0430\\u0448\\u0438\\u043d\\u043d\\u043e\\u0433\\u043e \\u043e\\u0431\\u0443\\u0447\\u0435\\u043d\\u0438\\u044f \\u0438 \\u043a\\u043b\\u044e\\u0447\\u0435\\u0432\\u044b\\u0445<br>\\u043c\\u0435\\u0442\\u0440\\u0438\\u043a (\\u0431\\u0438\\u043d\\u0430\\u0440\\u043d\\u0430\\u044f \\u043a\\u043b\\u0430\\u0441\\u0441\\u0438\\u0444\\u0438\\u043a\\u0430\\u0446\\u0438\\u044f/\\u043b\\u0438\\u043d\\u0435\\u0439\\u043d\\u0430\\u044f \\u0440\\u0435\\u0433\\u0440\\u0435\\u0441\\u0441\\u0438\\u044f)\"], [55000, 55000, \"\\u041f\\u0438\\u0441\\u0430\\u0442\\u044c SQL-\\u0437\\u0430\\u043f\\u0440\\u043e\\u0441\\u044b (\\u0443 \\u043d\\u0430\\u0441 Greenplum),<br>\\u0410\\u043d\\u0430\\u043b\\u0438\\u0437\\u0438\\u0440\\u043e\\u0432\\u0430\\u0442\\u044c \\u0434\\u0430\\u043d\\u043d\\u044b\\u0435 \\u043d\\u0430 Python (\\u0441 \\u0438\\u0441\\u043f\\u043e\\u043b\\u044c\\u0437\\u043e\\u0432\\u0430\\u043d\\u0438\\u0435\\u043c<br>\\u0431\\u0438\\u0431\\u043b\\u0438\\u043e\\u0442\\u0435\\u043a pandas, numpy, matplotlib \\u0438 \\u0442.\\u043f.),<br>\\u0421\\u0447\\u0438\\u0442\\u0430\\u0442\\u044c p-value \\u0432 AB-\\u0442\\u0435\\u0441\\u0442\\u0430\\u0445\"], [180000, 150000, \"\\u041e\\u0431\\u0443\\u0447\\u0435\\u043d\\u0438\\u0435 \\u0438 \\u0440\\u0430\\u0437\\u0432\\u0438\\u0442\\u0438\\u0435, \\u0410\\u043d\\u0430\\u043b\\u0438\\u0442\\u0438\\u043a\\u0430, \\u0421\\u0438\\u0441\\u0442\\u0435\\u043c\\u043d\\u043e\\u0435<br>\\u043c\\u044b\\u0448\\u043b\\u0435\\u043d\\u0438\\u0435, \\u0410\\u043d\\u0430\\u043b\\u0438\\u0442\\u0438\\u0447\\u0435\\u0441\\u043a\\u043e\\u0435 \\u043c\\u044b\\u0448\\u043b\\u0435\\u043d\\u0438\\u0435, \\u0412\\u043d\\u0443\\u0442\\u0440\\u0435\\u043d\\u043d\\u0438\\u0435<br>\\u043a\\u043e\\u043c\\u043c\\u0443\\u043d\\u0438\\u043a\\u0430\\u0446\\u0438\\u0438, Python, \\u041c\\u0430\\u0442\\u0435\\u043c\\u0430\\u0442\\u0438\\u0447\\u0435\\u0441\\u043a\\u0430\\u044f \\u0441\\u0442\\u0430\\u0442\\u0438\\u0441\\u0442\\u0438\\u043a\\u0430,<br>MS SQL, Data Analysis, \\u0411\\u0430\\u0437\\u044b \\u0434\\u0430\\u043d\\u043d\\u044b\\u0445, Git, NLP, ML,<br>Machine Learning, \\u041c\\u0430\\u0448\\u0438\\u043d\\u043d\\u043e\\u0435 \\u043e\\u0431\\u0443\\u0447\\u0435\\u043d\\u0438\\u0435, A/B \\u0442\\u0435\\u0441\\u0442\\u044b\"], [120000, 100000, \"Python, SQL, bash\"], [250000, 200000, \"\\u041e\\u0431\\u0443\\u0447\\u0435\\u043d\\u0438\\u0435 \\u0438 \\u0440\\u0430\\u0437\\u0432\\u0438\\u0442\\u0438\\u0435, \\u0410\\u043d\\u0430\\u043b\\u0438\\u0442\\u0438\\u043a\\u0430, \\u0421\\u0438\\u0441\\u0442\\u0435\\u043c\\u043d\\u043e\\u0435<br>\\u043c\\u044b\\u0448\\u043b\\u0435\\u043d\\u0438\\u0435, \\u0410\\u043d\\u0430\\u043b\\u0438\\u0442\\u0438\\u0447\\u0435\\u0441\\u043a\\u043e\\u0435 \\u043c\\u044b\\u0448\\u043b\\u0435\\u043d\\u0438\\u0435, \\u0412\\u043d\\u0443\\u0442\\u0440\\u0435\\u043d\\u043d\\u0438\\u0435<br>\\u043a\\u043e\\u043c\\u043c\\u0443\\u043d\\u0438\\u043a\\u0430\\u0446\\u0438\\u0438, Python, \\u041c\\u0430\\u0442\\u0435\\u043c\\u0430\\u0442\\u0438\\u0447\\u0435\\u0441\\u043a\\u0430\\u044f \\u0441\\u0442\\u0430\\u0442\\u0438\\u0441\\u0442\\u0438\\u043a\\u0430,<br>MS SQL, Data Analysis, \\u0411\\u0430\\u0437\\u044b \\u0434\\u0430\\u043d\\u043d\\u044b\\u0445, Git, Bash,<br>NLP, ML, Machine Learning, \\u041c\\u0430\\u0448\\u0438\\u043d\\u043d\\u043e\\u0435 \\u043e\\u0431\\u0443\\u0447\\u0435\\u043d\\u0438\\u0435\"], [230000, 180000, \"ML\"], [190000, 180000, \"Linux, Git, Bash, Docker\"], [370000, 300000, \"SQL, Python, \\u0411\\u0430\\u0437\\u044b \\u0434\\u0430\\u043d\\u043d\\u044b\\u0445, \\u0421\\u043a\\u043e\\u0440\\u0438\\u043d\\u0433\\u043e\\u0432\\u0430\\u044f \\u043a\\u0430\\u0440\\u0442\\u0430, \\u0411\\u0430\\u0437\\u0430<br>\\u0434\\u0430\\u043d\\u043d\\u044b\\u0445: Oracle, Sas\"]], \"hoverlabel\": {\"namelength\": 0}, \"hovertemplate\": \"<b>%{hovertext}</b><br><br>\\u041e\\u043f\\u044b\\u0442=\\u041d\\u0435\\u0442 \\u043e\\u043f\\u044b\\u0442\\u0430<br>\\u041d\\u0438\\u0436\\u043d\\u044f\\u044f \\u0432\\u0438\\u043b\\u043a\\u0430 \\u0437\\u0430\\u0440\\u043f\\u043b\\u0430\\u0442\\u044b=%{customdata[1]}<br>\\u0412\\u0435\\u0440\\u0445\\u043d\\u044f\\u044f \\u0432\\u0438\\u043b\\u043a\\u0430 \\u0437\\u0430\\u0440\\u043f\\u043b\\u0430\\u0442\\u044b=%{customdata[0]}<br>\\u0422\\u0440\\u0435\\u0431\\u0443\\u0435\\u043c\\u044b\\u0435 \\u043d\\u0430\\u0432\\u044b\\u043a\\u0438=%{customdata[2]}\", \"hovertext\": [\"ML-\\u0438\\u043d\\u0436\\u0435\\u043d\\u0435\\u0440\", \"\\u0421\\u0442\\u0430\\u0436\\u0435\\u0440 ML-\\u0438\\u043d\\u0436\\u0435\\u043d\\u0435\\u0440\", \"\\u0421\\u0442\\u0430\\u0436\\u0435\\u0440 Data analyst\", \"\\u0421\\u0442\\u0430\\u0436\\u0451\\u0440 - \\u0414\\u0430\\u0442\\u0430 \\u0430\\u043d\\u0430\\u043b\\u0438\\u0442\\u0438\\u043a\", \"Solution engineer (Junior)\", \"\\u0421\\u0442\\u0430\\u0436\\u0451\\u0440 - Data Scientist\", \"Lead Data Scientist\", \"Machine learning engineer, Middle/Senior\", \"\\u0421\\u0442\\u0430\\u0436\\u0435\\u0440 - \\u0440\\u0430\\u0437\\u0440\\u0430\\u0431\\u043e\\u0442\\u0447\\u0438\\u043a \\u0441\\u043a\\u043e\\u0440\\u0438\\u043d\\u0433\\u043e\\u0432\\u044b\\u0445 \\u043a\\u0430\\u0440\\u0442\"], \"legendgroup\": \"\\u041e\\u043f\\u044b\\u0442=\\u041d\\u0435\\u0442 \\u043e\\u043f\\u044b\\u0442\\u0430\", \"marker\": {\"color\": \"#636EFA\", \"size\": 10, \"symbol\": \"circle\"}, \"mode\": \"markers\", \"name\": \"\\u041e\\u043f\\u044b\\u0442=\\u041d\\u0435\\u0442 \\u043e\\u043f\\u044b\\u0442\\u0430\", \"showlegend\": true, \"type\": \"scatter\", \"x\": [150000, 280000, 55000, 150000, 100000, 200000, 180000, 180000, 300000], \"xaxis\": \"x\", \"y\": [170000, 300000, 55000, 180000, 120000, 250000, 230000, 190000, 370000], \"yaxis\": \"y\"}, {\"customdata\": [[60000, 55000, \"\\u0420\\u0430\\u0437\\u0440\\u0430\\u0431\\u043e\\u0442\\u043a\\u0430 \\u0442\\u0435\\u0445\\u043d\\u0438\\u0447\\u0435\\u0441\\u043a\\u0438\\u0445 \\u0437\\u0430\\u0434\\u0430\\u043d\\u0438\\u0439, Python, \\u0421\\u0431\\u043e\\u0440 \\u0438<br>\\u0430\\u043d\\u0430\\u043b\\u0438\\u0437 \\u0438\\u043d\\u0444\\u043e\\u0440\\u043c\\u0430\\u0446\\u0438\\u0438, Midjorney, \\u0412\\u043d\\u0435\\u0434\\u0440\\u0435\\u043d\\u0438\\u0435<br>\\u043d\\u0435\\u0439\\u0440\\u043e\\u0441\\u0435\\u0442\\u0435\\u0439, \\u041d\\u0435\\u0439\\u0440\\u043e\\u0441\\u0435\\u0442\\u044c, ChatGPT, \\u0420\\u0430\\u0431\\u043e\\u0442\\u0430 \\u0432 \\u043a\\u043e\\u043c\\u0430\\u043d\\u0434\\u0435,<br>\\u041e\\u0431\\u0443\\u0447\\u0435\\u043d\\u0438\\u0435 \\u0438 \\u0440\\u0430\\u0437\\u0432\\u0438\\u0442\\u0438\\u0435, Stabile Diffusion, \\u0420\\u0430\\u0431\\u043e\\u0442\\u0430 \\u0441<br>\\u0431\\u043e\\u043b\\u044c\\u0448\\u0438\\u043c \\u043e\\u0431\\u044a\\u0435\\u043c\\u043e\\u043c \\u0438\\u043d\\u0444\\u043e\\u0440\\u043c\\u0430\\u0446\\u0438\\u0438\"], [200000, 150000, \"SQL, jvm, Hadoop\"], [200000, 180000, \"Python, Machine Learning, \\u041c\\u0430\\u0442\\u0435\\u043c\\u0430\\u0442\\u0438\\u0447\\u0435\\u0441\\u043a\\u043e\\u0435<br>\\u043c\\u043e\\u0434\\u0435\\u043b\\u0438\\u0440\\u043e\\u0432\\u0430\\u043d\\u0438\\u0435, Spark, Data Science, \\u041c\\u0430\\u0442\\u0435\\u043c\\u0430\\u0442\\u0438\\u0447\\u0435\\u0441\\u043a\\u0430\\u044f<br>\\u0441\\u0442\\u0430\\u0442\\u0438\\u0441\\u0442\\u0438\\u043a\\u0430\"], [110000, 60000, \"Python, Git, \\u041e\\u041e\\u041f, MySQL\"], [330000, 280000, \"\\u0411\\u043e\\u043b\\u044c\\u0448\\u043e\\u0439 \\u0438\\u043d\\u0442\\u0435\\u0440\\u0435\\u0441 \\u043a \\u0438\\u043d\\u043d\\u043e\\u0432\\u0430\\u0446\\u0438\\u044f\\u043c \\u0432 \\u043e\\u0431\\u043b\\u0430\\u0441\\u0442\\u0438 \\u043c\\u0435\\u0434\\u0438\\u0430 \\u0438<br>\\u0442\\u0435\\u0445\\u043d\\u043e\\u043b\\u043e\\u0433\\u0438\\u0439, \\u0417\\u043d\\u0430\\u043d\\u0438\\u0435 \\u0440\\u044b\\u043d\\u043a\\u0430 \\u0441\\u0443\\u0449\\u0435\\u0441\\u0442\\u0432\\u0443\\u044e\\u0449\\u0438\\u0445 \\u043d\\u0435\\u0439\\u0440\\u043e\\u043d\\u043d\\u044b\\u0445<br>\\u0441\\u0435\\u0442\\u0435\\u0439 \\u0438 \\u0432\\u0430\\u0440\\u0438\\u0430\\u043d\\u0442\\u043e\\u0432 \\u0438\\u0445 \\u043f\\u0440\\u0438\\u043c\\u0435\\u043d\\u0435\\u043d\\u0438\\u044f, \\u041f\\u0440\\u043e\\u0430\\u043a\\u0442\\u0438\\u0432\\u043d\\u0430\\u044f<br>\\u043f\\u043e\\u0437\\u0438\\u0446\\u0438\\u044f \\u0432 \\u0432\\u043e\\u043f\\u0440\\u043e\\u0441\\u0435 \\u043f\\u0440\\u0438\\u043c\\u0435\\u043d\\u0435\\u043d\\u0438\\u044f \\u043d\\u0435\\u0439\\u0440\\u043e\\u043d\\u043d\\u044b\\u0445 \\u0441\\u0435\\u0442\\u0435\\u0439 \\u0434\\u043b\\u044f<br>\\u0437\\u0430\\u0434\\u0430\\u0447 \\u043f\\u0440\\u043e\\u0438\\u0437\\u0432\\u043e\\u0434\\u0441\\u0442\\u0432\\u0435\\u043d\\u043d\\u043e\\u0439 \\u043a\\u043e\\u043c\\u043f\\u0430\\u043d\\u0438\\u0438, \\u0416\\u0435\\u043b\\u0430\\u043d\\u0438\\u0435<br>\\u0438\\u0441\\u0441\\u043b\\u0435\\u0434\\u043e\\u0432\\u0430\\u0442\\u044c \\u0438 \\u043a\\u0440\\u0435\\u0430\\u0442\\u0438\\u0432\\u0438\\u0442\\u044c, \\u0421\\u0438\\u0441\\u0442\\u0435\\u043c\\u043d\\u043e\\u0435 \\u043c\\u044b\\u0448\\u043b\\u0435\\u043d\\u0438\\u0435,<br>\\u0432\\u043d\\u0438\\u043c\\u0430\\u0442\\u0435\\u043b\\u044c\\u043d\\u043e\\u0441\\u0442\\u044c, \\u043d\\u0430\\u0446\\u0435\\u043b\\u0435\\u043d\\u043d\\u043e\\u0441\\u0442\\u044c \\u043d\\u0430 \\u0440\\u0435\\u0437\\u0443\\u043b\\u044c\\u0442\\u0430\\u0442, \\u0443\\u043c\\u0435\\u043d\\u0438\\u0435<br>\\u0440\\u0430\\u0431\\u043e\\u0442\\u0430\\u0442\\u044c \\u0432 \\u043a\\u043e\\u043c\\u0430\\u043d\\u0434\\u0435, \\u043e\\u0442\\u0432\\u0435\\u0442\\u0441\\u0442\\u0432\\u0435\\u043d\\u043d\\u043e\\u0441\\u0442\\u044c, \\u0412\\u044b\\u0441\\u0448\\u0435\\u0435<br>\\u043e\\u0431\\u0440\\u0430\\u0437\\u043e\\u0432\\u0430\\u043d\\u0438\\u0435, \\u0410\\u043d\\u0430\\u043b\\u0438\\u0442\\u0438\\u0447\\u0435\\u0441\\u043a\\u0438\\u0439 \\u0441\\u043a\\u043b\\u0430\\u0434\"], [180000, 170000, \"Python, Pandas, NumPy, Transformers, openai,<br>LangChain, SQL, \\u041f\\u043e\\u043d\\u0438\\u043c\\u0430\\u043d\\u0438\\u0435 \\u043f\\u0440\\u0438\\u043d\\u0446\\u0438\\u043f\\u043e\\u0432 \\u043a\\u043b\\u0430\\u0441\\u0441\\u0438\\u0447\\u0435\\u0441\\u043a\\u043e\\u0433\\u043e<br>ML \\u0438 \\u043f\\u043e\\u0433\\u0440\\u0443\\u0436\\u0435\\u043d\\u0438\\u0435 \\u0432 \\u0441\\u043e\\u0432\\u0440\\u0435\\u043c\\u0435\\u043d\\u043d\\u044b\\u0435 \\u043d\\u0435\\u0439\\u0440\\u043e\\u0441\\u0435\\u0442\\u0435\\u0432\\u044b\\u0435<br>\\u0430\\u0440\\u0445\\u0438\\u0442\\u0435\\u043a\\u0442\\u0443\\u0440\\u044b: \\u0442\\u0440\\u0430\\u043d\\u0441\\u0444\\u043e\\u0440\\u043c\\u0435\\u0440\\u044b, bert, gpt, \\u0423\\u043c\\u0435\\u043d\\u0438\\u0435<br>\\u0438\\u0441\\u043f\\u043e\\u043b\\u044c\\u0437\\u043e\\u0432\\u0430\\u0442\\u044c LLM - \\u043f\\u0440\\u043e\\u043c\\u043f\\u0442\\u0438\\u043d\\u0433, \\u0444\\u0430\\u0439\\u043d\\u0442\\u044e\\u043d\\u0438\\u043d\\u0433.\"], [250000, 200000, \"\\u0423\\u0432\\u0435\\u0440\\u0435\\u043d\\u043d\\u043e\\u0435 \\u0432\\u043b\\u0430\\u0434\\u0435\\u043d\\u0438\\u0435 Python;   \\u0423\\u0432\\u0435\\u0440\\u0435\\u043d\\u043d\\u043e\\u0435 \\u0432\\u043b\\u0430\\u0434\\u0435\\u043d\\u0438\\u0435<br>PyTorch;   \\u0417\\u043d\\u0430\\u043d\\u0438\\u0435 \\u0431\\u0438\\u0431\\u043b\\u0438\\u043e\\u0442\\u0435\\u043a \\u0434\\u043b\\u044f \\u043c\\u0430\\u0448\\u0438\\u043d\\u043d\\u043e\\u0433\\u043e \\u043e\\u0431\\u0443\\u0447\\u0435\\u043d\\u0438\\u044f<br>(Scikit-learn, Pandas, Matplotlib, Numpy, Scipy);<br>\\u041e\\u043f\\u044b\\u0442 \\u0440\\u0430\\u0431\\u043e\\u0442\\u044b \\u0441 \\u043d\\u0435\\u0439\\u0440\\u043e\\u0441\\u0435\\u0442\\u044f\\u043c\\u0438 \\u0432 CV \\u043e\\u0442 2-\\u0445 \\u043b\\u0435\\u0442;<br>\\u0417\\u043d\\u0430\\u043d\\u0438\\u0435 \\u0430\\u043b\\u0433\\u043e\\u0440\\u0438\\u0442\\u043c\\u043e\\u0432 ML, \\u043e\\u0441\\u043d\\u043e\\u0432\\u043d\\u044b\\u0445 \\u0430\\u0440\\u0445\\u0438\\u0442\\u0435\\u043a\\u0442\\u0443\\u0440 \\u043c\\u043e\\u0434\\u0435\\u043b\\u0435\\u0439<br>CV, \\u0438 \\u043f\\u043e\\u043d\\u0438\\u043c\\u0430\\u043d\\u0438\\u0435 \\u043a\\u0440\\u0438\\u0442\\u0435\\u0440\\u0438\\u0435\\u0432 \\u043e\\u0446\\u0435\\u043d\\u043a\\u0438 \\u0438\\u0445 \\u0440\\u0430\\u0431\\u043e\\u0442\\u044b;<br>\\u0423\\u043c\\u0435\\u043d\\u0438\\u0435 \\u0434\\u0435\\u043b\\u0430\\u0442\\u044c \\u0440\\u0438\\u0441\\u0435\\u0440\\u0447, \\u0447\\u0438\\u0442\\u0430\\u0442\\u044c \\u0441\\u0442\\u0430\\u0442\\u044c\\u0438 \\u043d\\u0430 arxiv \\u0438<br>\\u0432\\u043e\\u043f\\u043b\\u043e\\u0449\\u0430\\u0442\\u044c \\u0438\\u0445 \\u0438\\u0434\\u0435\\u0438 \\u0432 \\u0440\\u0430\\u0431\\u043e\\u0447\\u0438\\u0439 \\u043a\\u043e\\u0434;   \\u041f\\u043e\\u043d\\u0438\\u043c\\u0430\\u043d\\u0438\\u0435 \\u0442\\u043e\\u0433\\u043e,<br>\\u043a\\u0430\\u043a \\u0432\\u044b\\u0441\\u0442\\u0440\\u043e\\u0438\\u0442\\u044c pipeline \\u043e\\u0442 \\u0441\\u044b\\u0440\\u044b\\u0445 \\u043d\\u0435\\u0440\\u0430\\u0437\\u043c\\u0435\\u0447\\u0435\\u043d\\u043d\\u044b\\u0445<br>\\u0434\\u0430\\u043d\\u043d\\u044b\\u0445 \\u0434\\u043e \\u0433\\u043e\\u0442\\u043e\\u0432\\u043e\\u0439 \\u043c\\u043e\\u0434\\u0435\\u043b\\u0438;   \\u0411\\u0443\\u0434\\u0435\\u0442 \\u043f\\u043b\\u044e\\u0441\\u043e\\u043c:   \\u041e\\u043f\\u044b\\u0442<br>\\u0440\\u0430\\u0431\\u043e\\u0442\\u044b \\u043d\\u0430\\u0434 \\u0437\\u0430\\u0434\\u0430\\u0447\\u0430\\u043c\\u0438 \\u0432 \\u043e\\u0431\\u043b\\u0430\\u0441\\u0442\\u0438 \\u043c\\u0435\\u0434\\u0438\\u0446\\u0438\\u043d\\u044b;   \\u041e\\u043f\\u044b\\u0442<br>\\u0440\\u0430\\u0431\\u043e\\u0442\\u044b \\u0441 \\u043c\\u0435\\u0434\\u0438\\u0446\\u0438\\u043d\\u0441\\u043a\\u0438\\u043c\\u0438 \\u0438\\u0437\\u043e\\u0431\\u0440\\u0430\\u0436\\u0435\\u043d\\u0438\\u044f\\u043c\\u0438;   \\u041f\\u043e\\u043d\\u0438\\u043c\\u0430\\u043d\\u0438\\u0435 \\u0438<br>\\u043e\\u043f\\u044b\\u0442 \\u0440\\u0430\\u0431\\u043e\\u0442\\u044b \\u0441 DICOM \\u0438 Nifti;   \\u041e\\u043f\\u044b\\u0442 \\u043d\\u0430\\u0441\\u0442\\u0440\\u043e\\u0439\\u043a\\u0438<br>\\u043f\\u0430\\u0439\\u043f\\u043b\\u0430\\u0439\\u043d\\u043e\\u0432 \\u0440\\u0430\\u0437\\u043c\\u0435\\u0442\\u043a\\u0438 \\u0434\\u0430\\u043d\\u043d\\u044b\\u0445;   \\u0423\\u0441\\u043f\\u0435\\u0448\\u043d\\u044b\\u0439 \\u043e\\u043f\\u044b\\u0442<br>\\u0443\\u0447\\u0430\\u0441\\u0442\\u0438\\u044f \\u0432 \\u0441\\u043e\\u0440\\u0435\\u0432\\u043d\\u043e\\u0432\\u0430\\u043d\\u0438\\u044f\\u0445 \\u0442\\u0438\\u043f\\u0430 Kaggle;   \\u0428\\u0438\\u0440\\u043e\\u043a\\u043e\\u0435 \\u0438<br>\\u0433\\u043b\\u0443\\u0431\\u043e\\u043a\\u043e\\u0435 \\u043f\\u043e\\u043d\\u0438\\u043c\\u0430\\u043d\\u0438\\u0435 \\u043a\\u0430\\u043a \\u0432\\u043e\\u043e\\u0431\\u0449\\u0435 \\u0440\\u0430\\u0431\\u043e\\u0442\\u0430\\u0435\\u0442 ML,<br>\\u043f\\u0440\\u0430\\u043a\\u0442\\u0438\\u0447\\u0435\\u0441\\u043a\\u0438\\u0439 \\u043e\\u043f\\u044b\\u0442 \\u0432 \\u0440\\u0430\\u0437\\u043d\\u044b\\u0445 \\u043e\\u0431\\u043b\\u0430\\u0441\\u0442\\u044f\\u0445 - CV, NLP,<br>Tabular, RL.\"], [200000, 180000, \"Python, \\u041c\\u0430\\u0442\\u0435\\u043c\\u0430\\u0442\\u0438\\u0447\\u0435\\u0441\\u043a\\u0430\\u044f \\u0441\\u0442\\u0430\\u0442\\u0438\\u0441\\u0442\\u0438\\u043a\\u0430, \\u0410\\u043d\\u0433\\u043b\\u0438\\u0439\\u0441\\u043a\\u0438\\u0439<br>\\u044f\\u0437\\u044b\\u043a, sklearn, \\u0421\\u0442\\u0430\\u0442\\u0438\\u0441\\u0442\\u0438\\u0447\\u0435\\u0441\\u043a\\u0438\\u0439 \\u0430\\u043d\\u0430\\u043b\\u0438\\u0437\"], [250000, 200000, \"Pytorch, TensorFlow, Python\"], [140000, 130000, \"Python, TensorFlow, NLP, PyTorch, ML \\u0430\\u043b\\u0433\\u043e\\u0440\\u0438\\u0442\\u043c\\u044b,<br>ML, CV, \\u0420\\u0430\\u0431\\u043e\\u0442\\u0430 \\u0441 \\u0434\\u0430\\u043d\\u043d\\u044b\\u043c\\u0438, \\u043f\\u0440\\u0435\\u0434\\u0438\\u043a\\u0442\\u0438\\u0432\\u043d\\u044b\\u0435 \\u043c\\u043e\\u0434\\u0435\\u043b\\u0438\"], [100000, 70000, \"\\u0437\\u043d\\u0430\\u043d\\u0438\\u044f Python \\u043d\\u0430 \\u0445\\u043e\\u0440\\u043e\\u0448\\u0435\\u043c \\u0443\\u0440\\u043e\\u0432\\u043d\\u0435, \\u0432 \\u0442\\u043e\\u043c \\u0447\\u0438\\u0441\\u043b\\u0435<br>\\u043f\\u043e\\u043f\\u0443\\u043b\\u044f\\u0440\\u043d\\u044b\\u0435 \\u0431\\u0438\\u0431\\u043b\\u0438\\u043e\\u0442\\u0435\\u043a\\u0438 (TensorFlow, PyTorch, Keras,<br>spaCy, Pandas, NumPy \\u0438 \\u0434\\u0440\\u0443\\u0433\\u0438\\u0435); \\u0437\\u043d\\u0430\\u043d\\u0438\\u044f \\u043e\\u0441\\u043e\\u0431\\u0435\\u043d\\u043d\\u043e\\u0441\\u0442\\u0438<br>\\u0430\\u043d\\u0430\\u043b\\u0438\\u0437\\u0430 \\u0438 \\u043f\\u0440\\u043e\\u0433\\u043d\\u043e\\u0437\\u0438\\u0440\\u043e\\u0432\\u0430\\u043d\\u0438\\u044f \\u0432\\u0440\\u0435\\u043c\\u0435\\u043d\\u043d\\u044b\\u0445 \\u0440\\u044f\\u0434\\u043e\\u0432; \\u043e\\u043f\\u044b\\u0442<br>\\u0440\\u0430\\u0431\\u043e\\u0442\\u044b \\u0432 DS \\u043d\\u0435 \\u043c\\u0435\\u043d\\u0435\\u0435 3 \\u043b\\u0435\\u0442, \\u043e\\u043f\\u044b\\u0442 \\u043d\\u0430 \\u043f\\u043e\\u0437\\u0438\\u0446\\u0438\\u0438<br>middle/senior DS \\u043d\\u0435 \\u043c\\u0435\\u043d\\u0435\\u0435 2 \\u043b\\u0435\\u0442; SQL (\\u043d\\u0430\\u043f\\u0438\\u0441\\u0430\\u043d\\u0438\\u0435<br>\\u0437\\u0430\\u043f\\u0440\\u043e\\u0441\\u043e\\u0432, \\u043f\\u043e\\u043d\\u0438\\u043c\\u0430\\u043d\\u0438\\u0435 \\u043f\\u0440\\u0438\\u043d\\u0446\\u0438\\u043f\\u043e\\u0432 \\u043e\\u0440\\u0433\\u0430\\u043d\\u0438\\u0437\\u0430\\u0446\\u0438\\u0438 \\u0411\\u0414);<br>\\u043d\\u0430\\u0432\\u044b\\u043a\\u0438 \\u0440\\u0430\\u0431\\u043e\\u0442\\u044b \\u0441 \\u043a\\u043e\\u043b\\u0438\\u0447\\u0435\\u0441\\u0442\\u0432\\u0435\\u043d\\u043d\\u043e\\u0439 \\u0438\\u043d\\u0444\\u043e\\u0440\\u043c\\u0430\\u0446\\u0438\\u0435\\u0439, \\u0437\\u043d\\u0430\\u043d\\u0438\\u044f<br>\\u0442\\u0435\\u043e\\u0440\\u0438\\u0438 \\u0432\\u0435\\u0440\\u043e\\u044f\\u0442\\u043d\\u043e\\u0441\\u0442\\u0435\\u0439 \\u0438 \\u043c\\u0430\\u0442\\u0435\\u043c\\u0430\\u0442\\u0438\\u0447\\u0435\\u0441\\u043a\\u043e\\u0439 \\u0441\\u0442\\u0430\\u0442\\u0438\\u0441\\u0442\\u0438\\u043a\\u0438.\"], [350000, 300000, \"Python, Linux, NLP, ML, TensorFlow, PyTorch\"], [250000, 200000, \"\\u0423\\u0432\\u0435\\u0440\\u0435\\u043d\\u043d\\u043e\\u0435 \\u0432\\u043b\\u0430\\u0434\\u0435\\u043d\\u0438\\u0435 Python;   \\u0417\\u043d\\u0430\\u043d\\u0438\\u0435 SQL/NoSQL-<br>\\u0437\\u0430\\u043f\\u0440\\u043e\\u0441\\u043e\\u0432;   \\u0417\\u043d\\u0430\\u043d\\u0438\\u0435 \\u043c\\u0435\\u0442\\u043e\\u0434\\u043e\\u0432 \\u0438 \\u0442\\u0435\\u0445\\u043d\\u043e\\u043b\\u043e\\u0433\\u0438\\u0439 Machine<br>Learning, Data Mining;   \\u0422\\u0435\\u0445\\u043d\\u0438\\u0447\\u0435\\u0441\\u043a\\u0438\\u0439 \\u0430\\u043d\\u0433\\u043b\\u0438\\u0439\\u0441\\u043a\\u0438\\u0439.<br>\\u0411\\u0443\\u0434\\u0435\\u0442 \\u043f\\u043b\\u044e\\u0441\\u043e\\u043c:   \\u041e\\u043f\\u044b\\u0442 \\u0440\\u0430\\u0431\\u043e\\u0442\\u044b \\u0441 \\u0438\\u043d\\u0441\\u0442\\u0440\\u0443\\u043c\\u0435\\u043d\\u0442\\u0430\\u043c\\u0438<br>\\u043f\\u043e\\u043b\\u043d\\u043e\\u0433\\u043e \\u0446\\u0438\\u043a\\u043b\\u0430 \\u0440\\u0430\\u0431\\u043e\\u0442\\u044b ML \\u043c\\u043e\\u0434\\u0435\\u043b\\u0435\\u0439;   \\u041e\\u043f\\u044b\\u0442 \\u0440\\u0430\\u0431\\u043e\\u0442\\u044b \\u0441<br>\\u0431\\u043e\\u043b\\u044c\\u0448\\u0438\\u043c\\u0438 \\u0434\\u0430\\u043d\\u043d\\u044b\\u043c\\u0438 \\u0438 \\u0441\\u0438\\u0441\\u0442\\u0435\\u043c\\u0430\\u043c\\u0438 \\u0440\\u0430\\u0441\\u043f\\u0440\\u0435\\u0434\\u0435\\u043b\\u0435\\u043d\\u043d\\u044b\\u0445<br>\\u0432\\u044b\\u0447\\u0438\\u0441\\u043b\\u0435\\u043d\\u0438\\u0439 mapreduce Hadoop/Spark;   \\u0420\\u0430\\u0431\\u043e\\u0442\\u0430 \\u0441<br>\\u0437\\u0430\\u0434\\u0430\\u0447\\u0430\\u043c\\u0438 \\u043e\\u0431\\u0440\\u0430\\u0431\\u043e\\u0442\\u043a\\u0438 \\u0435\\u0441\\u0442\\u0435\\u0441\\u0442\\u0432\\u0435\\u043d\\u043d\\u043e\\u0433\\u043e \\u044f\\u0437\\u044b\\u043a\\u0430;   \\u0420\\u0430\\u0431\\u043e\\u0442\\u0430 \\u0441<br>Docker.\"], [220000, 200000, \"Python, SQL, ClickHouse, Airflow\"], [170000, 120000, \"Python, Tensorflow, OpenCV, Keras, Numpy\"], [230000, 180000, \"Python, SQL, Linux\"], [230000, 180000, \"\\u041e\\u0442\\u043b\\u0438\\u0447\\u043d\\u043e\\u0435 \\u0437\\u043d\\u0430\\u043d\\u0438\\u0435 SQL: \\u043d\\u0430\\u043f\\u0438\\u0441\\u0430\\u043d\\u0438\\u044f \\u0437\\u0430\\u043f\\u0440\\u043e\\u0441\\u043e\\u0432, \\u0445\\u0440\\u0430\\u043d\\u0438\\u043c\\u044b\\u0445<br>\\u043f\\u0440\\u043e\\u0446\\u0435\\u0434\\u0443\\u0440, \\u0443\\u0432\\u0435\\u0440\\u0435\\u043d\\u043d\\u043e\\u0435 \\u0432\\u043b\\u0430\\u0434\\u0435\\u043d\\u0438\\u0435 \\u0430\\u0433\\u0440\\u0435\\u0433\\u0438\\u0440\\u0443\\u044e\\u0449\\u0438\\u043c\\u0438 \\u0438<br>\\u043e\\u043a\\u043e\\u043d\\u043d\\u044b\\u043c\\u0438 \\u0444\\u0443\\u043d\\u043a\\u0446\\u0438\\u044f\\u043c\\u0438, \\u043e\\u043f\\u0442\\u0438\\u043c\\u0438\\u0437\\u0430\\u0446\\u0438\\u044f \\u0437\\u0430\\u043f\\u0440\\u043e\\u0441\\u043e\\u0432; \\u0417\\u043d\\u0430\\u043d\\u0438\\u0435<br>\\u043e\\u0441\\u043d\\u043e\\u0432 \\u043f\\u0440\\u043e\\u0433\\u0440\\u0430\\u043c\\u043c\\u0438\\u0440\\u043e\\u0432\\u0430\\u043d\\u0438\\u044f (Python), \\u043e\\u043f\\u044b\\u0442 \\u0440\\u0430\\u0431\\u043e\\u0442\\u044b \\u0441<br>\\u044d\\u043a\\u043e\\u0441\\u0438\\u0441\\u0442\\u0435\\u043c\\u043e\\u0439 Hadoop (HDFS, Spark); \\u041f\\u043e\\u043d\\u0438\\u043c\\u0430\\u043d\\u0438\\u0435<br>\\u043e\\u0441\\u043d\\u043e\\u0432\\u043d\\u044b\\u0445 \\u043a\\u043e\\u043d\\u0446\\u0435\\u043f\\u0446\\u0438\\u0439 DWH, \\u0440\\u0435\\u043b\\u044f\\u0446\\u0438\\u043e\\u043d\\u043d\\u044b\\u0445 \\u0411\\u0414;<br>\\u0414\\u043e\\u043f\\u043e\\u043b\\u043d\\u0438\\u0442\\u0435\\u043b\\u044c\\u043d\\u044b\\u043c \\u043f\\u0440\\u0435\\u0438\\u043c\\u0443\\u0449\\u0435\\u0441\\u0442\\u0432\\u043e\\u043c \\u0431\\u0443\\u0434\\u0435\\u0442 \\u043f\\u043e\\u043d\\u0438\\u043c\\u0430\\u043d\\u0438\\u0435<br>\\u043c\\u0435\\u0442\\u043e\\u0434\\u043e\\u0432 \\u0438 \\u043f\\u043e\\u0434\\u0445\\u043e\\u0434\\u043e\\u0432 \\u043c\\u0430\\u0448\\u0438\\u043d\\u043d\\u043e\\u0433\\u043e \\u043e\\u0431\\u0443\\u0447\\u0435\\u043d\\u0438\\u044f\"], [300000, 270000, \"Python, SQL, PostgreSQL, \\u0410\\u043d\\u0430\\u043b\\u0438\\u0437 \\u0434\\u0430\\u043d\\u043d\\u044b\\u0445, ORACLE,<br>Git\"], [100000, 70000, \"Python, SQL, Airflow, Hadoop, Git\"], [240000, 210000, \"DL \\u0444\\u0440\\u0435\\u0439\\u043c\\u0432\\u043e\\u0440\\u043a\\u0438, NLP\"], [170000, 120000, \"Python, Data science, IT, PySpark\"], [320000, 300000, \"ML, Python, Machine Learning\"], [90000, 55000, \"Python,  Linux, Jupyter notebook, git, SQL,<br>matplotlib, pandas, numpy\"], [230000, 180000, \"\\u0425\\u043e\\u0440\\u043e\\u0448\\u0435\\u0435 \\u0437\\u043d\\u0430\\u043d\\u0438\\u0435 \\u044f\\u0437\\u044b\\u043a\\u043e\\u0432 SQL, Python; \\u041e\\u043f\\u044b\\u0442 \\u0440\\u0430\\u0431\\u043e\\u0442\\u044b \\u0441<br>\\u0431\\u0430\\u0437\\u0430\\u043c\\u0438 \\u0434\\u0430\\u043d\\u043d\\u044b\\u0445, \\u0441 \\u043f\\u0440\\u043e\\u0434\\u0443\\u043a\\u0442\\u0430\\u043c\\u0438 \\u043a\\u043b\\u0430\\u0441\\u0441\\u0430 ETL, MPP;<br>\\u0417\\u043d\\u0430\\u043d\\u0438\\u0435 \\u0430\\u0440\\u0445\\u0438\\u0442\\u0435\\u043a\\u0442\\u0443\\u0440\\u044b \\u0440\\u0430\\u0441\\u043f\\u0440\\u0435\\u0434\\u0435\\u043b\\u0435\\u043d\\u043d\\u044b\\u0445 \\u0445\\u0440\\u0430\\u043d\\u0438\\u043b\\u0438\\u0449 \\u0434\\u0430\\u043d\\u043d\\u044b\\u0445;<br>\\u041e\\u043f\\u044b\\u0442 \\u043e\\u0431\\u043e\\u0433\\u0430\\u0449\\u0435\\u043d\\u0438\\u044f \\u0434\\u0430\\u043d\\u043d\\u044b\\u0445, \\u0438\\u043d\\u0442\\u0435\\u0433\\u0440\\u0430\\u0446\\u0438\\u0438 \\u0441\\u043c\\u0435\\u0436\\u043d\\u044b\\u0445<br>\\u0438\\u0441\\u0442\\u043e\\u0447\\u043d\\u0438\\u043a\\u043e\\u0432 \\u0434\\u0430\\u043d\\u043d\\u044b\\u0445 \\u041e\\u043f\\u044b\\u0442 \\u0440\\u0430\\u0431\\u043e\\u0442\\u044b \\u0441 \\u0441\\u0435\\u0440\\u0432\\u0435\\u0440\\u043d\\u044b\\u043c\\u0438<br>\\u0434\\u0438\\u0441\\u0442\\u0440\\u0438\\u0431\\u0443\\u0442\\u0438\\u0432\\u0430\\u043c\\u0438 \\u041e\\u0421 Linux \\u2013 \\u043d\\u0430\\u0441\\u0442\\u0440\\u043e\\u0439\\u043a\\u0430 \\u0441\\u0435\\u0442\\u0435\\u0432\\u044b\\u0445<br>\\u0438\\u043d\\u0442\\u0435\\u0440\\u0444\\u0435\\u0439\\u0441\\u043e\\u0432, \\u043c\\u0435\\u0436\\u0441\\u0435\\u0442\\u0435\\u0432\\u043e\\u0433\\u043e \\u044d\\u043a\\u0440\\u0430\\u043d\\u0430, \\u0443\\u043f\\u0440\\u0430\\u0432\\u043b\\u0435\\u043d\\u0438\\u044f<br>\\u0440\\u0430\\u0437\\u0434\\u0435\\u043b\\u0430\\u043c\\u0438 \\u0434\\u0438\\u0441\\u043a\\u0430, \\u043c\\u043e\\u043d\\u0438\\u0442\\u043e\\u0440\\u0438\\u043d\\u0433\\u0430 \\u043f\\u0440\\u043e\\u0438\\u0437\\u0432\\u043e\\u0434\\u0438\\u0442\\u0435\\u043b\\u044c\\u043d\\u043e\\u0441\\u0442\\u0438,<br>\\u0443\\u043f\\u0440\\u0430\\u0432\\u043b\\u0435\\u043d\\u0438\\u044f \\u0444\\u0430\\u0439\\u043b\\u043e\\u0432\\u043e\\u0439 \\u0441\\u0438\\u0441\\u0442\\u0435\\u043c\\u043e\\u0439 \\u041f\\u0440\\u043e\\u0434\\u0432\\u0438\\u043d\\u0443\\u0442\\u044b\\u0439 \\u0443\\u0440\\u043e\\u0432\\u0435\\u043d\\u044c<br>\\u0432\\u043b\\u0430\\u0434\\u0435\\u043d\\u0438\\u044f \\u0442\\u0430\\u0431\\u043b\\u0438\\u0447\\u043d\\u044b\\u043c \\u043f\\u0440\\u043e\\u0446\\u0435\\u0441\\u0441\\u043e\\u0440\\u043e\\u043c (MS Excel,<br>OpenOffice/LibreOffice Calc, \\u0438 \\u0442.\\u043f.), \\u0442\\u0435\\u043a\\u0441\\u0442\\u043e\\u0432\\u044b\\u043c<br>\\u0440\\u0435\\u0434\\u0430\\u043a\\u0442\\u043e\\u0440\\u043e\\u043c (MS Word, OpenOffice/LibreOffice Writer<br>\\u0438 \\u0442.\\u043f.)\"], [190000, 180000, \"TensorFlow, PyTorch, Keras, spaCy, Pandas, NumPy\"], [250000, 150000, \"Python, SQL, ML, A/B \\u0442\\u0435\\u0441\\u0442\\u044b\"], [250000, 200000, \"Python, ClickHouse, SQL, Airflow\"], [310000, 300000, \"SQL, Git, Python, \\u0410\\u043d\\u0430\\u043b\\u0438\\u0437 \\u0434\\u0430\\u043d\\u043d\\u044b\\u0445, \\u041c\\u043e\\u0434\\u0435\\u043b\\u0438\\u0440\\u043e\\u0432\\u0430\\u043d\\u0438\\u0435\"], [400000, 200000, \"Python, ML, ML/DS, NLP, OCR, Data Science, LLM,<br>Prompt Engineering, AWS, ML Ops\"], [250000, 200000, \"Python, Big Data, Machine Learning, NLP, Data<br>Science, ML, SQL, Pandas\"], [200000, 150000, \"CV, mmdet, detectron2, Python, ML, Docret, Tryton\"], [180000, 150000, \"SQL, Python, Big Data, Machine Learning, \\u0420\\u0430\\u0431\\u043e\\u0442\\u0430 \\u0441<br>\\u0431\\u0430\\u0437\\u0430\\u043c\\u0438 \\u0434\\u0430\\u043d\\u043d\\u044b\\u0445, \\u041c\\u0430\\u0442\\u0435\\u043c\\u0430\\u0442\\u0438\\u0447\\u0435\\u0441\\u043a\\u0430\\u044f \\u0441\\u0442\\u0430\\u0442\\u0438\\u0441\\u0442\\u0438\\u043a\\u0430, \\u0411\\u0438\\u0437\\u043d\\u0435\\u0441<br>\\u0441\\u0442\\u0430\\u0442\\u0438\\u0441\\u0442\\u0438\\u043a\\u0430\"], [160000, 130000, \"\\u0423\\u0432\\u0435\\u0440\\u0435\\u043d\\u043d\\u043e\\u0435 \\u0432\\u043b\\u0430\\u0434\\u0435\\u043d\\u0438\\u0435 SQL (\\u0430\\u043d\\u0430\\u043b\\u0438\\u0442\\u0438\\u0447\\u0435\\u0441\\u043a\\u0438\\u0435 \\u0444\\u0443\\u043d\\u043a\\u0446\\u0438\\u0438,<br>\\u043f\\u043e\\u0434\\u0437\\u0430\\u043f\\u0440\\u043e\\u0441\\u044b, \\u0445\\u0440\\u0430\\u043d\\u0438\\u043c\\u044b\\u0435 \\u043f\\u0440\\u043e\\u0446\\u0435\\u0434\\u0443\\u0440\\u044b/\\u0444\\u0443\\u043d\\u043a\\u0446\\u0438\\u0438,<br>\\u043e\\u043f\\u0442\\u0438\\u043c\\u0438\\u0437\\u0430\\u0446\\u0438\\u044f \\u043f\\u0440\\u043e\\u0438\\u0437\\u0432\\u043e\\u0434\\u0438\\u0442\\u0435\\u043b\\u044c\\u043d\\u043e\\u0441\\u0442\\u0438) - \\u041e\\u0431\\u044f\\u0437\\u0430\\u0442\\u0435\\u043b\\u0435\\u043d\\u043e<br>\\u0438\\u043c\\u0435\\u0442\\u044c \\u043e\\u043f\\u044b\\u0442 \\u0440\\u0430\\u0431\\u043e\\u0442\\u044b \\u0441 \\u0440\\u0435\\u043b\\u044f\\u0446\\u0438\\u043e\\u043d\\u043d\\u044b\\u043c\\u0438 \\u0431\\u0430\\u0437\\u0430\\u043c\\u0438 \\u0434\\u0430\\u043d\\u043d\\u044b\\u0445<br>(PostgreSQL) - \\u041e\\u043f\\u044b\\u0442 \\u0438\\u0441\\u043f\\u043e\\u043b\\u044c\\u0437\\u043e\\u0432\\u0430\\u043d\\u0438\\u044f \\u044d\\u043a\\u043e\\u0441\\u0438\\u0441\\u0442\\u0435\\u043c\\u044b<br>Hadoop: HDFS, Spark, Hive - \\u0423\\u043c\\u0435\\u043d\\u0438\\u0435 \\u043e\\u043f\\u0442\\u0438\\u043c\\u0438\\u0437\\u0438\\u0440\\u043e\\u0432\\u0430\\u0442\\u044c<br>\\u043f\\u0440\\u043e\\u0433\\u0440\\u0430\\u043c\\u043c\\u043d\\u044b\\u0439 \\u043a\\u043e\\u0434 \\u0432 \\u0441\\u043e\\u043e\\u0442\\u0432\\u0435\\u0442\\u0441\\u0442\\u0432\\u0438\\u0438 \\u0441 \\u043e\\u0441\\u043e\\u0431\\u0435\\u043d\\u043d\\u043e\\u0441\\u0442\\u044f\\u043c\\u0438<br>\\u0430\\u0440\\u0445\\u0438\\u0442\\u0435\\u043a\\u0442\\u0443\\u0440 \\u0445\\u0440\\u0430\\u043d\\u0435\\u043d\\u0438\\u044f \\u0434\\u0430\\u043d\\u043d\\u044b\\u0445 - \\u041f\\u0440\\u043e\\u0434\\u0432\\u0438\\u043d\\u0443\\u0442\\u044b\\u0435<br>\\u0430\\u043d\\u0430\\u043b\\u0438\\u0442\\u0438\\u0447\\u0435\\u0441\\u043a\\u0438\\u0435 \\u043d\\u0430\\u0432\\u044b\\u043a\\u0438 \\u0438 \\u0432\\u0430\\u0440\\u0438\\u0430\\u0442\\u0438\\u0432\\u043d\\u043e\\u0435 \\u0432\\u0438\\u0434\\u0435\\u043d\\u0438\\u0435 \\u0440\\u0435\\u0448\\u0435\\u043d\\u0438\\u044f<br>\\u0437\\u0430\\u0434\\u0430\\u0447 - \\u041e\\u0440\\u0438\\u0435\\u043d\\u0442\\u0430\\u0446\\u0438\\u044f \\u043d\\u0430 \\u0434\\u043e\\u0441\\u0442\\u0438\\u0436\\u0435\\u043d\\u0438\\u0435 \\u0440\\u0435\\u0437\\u0443\\u043b\\u044c\\u0442\\u0430\\u0442\\u0430,<br>\\u0432\\u043d\\u0438\\u043c\\u0430\\u0442\\u0435\\u043b\\u044c\\u043d\\u043e\\u0441\\u0442\\u044c \\u043a \\u0434\\u0435\\u0442\\u0430\\u043b\\u044f\\u043c, \\u043a\\u043e\\u043c\\u043c\\u0443\\u043d\\u0438\\u043a\\u0430\\u0431\\u0435\\u043b\\u044c\\u043d\\u043e\\u0441\\u0442\\u044c\"], [320000, 270000, \"\\u041c\\u0430\\u0442\\u0435\\u043c\\u0430\\u0442\\u0438\\u0447\\u0435\\u0441\\u043a\\u043e\\u0435 \\u043c\\u043e\\u0434\\u0435\\u043b\\u0438\\u0440\\u043e\\u0432\\u0430\\u043d\\u0438\\u0435, \\u0410\\u043d\\u0430\\u043b\\u0438\\u0437 \\u0434\\u0430\\u043d\\u043d\\u044b\\u0445,<br>\\u0421\\u0442\\u0430\\u0442\\u0438\\u0441\\u0442\\u0438\\u0447\\u0435\\u0441\\u043a\\u0438\\u0439 \\u0430\\u043d\\u0430\\u043b\\u0438\\u0437, \\u0412\\u0430\\u043b\\u0438\\u0434\\u0430\\u0446\\u0438\\u044f \\u043c\\u043e\\u0434\\u0435\\u043b\\u0435\\u0439,<br>\\u041c\\u043e\\u0434\\u0435\\u043b\\u044c\\u043d\\u044b\\u0439 \\u0440\\u0438\\u0441\\u043a, SQL\"], [150000, 130000, \"\\u041e\\u0446\\u0435\\u043d\\u043a\\u0430 \\u0440\\u0438\\u0441\\u043a\\u043e\\u0432, MS PowerPoint, \\u0421\\u0442\\u0430\\u0442\\u0438\\u0441\\u0442\\u0438\\u0447\\u0435\\u0441\\u043a\\u0438\\u0439<br>\\u0430\\u043d\\u0430\\u043b\\u0438\\u0437, \\u0423\\u043f\\u0440\\u0430\\u0432\\u043b\\u0435\\u043d\\u0438\\u0435 \\u0440\\u0438\\u0441\\u043a\\u0430\\u043c\\u0438, \\u041c\\u0430\\u0442\\u0435\\u043c\\u0430\\u0442\\u0438\\u0447\\u0435\\u0441\\u043a\\u043e\\u0435<br>\\u043c\\u043e\\u0434\\u0435\\u043b\\u0438\\u0440\\u043e\\u0432\\u0430\\u043d\\u0438\\u0435, PD, LGD, EAD, SQL, \\u041f\\u043e\\u0440\\u0442\\u0444\\u0435\\u043b\\u044c\\u043d\\u044b\\u0435<br>\\u0440\\u0438\\u0441\\u043a\\u0438, \\u043a\\u0440\\u0435\\u0434\\u0438\\u0442\\u043d\\u044b\\u0435 \\u0440\\u0438\\u0441\\u043a\\u0438\"], [340000, 270000, \"SQL, \\u0410\\u043d\\u0430\\u043b\\u0438\\u0442\\u0438\\u043a\\u0430, \\u0421\\u0431\\u043e\\u0440 \\u0438 \\u0430\\u043d\\u0430\\u043b\\u0438\\u0437 \\u0438\\u043d\\u0444\\u043e\\u0440\\u043c\\u0430\\u0446\\u0438\\u0438,<br>\\u0410\\u043d\\u0430\\u043b\\u0438\\u0442\\u0438\\u0447\\u0435\\u0441\\u043a\\u043e\\u0435 \\u043c\\u044b\\u0448\\u043b\\u0435\\u043d\\u0438\\u0435, \\u0421\\u0438\\u0441\\u0442\\u0435\\u043c\\u043d\\u044b\\u0439 \\u0430\\u043d\\u0430\\u043b\\u0438\\u0437, \\u0410\\u043d\\u0430\\u043b\\u0438\\u0437<br>\\u0434\\u0430\\u043d\\u043d\\u044b\\u0445, SPL, \\u0412\\u0438\\u0437\\u0443\\u0430\\u043b\\u0438\\u0437\\u0430\\u0446\\u0438\\u044f, \\u0420\\u0430\\u0431\\u043e\\u0442\\u0430 \\u0441 \\u0431\\u0430\\u0437\\u0430\\u043c\\u0438 \\u0434\\u0430\\u043d\\u043d\\u044b\\u0445,<br>\\u041f\\u043e\\u0434\\u0433\\u043e\\u0442\\u043e\\u0432\\u043a\\u0430 \\u043f\\u0440\\u0435\\u0437\\u0435\\u043d\\u0442\\u0430\\u0446\\u0438\\u0439, \\u0420\\u0430\\u0431\\u043e\\u0442\\u0430 \\u0441 \\u0431\\u043e\\u043b\\u044c\\u0448\\u0438\\u043c \\u043e\\u0431\\u044a\\u0435\\u043c\\u043e\\u043c<br>\\u0438\\u043d\\u0444\\u043e\\u0440\\u043c\\u0430\\u0446\\u0438\\u0438, \\u0411\\u0430\\u0437\\u044b \\u0434\\u0430\\u043d\\u043d\\u044b\\u0445, \\u0421\\u0442\\u0440\\u0430\\u0445\\u043e\\u0432\\u0430\\u043d\\u0438\\u0435\"], [300000, 270000, \"Python, Pandas, SQL\"], [200000, 150000, \"ETL, MS SQL Server, ORACLE, ApacheAirflow\"], [160000, 130000, \"Python, PyTorch, NLP, NER, Machine Learning\"], [300000, 200000, \"NLP, Python, ML, PyTorch, REST, LLM\"], [150000, 100000, \"SQL \\u043d\\u0430 \\u043f\\u0440\\u043e\\u0444\\u0435\\u0441\\u0441\\u0438\\u043e\\u043d\\u0430\\u043b\\u044c\\u043d\\u043e\\u043c \\u0443\\u0440\\u043e\\u0432\\u043d\\u0435, \\u0432\\u043a\\u043b\\u044e\\u0447\\u0430\\u044f<br>\\u043e\\u043f\\u0442\\u0438\\u043c\\u0438\\u0437\\u0430\\u0446\\u0438\\u044e \\u0437\\u0430\\u043f\\u0440\\u043e\\u0441\\u043e\\u0432 \\u041e\\u043f\\u044b\\u0442 \\u0438\\u043d\\u0442\\u0435\\u0433\\u0440\\u0430\\u0446\\u0438\\u0438 \\u0441\\u0438\\u0441\\u0442\\u0435\\u043c,<br>\\u0437\\u0430\\u0433\\u0440\\u0443\\u0437\\u043a\\u0438 \\u0438 \\u0442\\u0440\\u0430\\u043d\\u0441\\u0444\\u043e\\u0440\\u043c\\u0430\\u0446\\u0438\\u0438 \\u0434\\u0430\\u043d\\u043d\\u044b\\u0445 (ETL) \\u041e\\u043f\\u044b\\u0442 \\u0440\\u0430\\u0431\\u043e\\u0442\\u044b<br>\\u0441 \\u043a\\u0430\\u0447\\u0435\\u0441\\u0442\\u0432\\u043e\\u043c \\u0434\\u0430\\u043d\\u043d\\u044b\\u0445 (\\u043e\\u0447\\u0438\\u0441\\u0442\\u043a\\u0430 \\u0434\\u0430\\u043d\\u043d\\u044b\\u0445, \\u043f\\u0440\\u043e\\u0446\\u0435\\u0434\\u0443\\u0440\\u044b Data<br>Quality) \\u0417\\u043d\\u0430\\u043d\\u0438\\u0435 \\u043f\\u0440\\u0438\\u043d\\u0446\\u0438\\u043f\\u043e\\u0432 \\u0440\\u0430\\u0431\\u043e\\u0442\\u044b BI-\\u0441\\u0438\\u0441\\u0442\\u0435\\u043c,<br>\\u043f\\u043e\\u0441\\u0442\\u0440\\u043e\\u0435\\u043d\\u0438\\u044f \\u0430\\u043d\\u0430\\u043b\\u0438\\u0442\\u0438\\u0447\\u0435\\u0441\\u043a\\u0438\\u0445 \\u043f\\u0430\\u043d\\u0435\\u043b\\u0435\\u0439 \\u041f\\u0440\\u043e\\u0444\\u0435\\u0441\\u0441\\u0438\\u043e\\u043d\\u0430\\u043b\\u044c\\u043d\\u044b\\u0439<br>\\u043f\\u043e\\u043b\\u044c\\u0437\\u043e\\u0432\\u0430\\u0442\\u0435\\u043b\\u044c Excel (\\u0441\\u0432\\u043e\\u0434\\u043d\\u044b\\u0435 \\u0442\\u0430\\u0431\\u043b\\u0438\\u0446\\u044b, \\u0444\\u043e\\u0440\\u043c\\u0443\\u043b\\u044b, \\u0412\\u041f\\u0420<br>\\u0411\\u0430\\u0437\\u043e\\u0432\\u044b\\u0435 \\u0437\\u043d\\u0430\\u043d\\u0438\\u044f) \\u043f\\u0440\\u0438\\u043d\\u0446\\u0438\\u043f\\u043e\\u0432 \\u043f\\u043e\\u0441\\u0442\\u0440\\u043e\\u0435\\u043d\\u0438\\u044f \\u0441\\u0438\\u0441\\u0442\\u0435\\u043c\\u043d\\u043e\\u0439<br>\\u0430\\u0440\\u0445\\u0438\\u0442\\u0435\\u043a\\u0442\\u0443\\u0440\\u044b, \\u0430\\u0440\\u0445\\u0438\\u0442\\u0435\\u043a\\u0442\\u0443\\u0440\\u044b \\u0434\\u0430\\u043d\\u043d\\u044b\\u0445, \\u0440\\u0430\\u0431\\u043e\\u0442\\u044b \\u0441 \\u0431\\u0430\\u0437\\u0430\\u043c\\u0438<br>\\u0434\\u0430\\u043d\\u043d\\u044b\\u0445 \\u041e\\u043f\\u044b\\u0442 \\u043d\\u0430\\u0441\\u0442\\u0440\\u043e\\u0439\\u043a\\u0438 \\u0432\\u0437\\u0430\\u0438\\u043c\\u043e\\u0434\\u0435\\u0439\\u0441\\u0442\\u0432\\u0438\\u044f \\u0441\\u0438\\u0441\\u0442\\u0435\\u043c (REST<br>API, ODBC/JDBC) \\u0416\\u0435\\u043b\\u0430\\u0442\\u0435\\u043b\\u0435\\u043d \\u043e\\u043f\\u044b\\u0442 \\u0440\\u0430\\u0431\\u043e\\u0442\\u044b \\u0441 \\u043b\\u044e\\u0431\\u044b\\u043c BI -<br>Qlik, Tableau, Power BI, NiFi \\u0438/\\u0438\\u043b\\u0438 Airflow/DBT,<br>\\u043d\\u0430\\u0432\\u044b\\u043a\\u0438 \\u0440\\u0430\\u0431\\u043e\\u0442\\u044b \\u0441 Python\"], [105000, 55000, \"sklearn, scipy, pytorch, Git, Docker\"], [200000, 130000, \"\\u043e\\u043f\\u044b\\u0442 \\u0440\\u0430\\u0431\\u043e\\u0442\\u044b \\u0441 \\u0437\\u0430\\u0434\\u0430\\u0447\\u0430\\u043c\\u0438 \\u043c\\u0430\\u0448\\u0438\\u043d\\u043d\\u043e\\u0433\\u043e \\u043e\\u0431\\u0443\\u0447\\u0435\\u043d\\u0438\\u044f/ \\u043e\\u043f\\u044b\\u0442<br>\\u0441\\u0442\\u0430\\u0442\\u0438\\u0441\\u0442\\u0438\\u0447\\u0435\\u0441\\u043a\\u043e\\u0439 \\u043e\\u0431\\u0440\\u0430\\u0431\\u043e\\u0442\\u043a\\u0438 \\u0434\\u0430\\u043d\\u043d\\u044b\\u0445 \\u043e\\u0442 1,5 \\u043b\\u0435\\u0442;   \\u043e\\u043f\\u044b\\u0442<br>\\u0440\\u0430\\u0437\\u0440\\u0430\\u0431\\u043e\\u0442\\u043a\\u0438 \\u043d\\u0430 Python, \\u043e\\u043f\\u044b\\u0442 code review;   \\u043e\\u043f\\u044b\\u0442<br>\\u0440\\u0430\\u0431\\u043e\\u0442\\u044b \\u0441 \\u0431\\u0438\\u0431\\u043b\\u0438\\u043e\\u0442\\u0435\\u043a\\u0430\\u043c\\u0438 \\u0434\\u043b\\u044f \\u0430\\u043d\\u0430\\u043b\\u0438\\u0437\\u0430 \\u0434\\u0430\\u043d\\u043d\\u044b\\u0445: pandas,<br>matplotlib, numpy, sklearn;   \\u0443\\u0432\\u0435\\u0440\\u0435\\u043d\\u043d\\u044b\\u0435 \\u043d\\u0430\\u0432\\u044b\\u043a\\u0438<br>\\u0438\\u0441\\u043f\\u043e\\u043b\\u044c\\u0437\\u043e\\u0432\\u0430\\u043d\\u0438\\u044f Linux, Jupyter notebook, git, SQL;<br>\\u0437\\u043d\\u0430\\u043d\\u0438\\u0435 \\u043e\\u0441\\u043d\\u043e\\u0432\\u043d\\u044b\\u0445 \\u043c\\u043e\\u0434\\u0435\\u043b\\u0435\\u0439 \\u043c\\u0430\\u0448\\u0438\\u043d\\u043d\\u043e\\u0433\\u043e \\u043e\\u0431\\u0443\\u0447\\u0435\\u043d\\u0438\\u044f:<br>\\u0433\\u0440\\u0430\\u0434\\u0438\\u0435\\u043d\\u0442\\u043d\\u044b\\u0439 \\u0431\\u0443\\u0441\\u0442\\u0438\\u043d\\u0433 \\u043d\\u0430 \\u043e\\u0441\\u043d\\u043e\\u0432\\u0435 \\u0434\\u0435\\u0440\\u0435\\u0432\\u044c\\u0435\\u0432 \\u0440\\u0435\\u0448\\u0435\\u043d\\u0438\\u0439,<br>\\u043b\\u043e\\u0433\\u0438\\u0441\\u0442\\u0438\\u0447\\u0435\\u0441\\u043a\\u0430\\u044f \\u0440\\u0435\\u0433\\u0440\\u0435\\u0441\\u0441\\u0438\\u044f \\u0441 \\u0440\\u0435\\u0433\\u0443\\u043b\\u044f\\u0440\\u0438\\u0437\\u0430\\u0446\\u0438\\u0435\\u0439, \\u043c\\u0435\\u0442\\u043e\\u0434<br>\\u0431\\u043b\\u0438\\u0436\\u0430\\u0439\\u0448\\u0438\\u0445 \\u0441\\u043e\\u0441\\u0435\\u0434\\u0435\\u0439\"], [170000, 150000, \"\\u043e\\u043f\\u044b\\u0442 \\u0440\\u0430\\u0431\\u043e\\u0442\\u044b \\u0441 \\u0437\\u0430\\u0434\\u0430\\u0447\\u0430\\u043c\\u0438 \\u043c\\u0430\\u0448\\u0438\\u043d\\u043d\\u043e\\u0433\\u043e \\u043e\\u0431\\u0443\\u0447\\u0435\\u043d\\u0438\\u044f/ \\u043e\\u043f\\u044b\\u0442<br>\\u0441\\u0442\\u0430\\u0442\\u0438\\u0441\\u0442\\u0438\\u0447\\u0435\\u0441\\u043a\\u043e\\u0439 \\u043e\\u0431\\u0440\\u0430\\u0431\\u043e\\u0442\\u043a\\u0438 \\u0434\\u0430\\u043d\\u043d\\u044b\\u0445 \\u043e\\u0442 1,5 \\u043b\\u0435\\u0442;   \\u043e\\u043f\\u044b\\u0442<br>\\u0440\\u0430\\u0437\\u0440\\u0430\\u0431\\u043e\\u0442\\u043a\\u0438 \\u043d\\u0430 Python, \\u043e\\u043f\\u044b\\u0442 code review;   \\u043e\\u043f\\u044b\\u0442<br>\\u0440\\u0430\\u0431\\u043e\\u0442\\u044b \\u0441 \\u0431\\u0438\\u0431\\u043b\\u0438\\u043e\\u0442\\u0435\\u043a\\u0430\\u043c\\u0438 \\u0434\\u043b\\u044f \\u0430\\u043d\\u0430\\u043b\\u0438\\u0437\\u0430 \\u0434\\u0430\\u043d\\u043d\\u044b\\u0445: pandas,<br>matplotlib, numpy, sklearn;   \\u0443\\u0432\\u0435\\u0440\\u0435\\u043d\\u043d\\u044b\\u0435 \\u043d\\u0430\\u0432\\u044b\\u043a\\u0438<br>\\u0438\\u0441\\u043f\\u043e\\u043b\\u044c\\u0437\\u043e\\u0432\\u0430\\u043d\\u0438\\u044f Linux, Jupyter notebook, git, SQL;<br>\\u0437\\u043d\\u0430\\u043d\\u0438\\u0435 \\u043e\\u0441\\u043d\\u043e\\u0432\\u043d\\u044b\\u0445 \\u043c\\u043e\\u0434\\u0435\\u043b\\u0435\\u0439 \\u043c\\u0430\\u0448\\u0438\\u043d\\u043d\\u043e\\u0433\\u043e \\u043e\\u0431\\u0443\\u0447\\u0435\\u043d\\u0438\\u044f:<br>\\u0433\\u0440\\u0430\\u0434\\u0438\\u0435\\u043d\\u0442\\u043d\\u044b\\u0439 \\u0431\\u0443\\u0441\\u0442\\u0438\\u043d\\u0433 \\u043d\\u0430 \\u043e\\u0441\\u043d\\u043e\\u0432\\u0435 \\u0434\\u0435\\u0440\\u0435\\u0432\\u044c\\u0435\\u0432 \\u0440\\u0435\\u0448\\u0435\\u043d\\u0438\\u0439,<br>\\u043b\\u043e\\u0433\\u0438\\u0441\\u0442\\u0438\\u0447\\u0435\\u0441\\u043a\\u0430\\u044f \\u0440\\u0435\\u0433\\u0440\\u0435\\u0441\\u0441\\u0438\\u044f \\u0441 \\u0440\\u0435\\u0433\\u0443\\u043b\\u044f\\u0440\\u0438\\u0437\\u0430\\u0446\\u0438\\u0435\\u0439, \\u043c\\u0435\\u0442\\u043e\\u0434<br>\\u0431\\u043b\\u0438\\u0436\\u0430\\u0439\\u0448\\u0438\\u0445 \\u0441\\u043e\\u0441\\u0435\\u0434\\u0435\\u0439\"], [330000, 280000, \"ETL, MS SQL Server, ORACLE, ApacheAirflow\"], [130000, 100000, \"\\u043e\\u043f\\u044b\\u0442 \\u0440\\u0430\\u0431\\u043e\\u0442\\u044b \\u0441 \\u0437\\u0430\\u0434\\u0430\\u0447\\u0430\\u043c\\u0438 \\u043c\\u0430\\u0448\\u0438\\u043d\\u043d\\u043e\\u0433\\u043e \\u043e\\u0431\\u0443\\u0447\\u0435\\u043d\\u0438\\u044f/ \\u043e\\u043f\\u044b\\u0442<br>\\u0441\\u0442\\u0430\\u0442\\u0438\\u0441\\u0442\\u0438\\u0447\\u0435\\u0441\\u043a\\u043e\\u0439 \\u043e\\u0431\\u0440\\u0430\\u0431\\u043e\\u0442\\u043a\\u0438 \\u0434\\u0430\\u043d\\u043d\\u044b\\u0445 \\u043e\\u0442 1,5 \\u043b\\u0435\\u0442;   \\u043e\\u043f\\u044b\\u0442<br>\\u0440\\u0430\\u0437\\u0440\\u0430\\u0431\\u043e\\u0442\\u043a\\u0438 \\u043d\\u0430 Python, \\u043e\\u043f\\u044b\\u0442 code review;   \\u043e\\u043f\\u044b\\u0442<br>\\u0440\\u0430\\u0431\\u043e\\u0442\\u044b \\u0441 \\u0431\\u0438\\u0431\\u043b\\u0438\\u043e\\u0442\\u0435\\u043a\\u0430\\u043c\\u0438 \\u0434\\u043b\\u044f \\u0430\\u043d\\u0430\\u043b\\u0438\\u0437\\u0430 \\u0434\\u0430\\u043d\\u043d\\u044b\\u0445: pandas,<br>matplotlib, numpy, sklearn;   \\u0443\\u0432\\u0435\\u0440\\u0435\\u043d\\u043d\\u044b\\u0435 \\u043d\\u0430\\u0432\\u044b\\u043a\\u0438<br>\\u0438\\u0441\\u043f\\u043e\\u043b\\u044c\\u0437\\u043e\\u0432\\u0430\\u043d\\u0438\\u044f Linux, Jupyter notebook, git, SQL;<br>\\u0437\\u043d\\u0430\\u043d\\u0438\\u0435 \\u043e\\u0441\\u043d\\u043e\\u0432\\u043d\\u044b\\u0445 \\u043c\\u043e\\u0434\\u0435\\u043b\\u0435\\u0439 \\u043c\\u0430\\u0448\\u0438\\u043d\\u043d\\u043e\\u0433\\u043e \\u043e\\u0431\\u0443\\u0447\\u0435\\u043d\\u0438\\u044f:<br>\\u0433\\u0440\\u0430\\u0434\\u0438\\u0435\\u043d\\u0442\\u043d\\u044b\\u0439 \\u0431\\u0443\\u0441\\u0442\\u0438\\u043d\\u0433 \\u043d\\u0430 \\u043e\\u0441\\u043d\\u043e\\u0432\\u0435 \\u0434\\u0435\\u0440\\u0435\\u0432\\u044c\\u0435\\u0432 \\u0440\\u0435\\u0448\\u0435\\u043d\\u0438\\u0439,<br>\\u043b\\u043e\\u0433\\u0438\\u0441\\u0442\\u0438\\u0447\\u0435\\u0441\\u043a\\u0430\\u044f \\u0440\\u0435\\u0433\\u0440\\u0435\\u0441\\u0441\\u0438\\u044f \\u0441 \\u0440\\u0435\\u0433\\u0443\\u043b\\u044f\\u0440\\u0438\\u0437\\u0430\\u0446\\u0438\\u0435\\u0439, \\u043c\\u0435\\u0442\\u043e\\u0434<br>\\u0431\\u043b\\u0438\\u0436\\u0430\\u0439\\u0448\\u0438\\u0445 \\u0441\\u043e\\u0441\\u0435\\u0434\\u0435\\u0439\"], [170000, 100000, \"\\u0420\\u0430\\u0431\\u043e\\u0442\\u0430 \\u0441 \\u043e\\u0434\\u043d\\u0438\\u043c \\u0438\\u0437 \\u0444\\u0440\\u0435\\u0439\\u043c\\u0432\\u043e\\u0440\\u043a\\u043e\\u0432 PyTorch/TensorFlow;<br>\\u0417\\u043d\\u0430\\u043d\\u0438\\u0435 \\u043e\\u0441\\u043d\\u043e\\u0432\\u043d\\u044b\\u0445 \\u043f\\u043e\\u0434\\u0445\\u043e\\u0434\\u043e\\u0432 \\u0434\\u043b\\u044f \\u043f\\u0440\\u0435\\u0434\\u043e\\u0431\\u0440\\u0430\\u0431\\u043e\\u0442\\u043a\\u0438 \\u0438<br>\\u0432\\u0435\\u043a\\u0442\\u043e\\u0440\\u0438\\u0437\\u0430\\u0446\\u0438\\u0438 \\u0442\\u0435\\u043a\\u0441\\u0442\\u0430; \\u041d\\u0430\\u043b\\u0438\\u0447\\u0438\\u0435 \\u043e\\u043f\\u044b\\u0442\\u0430 \\u0440\\u0435\\u0448\\u0435\\u043d\\u0438\\u044f \\u0437\\u0430\\u0434\\u0430\\u0447<br>NLP \\u0434\\u043b\\u044f \\u0442\\u0435\\u043a\\u0441\\u0442\\u0430 (Text Classification, NER, Text<br>Summarization); \\u0417\\u043d\\u0430\\u043a\\u043e\\u043c\\u0441\\u0442\\u0432\\u043e \\u0438 \\u043f\\u043e\\u043d\\u0438\\u043c\\u0430\\u043d\\u0438\\u0435 \\u043e\\u0441\\u043d\\u043e\\u0432\\u043d\\u044b\\u0445<br>\\u043f\\u0440\\u0438\\u043d\\u0446\\u0438\\u043f\\u043e\\u0432 \\u0441\\u043e\\u0432\\u0440\\u0435\\u043c\\u0435\\u043d\\u043d\\u044b\\u0445 SOTA \\u043c\\u043e\\u0434\\u0435\\u043b\\u0435\\u0439 NLP; \\u0412\\u043b\\u0430\\u0434\\u0435\\u043d\\u0438\\u0435:<br>git, docker, sql \\u0438 \\u043e\\u0434\\u043d\\u0438\\u043c \\u0438\\u0437 \\u0444\\u0440\\u0435\\u0439\\u043c\\u0432\\u043e\\u0440\\u043a\\u043e\\u0432 \\u0434\\u043b\\u044f<br>\\u0440\\u0435\\u0430\\u043b\\u0438\\u0437\\u0430\\u0446\\u0438\\u0438 api.  \\u0411\\u0443\\u0434\\u0435\\u0442 \\u043f\\u043b\\u044e\\u0441\\u043e\\u043c:  \\u0423\\u0447\\u0430\\u0441\\u0442\\u0438\\u0435 \\u0432<br>\\u0441\\u043e\\u0440\\u0435\\u0432\\u043d\\u043e\\u0432\\u0430\\u043d\\u0438\\u044f\\u0445 \\u043f\\u043e ML/DL; \\u041f\\u0440\\u0430\\u043a\\u0442\\u0438\\u0447\\u0435\\u0441\\u043a\\u0438\\u0439 \\u043e\\u043f\\u044b\\u0442 \\u0434\\u043e<br>\\u043e\\u0431\\u0443\\u0447\\u0435\\u043d\\u0438\\u044f \\u0438 \\u0440\\u0430\\u0431\\u043e\\u0442\\u044b \\u0441 open source LLM; \\u041f\\u0443\\u0431\\u043b\\u0438\\u043a\\u0430\\u0446\\u0438\\u0438 \\u043f\\u043e<br>NLP; \\u0421\\u043e\\u0431\\u0441\\u0442\\u0432\\u0435\\u043d\\u043d\\u044b\\u0435 \\u043f\\u0440\\u043e\\u0435\\u043a\\u0442\\u044b \\u043f\\u043e NLP\"], [280000, 180000, \"\\u041c\\u0430\\u0442\\u0435\\u043c\\u0430\\u0442\\u0438\\u0447\\u0435\\u0441\\u043a\\u043e\\u0435 \\u043c\\u043e\\u0434\\u0435\\u043b\\u0438\\u0440\\u043e\\u0432\\u0430\\u043d\\u0438\\u0435, \\u0410\\u043d\\u0430\\u043b\\u0438\\u0437 \\u0434\\u0430\\u043d\\u043d\\u044b\\u0445,<br>\\u0421\\u0442\\u0430\\u0442\\u0438\\u0441\\u0442\\u0438\\u0447\\u0435\\u0441\\u043a\\u0438\\u0439 \\u0430\\u043d\\u0430\\u043b\\u0438\\u0437, \\u0412\\u0430\\u043b\\u0438\\u0434\\u0430\\u0446\\u0438\\u044f \\u043c\\u043e\\u0434\\u0435\\u043b\\u0435\\u0439,<br>\\u041c\\u043e\\u0434\\u0435\\u043b\\u044c\\u043d\\u044b\\u0439 \\u0440\\u0438\\u0441\\u043a, SQL, Python\"], [160000, 150000, \"\\u041a\\u043e\\u043c\\u043c\\u0435\\u0440\\u0446\\u0438\\u044f\"], [200000, 150000, \"\\u0417\\u043d\\u0430\\u043d\\u0438\\u0435 \\u043a\\u043b\\u0430\\u0441\\u0441\\u0438\\u0447\\u0435\\u0441\\u043a\\u043e\\u0433\\u043e ML, DL; \\u041e\\u043f\\u044b\\u0442 \\u0440\\u0430\\u0431\\u043e\\u0442\\u044b \\u0441 Python,<br>PyTorch, Pandas, Numpy; \\u041d\\u0430\\u0432\\u044b\\u043a\\u0438 \\u0440\\u0430\\u0431\\u043e\\u0442\\u044b \\u0441 \\u0431\\u043e\\u043b\\u044c\\u0448\\u0438\\u043c\\u0438<br>\\u043e\\u0431\\u044a\\u0435\\u043c\\u0430\\u043c\\u0438 \\u0434\\u0430\\u043d\\u043d\\u044b\\u0445; \\u041e\\u043f\\u044b\\u0442 \\u0440\\u0430\\u0437\\u0440\\u0430\\u0431\\u043e\\u0442\\u043a\\u0438 ML \\u0440\\u0435\\u0448\\u0435\\u043d\\u0438\\u0439<br>\\u043f\\u043e\\u043b\\u043d\\u043e\\u0433\\u043e \\u0446\\u0438\\u043a\\u043b\\u0430.\"], [100000, 100000, \"Python, SQL, \\u0410\\u043d\\u0430\\u043b\\u0438\\u0437 \\u0434\\u0430\\u043d\\u043d\\u044b\\u0445, Pandas, ML\"], [290000, 280000, \"Python, Spark, Oracle, Airflow, Superset, Docker\"], [370000, 270000, \"Python, SQL, Pandas, sklearn, PyTorch, PySpark\"], [240000, 210000, \"Python, PySpark, ML, NLP, A/B \\u0442\\u0435\\u0441\\u0442\\u0438\\u0440\\u043e\\u0432\\u0430\\u043d\\u0438\\u0435\"], [200000, 100000, \"Python, Machine Learning, \\u0410\\u043d\\u0430\\u043b\\u0438\\u0437 \\u0434\\u0430\\u043d\\u043d\\u044b\\u0445,<br>\\u041c\\u0430\\u0442\\u0435\\u043c\\u0430\\u0442\\u0438\\u0447\\u0435\\u0441\\u043a\\u0430\\u044f \\u0441\\u0442\\u0430\\u0442\\u0438\\u0441\\u0442\\u0438\\u043a\\u0430, Pandas, Numpy, Hadoop\"], [230000, 180000, \"NLP, LLM, Python, PyTorch, Seq2Seq, BERT, T5\"], [330000, 280000, \"Python, SQL, Pandas, Git, OCR, CV\"], [150000, 100000, \"\\u0417\\u043d\\u0430\\u043d\\u0438\\u0435 SQL \\u043d\\u0430 \\u043f\\u0440\\u043e\\u0434\\u0432\\u0438\\u043d\\u0443\\u0442\\u043e\\u043c \\u0443\\u0440\\u043e\\u0432\\u043d\\u0435 (\\u0430\\u043d\\u0430\\u043b\\u0438\\u0442\\u0438\\u0447\\u0435\\u0441\\u043a\\u0438\\u0435<br>\\u0444\\u0443\\u043d\\u043a\\u0446\\u0438\\u0438, \\u043f\\u043e\\u0434\\u0437\\u0430\\u043f\\u0440\\u043e\\u0441\\u044b, \\u0445\\u0440\\u0430\\u043d\\u0438\\u043c\\u044b\\u0435 \\u043f\\u0440\\u043e\\u0446\\u0435\\u0434\\u0443\\u0440\\u044b,<br>\\u043e\\u043f\\u0442\\u0438\\u043c\\u0438\\u0437\\u0430\\u0446\\u0438\\u044f \\u0437\\u0430\\u043f\\u0440\\u043e\\u0441\\u043e\\u0432); \\u041e\\u0442\\u043b\\u0438\\u0447\\u043d\\u043e\\u0435 \\u0437\\u043d\\u0430\\u043d\\u0438\\u0435<br>Python/Scala \\u0438 \\u0431\\u0438\\u0431\\u043b\\u0438\\u043e\\u0442\\u0435\\u043a\\u0438 pySpark; \\u0417\\u043d\\u0430\\u043d\\u0438\\u0435 \\u043e\\u0441\\u043d\\u043e\\u0432\\u043d\\u044b\\u0445<br>\\u043f\\u043e\\u043d\\u044f\\u0442\\u0438\\u0439 \\u0438 \\u043a\\u043e\\u043d\\u0446\\u0435\\u043f\\u0446\\u0438\\u0439 Data Warehousing \\u0438 Big Data;<br>\\u041e\\u043f\\u044b\\u0442 \\u0440\\u0430\\u0437\\u0440\\u0430\\u0431\\u043e\\u0442\\u043a\\u0438 ETL-\\u043f\\u0440\\u043e\\u0446\\u0435\\u0441\\u0441\\u043e\\u0432; \\u041e\\u043f\\u044b\\u0442 \\u0440\\u0430\\u0431\\u043e\\u0442\\u044b \\u0441<br>\\u0431\\u043e\\u043b\\u044c\\u0448\\u0438\\u043c\\u0438 \\u043e\\u0431\\u044a\\u0435\\u043c\\u0430\\u043c\\u0438 \\u0434\\u0430\\u043d\\u043d\\u044b\\u0445, \\u043f\\u043e\\u0441\\u0442\\u0440\\u043e\\u0435\\u043d\\u0438\\u044f \\u0445\\u0440\\u0430\\u043d\\u0438\\u043b\\u0438\\u0449 \\u0438<br>\\u0432\\u0438\\u0442\\u0440\\u0438\\u043d \\u0434\\u0430\\u043d\\u043d\\u044b\\u0445; \\u041e\\u043f\\u044b\\u0442 \\u0440\\u0430\\u0431\\u043e\\u0442\\u044b \\u0441\\u043e \\u0441\\u0442\\u0435\\u043a\\u043e\\u043c \\u0442\\u0435\\u0445\\u043d\\u043e\\u043b\\u043e\\u0433\\u0438\\u0439<br>Big Data (Hadoop, Spark, Hive/Impala, Kafka)\"], [160000, 130000, \"Python, numpy, pytorch, hadoop, PySpark, SQL\"], [210000, 180000, \"PyTorch, ML, Machine Learning, \\u041b\\u0438\\u043d\\u0435\\u0439\\u043d\\u0430\\u044f \\u0430\\u043b\\u0433\\u0435\\u0431\\u0440\\u0430,<br>Python, \\u0431\\u0430\\u0437\\u043e\\u0432\\u0430\\u044f \\u0441\\u0442\\u0430\\u0442\\u0438\\u0441\\u0442\\u0438\\u043a\\u0430, \\u041d\\u0430\\u043f\\u0438\\u0441\\u0430\\u043d\\u0438\\u0435 \\u043d\\u0430\\u0443\\u0447\\u043d\\u044b\\u0445<br>\\u0441\\u0442\\u0430\\u0442\\u0435\\u0439\"], [370000, 270000, \"Python, SQL\"], [240000, 210000, \"Python, NLP, machine learning, Linux, Docker, Data<br>science, Deep learning, MLFlow, \\u0418\\u0437\\u0432\\u043b\\u0435\\u0447\\u0435\\u043d\\u0438\\u0435<br>\\u0441\\u0443\\u0449\\u043d\\u043e\\u0441\\u0442\\u0435\\u0439, \\u041f\\u043e\\u0438\\u0441\\u043a\\u043e\\u0432\\u044b\\u0435 \\u0430\\u043b\\u0433\\u043e\\u0440\\u0438\\u0442\\u043c\\u044b, Git\"], [230000, 130000, \"MS SQL, PostgreSQL, API, \\u0411\\u0430\\u0437\\u044b \\u0434\\u0430\\u043d\\u043d\\u044b\\u0445, \\u0422\\u0435\\u0445\\u043d\\u0438\\u0447\\u0435\\u0441\\u043a\\u0430\\u044f<br>\\u043f\\u043e\\u0434\\u0434\\u0435\\u0440\\u0436\\u043a\\u0430\"], [190000, 120000, \"Python, Numpy, pandas, sklearn, SQL, ML\"], [280000, 210000, \"Python, SQL, ML, Science, RecSys, PostgreSQL,<br>\\u0410\\u043d\\u0430\\u043b\\u0438\\u0437 \\u0434\\u0430\\u043d\\u043d\\u044b\\u0445, Machine Learning, Data Science\"], [230000, 200000, \"Python, SQL, API\"], [370000, 300000, \"Python, SQL, API\"], [320000, 300000, \"\\u0410\\u043d\\u0430\\u043b\\u0438\\u0437 \\u0434\\u0430\\u043d\\u043d\\u044b\\u0445, \\u0423\\u043c\\u0435\\u043d\\u0438\\u0435 \\u0440\\u0430\\u0431\\u043e\\u0442\\u0430\\u0442\\u044c \\u0432 \\u043a\\u043e\\u043b\\u043b\\u0435\\u043a\\u0442\\u0438\\u0432\\u0435,<br>Python, SQL, MS Excel, Linux\"], [200000, 100000, \"\\u0423\\u0432\\u0435\\u0440\\u0435\\u043d\\u043d\\u043e\\u0435 \\u0432\\u043b\\u0430\\u0434\\u0435\\u043d\\u0438\\u0435 Python; \\u041f\\u043e\\u043d\\u0438\\u043c\\u0430\\u043d\\u0438\\u0435 \\u043f\\u0440\\u0438\\u043d\\u0446\\u0438\\u043f\\u0430<br>\\u0440\\u0430\\u0431\\u043e\\u0442\\u044b \\u0438 \\u043f\\u043e\\u0441\\u0442\\u0440\\u043e\\u0435\\u043d\\u0438\\u044f \\u0431\\u0430\\u0437\\u043e\\u0432\\u044b\\u0445 \\u0430\\u043b\\u0433\\u043e\\u0440\\u0438\\u0442\\u043c\\u043e\\u0432 ML\\\\DL<br>(\\u043a\\u043b\\u0430\\u0441\\u0441\\u0438\\u0447\\u0435\\u0441\\u043a\\u0438\\u0439 ML, CNN, RNN, Transformer, RL,<br>RecSys, LLM)\"], [300000, 270000, \"NCL, NPV, RBP, Python, SQL\"], [230000, 200000, \"Python, \\u041c\\u0430\\u0442\\u0435\\u043c\\u0430\\u0442\\u0438\\u0447\\u0435\\u0441\\u043a\\u043e\\u0435 \\u043c\\u043e\\u0434\\u0435\\u043b\\u0438\\u0440\\u043e\\u0432\\u0430\\u043d\\u0438\\u0435,<br>\\u041c\\u0430\\u0442\\u0435\\u043c\\u0430\\u0442\\u0438\\u0447\\u0435\\u0441\\u043a\\u0430\\u044f \\u0441\\u0442\\u0430\\u0442\\u0438\\u0441\\u0442\\u0438\\u043a\\u0430, SQL, Machine Learning,<br>\\u041c\\u0430\\u0448\\u0438\\u043d\\u043d\\u043e\\u0435 \\u043e\\u0431\\u0443\\u0447\\u0435\\u043d\\u0438\\u0435, Data Mining\"], [320000, 300000, \"\\u0423\\u0432\\u0435\\u0440\\u0435\\u043d\\u043d\\u043e\\u0435 \\u0432\\u043b\\u0430\\u0434\\u0435\\u043d\\u0438\\u0435 R \\u0438\\u043b\\u0438 Python<br>(pandas/numpy/sklearn)\"], [130000, 120000, \"SQL, Python\"], [210000, 180000, \"Python, ClickHouse, SQL, Airflow\"], [230000, 180000, \"\\u0437\\u043d\\u0430\\u043d\\u0438\\u0435 \\u043c\\u0430\\u0442\\u0435\\u043c\\u0430\\u0442\\u0438\\u0447\\u0435\\u0441\\u043a\\u043e\\u0439 \\u0441\\u0442\\u0430\\u0442\\u0438\\u0441\\u0442\\u0438\\u043a\\u0438; Python (pandas,<br>sklearn, xgboost, lightgbm, matplotlib etc.);<br>\\u041e\\u0442\\u043b\\u0438\\u0447\\u043d\\u043e\\u0435 \\u0437\\u043d\\u0430\\u043d\\u0438\\u0435 SQL; \\u0412\\u043b\\u0430\\u0434\\u0435\\u043d\\u0438\\u0435 \\u0438\\u043d\\u0441\\u0442\\u0440\\u0443\\u043c\\u0435\\u043d\\u0442\\u0430\\u043c\\u0438 \\u0438\\u0437<br>\\u0441\\u0442\\u0435\\u043a\\u0430 Hadoop (Hive, Spark); \\u041e\\u043f\\u044b\\u0442 \\u0440\\u0430\\u0431\\u043e\\u0442\\u044b \\u0441 Git,<br>Confluence\"], [150000, 100000, \"Hadoop, SQL\"], [220000, 150000, \"Python, SQL, Big Data, Machine Learning, ML\"], [230000, 180000, \"DAMA DMBOK\"], [210000, 180000, \"PostgreSQL, ClickHouse, PowerBI, Python, A/B \\u0442\\u0435\\u0441\\u0442\\u044b\"], [190000, 120000, \"Python, SQL\"], [350000, 300000, \"Spark, Big Data, Hadoop, \\u0411\\u0430\\u0437\\u044b \\u0434\\u0430\\u043d\\u043d\\u044b\\u0445, Python\"], [210000, 180000, \"Python, PyTorch, Transformers, NLP, Kubernetes,<br>Kafka, Docker, LLM\"], [250000, 200000, \"Kaldi, PyTorch, TensorFlow, librosa, ffmpeg, soxi\"], [130000, 120000, \"\\u0420\\u0430\\u0431\\u043e\\u0442\\u0430 \\u0441 \\u0431\\u0430\\u0437\\u0430\\u043c\\u0438 \\u0434\\u0430\\u043d\\u043d\\u044b\\u0445, PostgreSQL, Postgre,<br>Kafka, \\u0410\\u043d\\u0433\\u043b\\u0438\\u0439\\u0441\\u043a\\u0438\\u0439 \\u044f\\u0437\\u044b\\u043a, \\u0411\\u0430\\u0437\\u044b \\u0434\\u0430\\u043d\\u043d\\u044b\\u0445, Docker,<br>Linux, ClickHouse, RabbitMQ, Spark, Airflow, MQ,<br>\\u0412\\u044b\\u0433\\u0440\\u0443\\u0437\\u043a\\u0430 \\u0434\\u0430\\u043d\\u043d\\u044b\\u0445 (ETL), ATL, Azure, AWS, Google<br>Cloud\"], [250000, 180000, \"Python, Machine Learning, SQL, \\u0410\\u043d\\u0433\\u043b\\u0438\\u0439\\u0441\\u043a\\u0438\\u0439 \\u044f\\u0437\\u044b\\u043a,<br>\\u0410\\u043d\\u0430\\u043b\\u0438\\u0437 \\u0434\\u0430\\u043d\\u043d\\u044b\\u0445, Linux, \\u041c\\u0430\\u0442\\u0435\\u043c\\u0430\\u0442\\u0438\\u0447\\u0435\\u0441\\u043a\\u0430\\u044f \\u0441\\u0442\\u0430\\u0442\\u0438\\u0441\\u0442\\u0438\\u043a\\u0430,<br>\\u0421\\u0442\\u0430\\u0442\\u0438\\u0441\\u0442\\u0438\\u0447\\u0435\\u0441\\u043a\\u0438\\u0439 \\u0430\\u043d\\u0430\\u043b\\u0438\\u0437, \\u0421\\u0442\\u0430\\u0442\\u0438\\u0441\\u0442\\u0438\\u043a\\u0430,<br>\\u041f\\u0440\\u043e\\u0433\\u043d\\u043e\\u0437\\u0438\\u0440\\u043e\\u0432\\u0430\\u043d\\u0438\\u0435, \\u041c\\u0430\\u0448\\u0438\\u043d\\u043d\\u043e\\u0435 \\u043e\\u0431\\u0443\\u0447\\u0435\\u043d\\u0438\\u0435, Data Science,<br>\\u0410\\u043d\\u0430\\u043b\\u0438\\u0442\\u0438\\u0447\\u0435\\u0441\\u043a\\u0438\\u0435 \\u0438\\u0441\\u0441\\u043b\\u0435\\u0434\\u043e\\u0432\\u0430\\u043d\\u0438\\u044f\"], [220000, 120000, \"Python, Data Science, ML-\\u043c\\u043e\\u0434\\u0435\\u043b\\u0438, Machine Learning,<br>SQL, Docker, Kubernetes, ClickHouse\"], [370000, 270000, \"SQL, Python, \\u041c\\u0430\\u0442\\u0435\\u043c\\u0430\\u0442\\u0438\\u0447\\u0435\\u0441\\u043a\\u0430\\u044f \\u0441\\u0442\\u0430\\u0442\\u0438\\u0441\\u0442\\u0438\\u043a\\u0430, \\u0410\\u043d\\u0430\\u043b\\u0438\\u0437<br>\\u0434\\u0430\\u043d\\u043d\\u044b\\u0445\"], [280000, 210000, \"Python, SAS, SQL\"], [130000, 100000, \"Pytorch, OpenCV, HuggingFace, Torchvision\"], [200000, 150000, \"MicroKernel, UML, ArchiMate, EDA, SOA, DDD, MSA,<br>GoF, GRASP, TOGAF, Kubernetes, OpenShift,<br>RabbitMQ, Apache, Kafka, PostgreSQL, Redis, Hadoop\"], [380000, 280000, \"Big Data, ETL, MS SQL, \\u0411\\u0430\\u0437\\u044b \\u0434\\u0430\\u043d\\u043d\\u044b\\u0445, \\u0410\\u043d\\u0430\\u043b\\u0438\\u0437 \\u0434\\u0430\\u043d\\u043d\\u044b\\u0445\"], [180000, 150000, \"Python, NLP, ML, Pytorch, Cuda, Neural Network,<br>Speech Recognition\"], [310000, 300000, \"Scala / Python Hadoop (hdfs, hive) Apache Spark<br>Airflow\"], [250000, 180000, \"C++, Linux, \\u041c\\u0430\\u0442\\u0435\\u043c\\u0430\\u0442\\u0438\\u0447\\u0435\\u0441\\u043a\\u043e\\u0435 \\u043f\\u0440\\u043e\\u0433\\u0440\\u0430\\u043c\\u043c\\u0438\\u0440\\u043e\\u0432\\u0430\\u043d\\u0438\\u0435, ML,<br>\\u043d\\u0435\\u0439\\u0440\\u043e\\u0441\\u0435\\u0442\\u0438, \\u043e\\u0431\\u043b\\u0430\\u043a\\u043e \\u0442\\u043e\\u0447\\u0435\\u043a, \\u0441\\u0438\\u0441\\u0442\\u0435\\u043c\\u0430 \\u0443\\u043f\\u0440\\u0430\\u0432\\u043b\\u0435\\u043d\\u0438\\u044f, ROS2,<br>Machine Learning\"], [220000, 210000, \"Python, PyTorch, TensorFlow\"], [100000, 80000, \"\\u041d\\u0421\\u0418, MDM, \\u0422\\u041e\\u0438\\u0420, 1\\u0421\"], [150000, 120000, \"LLM, NLP, Python\"], [370000, 270000, \"Python, SQL, API\"], [270000, 200000, \"Python, Big Data, Machine Learning, ML\"], [160000, 150000, \"Data Engineer, Big Data, PostgreSQL, Python, ETL,<br>Data lake, \\u0425\\u0440\\u0430\\u043d\\u0438\\u043b\\u0438\\u0449\\u0435 \\u0434\\u0430\\u043d\\u043d\\u044b\\u0445, \\u0432\\u0438\\u0442\\u0440\\u0438\\u043d\\u044b \\u0434\\u0430\\u043d\\u043d\\u044b\\u0445, NiFi\"], [150000, 120000, \"\\u041a\\u043b\\u0430\\u0441\\u0442\\u0435\\u0440\\u043d\\u044b\\u0439 \\u0430\\u043d\\u0430\\u043b\\u0438\\u0437, SQL, \\u0410\\u043d\\u0430\\u043b\\u0438\\u0437 \\u0434\\u0430\\u043d\\u043d\\u044b\\u0445, Python, MS<br>SQL, Data Analysis, \\u0411\\u0430\\u0437\\u044b \\u0434\\u0430\\u043d\\u043d\\u044b\\u0445, \\u0410\\u043d\\u0430\\u043b\\u0438\\u0442\\u0438\\u043a\\u0430,<br>\\u041c\\u0430\\u0442\\u0435\\u043c\\u0430\\u0442\\u0438\\u0447\\u0435\\u0441\\u043a\\u0430\\u044f \\u0441\\u0442\\u0430\\u0442\\u0438\\u0441\\u0442\\u0438\\u043a\\u0430, \\u0410\\u043d\\u0430\\u043b\\u0438\\u0442\\u0438\\u0447\\u0435\\u0441\\u043a\\u043e\\u0435 \\u043c\\u044b\\u0448\\u043b\\u0435\\u043d\\u0438\\u0435\"], [130000, 100000, \"Python, Machine Learning, Pandas, SQL, Numpy, Big<br>Data, NLP, Sas\"], [210000, 180000, \"NumPy, Pandas, OpenCV, Sklearn, Matplotlib\"], [350000, 300000, \"SQL, MS SQL, Big Data, Python, Spark, Hadoop,<br>Machine Learning, \\u041c\\u0430\\u0442\\u0435\\u043c\\u0430\\u0442\\u0438\\u0447\\u0435\\u0441\\u043a\\u0430\\u044f \\u0441\\u0442\\u0430\\u0442\\u0438\\u0441\\u0442\\u0438\\u043a\\u0430,<br>\\u0410\\u043d\\u0430\\u043b\\u0438\\u0442\\u0438\\u0447\\u0435\\u0441\\u043a\\u0438\\u0435 \\u0438\\u0441\\u0441\\u043b\\u0435\\u0434\\u043e\\u0432\\u0430\\u043d\\u0438\\u044f, \\u0420\\u0430\\u0431\\u043e\\u0442\\u0430 \\u0441 \\u0431\\u0430\\u0437\\u0430\\u043c\\u0438<br>\\u0434\\u0430\\u043d\\u043d\\u044b\\u0445, \\u0421\\u0442\\u0430\\u0442\\u0438\\u0441\\u0442\\u0438\\u0447\\u0435\\u0441\\u043a\\u0438\\u0439 \\u0430\\u043d\\u0430\\u043b\\u0438\\u0437, \\u0410\\u043d\\u0430\\u043b\\u0438\\u0442\\u0438\\u0447\\u0435\\u0441\\u043a\\u043e\\u0435<br>\\u043c\\u044b\\u0448\\u043b\\u0435\\u043d\\u0438\\u0435, \\u041c\\u0430\\u0442\\u0435\\u043c\\u0430\\u0442\\u0438\\u0447\\u0435\\u0441\\u043a\\u0438\\u0439 \\u0430\\u043d\\u0430\\u043b\\u0438\\u0437\"], [230000, 130000, \"\\u0420\\u0430\\u0437\\u0440\\u0430\\u0431\\u043e\\u0442\\u043a\\u0438 \\u043d\\u0430 Python3 \\u043e\\u0442 1 \\u0433\\u043e\\u0434\\u0430; \\u0413\\u043b\\u0443\\u0431\\u043e\\u043a\\u0438\\u0435 \\u0437\\u043d\\u0430\\u043d\\u0438\\u044f \\u0438<br>\\u043e\\u043f\\u044b\\u0442 \\u0440\\u0430\\u0431\\u043e\\u0442\\u044b \\u0441 PyTorch; \\u041e\\u043f\\u044b\\u0442 \\u0440\\u0430\\u0431\\u043e\\u0442\\u044b \\u0441 \\u043c\\u0435\\u0434\\u0438\\u0446\\u0438\\u043d\\u0441\\u043a\\u0438\\u043c\\u0438<br>\\u0438\\u0437\\u043e\\u0431\\u0440\\u0430\\u0436\\u0435\\u043d\\u0438\\u044f\\u043c\\u0438 \\u0438 \\u043c\\u0435\\u0434\\u0438\\u0446\\u0438\\u043d\\u0441\\u043a\\u0438\\u043c\\u0438 \\u0437\\u0430\\u043a\\u043b\\u044e\\u0447\\u0435\\u043d\\u0438\\u044f\\u043c\\u0438; \\u0417\\u043d\\u0430\\u043d\\u0438\\u0435<br>\\u0441\\u0442\\u0430\\u0442\\u0438\\u0441\\u0442\\u0438\\u043a\\u0438, \\u0430\\u043b\\u0433\\u043e\\u0440\\u0438\\u0442\\u043c\\u043e\\u0432 \\u043c\\u0430\\u0448\\u0438\\u043d\\u043d\\u043e\\u0433\\u043e \\u043e\\u0431\\u0443\\u0447\\u0435\\u043d\\u0438\\u044f \\u0438 \\u0442\\u0435\\u043e\\u0440\\u0438\\u0438<br>\\u043d\\u0435\\u0439\\u0440\\u043e\\u043d\\u043d\\u044b\\u0445 \\u0441\\u0435\\u0442\\u0435\\u0439; \\u041e\\u043f\\u044b\\u0442 \\u0440\\u0430\\u0431\\u043e\\u0442\\u044b \\u0441 Docker \\u0438 Kubernetes\"], [170000, 100000, \"NumPy, Pandas, OpenCV, Sklearn, Matplotlib\"], [170000, 120000, \"SQL, Linux, \\u0420\\u0430\\u0431\\u043e\\u0442\\u0430 \\u0441 \\u0431\\u0430\\u0437\\u0430\\u043c\\u0438 \\u0434\\u0430\\u043d\\u043d\\u044b\\u0445\"], [200000, 130000, \"Python, Hadoop, Spark, ML, DL\"], [310000, 300000, \"NumPy, Pandas, OpenCV, Sklearn, Matplotlib, CI/CD\"], [250000, 150000, \"\\u041f\\u043e\\u043d\\u0438\\u043c\\u0430\\u043d\\u0438\\u0435 \\u0442\\u0438\\u043f\\u043e\\u0432\\u043e\\u0439 \\u0430\\u0440\\u0445\\u0438\\u0442\\u0435\\u043a\\u0442\\u0443\\u0440\\u044b \\u0445\\u0440\\u0430\\u043d\\u0438\\u043b\\u0438\\u0449 \\u0438 \\u043f\\u0440\\u0438\\u043d\\u0446\\u0438\\u043f\\u043e\\u0432<br>\\u0440\\u0430\\u0431\\u043e\\u0442\\u044b \\u0440\\u0435\\u043b\\u044f\\u0446\\u0438\\u043e\\u043d\\u043d\\u044b\\u0445 \\u0431\\u0430\\u0437 \\u0434\\u0430\\u043d\\u043d\\u044b\\u0445; \\u0423\\u0432\\u0435\\u0440\\u0435\\u043d\\u043d\\u043e\\u0435 \\u0432\\u043b\\u0430\\u0434\\u0435\\u043d\\u0438\\u0435<br>\\u043b\\u044e\\u0431\\u044b\\u043c \\u0438\\u0437 \\u0434\\u0438\\u0430\\u043b\\u0435\\u043a\\u0442\\u043e\\u0432 SQL: Microsoft, Postgre,<br>Oracle, \\u0434\\u0440\\u0443\\u0433\\u0438\\u0435; \\u0423\\u043c\\u0435\\u043d\\u0438\\u0435 \\u043f\\u0438\\u0441\\u0430\\u0442\\u044c \\u043f\\u043e\\u0434\\u0434\\u0435\\u0440\\u0436\\u0438\\u0432\\u0430\\u0435\\u043c\\u044b\\u0439 \\u0438<br>\\u043c\\u0430\\u0441\\u0448\\u0442\\u0430\\u0431\\u0438\\u0440\\u0443\\u0435\\u043c\\u044b\\u0439 \\u043a\\u043e\\u0434, \\u043e\\u043f\\u044b\\u0442 \\u0440\\u0430\\u0431\\u043e\\u0442\\u044b \\u0441 Python\"], [350000, 300000, \"MS SQL, PostgreSQL, API, \\u0411\\u0430\\u0437\\u044b \\u0434\\u0430\\u043d\\u043d\\u044b\\u0445, \\u0422\\u0435\\u0445\\u043d\\u0438\\u0447\\u0435\\u0441\\u043a\\u0430\\u044f<br>\\u043f\\u043e\\u0434\\u0434\\u0435\\u0440\\u0436\\u043a\\u0430\"], [240000, 210000, \"Python, SQL\"], [330000, 280000, \"Python, Java, Scala, SQL\"], [170000, 120000, \"Python, Spark, Big Data, Dagster, Kafka, Airflow,<br>C++, \\u0433\\u0435\\u043e\\u0434\\u0430\\u043d\\u043d\\u044b\\u0435, SQL, ETL\"], [250000, 200000, \"Python, OpenCV\"], [180000, 130000, \"ClickHouse, Pyth\\u043en, SQL, AirFlow, Spark, Apache<br>Kafka, Yandex Cloud, Big Data, Kubernetes,<br>FastAPI\\\\Flask API\"], [230000, 210000, \"OpenCV, PyTorch, Gstreamer, Nvidia Triton Server<br>(TRT), OpenVINO, \\u0421++\"], [130000, 120000, \"NumPy, Pandas, OpenCV, Sklearn, Matplotlib, git\"], [320000, 270000, \"\\u041e\\u043f\\u044b\\u0442 \\u0440\\u0430\\u0431\\u043e\\u0442\\u044b \\u0441 DVC, MLFlow, Airflow, Docker;<br>\\u0423\\u0432\\u0435\\u0440\\u0435\\u043d\\u043d\\u043e\\u0435 \\u0437\\u043d\\u0430\\u043d\\u0438\\u0435 PostgreSQL, Redis, Kafka,<br>ClickHouse; \\u041e\\u043f\\u044b\\u0442 \\u0440\\u0430\\u0437\\u0440\\u0430\\u0431\\u043e\\u0442\\u043a\\u0438 REST-\\u0441\\u0435\\u0440\\u0432\\u0438\\u0441\\u043e\\u0432 (FastApi<br>(Flask, Django) + aiohttp); \\u0423\\u043c\\u0435\\u043d\\u0438\\u0435 \\u0440\\u0430\\u0431\\u043e\\u0442\\u0430\\u0442\\u044c \\u0441 git\"], [200000, 180000, \"Python, SQL, ML\"], [110000, 100000, \"Python, ML, Data Science, \\u0410\\u043d\\u0430\\u043b\\u0438\\u0437 \\u0434\\u0430\\u043d\\u043d\\u044b\\u0445\"], [150000, 130000, \"Python, SQL, ML, Science, RecSys, PostgreSQL,<br>\\u0410\\u043d\\u0430\\u043b\\u0438\\u0437 \\u0434\\u0430\\u043d\\u043d\\u044b\\u0445, Machine Learning, Data Science\"], [230000, 180000, \"Python\"], [280000, 180000, \"ClickHouse, Pyth\\u043en, SQL, AirFlow, Spark, Apache<br>Kafka, Yandex Cloud, Big Data, Kubernetes,<br>FastAPI\\\\Flask API, Java\"], [200000, 150000, \"Python, \\u041e\\u041e\\u041f, ML\"], [200000, 130000, \"SQL, ETL, Power BI, Yandex Cloud Platform\"], [290000, 270000, \"SQL, Data Analysis\"], [120000, 100000, \"Apache Kafka, SQL\"], [145000, 45000, \"MS SQL, PostgreSQL, API, \\u0411\\u0430\\u0437\\u044b \\u0434\\u0430\\u043d\\u043d\\u044b\\u0445, \\u0422\\u0435\\u0445\\u043d\\u0438\\u0447\\u0435\\u0441\\u043a\\u0430\\u044f<br>\\u043f\\u043e\\u0434\\u0434\\u0435\\u0440\\u0436\\u043a\\u0430\"], [230000, 210000, \"SQL, Python, ML\"], [300000, 270000, \"Python, SQL, \\u041c\\u0430\\u0442\\u0435\\u043c\\u0430\\u0442\\u0438\\u0447\\u0435\\u0441\\u043a\\u043e\\u0435 \\u043c\\u043e\\u0434\\u0435\\u043b\\u0438\\u0440\\u043e\\u0432\\u0430\\u043d\\u0438\\u0435,<br>\\u041c\\u0430\\u0442\\u0435\\u043c\\u0430\\u0442\\u0438\\u0447\\u0435\\u0441\\u043a\\u0438\\u0439 \\u0430\\u043d\\u0430\\u043b\\u0438\\u0437, R\"], [210000, 180000, \"\\u0426\\u0435\\u043d\\u043e\\u043e\\u0431\\u0440\\u0430\\u0437\\u043e\\u0432\\u0430\\u043d\\u0438\\u0435, Power BI, SQL, \\u041a\\u043b\\u0430\\u0441\\u0442\\u0435\\u0440\\u0438\\u0437\\u0430\\u0446\\u0438\\u044f,<br>\\u0440\\u0435\\u0433\\u0440\\u0435\\u0441\\u0441\\u0438\\u044f, \\u043a\\u043b\\u0430\\u0441\\u0441\\u0438\\u0444\\u0438\\u043a\\u0430\\u0446\\u0438\\u044f, \\u043c\\u0435\\u0442\\u043e\\u0434\\u044b \\u043f\\u0440\\u043e\\u0432\\u0435\\u0440\\u043a\\u0438 \\u0433\\u0438\\u043f\\u043e\\u0442\\u0435\\u0437\"], [280000, 210000, \"SQL, IBM InfoSphere Guardium\"], [110000, 100000, \"Linux, PowerShell, Transact-SQL, Python, \\u0421#, SQL\"], [140000, 100000, \"Python, Java, Rust\"], [220000, 120000, \"SQL, \\u041c\\u0430\\u0442\\u0435\\u043c\\u0430\\u0442\\u0438\\u0447\\u0435\\u0441\\u043a\\u0430\\u044f \\u0441\\u0442\\u0430\\u0442\\u0438\\u0441\\u0442\\u0438\\u043a\\u0430, \\u041c\\u0430\\u0442\\u0435\\u043c\\u0430\\u0442\\u0438\\u0447\\u0435\\u0441\\u043a\\u043e\\u0435<br>\\u043c\\u043e\\u0434\\u0435\\u043b\\u0438\\u0440\\u043e\\u0432\\u0430\\u043d\\u0438\\u0435, \\u0420\\u0430\\u0431\\u043e\\u0442\\u0430 \\u0441 \\u0431\\u0430\\u0437\\u0430\\u043c\\u0438 \\u0434\\u0430\\u043d\\u043d\\u044b\\u0445,<br>\\u041c\\u0430\\u0442\\u0435\\u043c\\u0430\\u0442\\u0438\\u0447\\u0435\\u0441\\u043a\\u0438\\u0439 \\u0430\\u043d\\u0430\\u043b\\u0438\\u0437, \\u0411\\u0438\\u0437\\u043d\\u0435\\u0441-\\u0430\\u043d\\u0430\\u043b\\u0438\\u0437,<br>\\u0421\\u0442\\u0430\\u0442\\u0438\\u0441\\u0442\\u0438\\u0447\\u0435\\u0441\\u043a\\u0438\\u0439 \\u0430\\u043d\\u0430\\u043b\\u0438\\u0437, \\u0410\\u043d\\u0430\\u043b\\u0438\\u0442\\u0438\\u0447\\u0435\\u0441\\u043a\\u043e\\u0435 \\u043c\\u044b\\u0448\\u043b\\u0435\\u043d\\u0438\\u0435, MS<br>SQL, \\u0424\\u0438\\u043d\\u0430\\u043d\\u0441\\u043e\\u0432\\u044b\\u0439 \\u0430\\u043d\\u0430\\u043b\\u0438\\u0437\"], [200000, 150000, \"Python, machine learning, SQL, \\u0411\\u0430\\u0437\\u044b \\u0434\\u0430\\u043d\\u043d\\u044b\\u0445\"], [300000, 150000, \"\\u0423\\u0432\\u0435\\u0440\\u0435\\u043d\\u043d\\u043e\\u0435 \\u0437\\u043d\\u0430\\u043d\\u0438\\u0435 Python (3.8+) \\u043f\\u043e\\u043d\\u0438\\u043c\\u0430\\u043d\\u0438\\u0435, \\u043a\\u0430\\u043a<br>\\u0443\\u0441\\u0442\\u0440\\u043e\\u0435\\u043d\\u044b \\u043e\\u0441\\u043d\\u043e\\u0432\\u043d\\u044b\\u0435 ML \\u0438 DL \\u0430\\u043b\\u0433\\u043e\\u0440\\u0438\\u0442\\u043c\\u044b (\\u043e\\u0442 \\u0440\\u0435\\u0448\\u0430\\u044e\\u0449\\u0438\\u0445<br>\\u0434\\u0435\\u0440\\u0435\\u0432\\u044c\\u0435\\u0432 \\u0434\\u043e \\u0442\\u0440\\u0430\\u043d\\u0441\\u0444\\u043e\\u0440\\u043c\\u0435\\u0440\\u043e\\u0432) \\u0445\\u043e\\u0440\\u043e\\u0448\\u0435\\u0435 \\u0432\\u043b\\u0430\\u0434\\u0435\\u043d\\u0438\\u0435<br>pytorch, torchaudio, docker  \\u043e\\u043f\\u044b\\u0442 \\u0440\\u0430\\u0431\\u043e\\u0442\\u044b \\u0432 ML \\u043e\\u0442<br>1,5 \\u043b\\u0435\\u0442     \\u043e\\u043f\\u044b\\u0442 \\u0440\\u0430\\u0431\\u043e\\u0442\\u0430\\u0442\\u044c \\u0441 \\u0430\\u0443\\u0434\\u0438\\u043e \\u0434\\u0430\\u043d\\u043d\\u044b\\u043c\\u0438   \\u0411\\u0443\\u0434\\u0435\\u0442<br>\\u043f\\u043b\\u044e\\u0441\\u043e\\u043c:  \\u043e\\u043f\\u044b\\u0442 \\u0441\\u043e\\u0437\\u0434\\u0430\\u043d\\u0438\\u044f \\u0441\\u0435\\u0440\\u0432\\u0438\\u0441\\u043e\\u0432 \\u0443\\u043c\\u0435\\u043d\\u0438\\u0435 \\u0432 MLOps\"], [110000, 100000, \"Python, SQL, PyTorch, \\u041c\\u0430\\u0442\\u0435\\u043c\\u0430\\u0442\\u0438\\u0447\\u0435\\u0441\\u043a\\u0430\\u044f \\u0441\\u0442\\u0430\\u0442\\u0438\\u0441\\u0442\\u0438\\u043a\\u0430,<br>Keras\"], [105000, 55000, \"SQL, Sas, \\u0411\\u0430\\u0437\\u044b \\u0434\\u0430\\u043d\\u043d\\u044b\\u0445, \\u0421\\u043a\\u043e\\u0440\\u0438\\u043d\\u0433\\u043e\\u0432\\u0430\\u044f \\u043a\\u0430\\u0440\\u0442\\u0430, \\u0411\\u0430\\u0437\\u0430<br>\\u0434\\u0430\\u043d\\u043d\\u044b\\u0445: Oracle, Python\"]], \"hoverlabel\": {\"namelength\": 0}, \"hovertemplate\": \"<b>%{hovertext}</b><br><br>\\u041e\\u043f\\u044b\\u0442=\\u041e\\u0442 1 \\u0433\\u043e\\u0434\\u0430 \\u0434\\u043e 3 \\u043b\\u0435\\u0442<br>\\u041d\\u0438\\u0436\\u043d\\u044f\\u044f \\u0432\\u0438\\u043b\\u043a\\u0430 \\u0437\\u0430\\u0440\\u043f\\u043b\\u0430\\u0442\\u044b=%{customdata[1]}<br>\\u0412\\u0435\\u0440\\u0445\\u043d\\u044f\\u044f \\u0432\\u0438\\u043b\\u043a\\u0430 \\u0437\\u0430\\u0440\\u043f\\u043b\\u0430\\u0442\\u044b=%{customdata[0]}<br>\\u0422\\u0440\\u0435\\u0431\\u0443\\u0435\\u043c\\u044b\\u0435 \\u043d\\u0430\\u0432\\u044b\\u043a\\u0438=%{customdata[2]}\", \"hovertext\": [\"\\u041d\\u0430\\u0447\\u0438\\u043d\\u0430\\u044e\\u0449\\u0438\\u0439 \\u0441\\u043f\\u0435\\u0446\\u0438\\u0430\\u043b\\u0438\\u0441\\u0442 \\u043f\\u043e \\u0440\\u0430\\u0431\\u043e\\u0442\\u0435 \\u0441 \\u043d\\u0435\\u0439\\u0440\\u043e\\u0441\\u0435\\u0442\\u044f\\u043c\", \"Junior Data Engineer\", \"Data Scientist\", \"Python Developer (Junior)\", \"\\u0421\\u043f\\u0435\\u0446\\u0438\\u0430\\u043b\\u0438\\u0441\\u0442 \\u043f\\u043e \\u0440\\u0430\\u0431\\u043e\\u0442\\u0435 \\u0441 \\u043d\\u0435\\u0439\\u0440\\u043e\\u043d\\u043d\\u044b\\u043c\\u0438 \\u0441\\u0435\\u0442\\u044f\\u043c\\u0438\\\\Promt \\u0438\\u043d\\u0436\\u0435\\u043d\\u0435\\u0440\", \"Junior / Middle ML Engineer (Data Scientist)\", \"ML engineer\", \"Data Scientist (Junior/middle)\", \"Computer Vision Engineer 2/2 (\\u0443\\u0434\\u0430\\u043b\\u0435\\u043d\\u043d\\u043e)\", \"Data Scientist (CV)\", \"Data Scientist\", \"ML-\\u0440\\u0430\\u0437\\u0440\\u0430\\u0431\\u043e\\u0442\\u0447\\u0438\\u043a/Data Scientist\", \"Data Scientist\", \"Data Engineer\", \"Computer vision Data Engineer\", \"Data Analyst\", \"Junior Data Analyst\", \"Data Scientist\", \"Data scientist ML\", \"Data Scientist\", \"\\u041c\\u0430\\u0442\\u0435\\u043c\\u0430\\u0442\\u0438\\u043a-\\u0440\\u0430\\u0437\\u0440\\u0430\\u0431\\u043e\\u0442\\u0447\\u0438\\u043a (Data Scientist), \\u041c\\u0430\\u0440\\u043a\\u0435\\u0442\\u043f\\u043b\\u0435\\u0439\\u0441, \\u0426\\u0435\\u043d\\u044b \\u0438 \\u0430\\u043d\\u0430\\u043b\\u0438\\u0437 \\u043a\\u043e\\u043d\\u043a\\u0443\\u0440\\u0435\\u043d\\u0442\\u043e\\u0432\", \"Data Scientist\", \"\\u0414\\u0430\\u0442\\u0430 \\u0430\\u043d\\u0430\\u043b\\u0438\\u0442\\u0438\\u043a (Data Scientist)\", \"\\u0418\\u043d\\u0436\\u0435\\u043d\\u0435\\u0440 \\u0434\\u0430\\u043d\\u043d\\u044b\\u0445\", \"\\u0414\\u0430\\u0442\\u0430 \\u0421\\u0430\\u0439\\u043d\\u0442\\u0438\\u0441\\u0442\", \"Data Scientist\", \"Data Scientist\", \"\\u042d\\u043a\\u0441\\u043f\\u0435\\u0440\\u0442 \\u043f\\u043e \\u043c\\u043e\\u0434\\u0435\\u043b\\u0438\\u0440\\u043e\\u0432\\u0430\\u043d\\u0438\\u044e \\u0438 \\u0430\\u043d\\u0430\\u043b\\u0438\\u0437\\u0443 \\u0434\\u0430\\u043d\\u043d\\u044b\\u0445 / Data Scientist\", \"Prompt Engineer \\u0432 Startup-\\u0441\\u0442\\u0443\\u0434\\u0438\\u044e (Remote)\", \"Data Scientist\", \"CV / ML \\u0440\\u0430\\u0437\\u0440\\u0430\\u0431\\u043e\\u0442\\u0447\\u0438\\u043a\", \"Data-Scientist (\\u043c\\u0435\\u0436\\u0434\\u0443\\u043d\\u0430\\u0440\\u043e\\u0434\\u043d\\u043e\\u0435 \\u043d\\u0430\\u043f\\u0440\\u0430\\u0432\\u043b\\u0435\\u043d\\u0438\\u0435)\", \"Data Engineer\", \"Data Scientist \\u0423\\u043f\\u0440\\u0430\\u0432\\u043b\\u0435\\u043d\\u0438\\u044f \\u043c\\u043e\\u0434\\u0435\\u043b\\u044c\\u043d\\u044b\\u0445 \\u0440\\u0438\\u0441\\u043a\\u043e\\u0432 \\u0438 \\u0432\\u0430\\u043b\\u0438\\u0434\\u0430\\u0446\\u0438\\u0438\", \"Data Scientist (\\u0441\\u043e\\u043f\\u0440\\u043e\\u0432\\u043e\\u0436\\u0434\\u0435\\u043d\\u0438\\u0435 \\u043f\\u0440\\u043e\\u0446\\u0435\\u0441\\u0441\\u0430 \\u0440\\u0430\\u0437\\u0440\\u0430\\u0431\\u043e\\u0442\\u043a\\u0438 \\u0438 \\u0438\\u0441\\u043f\\u043e\\u043b\\u044c\\u0437\\u043e\\u0432\\u0430\\u043d\\u0438\\u044f \\u043c\\u043e\\u0434\\u0435\\u043b\\u0435\\u0439)\", \"Data Science\", \"Data Scientist\", \"Data Engineer (ETL)\", \"C\\u043f\\u0435\\u0446\\u0438\\u0430\\u043b\\u0438\\u0441\\u0442-\\u0438\\u0441\\u0441\\u043b\\u0435\\u0434\\u043e\\u0432\\u0430\\u0442\\u0435\\u043b\\u044c \\u0432 \\u043e\\u0431\\u043b\\u0430\\u0441\\u0442\\u0438 \\u043e\\u0431\\u0440\\u0430\\u0431\\u043e\\u0442\\u043a\\u0438 \\u0430\\u0443\\u0434\\u0438\\u043e\\u0441\\u0438\\u0433\\u043d\\u0430\\u043b\\u043e\\u0432 \\u0438 \\u0442\\u0435\\u043a\\u0441\\u0442\\u0430\", \"Data Scientist (LLM)\", \"Data engineer\", \"Data Scientist\", \"\\u0414\\u0430\\u0442\\u0430 \\u0430\\u043d\\u0430\\u043b\\u0438\\u0442\\u0438\\u043a (Data Scientist)\", \"\\u0414\\u0430\\u0442\\u0430 \\u0430\\u043d\\u0430\\u043b\\u0438\\u0442\\u0438\\u043a (Data Scientist)\", \"Data Engineer (ETL)\", \"\\u0414\\u0430\\u0442\\u0430 \\u0430\\u043d\\u0430\\u043b\\u0438\\u0442\\u0438\\u043a (Data Scientist)\", \"Data scientist NLP\", \"Data Scientist (\\u043c\\u043e\\u0434\\u0435\\u043b\\u044c\\u043d\\u044b\\u0435 \\u0440\\u0438\\u0441\\u043a\\u0438 \\u0438 \\u0432\\u0430\\u043b\\u0438\\u0434\\u0430\\u0446\\u0438\\u044f)\", \"\\u0414\\u0430\\u0442\\u0430 \\u0430\\u043d\\u0430\\u043b\\u0438\\u0442\\u0438\\u043a (\\u041e\\u0442\\u0434\\u0435\\u043b \\u0430\\u043d\\u0430\\u043b\\u0438\\u0437\\u0430 \\u043a\\u043e\\u043d\\u043a\\u0443\\u0440\\u0435\\u043d\\u0442\\u043e\\u0432)\", \"ML Engineer\", \"Data Scientist\", \"Data scientist (\\u041f\\u0435\\u0440\\u0441\\u043e\\u043d\\u0430\\u043b\\u0438\\u0437\\u0430\\u0446\\u0438\\u044f)\", \"Middle Data Scientist (\\u0440\\u0435\\u043a\\u043e\\u043c\\u0435\\u043d\\u0434\\u0430\\u0442\\u0435\\u043b\\u044c\\u043d\\u044b\\u0435 \\u0441\\u0438\\u0441\\u0442\\u0435\\u043c\\u044b, \\u043a\\u043b\\u0430\\u0441\\u0441\\u0438\\u0444\\u0438\\u043a\\u0430\\u0446\\u0438\\u044f)\", \"Senior Data scientist\", \"Data Scientist / Machine Learning Engineer \\u0432 \\u043a\\u043e\\u043c\\u0430\\u043d\\u0434\\u0443 \\u0440\\u0435\\u043a\\u043e\\u043c\\u0435\\u043d\\u0434\\u0430\\u0446\\u0438\\u0439 \\u0438 \\u043c\\u0430\\u0448\\u0438\\u043d\\u043d\\u043e\\u0433\\u043e \\u043e\\u0431\\u0443\\u0447\\u0435\\u043d\\u0438\\u044f\", \"Data Scientist\", \"Data Scientist\", \"Data Engineer\", \"Data Scientist\", \"Research Engineer DL/ML\", \"Data Scientist (\\u041c\\u043e\\u0434\\u0435\\u043b\\u0438\\u0440\\u043e\\u0432\\u0430\\u043d\\u0438\\u0435 \\u0440\\u0438\\u0441\\u043a\\u043e\\u0432 \\u043a\\u043e\\u0440\\u043f\\u043e\\u0440\\u0430\\u0442\\u0438\\u0432\\u043d\\u043e\\u0433\\u043e \\u043a\\u0440\\u0435\\u0434\\u0438\\u0442\\u043e\\u0432\\u0430\\u043d\\u0438\\u044f)\", \"Data Scientist / ML engineer\", \"\\u0421\\u043f\\u0435\\u0446\\u0438\\u0430\\u043b\\u0438\\u0441\\u0442 \\u0432 \\u0433\\u0440\\u0443\\u043f\\u043f\\u0443 \\u0442\\u0435\\u0445\\u043d\\u0438\\u0447\\u0435\\u0441\\u043a\\u043e\\u0433\\u043e \\u0441\\u043e\\u043f\\u0440\\u043e\\u0432\\u043e\\u0436\\u0434\\u0435\\u043d\\u0438\\u044f\", \"Data Scientist (middle)\", \"ML engineer\", \"Data Scientist (middle)\", \"Data Scientist (middle)\", \"\\u0410\\u043d\\u0430\\u043b\\u0438\\u0442\\u0438\\u043a \\u0434\\u0430\\u043d\\u043d\\u044b\\u0445\", \"Data Scientist\", \"Data Science\", \"\\u042d\\u043a\\u0441\\u043f\\u0435\\u0440\\u0442 \\u0413\\u0440\\u0443\\u043f\\u043f\\u0430 \\u0430\\u043d\\u0430\\u043b\\u0438\\u0442\\u0438\\u043a\\u0438 \\u0438 \\u043c\\u043e\\u0434\\u0435\\u043b\\u0438\\u0440\\u043e\\u0432\\u0430\\u043d\\u0438\\u044f (Data scientist)\", \"Middle Python Developer\", \"Data \\u0438\\u043d\\u0436\\u0435\\u043d\\u0435\\u0440\", \"Analytics Engineer \\u0432 \\u043a\\u043e\\u043c\\u0430\\u043d\\u0434\\u0443 Experimentation platform\", \"Data Scientist (Middle)\", \"Data Engineer\", \"ML-\\u0438\\u043d\\u0436\\u0435\\u043d\\u0435\\u0440\", \"\\u041c\\u0435\\u043d\\u0435\\u0434\\u0436\\u0435\\u0440 \\u043f\\u043e \\u0443\\u043f\\u0440\\u0430\\u0432\\u043b\\u0435\\u043d\\u0438\\u044e \\u0434\\u0430\\u043d\\u043d\\u044b\\u043c\\u0438\", \"Data analyst\", \"Data Scientist\", \"Data Engineer\", \"\\u0410\\u043d\\u0430\\u043b\\u0438\\u0442\\u0438\\u043a \\u0434\\u0430\\u043d\\u043d\\u044b\\u0445 NLP\", \"Data Scientist\", \"Data Engineer (Middle/ Middle +)\", \"Data Scientist (Middle)\", \"Data Scientist \\u041c\\u0438\\u043a\\u0440\\u043e\\u0442\\u0440\\u0430\\u043d\\u0437\\u0438\\u0442\", \"\\u042d\\u043a\\u0441\\u043f\\u0435\\u0440\\u0442 \\u043d\\u0430\\u043f\\u0440\\u0430\\u0432\\u043b\\u0435\\u043d\\u0438\\u044f \\u0430\\u043d\\u0430\\u043b\\u0438\\u0437\\u0430 \\u0434\\u0430\\u043d\\u043d\\u044b\\u0445 \\u0438 \\u043c\\u043e\\u0434\\u0435\\u043b\\u0438\\u0440\\u043e\\u0432\\u0430\\u043d\\u0438\\u044f\", \"\\u0421\\u0442\\u0430\\u0440\\u0448\\u0438\\u0439 \\u0430\\u043d\\u0430\\u043b\\u0438\\u0442\\u0438\\u043a \\u043f\\u043e \\u0432\\u0430\\u043b\\u0438\\u0434\\u0430\\u0446\\u0438\\u0438 \\u043c\\u043e\\u0434\\u0435\\u043b\\u0435\\u0439 \\u0440\\u044b\\u043d\\u043e\\u0447\\u043d\\u043e\\u0433\\u043e \\u0440\\u0438\\u0441\\u043a\\u0430\", \"Data Scientist (CV+NLP)\", \"Architect AI (Remote) / \\u0410\\u0440\\u0445\\u0438\\u0442\\u0435\\u043a\\u0442\\u043e\\u0440 \\u0418\\u0418 (Solution)\", \"Data \\u0438\\u043d\\u0436\\u0435\\u043d\\u0435\\u0440\", \"\\u041f\\u0440\\u043e\\u0433\\u0440\\u0430\\u043c\\u043c\\u0438\\u0441\\u0442 Data Science (\\u0440\\u0430\\u0441\\u043f\\u043e\\u0437\\u043d\\u0430\\u0432\\u0430\\u043d\\u0438\\u0435 \\u0440\\u0435\\u0447\\u0438)\", \"Data Engineer\", \"ML \\u0440\\u0430\\u0437\\u0440\\u0430\\u0431\\u043e\\u0442\\u0447\\u0438\\u043a (\\u043e\\u0442\\u0434\\u0435\\u043b \\u0442\\u0435\\u0445\\u043d\\u0438\\u0447\\u0435\\u0441\\u043a\\u043e\\u0433\\u043e \\u0437\\u0440\\u0435\\u043d\\u0438\\u044f)\", \"ML \\u0438\\u043d\\u0436\\u0435\\u043d\\u0435\\u0440 / Data scientist\", \"\\u0421\\u043f\\u0435\\u0446\\u0438\\u0430\\u043b\\u0438\\u0441\\u0442 \\u043f\\u043e \\u0432\\u0435\\u0434\\u0435\\u043d\\u0438\\u044e \\u0434\\u0430\\u043d\\u043d\\u044b\\u0445 \\u0422\\u041e\\u0438\\u0420\", \"Machine Learning Engineer \\u0432 Knowledge Base capitalization\", \"Data Scientist (middle)\", \"\\u0421\\u0442\\u0430\\u0440\\u0448\\u0438\\u0439 Data Scientist \\u0432 \\u043a\\u043e\\u043c\\u0430\\u043d\\u0434\\u0443 \\u043f\\u043e\\u0438\\u0441\\u043a\\u043e\\u0432\\u043e\\u0433\\u043e \\u0440\\u0430\\u043d\\u0436\\u0438\\u0440\\u043e\\u0432\\u0430\\u043d\\u0438\\u044f\", \"Data Engineer\", \"Data scientist\", \"Data Scientist (Middle)\", \"Middle Computer Vision Engineer\", \"Senior Data Scientist\", \"Reinforcement learning in multi-modal medical imaging specialist (Junior)\", \"Middle Computer Vision Engineer\", \"\\u0410\\u0434\\u043c\\u0438\\u043d\\u0438\\u0441\\u0442\\u0440\\u0430\\u0442\\u043e\\u0440 \\u0431\\u0430\\u0437 \\u0434\\u0430\\u043d\\u043d\\u044b\\u0445\", \"Middle \\\\ Senior Data scientist (\\u043a\\u043e\\u043c\\u0430\\u043d\\u0434\\u044b CRM \\u0438 \\u043c\\u043e\\u0434\\u0435\\u043b\\u0438 \\u043e\\u043f\\u0442\\u0438\\u043c\\u0438\\u0437\\u0430\\u0446\\u0438\\u0438)\", \"Middle Computer Vision Engineer\", \"Data Engineer (PostgreSQL, Greenplum)\", \"\\u0421\\u043f\\u0435\\u0446\\u0438\\u0430\\u043b\\u0438\\u0441\\u0442 \\u0432 \\u0433\\u0440\\u0443\\u043f\\u043f\\u0443 \\u0442\\u0435\\u0445\\u043d\\u0438\\u0447\\u0435\\u0441\\u043a\\u043e\\u0433\\u043e \\u0441\\u043e\\u043f\\u0440\\u043e\\u0432\\u043e\\u0436\\u0434\\u0435\\u043d\\u0438\\u044f\", \"Data Engineer (middle)\", \"Data Engineer\", \"Data Engineer \\u0423\\u043f\\u0440\\u0430\\u0432\\u043b\\u0435\\u043d\\u0438\\u044f \\u0440\\u0430\\u0437\\u0440\\u0430\\u0431\\u043e\\u0442\\u043a\\u0438 \\u043f\\u0440\\u043e\\u0434\\u0443\\u043a\\u0442\\u0430 \\u043f\\u0440\\u043e\\u0433\\u0440\\u0430\\u043c\\u043c\\u043d\\u043e\\u0433\\u043e \\u043e\\u0431\\u0435\\u0441\\u043f\\u0435\\u0447\\u0435\\u043d\\u0438\\u044f \\u0430\\u0432\\u0442\\u043e\\u043d\\u043e\\u043c\\u043d\\u043e\\u0433\\u043e \\u0432\\u043e\\u0436\\u0434\\u0435\\u043d\\u0438\\u044f\", \"Computer Vision (CV, Python, C++) \\u0438\\u043d\\u0436\\u0435\\u043d\\u0435\\u0440\", \"Data engineer\", \"Computer Vision Engineer C/C++\", \"Middle Computer Vision Engineer\", \"Machine Learning / Machine Learning Ops Engineer\", \"Data Analytics Team Lead\", \"Data Scientist (\\u043c\\u043e\\u0434\\u0435\\u043b\\u0438 PD/LGD/EAD)\", \"ML engineer\", \"\\u0420\\u0443\\u043a\\u043e\\u0432\\u043e\\u0434\\u0438\\u0442\\u0435\\u043b\\u044c \\u0443\\u043f\\u0440\\u0430\\u0432\\u043b\\u0435\\u043d\\u0438\\u044f \\u043c\\u043e\\u0434\\u0435\\u043b\\u0438\\u0440\\u043e\\u0432\\u0430\\u043d\\u0438\\u044f \\u043f\\u043e \\u0430\\u0432\\u0442\\u043e\\u0441\\u0442\\u0440\\u0430\\u0445\\u043e\\u0432\\u0430\\u043d\\u0438\\u044e\", \"Senior Data Engineer\", \"Data scientist Middle\\\\Senior (\\u043a\\u0440\\u0435\\u0434\\u0438\\u0442\\u043d\\u044b\\u0439 \\u0441\\u043a\\u043e\\u0440\\u0438\\u043d\\u0433)\", \"Data Scientist (middle)\", \"Data Analyst \\u0432 \\u043a\\u043e\\u043c\\u0430\\u043d\\u0434\\u0443 DS\", \"Data Engineer\", \"\\u0421\\u043f\\u0435\\u0446\\u0438\\u0430\\u043b\\u0438\\u0441\\u0442 \\u0432 \\u0433\\u0440\\u0443\\u043f\\u043f\\u0443 \\u0442\\u0435\\u0445\\u043d\\u0438\\u0447\\u0435\\u0441\\u043a\\u043e\\u0433\\u043e \\u0441\\u043e\\u043f\\u0440\\u043e\\u0432\\u043e\\u0436\\u0434\\u0435\\u043d\\u0438\\u044f\", \"\\u042d\\u043a\\u0441\\u043f\\u0435\\u0440\\u0442 \\u043f\\u043e \\u0440\\u0430\\u0437\\u0440\\u0430\\u0431\\u043e\\u0442\\u043a\\u0435 \\u043c\\u043e\\u0434\\u0435\\u043b\\u0435\\u0439 (\\u043c\\u043e\\u0434\\u0435\\u043b\\u0438 PD/LGD/EAD)\", \"Middle \\\\ Senior Data Scientist \\u0432 \\u043a\\u043e\\u043c\\u0430\\u043d\\u0434\\u0443 \\u043c\\u043e\\u0434\\u0435\\u043b\\u0438\\u0440\\u043e\\u0432\\u0430\\u043d\\u0438\\u044f \\u0440\\u043e\\u0437\\u043d\\u0438\\u0447\\u043d\\u043e\\u0433\\u043e \\u0431\\u0438\\u0437\\u043d\\u0435\\u0441\\u0430\", \"\\u042d\\u043a\\u0441\\u043f\\u0435\\u0440\\u0442 \\u0446\\u0438\\u0444\\u0440\\u043e\\u0432\\u043e\\u0439 \\u043f\\u0440\\u043e\\u0434\\u0443\\u043a\\u0442\\u043e\\u0432\\u043e\\u0439 \\u0432\\u0438\\u0442\\u0440\\u0438\\u043d\\u044b\", \"\\u0410\\u0434\\u043c\\u0438\\u043d\\u0438\\u0441\\u0442\\u0440\\u0430\\u0442\\u043e\\u0440 \\u0434\\u0430\\u043d\\u043d\\u044b\\u0445\", \"Data Engineer\", \"Data Engineer (Middle)\", \"\\u0411\\u0438\\u0437\\u043d\\u0435\\u0441-\\u0430\\u043d\\u0430\\u043b\\u0438\\u0442\\u0438\\u043a\", \"\\u0412\\u0435\\u0434\\u0443\\u0449\\u0438\\u0439 \\u0441\\u043f\\u0435\\u0446\\u0438\\u0430\\u043b\\u0438\\u0441\\u0442 DATA SCIENCE\", \"Middle MLE/DS c NLP \\u043d\\u0430\\u043f\\u0440\\u0430\\u0432\\u043b\\u0435\\u043d\\u043d\\u043e\\u0441\\u0442\\u044c\\u044e\", \"Data Scientist (CoreML + RecSys)\", \"\\u0412\\u0435\\u0434\\u0443\\u0449\\u0438\\u0439 \\u0441\\u043f\\u0435\\u0446\\u0438\\u0430\\u043b\\u0438\\u0441\\u0442 \\u043f\\u043e \\u0440\\u0430\\u0437\\u0440\\u0430\\u0431\\u043e\\u0442\\u043a\\u0435 \\u0441\\u043a\\u043e\\u0440\\u0438\\u043d\\u0433\\u043e\\u0432\\u044b\\u0445 \\u043a\\u0430\\u0440\\u0442\"], \"legendgroup\": \"\\u041e\\u043f\\u044b\\u0442=\\u041e\\u0442 1 \\u0433\\u043e\\u0434\\u0430 \\u0434\\u043e 3 \\u043b\\u0435\\u0442\", \"marker\": {\"color\": \"#EF553B\", \"size\": 10, \"symbol\": \"circle\"}, \"mode\": \"markers\", \"name\": \"\\u041e\\u043f\\u044b\\u0442=\\u041e\\u0442 1 \\u0433\\u043e\\u0434\\u0430 \\u0434\\u043e 3 \\u043b\\u0435\\u0442\", \"showlegend\": true, \"type\": \"scatter\", \"x\": [55000, 150000, 180000, 60000, 280000, 170000, 200000, 180000, 200000, 130000, 70000, 300000, 200000, 200000, 120000, 180000, 180000, 270000, 70000, 210000, 120000, 300000, 55000, 180000, 180000, 150000, 200000, 300000, 200000, 200000, 150000, 150000, 130000, 270000, 130000, 270000, 270000, 150000, 130000, 200000, 100000, 55000, 130000, 150000, 280000, 100000, 100000, 180000, 150000, 150000, 100000, 280000, 270000, 210000, 100000, 180000, 280000, 100000, 130000, 180000, 270000, 210000, 130000, 120000, 210000, 200000, 300000, 300000, 100000, 270000, 200000, 300000, 120000, 180000, 180000, 100000, 150000, 180000, 180000, 120000, 300000, 180000, 200000, 120000, 180000, 120000, 270000, 210000, 100000, 150000, 280000, 150000, 300000, 180000, 210000, 80000, 120000, 270000, 200000, 150000, 120000, 100000, 180000, 300000, 130000, 100000, 120000, 130000, 300000, 150000, 300000, 210000, 280000, 120000, 200000, 130000, 210000, 120000, 270000, 180000, 100000, 130000, 180000, 180000, 150000, 130000, 270000, 100000, 45000, 210000, 270000, 180000, 210000, 100000, 100000, 120000, 150000, 150000, 100000, 55000], \"xaxis\": \"x\", \"y\": [60000, 200000, 200000, 110000, 330000, 180000, 250000, 200000, 250000, 140000, 100000, 350000, 250000, 220000, 170000, 230000, 230000, 300000, 100000, 240000, 170000, 320000, 90000, 230000, 190000, 250000, 250000, 310000, 400000, 250000, 200000, 180000, 160000, 320000, 150000, 340000, 300000, 200000, 160000, 300000, 150000, 105000, 200000, 170000, 330000, 130000, 170000, 280000, 160000, 200000, 100000, 290000, 370000, 240000, 200000, 230000, 330000, 150000, 160000, 210000, 370000, 240000, 230000, 190000, 280000, 230000, 370000, 320000, 200000, 300000, 230000, 320000, 130000, 210000, 230000, 150000, 220000, 230000, 210000, 190000, 350000, 210000, 250000, 130000, 250000, 220000, 370000, 280000, 130000, 200000, 380000, 180000, 310000, 250000, 220000, 100000, 150000, 370000, 270000, 160000, 150000, 130000, 210000, 350000, 230000, 170000, 170000, 200000, 310000, 250000, 350000, 240000, 330000, 170000, 250000, 180000, 230000, 130000, 320000, 200000, 110000, 150000, 230000, 280000, 200000, 200000, 290000, 120000, 145000, 230000, 300000, 210000, 280000, 110000, 140000, 220000, 200000, 300000, 110000, 105000], \"yaxis\": \"y\"}, {\"customdata\": [[400000, 200000, \"Python, NLP, Artificial intelligence,<br>\\u0418\\u0441\\u043a\\u0443\\u0441\\u0441\\u0442\\u0432\\u0435\\u043d\\u043d\\u044b\\u0439 \\u0438\\u043d\\u0442\\u0435\\u043b\\u043b\\u0435\\u043a\\u0442, Machine Learning,<br>\\u041c\\u0430\\u0448\\u0438\\u043d\\u043d\\u043e\\u0435 \\u043e\\u0431\\u0443\\u0447\\u0435\\u043d\\u0438\\u0435, \\u041e\\u0431\\u0440\\u0430\\u0431\\u043e\\u0442\\u043a\\u0430 \\u0435\\u0441\\u0442\\u0435\\u0441\\u0442\\u0432\\u0435\\u043d\\u043d\\u043e\\u0433\\u043e \\u044f\\u0437\\u044b\\u043a\\u0430,<br>Data science, Language Processing, Natural, \\u041e\\u041e\\u041f\"], [570000, 350000, \"Machine Learning, Python, numpy, pandas,<br>matplotlib, seaborn, \\u041e\\u0431\\u0443\\u0447\\u0435\\u043d\\u0438\\u0435 \\u043d\\u0435\\u0439\\u0440\\u043e\\u043d\\u043d\\u044b\\u0445 \\u0441\\u0435\\u0442\\u0435\\u0439,<br>TensorFlow, CNTK, Keras, PyTorch, Caffe, Nvidia<br>TLT, Linux\"], [300000, 200000, \"\\u041e\\u043f\\u044b\\u0442 \\u0432 \\u043a\\u043e\\u043c\\u043f\\u044c\\u044e\\u0442\\u0435\\u0440\\u043d\\u043e\\u043c \\u0437\\u0440\\u0435\\u043d\\u0438\\u0438 \\u043e\\u0442 3 \\u043b\\u0435\\u0442, \\u0423\\u0432\\u0435\\u0440\\u0435\\u043d\\u043d\\u044b\\u0435<br>\\u0437\\u043d\\u0430\\u043d\\u0438\\u044f \\u043c\\u0430\\u0448\\u0438\\u043d\\u043d\\u043e\\u0433\\u043e \\u043e\\u0431\\u0443\\u0447\\u0435\\u043d\\u0438\\u044f \\u0438 \\u043e\\u0441\\u043e\\u0431\\u0435\\u043d\\u043d\\u043e deep<br>learning, Python \\u0438 \\u0435\\u0433\\u043e dl-\\u0441\\u0442\\u044d\\u043a - pytorch,<br>tensorflow (huggingface - \\u043f\\u043b\\u044e\\u0441), \\u0417\\u043d\\u0430\\u0442\\u044c \\u0441\\u043e\\u0441\\u0442\\u043e\\u044f\\u043d\\u0438\\u0435<br>\\u0433\\u0435\\u043d\\u0435\\u0440\\u0430\\u0442\\u0438\\u0432\\u043d\\u044b\\u0445 \\u043c\\u043e\\u0434\\u0435\\u043b\\u0435\\u0439 \\u0432 CV \\u0438 \\u043e\\u043f\\u044b\\u0442 \\u0440\\u0430\\u0431\\u043e\\u0442\\u044b \\u0441<br>\\u0434\\u0438\\u0444\\u0444\\u0443\\u0437\\u0438\\u043e\\u043d\\u043d\\u044b\\u043c\\u0438 \\u043c\\u043e\\u0434\\u0435\\u043b\\u044f\\u043c\\u0438.\"], [300000, 270000, \"Python, SQL, \\u041e\\u0431\\u0443\\u0447\\u0435\\u043d\\u0438\\u0435 \\u0438 \\u0440\\u0430\\u0437\\u0432\\u0438\\u0442\\u0438\\u0435, \\u041c\\u0430\\u0448\\u0438\\u043d\\u043d\\u043e\\u0435<br>\\u043e\\u0431\\u0443\\u0447\\u0435\\u043d\\u0438\\u0435, Data Science\"], [200000, 200000, \"Pytorch, TensorFlow, OpenVino, OpenCV, Pandas,<br>NumPy, scipy, GPU, S3, LLM\"], [200000, 150000, \"SQL, \\u0421\\u0431\\u043e\\u0440 \\u0438 \\u0430\\u043d\\u0430\\u043b\\u0438\\u0437 \\u0438\\u043d\\u0444\\u043e\\u0440\\u043c\\u0430\\u0446\\u0438\\u0438, \\u0420\\u0430\\u0431\\u043e\\u0442\\u0430 \\u0441 \\u0431\\u0430\\u0437\\u0430\\u043c\\u0438<br>\\u0434\\u0430\\u043d\\u043d\\u044b\\u0445\"], [130000, 100000, \"\\u0437\\u043d\\u0430\\u043d\\u0438\\u0435 Data Science \\u043f\\u0440\\u043e\\u0446\\u0435\\u0441\\u0441\\u043e\\u0432; \\u0437\\u043d\\u0430\\u043d\\u0438\\u0435 \\u0438 \\u043f\\u043e\\u043d\\u0438\\u043c\\u0430\\u043d\\u0438\\u0435<br>\\u043f\\u043e\\u0434\\u0445\\u043e\\u0434\\u043e\\u0432 \\u043e\\u0431\\u0443\\u0447\\u0435\\u043d\\u0438\\u044f \\u0441 \\u0443\\u0447\\u0438\\u0442\\u0435\\u043b\\u0435\\u043c \\u0438 \\u043e\\u0431\\u0443\\u0447\\u0435\\u043d\\u0438\\u044f \\u0431\\u0435\\u0437<br>\\u0443\\u0447\\u0438\\u0442\\u0435\\u043b\\u044f; \\u0443\\u043c\\u0435\\u043d\\u0438\\u0435 \\u043f\\u0440\\u043e\\u0432\\u043e\\u0434\\u0438\\u0442\\u044c Data Science<br>\\u044d\\u043a\\u0441\\u043f\\u0435\\u0440\\u0438\\u043c\\u0435\\u043d\\u0442\\u044b \\u043e\\u0442 \\u0444\\u043e\\u0440\\u043c\\u0443\\u043b\\u0438\\u0440\\u043e\\u0432\\u0430\\u043d\\u0438\\u044f \\u0433\\u0438\\u043f\\u043e\\u0442\\u0435\\u0437\\u044b \\u0434\\u043e<br>\\u0430\\u043d\\u0430\\u043b\\u0438\\u0437\\u0430; \\u0440\\u0435\\u0437\\u0443\\u043b\\u044c\\u0442\\u0430\\u0442\\u043e\\u0432 \\u0438 \\u043e\\u043f\\u0438\\u0441\\u0430\\u043d\\u0438\\u044f \\u0432\\u044b\\u0432\\u043e\\u0434\\u043e\\u0432; \\u0443\\u043c\\u0435\\u043d\\u0438\\u0435<br>\\u0440\\u0430\\u0431\\u043e\\u0442\\u0430\\u0442\\u044c \\u0441 \\u0431\\u043e\\u043b\\u044c\\u0448\\u0438\\u043c\\u0438 \\u043e\\u0431\\u044a\\u0435\\u043c\\u0430\\u043c\\u0438 \\u0434\\u0430\\u043d\\u043d\\u044b\\u0445; \\u0443\\u043c\\u0435\\u043d\\u0438\\u0435<br>\\u0432\\u0438\\u0437\\u0443\\u0430\\u043b\\u0438\\u0437\\u0438\\u0440\\u043e\\u0432\\u0430\\u0442\\u044c \\u0434\\u0430\\u043d\\u043d\\u044b\\u0435 \\u0432 matplotlib, seaborn \\u0438<br>plotly; \\u0443\\u043c\\u0435\\u043d\\u0438\\u0435 \\u0434\\u0435\\u043c\\u043e\\u043d\\u0441\\u0442\\u0440\\u0438\\u0440\\u043e\\u0432\\u0430\\u0442\\u044c \\u0440\\u0435\\u0437\\u0443\\u043b\\u044c\\u0442\\u0430\\u0442\\u044b \\u0440\\u0430\\u0431\\u043e\\u0442\\u044b<br>\\u0440\\u0443\\u043a\\u043e\\u0432\\u043e\\u0434\\u0441\\u0442\\u0432\\u0443 \\u0438 \\u0434\\u0440\\u0443\\u0433\\u0438\\u043c \\u043a\\u043e\\u043b\\u043b\\u0435\\u0433\\u0430\\u043c; \\u0432\\u044b\\u0441\\u0448\\u0435\\u0435 \\u043e\\u0431\\u0440\\u0430\\u0437\\u043e\\u0432\\u0430\\u043d\\u0438\\u0435<br>(\\u043c\\u0430\\u0442\\u0435\\u043c\\u0430\\u0442\\u0438\\u043a\\u0430, \\u0444\\u0438\\u0437\\u0438\\u043a\\u0430); \\u0443\\u043c\\u0435\\u043d\\u0438\\u0435 \\u0438 \\u0433\\u043e\\u0442\\u043e\\u0432\\u043d\\u043e\\u0441\\u0442\\u044c<br>\\u0441\\u0430\\u043c\\u043e\\u0441\\u0442\\u043e\\u044f\\u0442\\u0435\\u043b\\u044c\\u043d\\u043e \\u0441\\u043e\\u0431\\u0438\\u0440\\u0430\\u0442\\u044c \\u043e\\u0442\\u0447\\u0435\\u0442\\u044b \\u0438\\u0437 \\u0440\\u0430\\u0437\\u043d\\u044b\\u0445 \\u0441\\u0438\\u0441\\u0442\\u0435\\u043c;<br>\\u043e\\u043f\\u044b\\u0442 \\u0440\\u0430\\u0431\\u043e\\u0442\\u044b \\u0432 Data Science \\u043e\\u0442 3\\u0445 \\u043b\\u0435\\u0442; \\u0443\\u0432\\u0435\\u0440\\u0435\\u043d\\u043d\\u044b\\u0435<br>\\u0442\\u0435\\u043e\\u0440\\u0435\\u0442\\u0438\\u0447\\u0435\\u0441\\u043a\\u0438\\u0435 \\u0437\\u043d\\u0430\\u043d\\u0438\\u044f ML; \\u0443\\u0432\\u0435\\u0440\\u0435\\u043d\\u043d\\u043e\\u0435 \\u0432\\u043b\\u0430\\u0434\\u0435\\u043d\\u0438\\u0435<br>python; SQL \\u0441\\u0440\\u0435\\u0434\\u043d\\u0438\\u0439 \\u0443\\u0440\\u043e\\u0432\\u0435\\u043d\\u044c; \\u0443\\u043c\\u0435\\u043d\\u0438\\u0435 \\u0440\\u0430\\u0431\\u043e\\u0442\\u0430\\u0442\\u044c \\u043a\\u0430\\u043a \\u0432<br>\\u043a\\u043e\\u043c\\u0430\\u043d\\u0434\\u0435, \\u0442\\u0430\\u043a \\u0438 \\u0441\\u0430\\u043c\\u043e\\u0441\\u0442\\u043e\\u044f\\u0442\\u0435\\u043b\\u044c\\u043d\\u043e.\"], [350000, 270000, \"\\u0425\\u043e\\u0440\\u043e\\u0448\\u0438\\u0435 \\u043d\\u0430\\u0432\\u044b\\u043a\\u0438 \\u0440\\u0430\\u0437\\u0440\\u0430\\u0431\\u043e\\u0442\\u043a\\u0438 \\u043d\\u0430 Python\"], [200000, 150000, \"\\u0413\\u043b\\u0443\\u0431\\u043e\\u043a\\u0438\\u0435 \\u0437\\u043d\\u0430\\u043d\\u0438\\u044f Python, \\u044d\\u043c\\u0431\\u0435\\u0434\\u0434\\u0438\\u043d\\u0433\\u043e\\u0432, pytests \\u041e\\u043f\\u044b\\u0442<br>\\u043e\\u0431\\u0443\\u0447\\u0435\\u043d\\u0438\\u044f \\u043d\\u0435\\u0439\\u0440\\u043e\\u043d\\u043d\\u044b\\u0445 \\u0441\\u0435\\u0442\\u0435\\u0439 \\u041f\\u043e\\u043d\\u0438\\u043c\\u0430\\u043d\\u0438\\u0435 \\u0430\\u0440\\u0445\\u0438\\u0442\\u0435\\u043a\\u0442\\u0443\\u0440\\u044b<br>\\u0441\\u043e\\u0432\\u0440\\u0435\\u043c\\u0435\\u043d\\u043d\\u044b\\u0445 \\u044f\\u0437\\u044b\\u043a\\u043e\\u0432\\u044b\\u0445 \\u043c\\u043e\\u0434\\u0435\\u043b\\u0435\\u0439 (langchain, RAG)\"], [320000, 300000, \"Python, Pyspark, \\u0424\\u0438\\u043d\\u0430\\u043d\\u0441\\u044b, IT\"], [85000, 55000, \"Python\"], [150000, 100000, \"NLP, Computer Vision, Python, LLM\"], [300000, 270000, \"Python, LLM, Speech\"], [200000, 150000, \"\\u0423\\u043f\\u0440\\u0430\\u0432\\u043b\\u0435\\u043d\\u0438\\u0435 \\u043a\\u043e\\u043c\\u0430\\u043d\\u0434\\u043e\\u0439, SQL, Python, \\u041c\\u043e\\u0434\\u0435\\u043b\\u0438\\u0440\\u043e\\u0432\\u0430\\u043d\\u0438\\u0435,<br>Data science\"], [110000, 100000, \"ArcGIS QGIS Git/Gitlab Python \\u043f\\u0440\\u043e\\u0441\\u0442\\u0440\\u0430\\u043d\\u0441\\u0442\\u0432\\u0435\\u043d\\u043d\\u044b\\u0435<br>\\u0431\\u0430\\u0437\\u044b \\u0434\\u0430\\u043d\\u043d\\u044b\\u0445 Agile\"], [230000, 180000, \"Power BI, \\u0421\\u0423\\u0411\\u0414, SQL, DataLens, \\u0411\\u0430\\u0437\\u044b \\u0434\\u0430\\u043d\\u043d\\u044b\\u0445,<br>\\u0410\\u043d\\u0430\\u043b\\u0438\\u0442\\u0438\\u0447\\u0435\\u0441\\u043a\\u043e\\u0435 \\u043c\\u044b\\u0448\\u043b\\u0435\\u043d\\u0438\\u0435, \\u0421\\u0431\\u043e\\u0440 \\u0438 \\u0430\\u043d\\u0430\\u043b\\u0438\\u0437 \\u0438\\u043d\\u0444\\u043e\\u0440\\u043c\\u0430\\u0446\\u0438\\u0438,<br>\\u0410\\u043d\\u0430\\u043b\\u0438\\u0437 \\u0434\\u0430\\u043d\\u043d\\u044b\\u0445, Python\"], [330000, 300000, \"Python, Machine Learning, RecSys, C++, ML, Data<br>Science\"], [250000, 150000, \"Python, SQL, Big Data, \\u041c\\u0430\\u0442\\u0435\\u043c\\u0430\\u0442\\u0438\\u0447\\u0435\\u0441\\u043a\\u0438\\u0439 \\u0430\\u043d\\u0430\\u043b\\u0438\\u0437\"], [260000, 210000, \"Python, Hadoop, Big Data, Machine Learning\"], [200000, 150000, \"\\u042d\\u043a\\u0441\\u043f\\u0435\\u0440\\u0442\\u0438\\u0437\\u0430 \\u0432 \\u043e\\u0431\\u043b\\u0430\\u0441\\u0442\\u0438 \\u0438\\u0441\\u043a\\u0443\\u0441\\u0441\\u0442\\u0432\\u0435\\u043d\\u043d\\u043e\\u0433\\u043e \\u0438\\u043d\\u0442\\u0435\\u043b\\u043b\\u0435\\u043a\\u0442\\u0430 \\u0438<br>\\u043c\\u0430\\u0448\\u0438\\u043d\\u043d\\u043e\\u0433\\u043e \\u043e\\u0431\\u0443\\u0447\\u0435\\u043d\\u0438\\u044f: \\u0433\\u043b\\u0443\\u0431\\u043e\\u043a\\u0438\\u0435 \\u0437\\u043d\\u0430\\u043d\\u0438\\u044f \\u0438 \\u043f\\u043e\\u043d\\u0438\\u043c\\u0430\\u043d\\u0438\\u0435<br>\\u0442\\u0435\\u043a\\u0443\\u0449\\u0438\\u0445 \\u0442\\u0435\\u0445\\u043d\\u043e\\u043b\\u043e\\u0433\\u0438\\u0439 \\u0418\\u0418, \\u043c\\u0430\\u0448\\u0438\\u043d\\u043d\\u043e\\u0433\\u043e \\u043e\\u0431\\u0443\\u0447\\u0435\\u043d\\u0438\\u044f,<br>\\u043d\\u0435\\u0439\\u0440\\u043e\\u043d\\u043d\\u044b\\u0445 \\u0441\\u0435\\u0442\\u0435\\u0439, \\u0430\\u043b\\u0433\\u043e\\u0440\\u0438\\u0442\\u043c\\u043e\\u0432 \\u0438 \\u0441\\u0432\\u044f\\u0437\\u0430\\u043d\\u043d\\u044b\\u0445 \\u0441 \\u043d\\u0438\\u043c\\u0438<br>\\u0438\\u043d\\u043d\\u043e\\u0432\\u0430\\u0446\\u0438\\u0439 \\u0423\\u043f\\u0440\\u0430\\u0432\\u043b\\u0435\\u043d\\u0447\\u0435\\u0441\\u043a\\u0438\\u0435 \\u0438 \\u043b\\u0438\\u0434\\u0435\\u0440\\u0441\\u043a\\u0438\\u0435 \\u043d\\u0430\\u0432\\u044b\\u043a\\u0438:<br>\\u0441\\u043f\\u043e\\u0441\\u043e\\u0431\\u043d\\u043e\\u0441\\u0442\\u044c \\u0441\\u0442\\u0440\\u043e\\u0438\\u0442\\u044c \\u0438 \\u0432\\u0435\\u0441\\u0442\\u0438 \\u043a\\u043e\\u043c\\u0430\\u043d\\u0434\\u0443 \\u0441\\u043f\\u0435\\u0446\\u0438\\u0430\\u043b\\u0438\\u0441\\u0442\\u043e\\u0432,<br>\\u0441\\u043e\\u0437\\u0434\\u0430\\u0432\\u0430\\u0442\\u044c \\u043f\\u0440\\u043e\\u0434\\u0443\\u043a\\u0442\\u0438\\u0432\\u043d\\u0443\\u044e \\u0440\\u0430\\u0431\\u043e\\u0447\\u0443\\u044e \\u0441\\u0440\\u0435\\u0434\\u0443, \\u0438<br>\\u043c\\u043e\\u0442\\u0438\\u0432\\u0438\\u0440\\u043e\\u0432\\u0430\\u0442\\u044c \\u0441\\u043e\\u0442\\u0440\\u0443\\u0434\\u043d\\u0438\\u043a\\u043e\\u0432\"], [280000, 240000, \"MS SQL, PostgreSQL, Java, \\u0411\\u0430\\u0437\\u044b \\u0434\\u0430\\u043d\\u043d\\u044b\\u0445, Hadoop,<br>MySQL, REST, SCALA, API, REST API, SOAP, Python,<br>HDFS, S3, Spark, Airflow, dbt, Data Lakehouse\"], [370000, 300000, \"Spark, Hive, MLFlow, ML, AirFlow, MLOps,<br>Forecasting\"], [140000, 90000, \"\\u0443\\u0432\\u0435\\u0440\\u0435\\u043d\\u043d\\u043e\\u0435 \\u0437\\u043d\\u0430\\u043d\\u0438\\u0435 Python (\\u0431\\u0438\\u0431\\u043b\\u0438\\u043e\\u0442\\u0435\\u043a\\u0438: NumPy,<br>Pandas, Scikit-learn, Keras, PyTorch); \\u0437\\u043d\\u0430\\u043d\\u0438\\u044f \\u0432<br>\\u043e\\u0431\\u043b\\u0430\\u0441\\u0442\\u0438 \\u043c\\u0430\\u0448\\u0438\\u043d\\u043d\\u043e\\u0433\\u043e \\u043e\\u0431\\u0443\\u0447\\u0435\\u043d\\u0438\\u044f \\u0438 \\u0441\\u0442\\u0430\\u0442\\u0438\\u0441\\u0442\\u0438\\u043a\\u0438, \\u0430 \\u0442\\u0430\\u043a\\u0436\\u0435<br>\\u043f\\u043e\\u043d\\u0438\\u043c\\u0430\\u043d\\u0438\\u0435 \\u043e\\u0441\\u043d\\u043e\\u0432\\u043d\\u044b\\u0445 \\u0430\\u043b\\u0433\\u043e\\u0440\\u0438\\u0442\\u043c\\u043e\\u0432 ML, \\u0438\\u0441\\u043f\\u043e\\u043b\\u044c\\u0437\\u0443\\u0435\\u043c\\u044b\\u0445 \\u0432<br>NLP; \\u043f\\u043e\\u043d\\u0438\\u043c\\u0430\\u043d\\u0438\\u0435 \\u043e\\u0441\\u043d\\u043e\\u0432\\u043d\\u044b\\u0445 \\u043f\\u0440\\u0438\\u043d\\u0446\\u0438\\u043f\\u043e\\u0432 \\u043e\\u0431\\u0440\\u0430\\u0431\\u043e\\u0442\\u043a\\u0438<br>\\u0435\\u0441\\u0442\\u0435\\u0441\\u0442\\u0432\\u0435\\u043d\\u043d\\u043e\\u0433\\u043e \\u044f\\u0437\\u044b\\u043a\\u0430, \\u0432\\u043a\\u043b\\u044e\\u0447\\u0430\\u044f \\u0442\\u043e\\u043a\\u0435\\u043d\\u0438\\u0437\\u0430\\u0446\\u0438\\u044e,<br>\\u043b\\u0435\\u043c\\u043c\\u0430\\u0442\\u0438\\u0437\\u0430\\u0446\\u0438\\u044e, \\u0441\\u0442\\u0435\\u043c\\u043c\\u0438\\u043d\\u0433, \\u0438\\u0437\\u0432\\u043b\\u0435\\u0447\\u0435\\u043d\\u0438\\u0435 \\u0441\\u0443\\u0449\\u043d\\u043e\\u0441\\u0442\\u0435\\u0439 \\u0438<br>\\u043a\\u043b\\u0430\\u0441\\u0441\\u0438\\u0444\\u0438\\u043a\\u0430\\u0446\\u0438\\u044e \\u0442\\u0435\\u043a\\u0441\\u0442\\u0430; \\u0437\\u043d\\u0430\\u043d\\u0438\\u0435 \\u043e\\u0441\\u043d\\u043e\\u0432\\u043d\\u044b\\u0445 \\u0430\\u043b\\u0433\\u043e\\u0440\\u0438\\u0442\\u043c\\u043e\\u0432<br>\\u043e\\u0431\\u0443\\u0447\\u0435\\u043d\\u0438\\u044f \\u043c\\u043e\\u0434\\u0435\\u043b\\u0435\\u0439 (\\u043b\\u0438\\u043d\\u0435\\u0439\\u043d\\u0430\\u044f \\u0440\\u0435\\u0433\\u0440\\u0435\\u0441\\u0441\\u0438\\u044f,<br>\\u043b\\u043e\\u0433\\u0438\\u0441\\u0442\\u0438\\u0447\\u0435\\u0441\\u043a\\u0430\\u044f \\u0440\\u0435\\u0433\\u0440\\u0435\\u0441\\u0441\\u0438\\u044f, \\u0434\\u0435\\u0440\\u0435\\u0432\\u044c\\u044f \\u0440\\u0435\\u0448\\u0435\\u043d\\u0438\\u0439, SVM \\u0438<br>Naive Bayes); \\u043f\\u043e\\u043d\\u0438\\u043c\\u0430\\u043d\\u0438\\u0435 \\u043e\\u0441\\u043d\\u043e\\u0432\\u043d\\u044b\\u0445 \\u0430\\u0441\\u043f\\u0435\\u043a\\u0442\\u043e\\u0432<br>\\u043f\\u0440\\u0435\\u0434\\u043e\\u0431\\u0440\\u0430\\u0431\\u043e\\u0442\\u043a\\u0438 \\u0442\\u0435\\u043a\\u0441\\u0442\\u043e\\u0432\\u044b\\u0445 \\u0434\\u0430\\u043d\\u043d\\u044b\\u0445: \\u043e\\u0447\\u0438\\u0441\\u0442\\u043a\\u0430 \\u0434\\u0430\\u043d\\u043d\\u044b\\u0445,<br>\\u0443\\u0434\\u0430\\u043b\\u0435\\u043d\\u0438\\u0435 \\u0441\\u0442\\u043e\\u043f-\\u0441\\u043b\\u043e\\u0432, \\u043f\\u0440\\u0438\\u0432\\u0435\\u0434\\u0435\\u043d\\u0438\\u0435 \\u043a \\u043d\\u0438\\u0436\\u043d\\u0435\\u043c\\u0443 \\u0440\\u0435\\u0433\\u0438\\u0441\\u0442\\u0440\\u0443,<br>\\u0443\\u0441\\u0442\\u0440\\u0430\\u043d\\u0435\\u043d\\u0438\\u0435 \\u0448\\u0443\\u043c\\u0430, \\u043d\\u043e\\u0440\\u043c\\u0430\\u043b\\u0438\\u0437\\u0430\\u0446\\u0438\\u044f \\u0442\\u0435\\u043a\\u0441\\u0442\\u0430; \\u0437\\u043d\\u0430\\u043d\\u0438\\u0435<br>\\u043e\\u0441\\u043d\\u043e\\u0432\\u043d\\u044b\\u0445 \\u043c\\u0435\\u0442\\u043e\\u0434\\u043e\\u0432 \\u043e\\u0446\\u0435\\u043d\\u043a\\u0438 \\u043c\\u043e\\u0434\\u0435\\u043b\\u0435\\u0439, \\u0442\\u0430\\u043a\\u0438\\u0445 \\u043a\\u0430\\u043a \\u043a\\u0440\\u043e\\u0441\\u0441-<br>\\u0432\\u0430\\u043b\\u0438\\u0434\\u0430\\u0446\\u0438\\u044f, ROC-\\u043a\\u0440\\u0438\\u0432\\u044b\\u0435, Precision-Recall \\u043a\\u0440\\u0438\\u0432\\u044b\\u0435,<br>confusion matrix \\u0438 \\u043f\\u0440\\u043e\\u0447\\u0435\\u0435; \\u043e\\u043f\\u044b\\u0442 \\u043e\\u0431\\u0443\\u0447\\u0435\\u043d\\u0438\\u044f \\u043c\\u043e\\u0434\\u0435\\u043b\\u0435\\u0439<br>\\u0433\\u043b\\u0443\\u0431\\u043e\\u043a\\u0438\\u0445 \\u043d\\u0435\\u0439\\u0440\\u043e\\u043d\\u043d\\u044b\\u0445 \\u0441\\u0435\\u0442\\u0435\\u0439, \\u043f\\u043e\\u043d\\u0438\\u043c\\u0430\\u043d\\u0438\\u0435 \\u0430\\u0440\\u0445\\u0438\\u0442\\u0435\\u043a\\u0442\\u0443\\u0440 \\u0438<br>\\u043e\\u0441\\u043d\\u043e\\u0432\\u043d\\u044b\\u0445 \\u043f\\u0440\\u0438\\u043d\\u0446\\u0438\\u043f\\u043e\\u0432.\"], [150000, 100000, \"Big Data, \\u0410\\u043d\\u0433\\u043b\\u0438\\u0439\\u0441\\u043a\\u0438\\u0439 \\u044f\\u0437\\u044b\\u043a, Data Mining,<br>\\u041e\\u0440\\u0433\\u0430\\u043d\\u0438\\u0437\\u0430\\u0442\\u043e\\u0440\\u0441\\u043a\\u0438\\u0435 \\u043d\\u0430\\u0432\\u044b\\u043a\\u0438, \\u041e\\u0431\\u0443\\u0447\\u0435\\u043d\\u0438\\u0435 \\u0438 \\u0440\\u0430\\u0437\\u0432\\u0438\\u0442\\u0438\\u0435,<br>\\u041f\\u0440\\u043e\\u0433\\u043d\\u043e\\u0437\\u0438\\u0440\\u043e\\u0432\\u0430\\u043d\\u0438\\u0435, \\u0420\\u0430\\u0431\\u043e\\u0442\\u0430 \\u0441 \\u0431\\u043e\\u043b\\u044c\\u0448\\u0438\\u043c \\u043e\\u0431\\u044a\\u0435\\u043c\\u043e\\u043c<br>\\u0438\\u043d\\u0444\\u043e\\u0440\\u043c\\u0430\\u0446\\u0438\\u0438, \\u0420\\u0430\\u0431\\u043e\\u0442\\u0430 \\u0441 \\u0431\\u0430\\u0437\\u0430\\u043c\\u0438 \\u0434\\u0430\\u043d\\u043d\\u044b\\u0445, \\u0410\\u043d\\u0430\\u043b\\u0438\\u0442\\u0438\\u0447\\u0435\\u0441\\u043a\\u0438\\u0435<br>\\u0438\\u0441\\u0441\\u043b\\u0435\\u0434\\u043e\\u0432\\u0430\\u043d\\u0438\\u044f, Data Analysis, \\u0410\\u043d\\u0430\\u043b\\u0438\\u0442\\u0438\\u0447\\u0435\\u0441\\u043a\\u043e\\u0435<br>\\u043c\\u044b\\u0448\\u043b\\u0435\\u043d\\u0438\\u0435\"], [230000, 180000, \"\\u0423\\u0441\\u043f\\u0435\\u0448\\u043d\\u044b\\u0439 \\u043e\\u043f\\u044b\\u0442 \\u043f\\u043e\\u0441\\u0442\\u0440\\u043e\\u0435\\u043d\\u0438\\u044f \\u043a\\u0440\\u0443\\u043f\\u043d\\u044b\\u0445 nlp-based<br>\\u043f\\u0440\\u043e\\u0434\\u0443\\u043a\\u0442\\u043e\\u0432   \\u041e\\u043f\\u044b\\u0442 \\u0440\\u0430\\u0431\\u043e\\u0442\\u044b \\u0441 \\u0442\\u0440\\u0430\\u043d\\u0441\\u0444\\u043e\\u0440\\u043c\\u0435\\u0440\\u0430\\u043c\\u0438<br>\\u0422\\u0435\\u0445\\u043d\\u043e\\u043b\\u043e\\u0433\\u0438\\u0447\\u0435\\u0441\\u043a\\u0438\\u0439 \\u0441\\u0442\\u0435\\u043a: python + pytorch, spark,<br>docker, git, linux\"], [320000, 270000, \"Python, SQL, \\u041c\\u0430\\u0442\\u0435\\u043c\\u0430\\u0442\\u0438\\u0447\\u0435\\u0441\\u043a\\u0430\\u044f \\u0441\\u0442\\u0430\\u0442\\u0438\\u0441\\u0442\\u0438\\u043a\\u0430, Big Data,<br>ML\"], [370000, 300000, \"SQL, Python, ETL, ELT, \\u0421\\u0423\\u0411\\u0414, Airflow, dbt,<br>ClickHouse, GreenPlum, Spark, Kafka, Kubernetes\"], [210000, 180000, \"Python, bash, git, SQL, Hadoop\"], [150000, 130000, \"Triton, Python, PyTorch, Git\"], [180000, 150000, \"ML, Python, CatBoost, STT, ASR, LabelStudio\"], [150000, 120000, \"IT, \\u0420\\u0430\\u0437\\u0440\\u0430\\u0431\\u043e\\u0442\\u043a\\u0430 \\u043f\\u043e\\u0438\\u0441\\u043a\\u043e\\u0432\\u044b\\u0445 \\u0442\\u0435\\u0445\\u043d\\u043e\\u043b\\u043e\\u0433\\u0438\\u0439, data science,<br>Python, Deep Learning, \\u0410\\u043b\\u0433\\u043e\\u0440\\u0438\\u0442\\u043c\\u044b \\u0438 \\u0441\\u0442\\u0440\\u0443\\u043a\\u0442\\u0443\\u0440\\u044b<br>\\u0434\\u0430\\u043d\\u043d\\u044b\\u0445\"], [350000, 300000, \"SQL, Python, Pandas, ML, machine learning,<br>\\u043e\\u0431\\u0443\\u0447\\u0435\\u043d\\u0438\\u0435 \\u043c\\u043e\\u0434\\u0435\\u043b\\u0438, \\u043c\\u0430\\u0448\\u0438\\u043d\\u043d\\u043e\\u0435 \\u043e\\u0431\\u0443\\u0447\\u0435\\u043d\\u0438\\u0435, NLP, CV,<br>Computer Vision, \\u043d\\u0435\\u0439\\u0440\\u043e\\u043d\\u043d\\u0430\\u044f \\u0441\\u0435\\u0442\\u044c\"], [190000, 180000, \"\\u0423\\u043f\\u0440\\u0430\\u0432\\u043b\\u0435\\u043d\\u0438\\u0435 \\u043a\\u043e\\u043c\\u0430\\u043d\\u0434\\u043e\\u0439, \\u0410\\u043d\\u0430\\u043b\\u0438\\u0437 \\u0434\\u0430\\u043d\\u043d\\u044b\\u0445, A/B \\u0442\\u0435\\u0441\\u0442\\u044b,<br>Data scientist\"], [280000, 240000, \"MS SQL, PostgreSQL, Java, \\u0411\\u0430\\u0437\\u044b \\u0434\\u0430\\u043d\\u043d\\u044b\\u0445, Hadoop,<br>MySQL, REST, SCALA, API, REST API, SOAP, Python,<br>HDFS, S3, Spark, Airflow, dbt, Data Lakehouse\"], [125000, 105000, \"\\u041e\\u0441\\u043d\\u043e\\u0432\\u043d\\u043e\\u0439 \\u044f\\u0437\\u044b\\u043a: Python, C++. \\u041e\\u0441\\u043d\\u043e\\u0432\\u043d\\u043e\\u0439 ML \\u0444\\u0440\\u044d\\u0439\\u043c\\u0432\\u043e\\u0440\\u043a:<br>Pytorch. \\u041e\\u043f\\u044b\\u0442 \\u043f\\u0435\\u0440\\u0435\\u043d\\u043e\\u0441\\u0430 ML \\u043f\\u0430\\u0439\\u043f\\u043b\\u0430\\u0439\\u043d\\u0430 \\u0441 Python \\u043d\\u0430<br>C++. \\u0421\\u0438\\u0441\\u0442\\u0435\\u043c\\u044b \\u0440\\u0430\\u0437\\u043c\\u0435\\u0442\\u043a\\u0438 \\u0434\\u0430\\u043d\\u043d\\u044b\\u0445 \\u0434\\u043b\\u044f CV: CVAT (\\u0438\\u043b\\u0438<br>\\u0434\\u0440\\u0443\\u0433\\u0430\\u044f \\u043f\\u043e\\u0434\\u043e\\u0431\\u043d\\u0430\\u044f). \\u0411\\u0438\\u0431\\u043b\\u0438\\u043e\\u0442\\u0435\\u043a\\u0438 \\u043e\\u0431\\u0440\\u0430\\u0431\\u043e\\u0442\\u043a\\u0438 \\u0438\\u0437\\u043e\\u0431\\u0440\\u0430\\u0436\\u0435\\u043d\\u0438\\u0439<br>\\u0438 \\u0442\\u0435\\u043d\\u0437\\u043e\\u0440\\u043e\\u0432: OpenCV, numpy, pillow. \\u0417\\u0430\\u043f\\u0443\\u0441\\u043a ML<br>\\u043c\\u043e\\u0434\\u0435\\u043b\\u0438 \\u0432 \\u043f\\u0440\\u043e\\u0434\\u0430\\u043a\\u0448\\u043d \\u043f\\u043e\\u0434 CPU: Onnx, OnnxRuntime,<br>OpenVino. \\u041e\\u0431\\u0449\\u0438\\u0435 \\u0438\\u043d\\u0441\\u0442\\u0440\\u0443\\u043c\\u0435\\u043d\\u0442\\u044b \\u0440\\u0430\\u0437\\u0440\\u0430\\u0431\\u043e\\u0442\\u043a\\u0438: Git,<br>Docker\"], [200000, 150000, \"Python, Machine Learning, SQL, A/B \\u0442\\u0435\\u0441\\u0442\\u044b, Docker,<br>Git\"], [300000, 200000, \"\\u0423\\u043c\\u0435\\u0442\\u044c \\u0432\\u044b\\u043a\\u043b\\u0430\\u0434\\u044b\\u0432\\u0430\\u0442\\u044c \\u0441\\u0432\\u043e\\u0439 \\u043a\\u043e\\u0434 \\u0432 \\u043a\\u043b\\u0430\\u0441\\u0442\\u0435\\u0440 \\u043a\\u0443\\u0431\\u0435\\u0440\\u043d\\u0435\\u0442\\u0435\\u0441<br>Python - \\u0445\\u043e\\u0440\\u043e\\u0448\\u0438\\u0439 \\u0443\\u0440\\u043e\\u0432\\u0435\\u043d\\u044c \\u043a\\u043e\\u0434\\u0430 Docker - \\u0443\\u043c\\u0435\\u0442\\u044c<br>\\u0437\\u0430\\u0432\\u043e\\u0440\\u0430\\u0447\\u0438\\u0432\\u0430\\u0442\\u044c \\u0440\\u0435\\u0448\\u0435\\u043d\\u0438\\u044f \\u0432 \\u043a\\u043e\\u043d\\u0442\\u0435\\u0439\\u043d\\u0435\\u0440 Pytorch - \\u0434\\u043b\\u044f<br>\\u043d\\u0435\\u0439\\u0440\\u043e\\u043d\\u043d\\u044b\\u0445 \\u0441\\u0435\\u0442\\u0435\\u0439 FastAPI - \\u0434\\u043b\\u044f \\u0441\\u043e\\u0437\\u0434\\u0430\\u043d\\u0438\\u044f REST<br>\\u0441\\u0435\\u0440\\u0432\\u0438\\u0441\\u043e\\u0432 \\u043f\\u043e \\u0432\\u0437\\u0430\\u0438\\u043c\\u043e\\u0434\\u0435\\u0439\\u0441\\u0442\\u0432\\u0438\\u044e \\u0441 \\u043c\\u043e\\u0434\\u0435\\u043b\\u044c\\u044e OpenCV Linux<br>Ubuntu Triton inference server + onnx \\u0434\\u043b\\u044f<br>\\u0438\\u043d\\u0444\\u0435\\u0440\\u0435\\u043d\\u0441\\u0430\"], [310000, 280000, \"Python, Spark, Dagster, S3, Kafka, Kubernetes\"], [170000, 100000, \"Python, SQL, \\u0410\\u043d\\u0433\\u043b\\u0438\\u0439\\u0441\\u043a\\u0438\\u0439 \\u044f\\u0437\\u044b\\u043a, ML, \\u041c\\u0430\\u0448\\u0438\\u043d\\u043d\\u043e\\u0435<br>\\u043e\\u0431\\u0443\\u0447\\u0435\\u043d\\u0438\\u0435, NLP, GPT\"], [180000, 150000, \"Python, SQL, Pandas, \\u0410\\u043d\\u0430\\u043b\\u0438\\u0442\\u0438\\u0447\\u0435\\u0441\\u043a\\u043e\\u0435 \\u043c\\u044b\\u0448\\u043b\\u0435\\u043d\\u0438\\u0435, \\u0411\\u0430\\u0437\\u044b<br>\\u0434\\u0430\\u043d\\u043d\\u044b\\u0445, Machine Learning, \\u0410\\u043d\\u0430\\u043b\\u0438\\u0442\\u0438\\u0447\\u0435\\u0441\\u043a\\u0438\\u0435<br>\\u0438\\u0441\\u0441\\u043b\\u0435\\u0434\\u043e\\u0432\\u0430\\u043d\\u0438\\u044f, \\u041c\\u0430\\u0448\\u0438\\u043d\\u043d\\u043e\\u0435 \\u043e\\u0431\\u0443\\u0447\\u0435\\u043d\\u0438\\u0435, ML, BigQuery,<br>Greenplum, Clickhouse, Spark\"], [330000, 300000, \"RecSys, \\u0440\\u0435\\u043a\\u043e\\u043c\\u0435\\u043d\\u0434\\u0430\\u0442\\u0435\\u043b\\u044c\\u043d\\u0430\\u044f \\u0441\\u0438\\u0441\\u0442\\u0435\\u043c\\u0430, ml, Python\"], [90000, 60000, \"Python, Machine Learning, Linux\"], [330000, 300000, \"\\u041e\\u043f\\u044b\\u0442 Python \\u0440\\u0430\\u0437\\u0440\\u0430\\u0431\\u043e\\u0442\\u0447\\u0438\\u043a\\u0430 (pytorch, opencv), \\u0437\\u043d\\u0430\\u043d\\u0438\\u0435<br>\\u041e\\u041e\\u041f, git, numpy, pandas, sklearn\"], [150000, 100000, \"Python, SQL, \\u0410\\u043d\\u0430\\u043b\\u0438\\u0437 \\u0434\\u0430\\u043d\\u043d\\u044b\\u0445, Teamleading\"], [400000, 250000, \"Python, SQL, Apache Airflow, \\u0421lickHouse\"], [290000, 280000, \"Pytorch, Tensorflow\"], [200000, 180000, \"GreenPlum, ClickHouse, AirFlow, Python, Debezium,<br>Yandex Cloud, DBT, SQL\"], [310000, 210000, \"Python, Big Data, \\u041c\\u0430\\u0442\\u0435\\u043c\\u0430\\u0442\\u0438\\u0447\\u0435\\u0441\\u043a\\u0430\\u044f \\u0441\\u0442\\u0430\\u0442\\u0438\\u0441\\u0442\\u0438\\u043a\\u0430,<br>\\u041c\\u0430\\u0442\\u0435\\u043c\\u0430\\u0442\\u0438\\u0447\\u0435\\u0441\\u043a\\u0438\\u0439 \\u0430\\u043d\\u0430\\u043b\\u0438\\u0437, \\u0410\\u043d\\u0430\\u043b\\u0438\\u0442\\u0438\\u0447\\u0435\\u0441\\u043a\\u0438\\u0435 \\u0438\\u0441\\u0441\\u043b\\u0435\\u0434\\u043e\\u0432\\u0430\\u043d\\u0438\\u044f,<br>\\u041c\\u0430\\u0442\\u0435\\u043c\\u0430\\u0442\\u0438\\u0447\\u0435\\u0441\\u043a\\u043e\\u0435 \\u043c\\u043e\\u0434\\u0435\\u043b\\u0438\\u0440\\u043e\\u0432\\u0430\\u043d\\u0438\\u0435, Machine Learning\"], [330000, 280000, \"\\u0411\\u0430\\u0437\\u044b \\u0434\\u0430\\u043d\\u043d\\u044b\\u0445, \\u041c\\u043e\\u0434\\u0435\\u043b\\u0438\\u0440\\u043e\\u0432\\u0430\\u043d\\u0438\\u0435 \\u0431\\u0438\\u0437\\u043d\\u0435\\u0441 \\u043f\\u0440\\u043e\\u0446\\u0435\\u0441\\u0441\\u043e\\u0432,<br>\\u041c\\u043e\\u0434\\u0435\\u043b\\u0438\\u0440\\u043e\\u0432\\u0430\\u043d\\u0438\\u0435 \\u043f\\u0440\\u043e\\u0446\\u0435\\u0441\\u0441\\u043e\\u0432, \\u0421\\u0438\\u0441\\u0442\\u0435\\u043c\\u043d\\u043e\\u0435 \\u043c\\u044b\\u0448\\u043b\\u0435\\u043d\\u0438\\u0435,<br>\\u041f\\u0440\\u043e\\u0435\\u043a\\u0442\\u043d\\u0430\\u044f \\u0434\\u0435\\u044f\\u0442\\u0435\\u043b\\u044c\\u043d\\u043e\\u0441\\u0442\\u044c, SQL \\u0437\\u0430\\u043f\\u0440\\u043e\\u0441\\u044b, C\\u0438\\u0441\\u0442\\u0435\\u043c\\u044b<br>\\u0443\\u043f\\u0440\\u0430\\u0432\\u043b\\u0435\\u043d\\u0438\\u044f \\u0431\\u0430\\u0437\\u0430\\u043c\\u0438 \\u0434\\u0430\\u043d\\u043d\\u044b\\u0445, \\u0412\\u043d\\u0438\\u043c\\u0430\\u0442\\u0435\\u043b\\u044c\\u043d\\u043e\\u0441\\u0442\\u044c \\u043a<br>\\u0434\\u0435\\u0442\\u0430\\u043b\\u044f\\u043c, \\u0441\\u043f\\u043e\\u0441\\u043e\\u0431\\u043d\\u043e\\u0441\\u0442\\u044c \\u0440\\u0430\\u0431\\u043e\\u0442\\u0430\\u0442\\u044c \\u0441 \\u0431\\u043e\\u043b\\u044c\\u0448\\u0438\\u043c\\u0438 \\u043c\\u0430\\u0441\\u0441\\u0438\\u0432\\u0430\\u043c\\u0438<br>\\u0438\\u043d\\u0444\\u043e\\u0440\\u043c\\u0430\\u0446\\u0438\\u0438, \\u043c\\u043e\\u0434\\u0435\\u043b\\u0438 \\u0434\\u0430\\u043d\\u043d\\u044b\\u0445\"], [220000, 120000, \"\\u0423\\u0432\\u0435\\u0440\\u0435\\u043d\\u043d\\u043e\\u0435 \\u0432\\u043b\\u0430\\u0434\\u0435\\u043d\\u0438\\u0435 R \\u0438\\u043b\\u0438 Python<br>(pandas/numpy/sklearn)\"], [200000, 150000, \"SQL, Python, \\u0410\\u043d\\u0430\\u043b\\u0438\\u0442\\u0438\\u0447\\u0435\\u0441\\u043a\\u043e\\u0435 \\u043c\\u044b\\u0448\\u043b\\u0435\\u043d\\u0438\\u0435,<br>\\u041c\\u0430\\u0442\\u0435\\u043c\\u0430\\u0442\\u0438\\u0447\\u0435\\u0441\\u043a\\u0438\\u0439 \\u0430\\u043d\\u0430\\u043b\\u0438\\u0437, \\u041c\\u0430\\u0442\\u0435\\u043c\\u0430\\u0442\\u0438\\u0447\\u0435\\u0441\\u043a\\u0430\\u044f \\u0441\\u0442\\u0430\\u0442\\u0438\\u0441\\u0442\\u0438\\u043a\\u0430,<br>\\u0420\\u0430\\u0431\\u043e\\u0442\\u0430 \\u0441 \\u0431\\u043e\\u043b\\u044c\\u0448\\u0438\\u043c \\u043e\\u0431\\u044a\\u0435\\u043c\\u043e\\u043c \\u0438\\u043d\\u0444\\u043e\\u0440\\u043c\\u0430\\u0446\\u0438\\u0438,<br>\\u041c\\u0430\\u0442\\u0435\\u043c\\u0430\\u0442\\u0438\\u0447\\u0435\\u0441\\u043a\\u043e\\u0435 \\u043c\\u043e\\u0434\\u0435\\u043b\\u0438\\u0440\\u043e\\u0432\\u0430\\u043d\\u0438\\u0435\"], [330000, 280000, \"\\u0423\\u0432\\u0435\\u0440\\u0435\\u043d\\u043d\\u043e\\u0435 \\u0432\\u043b\\u0430\\u0434\\u0435\\u043d\\u0438\\u0435 Python. \\u041e\\u043f\\u044b\\u0442 \\u0440\\u0430\\u0431\\u043e\\u0442\\u044b \\u0441<br>\\u0431\\u0438\\u0431\\u043b\\u0438\\u043e\\u0442\\u0435\\u043a\\u0430\\u043c\\u0438 \\u0438 \\u0444\\u0440\\u0435\\u0439\\u043c\\u0432\\u043e\\u0440\\u043a\\u0430\\u043c\\u0438 Data Science, \\u0442\\u0430\\u043a\\u0438\\u043c\\u0438<br>\\u043a\\u0430\\u043a pandas, sklearn, scipy, matplotlib, catboost \\u0438<br>\\u0434\\u0440. \\u0417\\u043d\\u0430\\u043d\\u0438\\u0435 \\u043e\\u0441\\u043d\\u043e\\u0432 \\u0441\\u0442\\u0430\\u0442\\u0438\\u0441\\u0442\\u0438\\u0447\\u0435\\u0441\\u043a\\u043e\\u0433\\u043e \\u0430\\u043d\\u0430\\u043b\\u0438\\u0437\\u0430 \\u0438 \\u0435\\u0433\\u043e<br>\\u043f\\u0440\\u0438\\u043c\\u0435\\u043d\\u0435\\u043d\\u0438\\u0435. \\u041e\\u043f\\u044b\\u0442 \\u043f\\u0440\\u043e\\u0432\\u0435\\u0434\\u0435\\u043d\\u0438\\u044f A/B \\u0442\\u0435\\u0441\\u0442\\u0438\\u0440\\u043e\\u0432\\u0430\\u043d\\u0438\\u044f.<br>\\u041f\\u043e\\u043d\\u0438\\u043c\\u0430\\u043d\\u0438\\u0435 \\u043a\\u043b\\u0430\\u0441\\u0441\\u0438\\u0447\\u0435\\u0441\\u043a\\u0438\\u0445 \\u043c\\u0435\\u0442\\u043e\\u0434\\u043e\\u0432 \\u0438 \\u0430\\u043b\\u0433\\u043e\\u0440\\u0438\\u0442\\u043c\\u043e\\u0432<br>\\u043c\\u0430\\u0448\\u0438\\u043d\\u043d\\u043e\\u0433\\u043e \\u043e\\u0431\\u0443\\u0447\\u0435\\u043d\\u0438\\u044f, \\u0441 \\u043e\\u043f\\u044b\\u0442\\u043e\\u043c \\u0438\\u0445 \\u043f\\u0440\\u0438\\u043c\\u0435\\u043d\\u0435\\u043d\\u0438\\u044f \\u043d\\u0430<br>\\u043f\\u0440\\u0430\\u043a\\u0442\\u0438\\u043a\\u0435. \\u0411\\u0430\\u0437\\u043e\\u0432\\u044b\\u0435 \\u043d\\u0430\\u0432\\u044b\\u043a\\u0438 SQL \\u0437\\u0430\\u043f\\u0440\\u043e\\u0441\\u043e\\u0432. \\u041e\\u043f\\u044b\\u0442 \\u0440\\u0430\\u0431\\u043e\\u0442\\u044b<br>\\u0441 Git \\u0438 Docker.  \\u0411\\u0443\\u0434\\u0435\\u0442 \\u043f\\u043b\\u044e\\u0441\\u043e\\u043c:  \\u041e\\u043f\\u044b\\u0442 \\u0440\\u0430\\u0431\\u043e\\u0442\\u044b \\u0441<br>MLflow / KubeFlow / ClearML. \\u0417\\u043d\\u0430\\u043d\\u0438\\u0435 GitLab CI/CD.<br>\\u041e\\u043f\\u044b\\u0442 \\u0440\\u0430\\u0431\\u043e\\u0442\\u044b \\u0441 Airflow / Argo\"], [220000, 150000, \"\\u0412\\u044b \\u0437\\u043d\\u0430\\u0435\\u0442\\u0435 \\u043e\\u0441\\u043d\\u043e\\u0432\\u043d\\u044b\\u0435 Machine Learning \\u0430\\u043b\\u0433\\u043e\\u0440\\u0438\\u0442\\u043c\\u044b,<br>\\u0443\\u043c\\u0435\\u0435\\u0442\\u0435 \\u0438\\u0441\\u043f\\u043e\\u043b\\u044c\\u0437\\u043e\\u0432\\u0430\\u0442\\u044c numpy, pandas, scipy,<br>matplotlib \\u0438 \\u0433\\u043e\\u0442\\u043e\\u0432\\u044b \\u0440\\u0430\\u0431\\u043e\\u0442\\u0430\\u0442\\u044c \\u0441 \\u043a\\u043b\\u044e\\u0447\\u0435\\u0432\\u044b\\u043c\\u0438 ML<br>\\u0431\\u0438\\u0431\\u043b\\u0438\\u043e\\u0442\\u0435\\u043a\\u0430\\u043c\\u0438 (XGBoost, Scikit-learn, LightGBM);<br>\\u041e\\u0431\\u043b\\u0430\\u0434\\u0430\\u0435\\u0442\\u0435 \\u0443\\u0432\\u0435\\u0440\\u0435\\u043d\\u043d\\u044b\\u043c \\u0437\\u043d\\u0430\\u043d\\u0438\\u0435\\u043c Python \\u0438 \\u043e\\u043f\\u044b\\u0442\\u043e\\u043c<br>\\u0440\\u0430\\u0437\\u0440\\u0430\\u0431\\u043e\\u0442\\u043a\\u0438 API (Flask Django, FastAPI);<br>\\u041f\\u043e\\u043b\\u044c\\u0437\\u0443\\u0435\\u0442\\u0435\\u0441\\u044c \\u0438\\u043d\\u0441\\u0442\\u0440\\u0443\\u043c\\u0435\\u043d\\u0442\\u0430\\u043c\\u0438 \\u043a\\u043e\\u043c\\u0430\\u043d\\u0434\\u043d\\u043e\\u0439 \\u0441\\u0442\\u0440\\u043e\\u043a\\u0438 \\u0432<br>linux-\\u0441\\u0438\\u0441\\u0442\\u0435\\u043c\\u0430\\u0445; \\u0415\\u0441\\u0442\\u044c \\u043e\\u043f\\u044b\\u0442 \\u0440\\u0430\\u0431\\u043e\\u0442\\u044b \\u0441 opensource<br>MLOps \\u0440\\u0435\\u0448\\u0435\\u043d\\u0438\\u044f\\u043c\\u0438 (AirFlow, MLFlow, Seldon Core \\u0438\\u043b\\u0438<br>\\u0438\\u0445 \\u0430\\u043d\\u0430\\u043b\\u043e\\u0433\\u0430\\u043c\\u0438); \\u0418\\u0441\\u043f\\u043e\\u043b\\u044c\\u0437\\u0443\\u0435\\u0442\\u0435 Docker \\u0432 \\u043f\\u043e\\u0432\\u0441\\u0435\\u0434\\u043d\\u0435\\u0432\\u043d\\u043e\\u0439<br>\\u0440\\u0430\\u0431\\u043e\\u0442\\u0435 \\u0438 \\u043f\\u0440\\u0438\\u043c\\u0435\\u043d\\u044f\\u0435\\u0442\\u0435 DevOps \\u043f\\u0440\\u0430\\u043a\\u0442\\u0438\\u043a\\u0438 (git, CI/CD);<br>\\u041f\\u043e\\u043d\\u0438\\u043c\\u0430\\u0435\\u0442\\u0435, \\u0432 \\u0447\\u0435\\u043c \\u043e\\u0442\\u043b\\u0438\\u0447\\u0438\\u0435 Kafka \\u043e\\u0442 RabbitMQ;<br>\\u0423\\u0432\\u0435\\u0440\\u0435\\u043d\\u043d\\u043e \\u043f\\u043e\\u043b\\u044c\\u0437\\u0443\\u0435\\u0442\\u0435\\u0441\\u044c SQL \\u0438 \\u043e\\u0431\\u043b\\u0430\\u0434\\u0430\\u0435\\u0442\\u0435 \\u043e\\u043f\\u044b\\u0442\\u043e\\u043c \\u0440\\u0430\\u0431\\u043e\\u0442\\u044b<br>\\u0441 \\u0440\\u0435\\u043b\\u044f\\u0446\\u0438\\u043e\\u043d\\u043d\\u044b\\u043c\\u0438 \\u0421\\u0423\\u0411\\u0414 (\\u043d\\u0430\\u043f\\u0440\\u0438\\u043c\\u0435\\u0440, PostgreSQL)\"], [210000, 180000, \"\\u0416\\u0435\\u043b\\u0430\\u0442\\u0435\\u043b\\u0435\\u043d \\u043e\\u043f\\u044b\\u0442 \\u0432 \\u0440\\u0435\\u0448\\u0435\\u043d\\u0438\\u0438 ML-\\u0437\\u0430\\u0434\\u0430\\u0447 \\u0438\\u0437 \\u0431\\u0430\\u043d\\u043a\\u043e\\u0432\\u0441\\u043a\\u043e\\u0433\\u043e<br>\\u0441\\u0435\\u043a\\u0442\\u043e\\u0440\\u0430 (\\u0441\\u043a\\u043e\\u0440\\u0438\\u043d\\u0433\\u0438, \\u043a\\u0440\\u0435\\u0434\\u0438\\u0442\\u043d\\u044b\\u0435 \\u0440\\u0438\\u0441\\u043a\\u0438 \\u0438 \\u043f\\u0440.) \\u041e\\u043f\\u044b\\u0442<br>\\u043b\\u0438\\u0434\\u0438\\u0440\\u043e\\u0432\\u0430\\u043d\\u0438\\u044f \\u0441\\u0442\\u0440\\u0438\\u043c\\u043e\\u0432 \\u0441 \\u0442\\u0435\\u0445\\u043d\\u0438\\u0447\\u0435\\u0441\\u043a\\u043e\\u0439 \\u0442\\u043e\\u0447\\u043a\\u0438 \\u0437\\u0440\\u0435\\u043d\\u0438\\u044f,<br>\\u0443\\u043f\\u0440\\u0430\\u0432\\u043b\\u0435\\u043d\\u0438\\u044f \\u043a\\u043e\\u043c\\u0430\\u043d\\u0434\\u043e\\u0439 DS \\u0438 ML-\\u0441\\u043f\\u0435\\u0446\\u0438\\u0430\\u043b\\u0438\\u0441\\u0442\\u043e\\u0432; \\u041e\\u043f\\u044b\\u0442 \\u0438<br>\\u0440\\u0435\\u0448\\u0435\\u043d\\u043d\\u044b\\u0435 \\u043f\\u0440\\u0430\\u043a\\u0442\\u0438\\u0447\\u0435\\u0441\\u043a\\u0438\\u0435 \\u0437\\u0430\\u0434\\u0430\\u0447\\u0438 \\u0441 \\u0438\\u0441\\u043f\\u043e\\u043b\\u044c\\u0437\\u043e\\u0432\\u0430\\u043d\\u0438\\u0435\\u043c<br>\\u043c\\u0435\\u0442\\u043e\\u0434\\u043e\\u0432 ML \\u0438 DL (Python) \\u041e\\u043f\\u044b\\u0442 \\u0440\\u0430\\u0431\\u043e\\u0442\\u044b \\u0441 \\u0441\\u0438\\u0441\\u0442\\u0435\\u043c\\u0430\\u043c\\u0438<br>\\u0431\\u043e\\u043b\\u044c\\u0448\\u0438\\u0445 \\u0434\\u0430\\u043d\\u043d\\u044b\\u0445 (Spark), \\u041f\\u043e\\u043d\\u0438\\u043c\\u0430\\u043d\\u0438\\u0435 \\u043e\\u0431\\u0449\\u0435\\u0439 \\u043a\\u0443\\u043b\\u044c\\u0442\\u0443\\u0440\\u044b<br>\\u0441\\u043e\\u0432\\u0440\\u0435\\u043c\\u0435\\u043d\\u043d\\u043e\\u0439 \\u0440\\u0430\\u0437\\u0440\\u0430\\u0431\\u043e\\u0442\\u043a\\u0438: Git, \\u0440\\u0430\\u0431\\u043e\\u0442\\u0430 \\u043f\\u043e \\u0441\\u043f\\u0440\\u0438\\u043d\\u0442\\u0430\\u043c \\u0432<br>SAFe \\u0444\\u0440\\u0435\\u0439\\u043c\\u0432\\u043e\\u0440\\u043a\\u0435\"], [140000, 120000, \"Python, PySpark, Big Data, Machine Learning\"], [290000, 270000, \"\\u0412\\u043b\\u0430\\u0434\\u0435\\u043d\\u0438\\u0435 Python; \\u041e\\u0442\\u043b\\u0438\\u0447\\u043d\\u043e\\u0435 \\u0437\\u043d\\u0430\\u043d\\u0438\\u0435 PyTorch;  \\u041e\\u043f\\u044b\\u0442 \\u0432<br>\\u0440\\u0435\\u0448\\u0435\\u043d\\u0438\\u0438 \\u0437\\u0430\\u0434\\u0430\\u0447 object detection/ocr;   \\u0417\\u043d\\u0430\\u043d\\u0438\\u0435<br>\\u043b\\u044e\\u0431\\u043e\\u0433\\u043e \\u0444\\u0440\\u0435\\u0439\\u043c\\u0432\\u043e\\u0440\\u043a\\u0430 (Fast api, Flask , Django ,<br>Black sheep \\u0438 \\u0442.\\u043f)\"], [370000, 300000, \"\\u0432\\u044b\\u0441\\u043e\\u043a\\u0438\\u0439 \\u0443\\u0440\\u043e\\u0432\\u0435\\u043d\\u044c \\u0437\\u043d\\u0430\\u043d\\u0438\\u044f Python; \\u0443\\u043c\\u0435\\u043d\\u0438\\u0435<br>\\u0434\\u0435\\u043a\\u043e\\u043c\\u043f\\u043e\\u0437\\u0438\\u0440\\u043e\\u0432\\u0430\\u0442\\u044c \\u0437\\u0430\\u0434\\u0430\\u0447\\u0443 \\u0432 \\u043f\\u0435\\u0440\\u0435\\u0438\\u0441\\u043f\\u043e\\u043b\\u044c\\u0437\\u0443\\u0435\\u043c\\u044b\\u0435 \\u0438<br>\\u0442\\u0435\\u0441\\u0442\\u0438\\u0440\\u0443\\u0435\\u043c\\u044b\\u0435 \\u0431\\u0438\\u0431\\u043b\\u0438\\u043e\\u0442\\u0435\\u043a\\u0438 \\u0438 \\u043a\\u043e\\u043c\\u043f\\u043e\\u043d\\u0435\\u043d\\u0442\\u044b; \\u0445\\u043e\\u0440\\u043e\\u0448\\u0430\\u044f<br>\\u0442\\u0435\\u043e\\u0440\\u0435\\u0442\\u0438\\u0447\\u0435\\u0441\\u043a\\u0430\\u044f \\u043f\\u043e\\u0434\\u0433\\u043e\\u0442\\u043e\\u0432\\u043a\\u0430 \\u0432 \\u043e\\u0431\\u043b\\u0430\\u0441\\u0442\\u044f\\u0445 \\u043c\\u0430\\u0442\\u0435\\u043c\\u0430\\u0442\\u0438\\u043a\\u0438,<br>\\u0430\\u043b\\u0433\\u043e\\u0440\\u0438\\u0442\\u043c\\u043e\\u0432 \\u0438 \\u0441\\u0442\\u0440\\u0443\\u043a\\u0442\\u0443\\u0440 \\u0434\\u0430\\u043d\\u043d\\u044b\\u0445, \\u043f\\u0440\\u0438\\u043a\\u043b\\u0430\\u0434\\u043d\\u043e\\u0439<br>\\u0441\\u0442\\u0430\\u0442\\u0438\\u0441\\u0442\\u0438\\u043a\\u0438; \\u043f\\u0440\\u0430\\u043a\\u0442\\u0438\\u0447\\u0435\\u0441\\u043a\\u0438\\u0435 \\u0437\\u043d\\u0430\\u043d\\u0438\\u044f Git, Bash, Docker;<br>\\u0437\\u043d\\u0430\\u043d\\u0438\\u0435 SQL\"], [280000, 180000, \"Greenplum, Teradata, ORACLE, MSSQL, DWH, Python,<br>ETL, Hadoop, CI/CD, Jenkins, Bitbucket, Git, Linux\"], [200000, 150000, \"Greenplum (Arenadata DB), PostgreSQL, Clickhouse\"], [220000, 200000, \"Python, Machine Learning, Linux\"], [250000, 150000, \"Python, Machine Learning, Linux\"], [170000, 70000, \"Python, Machine Learning, Linux\"], [350000, 300000, \"Python, Docker, Kubernetes, RESTAPI\"], [190000, 120000, \"\\u041e\\u043f\\u044b\\u0442 \\u043d\\u0430\\u0441\\u0442\\u0440\\u043e\\u0439\\u043a\\u0438 \\u0438 \\u0430\\u0434\\u043c\\u0438\\u043d\\u0438\\u0441\\u0442\\u0440\\u0438\\u0440\\u043e\\u0432\\u0430\\u043d\\u0438\\u044f \\u0411\\u0414, \\u043a\\u043e\\u0442\\u043e\\u0440\\u044b\\u0435<br>\\u0438\\u0441\\u043f\\u043e\\u043b\\u044c\\u0437\\u0443\\u044e\\u0442\\u0441\\u044f \\u0443 \\u043d\\u0430\\u0441 - Clickhouse \\u0438 Postgres (\\u043e\\u043f\\u044b\\u0442 \\u0441<br>Oracle \\u0438\\u043b\\u0438 MySQL \\u0442\\u043e\\u0436\\u0435 \\u043f\\u043e\\u0434\\u043e\\u0439\\u0434\\u0435\\u0442);   \\u0413\\u043b\\u0443\\u0431\\u043e\\u043a\\u043e\\u0435 \\u0437\\u043d\\u0430\\u043d\\u0438\\u0435<br>\\u043f\\u0440\\u0438\\u043d\\u0446\\u0438\\u043f\\u043e\\u0432 \\u043e\\u0440\\u0433\\u0430\\u043d\\u0438\\u0437\\u0430\\u0446\\u0438\\u0438 \\u043b\\u043e\\u0433\\u0438\\u0447\\u0435\\u0441\\u043a\\u043e\\u0439 \\u0441\\u0442\\u0440\\u0443\\u043a\\u0442\\u0443\\u0440\\u044b \\u0442\\u0430\\u0431\\u043b\\u0438\\u0446<br>\\u0438 ETL \\u043f\\u0440\\u043e\\u0446\\u0435\\u0441\\u0441\\u043e\\u0432 \\u043d\\u0430 \\u0442\\u0435\\u043a\\u0443\\u0449\\u0435\\u043c \\u043c\\u0435\\u0441\\u0442\\u0435 \\u0440\\u0430\\u0431\\u043e\\u0442\\u044b;   \\u0417\\u043d\\u0430\\u043d\\u0438\\u0435<br>Python, \\u043b\\u0438\\u0431\\u043e \\u0436\\u0435\\u043b\\u0430\\u043d\\u0438\\u0435 \\u043d\\u0430 \\u043d\\u0435\\u0433\\u043e \\u043f\\u0435\\u0440\\u0435\\u0439\\u0442\\u0438 \\u0441 \\u0434\\u0440\\u0443\\u0433\\u043e\\u0433\\u043e<br>\\u044f\\u0437\\u044b\\u043a\\u0430 \\u0441 \\u041e\\u041f\"], [220000, 200000, \"Python, ML, NLP\"], [230000, 180000, \"Python, Git, Hadoop/Spark, SQL, Linux\"], [280000, 210000, \"pandas, TensorFlow, PyTorch, Scikit-learn\"], [220000, 150000, \"Pandas, NumPy, SciPy, sklearn, SQL\"], [220000, 150000, \"Python, C++, \\u041c\\u0430\\u0442\\u0435\\u043c\\u0430\\u0442\\u0438\\u0447\\u0435\\u0441\\u043a\\u0430\\u044f \\u0441\\u0442\\u0430\\u0442\\u0438\\u0441\\u0442\\u0438\\u043a\\u0430, \\u041c\\u0435\\u0442\\u043e\\u0434\\u044b<br>\\u043e\\u043f\\u0442\\u0438\\u043c\\u0438\\u0437\\u0430\\u0446\\u0438\\u0438\"], [180000, 150000, \"Python, Git, Docker, Machine Learning, Stable<br>Diffusion, PyTorch, Computer Vision\"], [150000, 120000, \"Python, pd, lgd\"], [150000, 100000, \"\\u043f\\u043e\\u0441\\u0442\\u0440\\u043e\\u0435\\u043d\\u0438\\u0435 \\u0440\\u0435\\u043a\\u043e\\u043c\\u0435\\u043d\\u0434\\u0430\\u0446\\u0438\\u0439 \\u0441 \\u043d\\u0443\\u043b\\u044f\"], [310000, 280000, \"Cross-validation, Machine Learning, Python,<br>Docker, K8S\"], [170000, 100000, \"\\u0432\\u043b\\u0430\\u0434\\u0435\\u043d\\u0438\\u0435 Python (pandas, numpy, seaborn,<br>matplotlib); \\u0432\\u043b\\u0430\\u0434\\u0435\\u043d\\u0438\\u0435 SQL; \\u043e\\u043f\\u044b\\u0442 \\u0440\\u0430\\u0431\\u043e\\u0442\\u044b \\u0441 Hadoop,<br>Spark\"], [300000, 250000, \"Python, SQL, Hadoop, Spark, Airflow\"], [100000, 80000, \"Cross-validation, Machine Learning, Python,<br>Docker, K8S\"], [65000, 55000, \"SQL, Python, Airflow, ORACLE, Postgres, Git,<br>Clickhouse, ETL, Jira, Trello\"], [170000, 120000, \"SQL, Python, \\u0420\\u0430\\u0431\\u043e\\u0442\\u0430 \\u0441 \\u0431\\u0430\\u0437\\u0430\\u043c\\u0438 \\u0434\\u0430\\u043d\\u043d\\u044b\\u0445,<br>\\u041c\\u0430\\u0442\\u0435\\u043c\\u0430\\u0442\\u0438\\u0447\\u0435\\u0441\\u043a\\u043e\\u0435 \\u043c\\u043e\\u0434\\u0435\\u043b\\u0438\\u0440\\u043e\\u0432\\u0430\\u043d\\u0438\\u0435, \\u0410\\u043d\\u0430\\u043b\\u0438\\u0442\\u0438\\u0447\\u0435\\u0441\\u043a\\u0438\\u0435<br>\\u0438\\u0441\\u0441\\u043b\\u0435\\u0434\\u043e\\u0432\\u0430\\u043d\\u0438\\u044f, \\u0421\\u0435\\u0433\\u043c\\u0435\\u043d\\u0442\\u0438\\u0440\\u043e\\u0432\\u0430\\u043d\\u0438\\u0435 \\u0430\\u0443\\u0434\\u0438\\u0442\\u043e\\u0440\\u0438\\u0438,<br>\\u041a\\u043b\\u0430\\u0441\\u0442\\u0435\\u0440\\u043d\\u044b\\u0439 \\u0430\\u043d\\u0430\\u043b\\u0438\\u0437\"], [190000, 180000, \"ML, Data Science, Python, SQL, Hive, PostgreSQL,<br>Greenplum, Airflow, MLflow, Docker, FastAPI,<br>PySpark\"], [200000, 150000, \"Python, SQL, \\u0411\\u0430\\u0437\\u044b \\u0434\\u0430\\u043d\\u043d\\u044b\\u0445, \\u041c\\u0430\\u0448\\u0438\\u043d\\u043d\\u043e\\u0435 \\u043e\\u0431\\u0443\\u0447\\u0435\\u043d\\u0438\\u0435, NLP\"], [170000, 100000, \"Python, SQL, \\u041f\\u0440\\u043e\\u0433\\u043d\\u043e\\u0437\\u0438\\u0440\\u043e\\u0432\\u0430\\u043d\\u0438\\u0435, Airflow\"], [230000, 180000, \"IT, \\u043f\\u043e\\u0438\\u0441\\u043a, Python, ML, Hadoop, Spark, Yarn, Hive,<br>HDFS, MLFlow, \\u0420\\u0430\\u0437\\u0440\\u0430\\u0431\\u043e\\u0442\\u043a\\u0430 \\u043f\\u043e\\u0438\\u0441\\u043a\\u043e\\u0432\\u044b\\u0445 \\u0442\\u0435\\u0445\\u043d\\u043e\\u043b\\u043e\\u0433\\u0438\\u0439\"], [290000, 270000, \"Python, data science, \\u0420\\u0430\\u0437\\u0440\\u0430\\u0431\\u043e\\u0442\\u043a\\u0430 \\u043f\\u043e\\u0438\\u0441\\u043a\\u043e\\u0432\\u044b\\u0445<br>\\u0442\\u0435\\u0445\\u043d\\u043e\\u043b\\u043e\\u0433\\u0438\\u0439, IT\"], [260000, 210000, \"PD, LGD, \\u041c\\u0430\\u0442\\u0435\\u043c\\u0430\\u0442\\u0438\\u0447\\u0435\\u0441\\u043a\\u043e\\u0435 \\u043c\\u043e\\u0434\\u0435\\u043b\\u0438\\u0440\\u043e\\u0432\\u0430\\u043d\\u0438\\u0435, Python\"], [150000, 120000, \"Python, Machine Learning, SQL, A/B \\u0442\\u0435\\u0441\\u0442\\u044b, Docker,<br>Git\"], [230000, 180000, \"SQL, Python, \\u041c\\u0430\\u0442\\u0435\\u043c\\u0430\\u0442\\u0438\\u0447\\u0435\\u0441\\u043a\\u0430\\u044f \\u0441\\u0442\\u0430\\u0442\\u0438\\u0441\\u0442\\u0438\\u043a\\u0430,<br>\\u041c\\u0430\\u0442\\u0435\\u043c\\u0430\\u0442\\u0438\\u0447\\u0435\\u0441\\u043a\\u0438\\u0439 \\u0430\\u043d\\u0430\\u043b\\u0438\\u0437, Machine Learning, Numpy,<br>Pandas\"], [250000, 200000, \"Python, PyTorch, Hadoop, Computer Vision, NLP\"], [450000, 330000, \"Python, SQL, Spark, \\u0411\\u0430\\u0437\\u044b \\u0434\\u0430\\u043d\\u043d\\u044b\\u0445, PHP, ClickHouse,<br>Elastic Search, MySQL, SCALA, TypeScript\"], [150000, 100000, \"Python, \\u041c\\u0430\\u0442\\u0435\\u043c\\u0430\\u0442\\u0438\\u0447\\u0435\\u0441\\u043a\\u0430\\u044f \\u0441\\u0442\\u0430\\u0442\\u0438\\u0441\\u0442\\u0438\\u043a\\u0430, SQL, \\u0410\\u043d\\u0430\\u043b\\u0438\\u0437<br>\\u0440\\u0438\\u0441\\u043a\\u043e\\u0432, \\u0410\\u043d\\u0433\\u043b\\u0438\\u0439\\u0441\\u043a\\u0438\\u0439 \\u044f\\u0437\\u044b\\u043a\"], [350000, 300000, \"ML \\u0438 DL (Python)\"], [290000, 280000, \"Python, Spark, Dagster, S3, Kafka, Kubernetes\"], [110000, 100000, \"Python, Machine Learning\"], [300000, 200000, \"TTS, Text to speach, NumPy, Matplotlib, pandas,<br>PyTorch, Transformers\"], [250000, 150000, \"Python, Big Data, SQL, Hadoop, \\u0410\\u0412-\\u0442\\u0435\\u0441\\u0442\\u0438\\u0440\\u043e\\u0432\\u0430\\u043d\\u0438\\u0435,<br>\\u041c\\u0430\\u0442\\u0435\\u043c\\u0430\\u0442\\u0438\\u0447\\u0435\\u0441\\u043a\\u0430\\u044f \\u0441\\u0442\\u0430\\u0442\\u0438\\u0441\\u0442\\u0438\\u043a\\u0430, \\u041c\\u0430\\u0442\\u0435\\u043c\\u0430\\u0442\\u0438\\u0447\\u0435\\u0441\\u043a\\u0438\\u0439 \\u0430\\u043d\\u0430\\u043b\\u0438\\u0437\"], [150000, 100000, \"Pytorch, Git, Docker, Deep learning, Python, Jira\"], [105000, 55000, \"Deep Learning, \\u041f\\u0440\\u043e\\u0433\\u043d\\u043e\\u0437\\u0438\\u0440\\u043e\\u0432\\u0430\\u043d\\u0438\\u0435, Time Series\"], [290000, 270000, \"NLP, Python, Machine Learning, Deep Learning,<br>Numpy, \\u0410\\u043b\\u0433\\u043e\\u0440\\u0438\\u0442\\u043c\\u044b, \\u041c\\u0430\\u0448\\u0438\\u043d\\u043d\\u043e\\u0435 \\u043e\\u0431\\u0443\\u0447\\u0435\\u043d\\u0438\\u0435, ML, Git\"], [230000, 180000, \"Python3 (numpy, pandas, scikit-learn, xgboost,<br>lightgbm, catboost, etc), git\"], [330000, 300000, \"PostgreSQL, ETL, DWH, ClickHouse\"], [230000, 180000, \"python, pandas, numpy, \\u0432\\u0438\\u0437\\u0443\\u0430\\u043b\\u0438\\u0437\\u0430\\u0446\\u0438\\u044f (matplotlib,<br>seaborn, plotly, \\u043f\\u0440.), sklearn,CatBoost, XGBoost,<br>LightGBM, Git, Flask, FastAPI- \\u0434\\u043b\\u044f \\u043f\\u043e\\u043b\\u0443\\u0447\\u0435\\u043d\\u0438\\u044f<br>\\u0434\\u0430\\u043d\\u043d\\u044b\\u0445: SQL (PostgreSQL)- \\u0434\\u043b\\u044f \\u043c\\u043e\\u043d\\u0438\\u0442\\u043e\\u0440\\u0438\\u043d\\u0433\\u0430: Grafana\"], [230000, 180000, \"PyTorch, PySpark, Python, ML\"], [210000, 180000, \"Python, Machine Learning, Linux\"], [105000, 75000, \"Python, Machine Learning, Linux\"], [170000, 120000, \"Python, Machine Learning, Big Data, ML, Spark\"], [200000, 150000, \"matplotlib, seaborn, plotly, pandas, numpy,<br>scikit-learn, scipy, statsmodels\"], [180000, 150000, \"Python, SQL, Machine Learning, \\u0410\\u043d\\u0430\\u043b\\u0438\\u0437 \\u0434\\u0430\\u043d\\u043d\\u044b\\u0445\"], [260000, 250000, \"Python, Docker, Pandas, Kafka, Kubernetes, Luigi,<br>Clickhouse\"], [150000, 100000, \"NLP, Python, PyTorch, Data Science, Numpy, Sklearn\"], [160000, 130000, \"Pandas, Matplotlib, Numpy, Scipy, Sklearn, SQL\"], [340000, 270000, \"Python, SQL, Spark\"], [230000, 200000, \"SAP BusinessObject, SAP DataIntegrator, MS SQL,<br>Oracle\"], [350000, 300000, \"Python, SQL\"], [230000, 180000, \"\\u041c\\u0430\\u0442\\u0435\\u043c\\u0430\\u0442\\u0438\\u0447\\u0435\\u0441\\u043a\\u043e\\u0435 \\u043c\\u043e\\u0434\\u0435\\u043b\\u0438\\u0440\\u043e\\u0432\\u0430\\u043d\\u0438\\u0435, Java, Kotlin\"], [260000, 210000, \"Python, PyTorch, Machine Learning, Deep Learning,<br>OpenCV, \\u0410\\u043b\\u0433\\u043e\\u0440\\u0438\\u0442\\u043c\\u044b, Resnet, Mobilenet, U-net, Yolo,<br>Deeplab, Computer Vision, \\u0410\\u043d\\u0433\\u043b\\u0438\\u0439\\u0441\\u043a\\u0438\\u0439 \\u044f\\u0437\\u044b\\u043a, GitLab<br>CI\"], [200000, 130000, \"SQL, Python, Kafka, Docker\"], [300000, 270000, \"Python, classic ML, Data Science, SQL, Airflow,<br>MLflow, Deep Learning\"], [150000, 120000, \"PostgreSQL, Python, SQL, MLFlow, Airflow\"], [310000, 280000, \"Python, SQL, PySpark, Pandas, PyTorch, RecBole,<br>Scikit-learn, MLFlow, AirFlow, Prefect, Luigi\"], [320000, 300000, \"Greenplum (Arenadata DB), PostgreSQL, Clickhouse\"], [250000, 200000, \"Python, SQL, MS SQL, ORACLE, PostgreSQL, Git, ETL,<br>Hadoop, Airflow, Spark\"], [290000, 280000, \"Python, Big Data, Kubernetes, FastAPI, Pytorch,<br>Triton inference server, OpenCV, Docker, \\u0423\\u043c\\u0435\\u043d\\u0438\\u0435<br>\\u043f\\u0440\\u0438\\u043d\\u0438\\u043c\\u0430\\u0442\\u044c \\u0440\\u0435\\u0448\\u0435\\u043d\\u0438\\u044f, \\u041e\\u0440\\u0433\\u0430\\u043d\\u0438\\u0437\\u0430\\u0442\\u043e\\u0440\\u0441\\u043a\\u0438\\u0435 \\u043d\\u0430\\u0432\\u044b\\u043a\\u0438,<br>\\u0423\\u043f\\u0440\\u0430\\u0432\\u043b\\u0435\\u043d\\u0438\\u0435 \\u043a\\u043e\\u043c\\u0430\\u043d\\u0434\\u043e\\u0439, \\u0420\\u0430\\u0431\\u043e\\u0442\\u0430 \\u0441 \\u0431\\u043e\\u043b\\u044c\\u0448\\u0438\\u043c \\u043e\\u0431\\u044a\\u0435\\u043c\\u043e\\u043c<br>\\u0438\\u043d\\u0444\\u043e\\u0440\\u043c\\u0430\\u0446\\u0438\\u0438\"], [370000, 270000, \"Python ML stack, Python NLP stack, JupyterLab\"], [230000, 180000, \"SQL, Python, Machine learning, Data Analysis\"], [170000, 100000, \"SQL, Python, \\u041c\\u0430\\u0442\\u0435\\u043c\\u0430\\u0442\\u0438\\u0447\\u0435\\u0441\\u043a\\u043e\\u0435 \\u043c\\u043e\\u0434\\u0435\\u043b\\u0438\\u0440\\u043e\\u0432\\u0430\\u043d\\u0438\\u0435, Big<br>Data, ML\"], [260000, 210000, \"Python, jupyter, pycharm, sql, pyspark, sparkML,<br>git, jira, confluence\"], [310000, 300000, \"\\u041e\\u043f\\u044b\\u0442 \\u043f\\u043e\\u0441\\u0442\\u0440\\u043e\\u0435\\u043d\\u0438\\u044f \\u043c\\u043e\\u0434\\u0435\\u043b\\u0435\\u0439 \\u0441 \\u043f\\u043e\\u043c\\u043e\\u0449\\u044c\\u044e \\u043a\\u043b\\u0430\\u0441\\u0441\\u0438\\u0447\\u0435\\u0441\\u043a\\u043e\\u0433\\u043e<br>ML-\\u0441\\u0442\\u0435\\u043a\\u0430; \\u041b\\u044e\\u0431\\u043e\\u0432\\u044c \\u043a Python, \\u041e\\u041e\\u041f \\u0438 \\u0441\\u0442\\u0440\\u0443\\u043a\\u0442\\u0443\\u0440\\u0430\\u043c<br>\\u0434\\u0430\\u043d\\u043d\\u044b\\u0445; \\u041d\\u0430\\u0432\\u044b\\u043a\\u0438 \\u0440\\u0430\\u0431\\u043e\\u0442\\u044b \\u0441 (py)Spark, \\u0423\\u0432\\u0435\\u0440\\u0435\\u043d\\u043d\\u044b\\u0435<br>\\u0437\\u043d\\u0430\\u043d\\u0438\\u044f SQL, \\u0442\\u0435\\u043e\\u0440\\u0438\\u0438 \\u0432\\u0435\\u0440\\u043e\\u044f\\u0442\\u043d\\u043e\\u0441\\u0442\\u0438 \\u0438 \\u0441\\u0442\\u0430\\u0442\\u0438\\u0441\\u0442\\u0438\\u043a\\u0438; \\u041a\\u0435\\u0439\\u0441\\u044b<br>\\u0441 \\u043f\\u0440\\u0438\\u043c\\u0435\\u043d\\u0435\\u043d\\u0438\\u0435\\u043c \\u0441\\u043e\\u0431\\u0441\\u0442\\u0432\\u0435\\u043d\\u043d\\u044b\\u0445 \\u043c\\u0435\\u0442\\u043e\\u0434\\u0438\\u043a \\u0432 \\u0430\\u043d\\u0430\\u043b\\u0438\\u0437\\u0435 \\u0434\\u0430\\u043d\\u043d\\u044b\\u0445<br>\\u0438 \\u043f\\u043e\\u0441\\u0442\\u0440\\u043e\\u0435\\u043d\\u0438\\u0438 \\u043c\\u043e\\u0434\\u0435\\u043b\\u0435\\u0439 \\u043d\\u0430 \\u0442\\u0430\\u0431\\u043b\\u0438\\u0447\\u043d\\u044b\\u0445 \\u0434\\u0430\\u043d\\u043d\\u044b\\u0445; \\u0425\\u043e\\u0440\\u043e\\u0448\\u0438\\u0435<br>\\u043e\\u0442\\u043d\\u043e\\u0448\\u0435\\u043d\\u0438\\u044f \\u0441 Git, Jira, Confluence\"], [230000, 180000, \"Python, data science, \\u0420\\u0430\\u0437\\u0440\\u0430\\u0431\\u043e\\u0442\\u043a\\u0430 \\u043f\\u043e\\u0438\\u0441\\u043a\\u043e\\u0432\\u044b\\u0445<br>\\u0442\\u0435\\u0445\\u043d\\u043e\\u043b\\u043e\\u0433\\u0438\\u0439, IT\"], [210000, 200000, \"NLP, Llama, LoRA\"], [320000, 270000, \"Python, Machine Learning, Bokeh, Plotly, SQL\"], [110000, 100000, \"PySpark, Airflow, Hadoop\"], [150000, 120000, \"Hadoop, Spark, Hive, Map Reduce, Data streaming<br>(Kafka, NiFi), Greenplum; Python Application<br>Server (Anaconda); Jupiter notebook, Jupiter Hub;<br>Red Hat, Ubuntu, CentOS; GitLab\"], [150000, 100000, \"Python, pd, lgd, SQL\"], [340000, 270000, \"SQL, ML\"], [210000, 180000, \"deep learning (Reinforcement Learning, RNN, LSTM);<br>\\u0437\\u043d\\u0430\\u043d\\u0438\\u0435 \\u0438\\u043d\\u0441\\u0442\\u0440\\u0443\\u043c\\u0435\\u043d\\u0442\\u043e\\u0432 AutoML; \\u043e\\u043f\\u044b\\u0442 \\u0440\\u0430\\u0431\\u043e\\u0442\\u044b \\u0441 Apache<br>NiFi; \\u043e\\u0442\\u043b\\u0438\\u0447\\u043d\\u043e\\u0435 \\u0437\\u043d\\u0430\\u043d\\u0438\\u0435 Python (scikit-learn,<br>pandas, numpy, scipy, xgboost, tensorflow/pytorch,<br>keras) Scala\"], [300000, 280000, \"Python, Scala\"], [180000, 80000, \"Python, PyTorch, Tensorflow, Pandas, Numpy,<br>Xgboost, Catboost, HuggingFace, Arima\"], [170000, 100000, \"Python, PL/pgSQL \\u0438 SQL\"], [210000, 200000, \"Python, PL/pgSQL \\u0438 SQL\"], [350000, 300000, \"Python, Docker, SCALA, Hadoop, Big Data, Spark,<br>Machine Learning\"], [330000, 300000, \"PostgreSQL, MS SQL Server, DWH, Power BI, \\u0411\\u0430\\u0437\\u044b<br>\\u0434\\u0430\\u043d\\u043d\\u044b\\u0445, ETL\"], [200000, 150000, \"Python Application Server (Anaconda); Jupiter<br>notebook, Jupiter Hub; Red Hat, Ubuntu, CentOS;<br>GitLab\"], [150000, 100000, \"Python: PyTorch, Transformers, Peft, Scikit-learn,<br>Pandas; Spark, GitLab, Docker, Kubernetes,<br>AirFlow; Hadoop, PostgreSQL, Kafka; Jira,<br>Confluence\"], [340000, 220000, \"Python, DWH, PostgresSQL, CRM, ERP, SQL, ETL,<br>PowerBI, PostgreSQL, Power BI, ML\"], [220000, 120000, \"Python, Machine Learning, Hadoop, Spark, Big Data,<br>Kafka, Airflow\"], [330000, 280000, \"Python, Linux, OpenCV, PyTorch, Computer Vision\"], [230000, 180000, \"ML, NLP (Python)\"], [125000, 55000, \"PyTorch, TensorFlow, Transformers, T5, Bert,<br>HuggingFace, ChatGPT, Deep Learning, NLP, Data<br>Science, Machine Learning, ML\"], [250000, 180000, \"Python, data science, \\u0420\\u0430\\u0437\\u0440\\u0430\\u0431\\u043e\\u0442\\u043a\\u0430 \\u043f\\u043e\\u0438\\u0441\\u043a\\u043e\\u0432\\u044b\\u0445<br>\\u0442\\u0435\\u0445\\u043d\\u043e\\u043b\\u043e\\u0433\\u0438\\u0439, IT\"], [230000, 180000, \"QA, MLOps/DevOps\"], [290000, 190000, \"Kafka, DWH, ClickHouse, Greenplum, Airflow,<br>Hadoop, Spark\"], [180000, 150000, \"data science, Python, SQL\"], [370000, 300000, \"Scikit-learn, TensorFlow, XGBoost, CatBoost\"], [370000, 270000, \"SQL, PostgreSQL, \\u0421\\u0423\\u0411\\u0414, Java, Power BI\"], [170000, 120000, \"C++, Python, Cuda, Computer vision, Deep Learning\"], [210000, 180000, \"ORACLE, Hadoop, Big Data, PostgreSQL, Spark,<br>FastApi, AirFlow\"], [370000, 270000, \"Clickhouse, \\u0410irFlow, Postgres, Grafana, Prometheus\"], [300000, 270000, \"Machine learning, Data science, RecSys\"], [370000, 300000, \"Python, \\u0423\\u043f\\u0440\\u0430\\u0432\\u043b\\u0435\\u043d\\u0438\\u0435 \\u043a\\u043e\\u043c\\u0430\\u043d\\u0434\\u043e\\u0439\"], [170000, 120000, \"PySpark, Airflow, Hadoop, redis, rabbitMQ, k8s,<br>LLM, NLP\"], [170000, 150000, \"Python, Hadoop, Big Data, Spark, Airflow, SCALA,<br>Hive, ETL, DWH\"], [310000, 210000, \"Python, SQL\"], [210000, 180000, \"Python, Big Data, Machine Learning, Hadoop, Hive,<br>Spark, ML\"], [230000, 180000, \"\\u0417\\u043d\\u0430\\u043d\\u0438\\u0435 R \\u0438\\u043b\\u0438 Python (Pandas, NumPy, Scikit-Learn,<br>LightGBM, XGBoost, CatBoost)\"], [160000, 150000, \"Python, pytorch, numpy, sklearn, pandas, OCR, CV,<br>OpenCV, docker\"], [230000, 180000, \"Python, \\u0410\\u043d\\u0430\\u043b\\u0438\\u0437 \\u0434\\u0430\\u043d\\u043d\\u044b\\u0445, Git, Docker, LLM, NLP\"], [330000, 280000, \"Scikit-learn, HuggingFace, PyTorch\"], [210000, 180000, \"Python, Docker, SCALA, Hadoop, Big Data, Spark,<br>Machine Learning\"], [500000, 300000, \"ML (GBDT, LR), Kotlin\"], [250000, 200000, \"Python, ML, Spark, Machine Learning\"], [270000, 200000, \"Python, PostgreSQL, nlp, MATLAB, \\u0410\\u043d\\u0430\\u043b\\u0438\\u0437 \\u0434\\u0430\\u043d\\u043d\\u044b\\u0445,<br>PyTorch, Data Science, NLP\"], [210000, 200000, \"\\u0410\\u043d\\u0430\\u043b\\u0438\\u0442\\u0438\\u0447\\u0435\\u0441\\u043a\\u043e\\u0435 \\u043c\\u044b\\u0448\\u043b\\u0435\\u043d\\u0438\\u0435, \\u0410\\u043d\\u0430\\u043b\\u0438\\u0442\\u0438\\u0447\\u0435\\u0441\\u043a\\u0438\\u0435<br>\\u0438\\u0441\\u0441\\u043b\\u0435\\u0434\\u043e\\u0432\\u0430\\u043d\\u0438\\u044f, \\u041c\\u0430\\u0442\\u0435\\u043c\\u0430\\u0442\\u0438\\u0447\\u0435\\u0441\\u043a\\u043e\\u0435 \\u043c\\u043e\\u0434\\u0435\\u043b\\u0438\\u0440\\u043e\\u0432\\u0430\\u043d\\u0438\\u0435, Data<br>Analysis, Machine Learning, Big Data,<br>\\u041f\\u0440\\u043e\\u0433\\u043d\\u043e\\u0437\\u0438\\u0440\\u043e\\u0432\\u0430\\u043d\\u0438\\u0435, ML, MongoDB, NoSQL, ETL, MATLAB,<br>NLP, LLM-driven, LoRa, RAG, PyTorch\"], [280000, 270000, \"ML, Data Science\"], [340000, 270000, \"Transformers, GPT, LLMs, BERT, T5, \\u0447\\u0430\\u0442-\\u0431\\u043e\\u0442\\u044b,<br>fairseq\"], [260000, 210000, \"\\u0423\\u043f\\u0440\\u0430\\u0432\\u043b\\u0435\\u043d\\u0438\\u0435 \\u043a\\u043e\\u043c\\u0430\\u043d\\u0434\\u043e\\u0439, \\u0426\\u0438\\u0444\\u0440\\u043e\\u0432\\u044b\\u0435 \\u043a\\u0430\\u043d\\u0430\\u043b\\u044b, \\u0426\\u0438\\u0444\\u0440\\u043e\\u0432\\u044b\\u0435<br>\\u043f\\u0440\\u043e\\u0434\\u0430\\u0436\\u0438, \\u0410\\u043d\\u0430\\u043b\\u0438\\u0442\\u0438\\u043a\\u0430 \\u0434\\u0430\\u043d\\u043d\\u044b\\u0445, \\u0421\\u0442\\u0440\\u0443\\u043a\\u0442\\u0443\\u0440\\u0430 \\u0438 \\u043f\\u0440\\u0435\\u0437\\u0435\\u043d\\u0442\\u0430\\u0446\\u0438\\u044f<br>\\u0446\\u0438\\u0444\\u0440, \\u041a\\u043e\\u043c\\u0430\\u043d\\u0434\\u043e\\u043e\\u0431\\u0440\\u0430\\u0437\\u043e\\u0432\\u0430\\u043d\\u0438\\u0435, \\u0411\\u0438\\u0437\\u043d\\u0435\\u0441-\\u0430\\u043d\\u0430\\u043b\\u0438\\u0437,<br>\\u0421\\u0442\\u0440\\u0430\\u0442\\u0435\\u0433\\u0438\\u0447\\u0435\\u0441\\u043a\\u043e\\u0435 \\u043c\\u044b\\u0448\\u043b\\u0435\\u043d\\u0438\\u0435, \\u0423\\u043f\\u0440\\u0430\\u0432\\u043b\\u0435\\u043d\\u0438\\u0435 \\u0438\\u043d\\u0442\\u0435\\u0440\\u043d\\u0435\\u0442-<br>\\u043f\\u0440\\u043e\\u0435\\u043a\\u0442\\u0430\\u043c\\u0438\"], [150000, 100000, \"Python, SQL, \\u041c\\u0430\\u0442\\u0435\\u043c\\u0430\\u0442\\u0438\\u0447\\u0435\\u0441\\u043a\\u0430\\u044f \\u0441\\u0442\\u0430\\u0442\\u0438\\u0441\\u0442\\u0438\\u043a\\u0430, Hadoop,<br>\\u041c\\u0430\\u0442\\u0435\\u043c\\u0430\\u0442\\u0438\\u0447\\u0435\\u0441\\u043a\\u043e\\u0435 \\u043c\\u043e\\u0434\\u0435\\u043b\\u0438\\u0440\\u043e\\u0432\\u0430\\u043d\\u0438\\u0435, Spark, ML\"], [260000, 210000, \"Python, PostgreSQL, nlp, MATLAB, \\u0410\\u043d\\u0430\\u043b\\u0438\\u0437 \\u0434\\u0430\\u043d\\u043d\\u044b\\u0445,<br>PyTorch, Data Science, NLP\"], [400000, 300000, \"Python, SQL, \\u0430\\u043b\\u0433\\u043e\\u0440\\u0438\\u0442\\u043c\\u044b ML, Pandas, Sklearn, Numpy,<br>\\u041c\\u0430\\u0442\\u0435\\u043c\\u0430\\u0442\\u0438\\u0447\\u0435\\u0441\\u043a\\u0430\\u044f \\u0441\\u0442\\u0430\\u0442\\u0438\\u0441\\u0442\\u0438\\u043a\\u0430, \\u043c\\u0430\\u0448\\u0438\\u043d\\u043d\\u043e\\u0435 \\u043e\\u0431\\u0443\\u0447\\u0435\\u043d\\u0438\\u0435\"], [220000, 150000, \"MongoDB, ElasticSearch, Redis, .NET Core, Python,<br>PostgreSQL, EF Core\"], [150000, 130000, \"NLTK, genism, word2vec, Bert\"], [130000, 120000, \"Python, SQL\"], [130000, 100000, \"Python, Spark, SQL, Machine learning, Deep<br>learning, NLP\"], [310000, 280000, \"\\u0410\\u043d\\u0430\\u043b\\u0438\\u0442\\u0438\\u0447\\u0435\\u0441\\u043a\\u043e\\u0435 \\u043c\\u044b\\u0448\\u043b\\u0435\\u043d\\u0438\\u0435, \\u0410\\u043d\\u0430\\u043b\\u0438\\u0442\\u0438\\u0447\\u0435\\u0441\\u043a\\u0438\\u0435<br>\\u0438\\u0441\\u0441\\u043b\\u0435\\u0434\\u043e\\u0432\\u0430\\u043d\\u0438\\u044f, \\u041c\\u0430\\u0442\\u0435\\u043c\\u0430\\u0442\\u0438\\u0447\\u0435\\u0441\\u043a\\u043e\\u0435 \\u043c\\u043e\\u0434\\u0435\\u043b\\u0438\\u0440\\u043e\\u0432\\u0430\\u043d\\u0438\\u0435, Data<br>Analysis, Machine Learning, Big Data,<br>\\u041f\\u0440\\u043e\\u0433\\u043d\\u043e\\u0437\\u0438\\u0440\\u043e\\u0432\\u0430\\u043d\\u0438\\u0435, ML, MongoDB, NoSQL, ETL, MATLAB,<br>NLP, LLM-driven, LoRa, RAG, PyTorch\"], [180000, 130000, \"Python, SQL, PySpark, Pandas, PyTorch, RecBole,<br>Scikit-learn, MLFlow\"], [130000, 100000, \"Python, \\u041c\\u0430\\u0442\\u0435\\u043c\\u0430\\u0442\\u0438\\u0447\\u0435\\u0441\\u043a\\u043e\\u0435 \\u043c\\u043e\\u0434\\u0435\\u043b\\u0438\\u0440\\u043e\\u0432\\u0430\\u043d\\u0438\\u0435, Hadoop,<br>Spark, \\u041c\\u0430\\u0442\\u0435\\u043c\\u0430\\u0442\\u0438\\u0447\\u0435\\u0441\\u043a\\u0430\\u044f \\u0441\\u0442\\u0430\\u0442\\u0438\\u0441\\u0442\\u0438\\u043a\\u0430\"], [280000, 270000, \"Machine Learning, ML, C#\"], [220000, 210000, \"Python, SQL, PySpark, Pandas, PyTorch, RecBole,<br>Scikit-learn, MLFlow, AirFlow, Prefect, Luigi\"], [115000, 85000, \"Python, SQL, PySpark, Pandas, PyTorch, RecBole,<br>Scikit-learn, MLFlow\"], [220000, 150000, \"Python, SQL, deep learning, ML\"], [260000, 210000, \"NLP, Python, PyTorch, Data Science, Numpy, Sklearn\"], [320000, 270000, \"Python, PyTorch, Clickhouse, Docker, K8S,<br>huggingface\"], [350000, 280000, \"Python, SQL\"], [250000, 180000, \"Machine Learning, Deep Learning, Generative<br>design, AI, ML, CV, Python, LLM\"], [270000, 200000, \"SQL, Python, PyTorch, Docker, Hadoop, DVC, git\"], [250000, 180000, \"PyTorch\"], [170000, 100000, \"NLP, Python, ML, \\u041c\\u0430\\u0442\\u0435\\u043c\\u0430\\u0442\\u0438\\u0447\\u0435\\u0441\\u043a\\u0430\\u044f \\u0441\\u0442\\u0430\\u0442\\u0438\\u0441\\u0442\\u0438\\u043a\\u0430\"], [150000, 100000, \"Machine Learning, ML, Data Science, DS, \\u041c\\u0430\\u0448\\u0438\\u043d\\u043d\\u043e\\u0435<br>\\u043e\\u0431\\u0443\\u0447\\u0435\\u043d\\u0438\\u0435, CV, Computer Vision, MLE, Deep Learning,<br>DL, Generative Design, GD, \\u0413\\u0435\\u043d\\u0435\\u0440\\u0430\\u0442\\u0438\\u0432\\u043d\\u044b\\u0439 \\u0414\\u0438\\u0437\\u0430\\u0439\\u043d\"], [200000, 180000, \"PyData: Pandas, NumPy, SciPy, scikit-learn,<br>pytorch/keras/TensoFlow, SQL\"], [180000, 150000, \"Linux, ETL, Apache Kafka, Apache Spark, Apache<br>NiFi, SQL, Python, SCALA, Kubernetes, C#, .NET<br>Framework\"], [320000, 270000, \"NLP, ML, Data Science, \\u041e\\u0431\\u0443\\u0447\\u0435\\u043d\\u0438\\u0435 \\u0438 \\u0440\\u0430\\u0437\\u0432\\u0438\\u0442\\u0438\\u0435,<br>\\u041d\\u0430\\u043f\\u0438\\u0441\\u0430\\u043d\\u0438\\u0435 \\u0442\\u0435\\u043a\\u0441\\u0442\\u043e\\u0432\"]], \"hoverlabel\": {\"namelength\": 0}, \"hovertemplate\": \"<b>%{hovertext}</b><br><br>\\u041e\\u043f\\u044b\\u0442=\\u041e\\u0442 3 \\u0434\\u043e 6 \\u043b\\u0435\\u0442<br>\\u041d\\u0438\\u0436\\u043d\\u044f\\u044f \\u0432\\u0438\\u043b\\u043a\\u0430 \\u0437\\u0430\\u0440\\u043f\\u043b\\u0430\\u0442\\u044b=%{customdata[1]}<br>\\u0412\\u0435\\u0440\\u0445\\u043d\\u044f\\u044f \\u0432\\u0438\\u043b\\u043a\\u0430 \\u0437\\u0430\\u0440\\u043f\\u043b\\u0430\\u0442\\u044b=%{customdata[0]}<br>\\u0422\\u0440\\u0435\\u0431\\u0443\\u0435\\u043c\\u044b\\u0435 \\u043d\\u0430\\u0432\\u044b\\u043a\\u0438=%{customdata[2]}\", \"hovertext\": [\"Data Scientist (NLP)\", \"Senior Machine Learning Engineer\", \"Computer vision \\u0438\\u043d\\u0436\\u0435\\u043d\\u0435\\u0440\", \"Data Scientist\", \"ML \\u0441\\u043f\\u0435\\u0446\\u0438\\u0430\\u043b\\u0438\\u0441\\u0442\", \"\\u0421\\u043f\\u0435\\u0446\\u0438\\u0430\\u043b\\u0438\\u0441\\u0442 \\u043f\\u043e \\u0440\\u0430\\u0431\\u043e\\u0442\\u0435 \\u0441 \\u0434\\u0430\\u043d\\u043d\\u044b\\u043c\\u0438\", \"Data Scientist\", \"Machine learning engineer\", \"\\u0418\\u043d\\u0436\\u0435\\u043d\\u0435\\u0440 \\u043f\\u043e \\u0438\\u0441\\u043a\\u0443\\u0441\\u0441\\u0442\\u0432\\u0435\\u043d\\u043d\\u043e\\u043c\\u0443 \\u0438\\u043d\\u0442\\u0435\\u043b\\u043b\\u0435\\u043a\\u0442\\u0443 (middle/senior)\", \"ML \\u0440\\u0430\\u0437\\u0440\\u0430\\u0431\\u043e\\u0442\\u0447\\u0438\\u043a, B2B\", \"Data Scientist\", \"AI Engineer\", \"\\u0410\\u043d\\u0430\\u043b\\u0438\\u0442\\u0438\\u043a-\\u0440\\u0430\\u0437\\u0440\\u0430\\u0431\\u043e\\u0442\\u0447\\u0438\\u043a\", \"\\u041b\\u0438\\u0434\\u0435\\u0440 \\u043a\\u043e\\u043c\\u0430\\u043d\\u0434\\u044b (\\u0440\\u0430\\u0437\\u0440\\u0430\\u0431\\u043e\\u0442\\u043a\\u0430 \\u043c\\u043e\\u0434\\u0435\\u043b\\u0435\\u0439 \\u0434\\u043b\\u044f \\u043c\\u0430\\u043b\\u043e\\u0433\\u043e \\u0431\\u0438\\u0437\\u043d\\u0435\\u0441\\u0430)\", \"Data scientist (\\u0410\\u043d\\u0430\\u043b\\u0438\\u0437 \\u0413\\u0418\\u0421 \\u0434\\u0430\\u043d\\u043d\\u044b\\u0445)\", \"\\u0410\\u043d\\u0430\\u043b\\u0438\\u0442\\u0438\\u043a \\u0434\\u0430\\u043d\\u043d\\u044b\\u0445 / Data analyst\", \"ML-\\u0440\\u0430\\u0437\\u0440\\u0430\\u0431\\u043e\\u0442\\u0447\\u0438\\u043a\", \"Data Scientist\", \"Data Scientist middle/senior\", \"\\u0420\\u0443\\u043a\\u043e\\u0432\\u043e\\u0434\\u0438\\u0442\\u0435\\u043b\\u044c \\u0446\\u0435\\u043d\\u0442\\u0440\\u0430 \\u044d\\u043a\\u0441\\u043f\\u0435\\u0440\\u0442\\u0438\\u0437\\u044b \\u043f\\u043e \\u0438\\u0441\\u043a\\u0443\\u0441\\u0441\\u0442\\u0432\\u0435\\u043d\\u043d\\u043e\\u043c\\u0443 \\u0438\\u043d\\u0442\\u0435\\u043b\\u043b\\u0435\\u043a\\u0442\\u0443\", \"Data Engineer\", \"Data Scientist\", \"Data Scientist\", \"\\u041f\\u0440\\u043e\\u043c\\u0442 \\u0438\\u043d\\u0436\\u0435\\u043d\\u0435\\u0440/data scientist (\\u0443\\u0434\\u0430\\u043b\\u0435\\u043d\\u043d\\u043e)\", \"Data Scientist / Machine Learning Engineer\", \"\\u0410\\u043d\\u0430\\u043b\\u0438\\u0442\\u0438\\u043a \\u0434\\u0430\\u043d\\u043d\\u044b\\u0445\", \"Data Engineer\", \"Middle/Senior Data Scientist\", \"Machine learning Engineer / ML Engineer\", \"Data Scientist (nlp)\", \"Data Scientist (Deep Learning), \\u0420\\u0435\\u043a\\u043e\\u043c\\u0435\\u043d\\u0434\\u0430\\u0446\\u0438\\u0438 \\u0438 \\u043f\\u0435\\u0440\\u0441\\u043e\\u043d\\u0430\\u043b\\u0438\\u0437\\u0430\\u0446\\u0438\\u044f\", \"Senior Data Scientist\", \"\\u0420\\u0443\\u043a\\u043e\\u0432\\u043e\\u0434\\u0438\\u0442\\u0435\\u043b\\u044c \\u043d\\u0430\\u043f\\u0440\\u0430\\u0432\\u043b\\u0435\\u043d\\u0438\\u044f DS\", \"Data Engineer\", \"ML-\\u0438\\u043d\\u0436\\u0435\\u043d\\u0435\\u0440\", \"Data scientist (ML)\", \"Senior Data Science\", \"\\u0414\\u0430\\u0442\\u0430-\\u0438\\u043d\\u0436\\u0435\\u043d\\u0435\\u0440 (Motion Prediction)\", \"Machine Learning Engineer (NLP/LLM)\", \"Data Scientist\", \"ML Engineer (\\u0420\\u0435\\u043a\\u043e\\u043c\\u0435\\u043d\\u0434\\u0430\\u0442\\u0435\\u043b\\u044c\\u043d\\u044b\\u0435 \\u0441\\u0438\\u0441\\u0442\\u0435\\u043c\\u044b)\", \"Machine Learning Engineer\", \"Data Scientist\", \"Team Lead DS\", \"Data Engineer\", \"Machine Learning Engineer (\\u0443\\u0434\\u0430\\u043b\\u0435\\u043d\\u043d\\u043e)\", \"Data Engineer\", \"Data Scientist \\u0432 \\u043a\\u043e\\u043c\\u0430\\u043d\\u0434\\u0443 \\u0430\\u0443\\u043a\\u0446\\u0438\\u043e\\u043d\\u0430\", \"\\u0410\\u0440\\u0445\\u0438\\u0442\\u0435\\u043a\\u0442\\u043e\\u0440 \\u0434\\u0430\\u043d\\u043d\\u044b\\u0445\", \"\\u042d\\u043a\\u043e\\u043d\\u043e\\u043c\\u0435\\u0442\\u0440\\u0438\\u0441\\u0442 / Data scientist\", \"\\u0410\\u043d\\u0430\\u043b\\u0438\\u0442\\u0438\\u043a-\\u043c\\u0430\\u0442\\u0435\\u043c\\u0430\\u0442\\u0438\\u043a (\\u043a\\u043e\\u043c\\u0430\\u043d\\u0434\\u0430 \\u0420\\u0430\\u043d\\u0436\\u0438\\u0440\\u043e\\u0432\\u0430\\u043d\\u0438\\u044f)\", \"Data Scientist\", \"MLOps/ML \\u0418\\u043d\\u0436\\u0435\\u043d\\u0435\\u0440\", \"ML engineer\", \"Data Scientist\", \"Computer Vision Engineer\", \"ML \\u0418\\u043d\\u0436\\u0435\\u043d\\u0435\\u0440\", \"Data Engineer\", \"Lead Data Engineer\", \"Machine Learning Engineer\", \"Machine Learning Engineer\", \"Machine Learning Engineer\", \"Team-Lead Data Science\", \"\\u0414\\u0430\\u0442\\u0430 \\u0438\\u043d\\u0436\\u0435\\u043d\\u0435\\u0440\", \"\\u0418\\u043d\\u0436\\u0435\\u043d\\u0435\\u0440 ML-\\u0433\\u0440\\u0443\\u043f\\u043f\\u044b, NLP, Ozon Fintech\", \"Data Scientist\", \"Data Scientist\", \"AI Project Manager (Data Scientist)\", \"Data Scientist (\\u0410\\u043b\\u0433\\u043e\\u0440\\u0438\\u0442\\u043c\\u044b \\u043e\\u043f\\u0442\\u0438\\u043c\\u0438\\u0437\\u0430\\u0446\\u0438\\u0438)\", \"Senior Computer Vision Engineer\", \"Team Lead Data Scientist\", \"Machine Learning Engineer (\\u0443\\u0434\\u0430\\u043b\\u0435\\u043d\\u043d\\u043e)\", \"Machine Learning Engineer (CV)\", \"\\u0410\\u043d\\u0430\\u043b\\u0438\\u0442\\u0438\\u043a \\u043c\\u043e\\u043d\\u0438\\u0442\\u043e\\u0440\\u0438\\u043d\\u0433\\u0430 \\u041f\\u0412\\u0420 \\u043c\\u043e\\u0434\\u0435\\u043b\\u0435\\u0439\", \"Middle Data Engineer\", \"Machine Learning Engineer (CV)\", \"Data Engineer\", \"\\u0421\\u043f\\u0435\\u0446\\u0438\\u0430\\u043b\\u0438\\u0441\\u0442 \\u043f\\u043e \\u0441\\u0435\\u0433\\u043c\\u0435\\u043d\\u0442\\u0430\\u0446\\u0438\\u0438 \\u0438 \\u043a\\u043b\\u0430\\u0441\\u0442\\u0435\\u0440\\u0438\\u0437\\u0430\\u0446\\u0438\\u0438 \\u0434\\u0430\\u043d\\u043d\\u044b\\u0445\", \"Data scientist (Middle/Middle+)\", \"Data Science\", \"Senior Data Scientist (\\u041f\\u0440\\u043e\\u0433\\u043d\\u043e\\u0437 \\u0437\\u0430\\u043a\\u0430\\u0437\\u043e\\u0432)\", \"\\u0421\\u0442\\u0430\\u0440\\u0448\\u0438\\u0439 Data Scientist, \\u042d\\u0444\\u0444\\u0435\\u043a\\u0442\\u0438\\u0432\\u043d\\u043e\\u0441\\u0442\\u044c \\u0440\\u0435\\u043a\\u043b\\u0430\\u043c\\u044b\", \"Data Scientist, \\u0420\\u0430\\u043d\\u0436\\u0438\\u0440\\u043e\\u0432\\u0430\\u043d\\u0438\\u0435 \\u043f\\u043e\\u0438\\u0441\\u043a\\u0430\", \"Data Scientist (\\u043c\\u0430\\u0442\\u0435\\u043c\\u0430\\u0442\\u0438\\u0447\\u0435\\u0441\\u043a\\u043e\\u0435 \\u043c\\u043e\\u0434\\u0435\\u043b\\u0438\\u0440\\u043e\\u0432\\u0430\\u043d\\u0438\\u0435)\", \"Data scientist (ML)\", \"\\u0410\\u043d\\u0430\\u043b\\u0438\\u0442\\u0438\\u043a \\u0434\\u0430\\u043d\\u043d\\u044b\\u0445\", \"Data Scientist (CV+NLP)\", \"Senior Data Scientist\", \"Data scientist, \\u043f\\u0440\\u043e\\u0435\\u043a\\u0442\\u044b \\u043f\\u043e \\u0440\\u0430\\u0437\\u0440\\u0430\\u0431\\u043e\\u0442\\u043a\\u0435 \\u0441\\u0438\\u043c\\u0443\\u043b\\u044f\\u0446\\u0438\\u043e\\u043d\\u043d\\u044b\\u0445 \\u043c\\u043e\\u0434\\u0435\\u043b\\u0435\\u0439, \\u043c\\u043e\\u0434\\u0435\\u043b\\u0435\\u0439 \\u043e\\u0446\\u0435\\u043d\\u043a\\u0438 \\u0441\\u0442\\u0440\\u0435\\u0441\\u0441-\\u0442\\u0435\\u0441\\u0442\\u0438\\u0440\\u043e\\u0432\\u0430\\u043d\\u0438\\u044f\", \"ML&Optimization engineer\", \"Data Engineer (Perception)\", \"Data Scientist (LLM) \\u0432 \\u043a\\u043e\\u043c\\u0430\\u043d\\u0434\\u0443 \\u0440\\u0435\\u043a\\u043e\\u043c\\u0435\\u043d\\u0434\\u0430\\u0446\\u0438\\u0439\", \"Data scientist TTS (Text To Speech)\", \"Team Lead Data Science\", \"Middle Research Engineer\", \"Data Scientist (Deep Learning for Demand Forecast)\", \"NLP \\u0440\\u0430\\u0437\\u0440\\u0430\\u0431\\u043e\\u0442\\u0447\\u0438\\u043a\", \"Middle+/Senior Data Scientist (\\u043c\\u043e\\u0434\\u0435\\u043b\\u0438 \\u043a\\u0440\\u0435\\u0434\\u0438\\u0442\\u043d\\u043e\\u0433\\u043e \\u0440\\u0438\\u0441\\u043a\\u0430)\", \"Data Engineer\", \"\\u0420\\u0443\\u043a\\u043e\\u0432\\u043e\\u0434\\u0438\\u0442\\u0435\\u043b\\u044c \\u043d\\u0430\\u043f\\u0440\\u0430\\u0432\\u043b\\u0435\\u043d\\u0438\\u044f (team lead) Data Science\", \"Senior ML Engineer (Senior Data Scientist), \\u041c\\u0430\\u0440\\u043a\\u0435\\u0442\\u043f\\u043b\\u0435\\u0439\\u0441, \\u0426\\u0435\\u043d\\u044b \\u0438 \\u0430\\u043d\\u0430\\u043b\\u0438\\u0437 \\u043a\\u043e\\u043d\\u043a\\u0443\\u0440\\u0435\\u043d\\u0442\\u043e\\u0432\", \"Machine Learning Engineer\", \"Machine Learning Engineer\", \"Senior Data Scientist (Pricing)\", \"Data Scientist\", \"Senior Data Scientist\", \"Senior Data Engineer\", \"Middle/Senior Data Scientist \\u0432 \\u043a\\u043e\\u043c\\u0430\\u043d\\u0434\\u0443 NLP\", \"Data Scientist Middle+/Senior\", \"ML Engineer\", \"\\u0420\\u0430\\u0437\\u0440\\u0430\\u0431\\u043e\\u0442\\u0447\\u0438\\u043a ETL\", \"ML Engineer RecSyS\", \"\\u0420\\u0430\\u0437\\u0440\\u0430\\u0431\\u043e\\u0442\\u0447\\u0438\\u043a \\u0430\\u043b\\u0433\\u043e\\u0440\\u0438\\u0442\\u043c\\u043e\\u0432 \\u043e\\u043f\\u0442\\u0438\\u043c\\u0438\\u0437\\u0430\\u0446\\u0438\\u0438\", \"Machine Learning / Computer Vision Engineer\", \"Data engineer\", \"Senior/Lead Data Scientist\", \"Middle Data Science\", \"TeamLead Data Scientist\", \"Lead Data Engineer\", \"Data Scientist\", \"Teamlead Data Science\", \"Senior Data scientist\", \"Data Scientist/ML Engineer\", \"Data scientist (\\u043a\\u043e\\u043c\\u0430\\u043d\\u0434\\u0430 Collection)\", \"Data Scienti\\u200b\\u200b\\u200b\\u200b\\u200b\\u200b\\u200bst \", \"Data Scientist (Scoring)\", \"\\u0412\\u0435\\u0434\\u0443\\u0449\\u0438\\u0439 Data Scientist, \\u0420\\u0430\\u043d\\u0436\\u0438\\u0440\\u043e\\u0432\\u0430\\u043d\\u0438\\u0435 \\u043f\\u043e\\u0438\\u0441\\u043a\\u0430\", \"Data Scientist (NLP AI)\", \"ML Data Scientist (Middle, Senior)\", \"Senior Machine Learning Engineer\", \"Data Engineer / Big Data Engineer\", \"Data Scientist (\\u041c\\u043e\\u0434\\u0435\\u043b\\u0438\\u0440\\u043e\\u0432\\u0430\\u043d\\u0438\\u0435 \\u0440\\u0438\\u0441\\u043a\\u043e\\u0432 \\u0440\\u043e\\u0437\\u043d\\u0438\\u0447\\u043d\\u043e\\u0433\\u043e \\u043a\\u0440\\u0435\\u0434\\u0438\\u0442\\u043e\\u0432\\u0430\\u043d\\u0438\\u044f)\", \"Data scientist\", \"ML Engineer\", \"Senior Data \\u0438\\u043d\\u0436\\u0435\\u043d\\u0435\\u0440 \\u0432 \\u043a\\u043e\\u043c\\u0430\\u043d\\u0434\\u0443 Data \\u0424\\u0438\\u043d\\u0430\\u043d\\u0441\\u043e\\u0432\\u043e\\u0439 \\u043f\\u043b\\u0430\\u0442\\u0444\\u043e\\u0440\\u043c\\u044b\", \"Data Scientist\", \"Lead Data Engineer\", \"Lead Data Engineer\", \"ML Engineer\", \"\\u0421\\u0438\\u0441\\u0442\\u0435\\u043c\\u043d\\u044b\\u0439 \\u0430\\u0440\\u0445\\u0438\\u0442\\u0435\\u043a\\u0442\\u043e\\u0440 (Data Warehouse)\", \"Senior Data Engineer / Senior Big Data Engineer\", \"Data Scientinst (NLP)\", \"Data Engineer AI (\\u0443\\u0434\\u0430\\u043b\\u0435\\u043d\\u043d\\u043e)\", \"ML Engineer\", \"Computer Vision engineer (Team lead)\", \"Team Lead Data Scientist\", \"Senior NLP Researcher\", \"\\u0412\\u0435\\u0434\\u0443\\u0449\\u0438\\u0439 Data Scientist, \\u0420\\u0430\\u043d\\u0436\\u0438\\u0440\\u043e\\u0432\\u0430\\u043d\\u0438\\u0435 \\u043f\\u043e\\u0438\\u0441\\u043a\\u0430\", \"Data collection engineer\", \"Data Engineer Senior/Lead\", \"Data scientist senior\", \"Data Scientist\", \"Data engineer/BI-\\u0430\\u043d\\u0430\\u043b\\u0438\\u0442\\u0438\\u043a\", \"Deep Learning Engineer (Motion Prediction)\", \"\\u0420\\u0443\\u043a\\u043e\\u0432\\u043e\\u0434\\u0438\\u0442\\u0435\\u043b\\u044c \\u043d\\u0430\\u043f\\u0440\\u0430\\u0432\\u043b\\u0435\\u043d\\u0438\\u044f MLOps\", \"Data \\u0438\\u043d\\u0436\\u0435\\u043d\\u0435\\u0440\", \"Team Lead Data Scientist (RecSys)\", \"\\u0420\\u0443\\u043a\\u043e\\u0432\\u043e\\u0434\\u0438\\u0442\\u0435\\u043b\\u044c \\u0433\\u0440\\u0443\\u043f\\u043f\\u044b \\u043c\\u0430\\u0448\\u0438\\u043d\\u043d\\u043e\\u0433\\u043e \\u043e\\u0431\\u0443\\u0447\\u0435\\u043d\\u0438\\u044f\", \"Data Science Team Lead\", \"Team Lead ML\", \"Data Scientist\", \"Senior Data Scientist (Ranking&Search)\", \"Senior Data Scientist\", \"Middle/Senior CV Engineer (OCR/HCR)\", \"Middle Data Scientist\", \"Senior Data Scientist (NLP) \\u0432 \\u0430\\u0432\\u0442\\u043e\\u043c\\u0430\\u0442\\u0438\\u0437\\u0430\\u0446\\u0438\\u044e \\u043a\\u043e\\u043c\\u043c\\u0443\\u043d\\u0438\\u043a\\u0430\\u0446\\u0438\\u0439\", \"ML Engineer\", \"Senior MLE/DS \\u0432 \\u043a\\u043e\\u043c\\u0430\\u043d\\u0434\\u0443 \\u0440\\u0435\\u043a\\u043e\\u043c\\u0435\\u043d\\u0434\\u0430\\u0446\\u0438\\u0439\", \"Team Lead ML Campaining\", \"NLP engineer\", \"Middle NLP Data Scientist (LLM)\", \"Team Lead ML Engineer\", \"Senior NLP Engineer\", \"\\u0420\\u0443\\u043a\\u043e\\u0432\\u043e\\u0434\\u0438\\u0442\\u0435\\u043b\\u044c \\u043f\\u043e \\u0440\\u0430\\u0437\\u0432\\u0438\\u0442\\u0438\\u044e \\u0446\\u0438\\u0444\\u0440\\u043e\\u0432\\u043e\\u0433\\u043e \\u043a\\u043b\\u0438\\u0435\\u043d\\u0442\\u0441\\u043a\\u043e\\u0433\\u043e \\u043e\\u043f\\u044b\\u0442\\u0430\", \"Middle/ senior data scientist (\\u0440\\u0430\\u0437\\u0440\\u0430\\u0431\\u043e\\u0442\\u043a\\u0430 \\u043c\\u043e\\u0434\\u0435\\u043b\\u0435\\u0439 \\u0434\\u043b\\u044f \\u043a\\u0430\\u0437\\u043d\\u0430\\u0447\\u0435\\u0439\\u0441\\u0442\\u0432\\u0430 \\u0438 \\u0440\\u044b\\u043d\\u043e\\u0447\\u043d\\u044b\\u0445 \\u0440\\u0438\\u0441\\u043a\\u043e\\u0432)\", \"NLP engineer\", \"Senior Data science expert \\u0432 \\u0426\\u0435\\u043d\\u0442\\u0440 \\u0442\\u0435\\u0445\\u043d\\u043e\\u043b\\u043e\\u0433\\u0438\\u0439 \\u0418\\u0418\", \"Data Scientist\", \"Senior Data Scientist NLP\", \"Data Science Lead / \\u0420\\u0443\\u043a\\u043e\\u0432\\u043e\\u0434\\u0438\\u0442\\u0435\\u043b\\u044c \\u0433\\u0440\\u0443\\u043f\\u043f\\u044b \\u0441\\u043f\\u0435\\u0446\\u0438\\u0430\\u043b\\u0438\\u0441\\u0442\\u043e\\u0432 \\u043f\\u043e \\u043c\\u0430\\u0448\\u0438\\u043d\\u043d\\u043e\\u043c\\u0443 \\u043e\\u0431\\u0443\\u0447\\u0435\\u043d\\u0438\\u044e \\u0438 \\u0430\\u043d\\u0430\\u043b\\u0438\\u0442\\u0438\\u043a\\u0435 \\u0434\\u0430\\u043d\\u043d\\u044b\\u0445\", \"Data scientist\", \"Middle NLP Data Scientist (LLM)\", \"Senior Data Scientist\", \"Senior Data Scientist \\u0432 \\u043a\\u043e\\u043c\\u0430\\u043d\\u0434\\u0443 \\u043c\\u043e\\u0434\\u0435\\u043b\\u0438\\u0440\\u043e\\u0432\\u0430\\u043d\\u0438\\u044f \\u043f\\u0430\\u0440\\u0442\\u043d\\u0435\\u0440\\u0441\\u0442\\u0432 \\u0438 \\u0418\\u0422 - \\u043f\\u0440\\u043e\\u0446\\u0435\\u0441\\u0441\\u043e\\u0432\", \"Machine Learning Lead engineer\", \"Senior Data Scientist\", \"DS NLP (LLM), Senior\", \"Senior Data Scientist (Rec. system)\", \"Middle/Senior Data Scientist \\u0432 \\u043a\\u043e\\u043c\\u0430\\u043d\\u0434\\u0443 NLP\", \"Senior Data Scientist (NLP)\", \"\\u0420\\u0443\\u043a\\u043e\\u0432\\u043e\\u0434\\u0438\\u0442\\u0435\\u043b\\u044c \\u043d\\u0430\\u043f\\u0440\\u0430\\u0432\\u043b\\u0435\\u043d\\u0438\\u044f Data Science\", \"Team Lead Data Scientist CV (Generative design)\", \"Data Scientist Teamlead NLP\", \"Medical foundation model research data scientist CV+NLP (Middle+)\", \"Data Scientist (\\u0410\\u0432\\u0442\\u043e\\u0440 \\u043a\\u0443\\u0440\\u0441\\u0430 \\\"\\u0412\\u0435\\u043a\\u0442\\u043e\\u0440\\u0438\\u0437\\u0430\\u0446\\u0438\\u044f \\u0438 \\u0440\\u0430\\u0431\\u043e\\u0442\\u0430 \\u0441 \\u0432\\u0435\\u043a\\u0442\\u043e\\u0440\\u0430\\u043c\\u0438\\\")\", \"Senior Data Scientist CV (Generative design)\", \"Lead data scientist (\\u0410\\u043d\\u0430\\u043b\\u0438\\u0437 \\u0446\\u0435\\u043d\\u044b \\u0438 Trade in)\", \"Data engineer (middle+)\", \"\\u0410\\u0432\\u0442\\u043e\\u0440 \\u0434\\u0438\\u0441\\u0446\\u0438\\u043f\\u043b\\u0438\\u043d\\u044b \\\"\\u0417\\u0430\\u0434\\u0430\\u0447\\u0438 NLP \\u0432 \\u043c\\u0430\\u0448\\u0438\\u043d\\u043d\\u043e\\u043c \\u043e\\u0431\\u0443\\u0447\\u0435\\u043d\\u0438\\u0438\\\"\"], \"legendgroup\": \"\\u041e\\u043f\\u044b\\u0442=\\u041e\\u0442 3 \\u0434\\u043e 6 \\u043b\\u0435\\u0442\", \"marker\": {\"color\": \"#00CC96\", \"size\": 10, \"symbol\": \"circle\"}, \"mode\": \"markers\", \"name\": \"\\u041e\\u043f\\u044b\\u0442=\\u041e\\u0442 3 \\u0434\\u043e 6 \\u043b\\u0435\\u0442\", \"showlegend\": true, \"type\": \"scatter\", \"x\": [200000, 350000, 200000, 270000, 200000, 150000, 100000, 270000, 150000, 300000, 55000, 100000, 270000, 150000, 100000, 180000, 300000, 150000, 210000, 150000, 240000, 300000, 90000, 100000, 180000, 270000, 300000, 180000, 130000, 150000, 120000, 300000, 180000, 240000, 105000, 150000, 200000, 280000, 100000, 150000, 300000, 60000, 300000, 100000, 250000, 280000, 180000, 210000, 280000, 120000, 150000, 280000, 150000, 180000, 120000, 270000, 300000, 180000, 150000, 200000, 150000, 70000, 300000, 120000, 200000, 180000, 210000, 150000, 150000, 150000, 120000, 100000, 280000, 100000, 250000, 80000, 55000, 120000, 180000, 150000, 100000, 180000, 270000, 210000, 120000, 180000, 200000, 330000, 100000, 300000, 280000, 100000, 200000, 150000, 100000, 55000, 270000, 180000, 300000, 180000, 180000, 180000, 75000, 120000, 150000, 150000, 250000, 100000, 130000, 270000, 200000, 300000, 180000, 210000, 130000, 270000, 120000, 280000, 300000, 200000, 280000, 270000, 180000, 100000, 210000, 300000, 180000, 200000, 270000, 100000, 120000, 100000, 270000, 180000, 280000, 80000, 100000, 200000, 300000, 300000, 150000, 100000, 220000, 120000, 280000, 180000, 55000, 180000, 180000, 190000, 150000, 300000, 270000, 120000, 180000, 270000, 270000, 300000, 120000, 150000, 210000, 180000, 180000, 150000, 180000, 280000, 180000, 300000, 200000, 200000, 200000, 270000, 270000, 210000, 100000, 210000, 300000, 150000, 130000, 120000, 100000, 280000, 130000, 100000, 270000, 210000, 85000, 150000, 210000, 270000, 280000, 180000, 200000, 180000, 100000, 100000, 180000, 150000, 270000], \"xaxis\": \"x\", \"y\": [400000, 570000, 300000, 300000, 200000, 200000, 130000, 350000, 200000, 320000, 85000, 150000, 300000, 200000, 110000, 230000, 330000, 250000, 260000, 200000, 280000, 370000, 140000, 150000, 230000, 320000, 370000, 210000, 150000, 180000, 150000, 350000, 190000, 280000, 125000, 200000, 300000, 310000, 170000, 180000, 330000, 90000, 330000, 150000, 400000, 290000, 200000, 310000, 330000, 220000, 200000, 330000, 220000, 210000, 140000, 290000, 370000, 280000, 200000, 220000, 250000, 170000, 350000, 190000, 220000, 230000, 280000, 220000, 220000, 180000, 150000, 150000, 310000, 170000, 300000, 100000, 65000, 170000, 190000, 200000, 170000, 230000, 290000, 260000, 150000, 230000, 250000, 450000, 150000, 350000, 290000, 110000, 300000, 250000, 150000, 105000, 290000, 230000, 330000, 230000, 230000, 210000, 105000, 170000, 200000, 180000, 260000, 150000, 160000, 340000, 230000, 350000, 230000, 260000, 200000, 300000, 150000, 310000, 320000, 250000, 290000, 370000, 230000, 170000, 260000, 310000, 230000, 210000, 320000, 110000, 150000, 150000, 340000, 210000, 300000, 180000, 170000, 210000, 350000, 330000, 200000, 150000, 340000, 220000, 330000, 230000, 125000, 250000, 230000, 290000, 180000, 370000, 370000, 170000, 210000, 370000, 300000, 370000, 170000, 170000, 310000, 210000, 230000, 160000, 230000, 330000, 210000, 500000, 250000, 270000, 210000, 280000, 340000, 260000, 150000, 260000, 400000, 220000, 150000, 130000, 130000, 310000, 180000, 130000, 280000, 220000, 115000, 220000, 260000, 320000, 350000, 250000, 270000, 250000, 170000, 150000, 200000, 180000, 320000], \"yaxis\": \"y\"}, {\"customdata\": [[145000, 95000, \"\\u0423\\u043f\\u0440\\u0430\\u0432\\u043b\\u0435\\u043d\\u0438\\u0435 \\u043a\\u043e\\u043c\\u0430\\u043d\\u0434\\u0430\\u043c\\u0438, Hadoop, Big Data\"], [240000, 210000, \"ensorflow, pytorch, CUDA, SQL\"], [250000, 180000, \"machine learning, pytorch, torchaudio, LangChain,<br>Saiga-2, fastText, kaldi, Milvus, cython, C++,<br>SQL, RabbitMQ, PostgreSQL, FreeSwitch\"], [180000, 150000, \"PostgreSQL, MySQL\"], [280000, 180000, \"Hadoop, Spark, Airflow, Docker\"], [110000, 100000, \"PostgreSQL, ClickHouse, PyTorch, Tensorflow,<br>Scikit-learn, ML, Golang\"], [230000, 200000, \"Python, PySpark, Pandas, PyTorch, RecBole, Scikit-<br>learn, MLFlow\"], [180000, 130000, \"pandas, numpy, matplotlib, sklearn, xgboost\"], [330000, 300000, \"Java/Scala, Golang, Python\"], [150000, 100000, \"OpenCV, Data Science, OCR\"], [230000, 130000, \"\\u042f\\u043d\\u0434\\u0435\\u043a\\u0441 \\u041e\\u0431\\u043b\\u0430\\u043a\\u043e, PySpark \\u0432 k8s, Jupyterhub, Airflow,<br>MLFlow, Postgres, Gitlab, Grafana\"], [210000, 200000, \"SQL, \\u0410\\u043d\\u0430\\u043b\\u0438\\u0437 \\u0434\\u0430\\u043d\\u043d\\u044b\\u0445, A/B \\u0442\\u0435\\u0441\\u0442\\u044b, LTV prediction,<br>RecSys, Ulift modeling, Churn prediction\"]], \"hoverlabel\": {\"namelength\": 0}, \"hovertemplate\": \"<b>%{hovertext}</b><br><br>\\u041e\\u043f\\u044b\\u0442=\\u0411\\u043e\\u043b\\u0435\\u0435 6 \\u043b\\u0435\\u0442<br>\\u041d\\u0438\\u0436\\u043d\\u044f\\u044f \\u0432\\u0438\\u043b\\u043a\\u0430 \\u0437\\u0430\\u0440\\u043f\\u043b\\u0430\\u0442\\u044b=%{customdata[1]}<br>\\u0412\\u0435\\u0440\\u0445\\u043d\\u044f\\u044f \\u0432\\u0438\\u043b\\u043a\\u0430 \\u0437\\u0430\\u0440\\u043f\\u043b\\u0430\\u0442\\u044b=%{customdata[0]}<br>\\u0422\\u0440\\u0435\\u0431\\u0443\\u0435\\u043c\\u044b\\u0435 \\u043d\\u0430\\u0432\\u044b\\u043a\\u0438=%{customdata[2]}\", \"hovertext\": [\"\\u0420\\u0443\\u043a\\u043e\\u0432\\u043e\\u0434\\u0438\\u0442\\u0435\\u043b\\u044c \\u043d\\u0430\\u043f\\u0440\\u0430\\u0432\\u043b\\u0435\\u043d\\u0438\\u044f \\u043f\\u043e \\u043c\\u0430\\u0448\\u0438\\u043d\\u043d\\u043e\\u043c\\u0443 \\u043e\\u0431\\u0443\\u0447\\u0435\\u043d\\u0438\\u044e \\u0438 \\u0430\\u043d\\u0430\\u043b\\u0438\\u0437\\u0443 \\u0431\\u043e\\u043b\\u044c\\u0448\\u0438\\u0445 \\u0434\\u0430\\u043d\\u043d\\u044b\\u0445\", \"Data-scientist\", \"Senior DS/ML Developer (LLM/NLP, ASR)\", \"DBA (\\u0410\\u0434\\u043c\\u0438\\u043d\\u0438\\u0441\\u0442\\u0440\\u0430\\u0442\\u043e\\u0440 \\u0431\\u0430\\u0437 \\u0434\\u0430\\u043d\\u043d\\u044b\\u0445)\", \"DevOps \\u0438\\u043d\\u0436\\u0435\\u043d\\u0435\\u0440\", \"Senior ML \\u0438\\u043d\\u0436\\u0435\\u043d\\u0435\\u0440\", \"TeamLead DS\", \"\\u0420\\u0443\\u043a\\u043e\\u0432\\u043e\\u0434\\u0438\\u0442\\u0435\\u043b\\u044c \\u043e\\u0442\\u0434\\u0435\\u043b\\u0430 Data Science\", \"\\u0412\\u0435\\u0434\\u0443\\u0449\\u0438\\u0439 Data Engineer / Lead (Java)\", \"Data scientist CV (senior)\", \"\\u0418\\u0441\\u0441\\u043b\\u0435\\u0434\\u043e\\u0432\\u0430\\u0442\\u0435\\u043b\\u044c \\u0431\\u043e\\u043b\\u044c\\u0448\\u0438\\u0445 \\u0434\\u0430\\u043d\\u043d\\u044b\\u0445/ Middle+ MLE (GeoML)\", \"Senior Data Scientist\"], \"legendgroup\": \"\\u041e\\u043f\\u044b\\u0442=\\u0411\\u043e\\u043b\\u0435\\u0435 6 \\u043b\\u0435\\u0442\", \"marker\": {\"color\": \"#AB63FA\", \"size\": 10, \"symbol\": \"circle\"}, \"mode\": \"markers\", \"name\": \"\\u041e\\u043f\\u044b\\u0442=\\u0411\\u043e\\u043b\\u0435\\u0435 6 \\u043b\\u0435\\u0442\", \"showlegend\": true, \"type\": \"scatter\", \"x\": [95000, 210000, 180000, 150000, 180000, 100000, 200000, 130000, 300000, 100000, 130000, 200000], \"xaxis\": \"x\", \"y\": [145000, 240000, 250000, 180000, 280000, 110000, 230000, 180000, 330000, 150000, 230000, 210000], \"yaxis\": \"y\"}],\n",
       "                        {\"height\": 600, \"legend\": {\"tracegroupgap\": 0}, \"template\": {\"data\": {\"bar\": [{\"error_x\": {\"color\": \"#2a3f5f\"}, \"error_y\": {\"color\": \"#2a3f5f\"}, \"marker\": {\"line\": {\"color\": \"#E5ECF6\", \"width\": 0.5}}, \"type\": \"bar\"}], \"barpolar\": [{\"marker\": {\"line\": {\"color\": \"#E5ECF6\", \"width\": 0.5}}, \"type\": \"barpolar\"}], \"carpet\": [{\"aaxis\": {\"endlinecolor\": \"#2a3f5f\", \"gridcolor\": \"white\", \"linecolor\": \"white\", \"minorgridcolor\": \"white\", \"startlinecolor\": \"#2a3f5f\"}, \"baxis\": {\"endlinecolor\": \"#2a3f5f\", \"gridcolor\": \"white\", \"linecolor\": \"white\", \"minorgridcolor\": \"white\", \"startlinecolor\": \"#2a3f5f\"}, \"type\": \"carpet\"}], \"choropleth\": [{\"colorbar\": {\"outlinewidth\": 0, \"ticks\": \"\"}, \"type\": \"choropleth\"}], \"contour\": [{\"colorbar\": {\"outlinewidth\": 0, \"ticks\": \"\"}, \"colorscale\": [[0.0, \"#0d0887\"], [0.1111111111111111, \"#46039f\"], [0.2222222222222222, \"#7201a8\"], [0.3333333333333333, \"#9c179e\"], [0.4444444444444444, \"#bd3786\"], [0.5555555555555556, \"#d8576b\"], [0.6666666666666666, \"#ed7953\"], [0.7777777777777778, \"#fb9f3a\"], [0.8888888888888888, \"#fdca26\"], [1.0, \"#f0f921\"]], \"type\": \"contour\"}], \"contourcarpet\": [{\"colorbar\": {\"outlinewidth\": 0, \"ticks\": \"\"}, \"type\": \"contourcarpet\"}], \"heatmap\": [{\"colorbar\": {\"outlinewidth\": 0, \"ticks\": \"\"}, \"colorscale\": [[0.0, \"#0d0887\"], [0.1111111111111111, \"#46039f\"], [0.2222222222222222, \"#7201a8\"], [0.3333333333333333, \"#9c179e\"], [0.4444444444444444, \"#bd3786\"], [0.5555555555555556, \"#d8576b\"], [0.6666666666666666, \"#ed7953\"], [0.7777777777777778, \"#fb9f3a\"], [0.8888888888888888, \"#fdca26\"], [1.0, \"#f0f921\"]], \"type\": \"heatmap\"}], \"heatmapgl\": [{\"colorbar\": {\"outlinewidth\": 0, \"ticks\": \"\"}, \"colorscale\": [[0.0, \"#0d0887\"], [0.1111111111111111, \"#46039f\"], [0.2222222222222222, \"#7201a8\"], [0.3333333333333333, \"#9c179e\"], [0.4444444444444444, \"#bd3786\"], [0.5555555555555556, \"#d8576b\"], [0.6666666666666666, \"#ed7953\"], [0.7777777777777778, \"#fb9f3a\"], [0.8888888888888888, \"#fdca26\"], [1.0, \"#f0f921\"]], \"type\": \"heatmapgl\"}], \"histogram\": [{\"marker\": {\"colorbar\": {\"outlinewidth\": 0, \"ticks\": \"\"}}, \"type\": \"histogram\"}], \"histogram2d\": [{\"colorbar\": {\"outlinewidth\": 0, \"ticks\": \"\"}, \"colorscale\": [[0.0, \"#0d0887\"], [0.1111111111111111, \"#46039f\"], [0.2222222222222222, \"#7201a8\"], [0.3333333333333333, \"#9c179e\"], [0.4444444444444444, \"#bd3786\"], [0.5555555555555556, \"#d8576b\"], [0.6666666666666666, \"#ed7953\"], [0.7777777777777778, \"#fb9f3a\"], [0.8888888888888888, \"#fdca26\"], [1.0, \"#f0f921\"]], \"type\": \"histogram2d\"}], \"histogram2dcontour\": [{\"colorbar\": {\"outlinewidth\": 0, \"ticks\": \"\"}, \"colorscale\": [[0.0, \"#0d0887\"], [0.1111111111111111, \"#46039f\"], [0.2222222222222222, \"#7201a8\"], [0.3333333333333333, \"#9c179e\"], [0.4444444444444444, \"#bd3786\"], [0.5555555555555556, \"#d8576b\"], [0.6666666666666666, \"#ed7953\"], [0.7777777777777778, \"#fb9f3a\"], [0.8888888888888888, \"#fdca26\"], [1.0, \"#f0f921\"]], \"type\": \"histogram2dcontour\"}], \"mesh3d\": [{\"colorbar\": {\"outlinewidth\": 0, \"ticks\": \"\"}, \"type\": \"mesh3d\"}], \"parcoords\": [{\"line\": {\"colorbar\": {\"outlinewidth\": 0, \"ticks\": \"\"}}, \"type\": \"parcoords\"}], \"scatter\": [{\"marker\": {\"colorbar\": {\"outlinewidth\": 0, \"ticks\": \"\"}}, \"type\": \"scatter\"}], \"scatter3d\": [{\"line\": {\"colorbar\": {\"outlinewidth\": 0, \"ticks\": \"\"}}, \"marker\": {\"colorbar\": {\"outlinewidth\": 0, \"ticks\": \"\"}}, \"type\": \"scatter3d\"}], \"scattercarpet\": [{\"marker\": {\"colorbar\": {\"outlinewidth\": 0, \"ticks\": \"\"}}, \"type\": \"scattercarpet\"}], \"scattergeo\": [{\"marker\": {\"colorbar\": {\"outlinewidth\": 0, \"ticks\": \"\"}}, \"type\": \"scattergeo\"}], \"scattergl\": [{\"marker\": {\"colorbar\": {\"outlinewidth\": 0, \"ticks\": \"\"}}, \"type\": \"scattergl\"}], \"scattermapbox\": [{\"marker\": {\"colorbar\": {\"outlinewidth\": 0, \"ticks\": \"\"}}, \"type\": \"scattermapbox\"}], \"scatterpolar\": [{\"marker\": {\"colorbar\": {\"outlinewidth\": 0, \"ticks\": \"\"}}, \"type\": \"scatterpolar\"}], \"scatterpolargl\": [{\"marker\": {\"colorbar\": {\"outlinewidth\": 0, \"ticks\": \"\"}}, \"type\": \"scatterpolargl\"}], \"scatterternary\": [{\"marker\": {\"colorbar\": {\"outlinewidth\": 0, \"ticks\": \"\"}}, \"type\": \"scatterternary\"}], \"surface\": [{\"colorbar\": {\"outlinewidth\": 0, \"ticks\": \"\"}, \"colorscale\": [[0.0, \"#0d0887\"], [0.1111111111111111, \"#46039f\"], [0.2222222222222222, \"#7201a8\"], [0.3333333333333333, \"#9c179e\"], [0.4444444444444444, \"#bd3786\"], [0.5555555555555556, \"#d8576b\"], [0.6666666666666666, \"#ed7953\"], [0.7777777777777778, \"#fb9f3a\"], [0.8888888888888888, \"#fdca26\"], [1.0, \"#f0f921\"]], \"type\": \"surface\"}], \"table\": [{\"cells\": {\"fill\": {\"color\": \"#EBF0F8\"}, \"line\": {\"color\": \"white\"}}, \"header\": {\"fill\": {\"color\": \"#C8D4E3\"}, \"line\": {\"color\": \"white\"}}, \"type\": \"table\"}]}, \"layout\": {\"annotationdefaults\": {\"arrowcolor\": \"#2a3f5f\", \"arrowhead\": 0, \"arrowwidth\": 1}, \"colorscale\": {\"diverging\": [[0, \"#8e0152\"], [0.1, \"#c51b7d\"], [0.2, \"#de77ae\"], [0.3, \"#f1b6da\"], [0.4, \"#fde0ef\"], [0.5, \"#f7f7f7\"], [0.6, \"#e6f5d0\"], [0.7, \"#b8e186\"], [0.8, \"#7fbc41\"], [0.9, \"#4d9221\"], [1, \"#276419\"]], \"sequential\": [[0.0, \"#0d0887\"], [0.1111111111111111, \"#46039f\"], [0.2222222222222222, \"#7201a8\"], [0.3333333333333333, \"#9c179e\"], [0.4444444444444444, \"#bd3786\"], [0.5555555555555556, \"#d8576b\"], [0.6666666666666666, \"#ed7953\"], [0.7777777777777778, \"#fb9f3a\"], [0.8888888888888888, \"#fdca26\"], [1.0, \"#f0f921\"]], \"sequentialminus\": [[0.0, \"#0d0887\"], [0.1111111111111111, \"#46039f\"], [0.2222222222222222, \"#7201a8\"], [0.3333333333333333, \"#9c179e\"], [0.4444444444444444, \"#bd3786\"], [0.5555555555555556, \"#d8576b\"], [0.6666666666666666, \"#ed7953\"], [0.7777777777777778, \"#fb9f3a\"], [0.8888888888888888, \"#fdca26\"], [1.0, \"#f0f921\"]]}, \"colorway\": [\"#636efa\", \"#EF553B\", \"#00cc96\", \"#ab63fa\", \"#FFA15A\", \"#19d3f3\", \"#FF6692\", \"#B6E880\", \"#FF97FF\", \"#FECB52\"], \"font\": {\"color\": \"#2a3f5f\"}, \"geo\": {\"bgcolor\": \"white\", \"lakecolor\": \"white\", \"landcolor\": \"#E5ECF6\", \"showlakes\": true, \"showland\": true, \"subunitcolor\": \"white\"}, \"hoverlabel\": {\"align\": \"left\"}, \"hovermode\": \"closest\", \"mapbox\": {\"style\": \"light\"}, \"paper_bgcolor\": \"white\", \"plot_bgcolor\": \"#E5ECF6\", \"polar\": {\"angularaxis\": {\"gridcolor\": \"white\", \"linecolor\": \"white\", \"ticks\": \"\"}, \"bgcolor\": \"#E5ECF6\", \"radialaxis\": {\"gridcolor\": \"white\", \"linecolor\": \"white\", \"ticks\": \"\"}}, \"scene\": {\"xaxis\": {\"backgroundcolor\": \"#E5ECF6\", \"gridcolor\": \"white\", \"gridwidth\": 2, \"linecolor\": \"white\", \"showbackground\": true, \"ticks\": \"\", \"zerolinecolor\": \"white\"}, \"yaxis\": {\"backgroundcolor\": \"#E5ECF6\", \"gridcolor\": \"white\", \"gridwidth\": 2, \"linecolor\": \"white\", \"showbackground\": true, \"ticks\": \"\", \"zerolinecolor\": \"white\"}, \"zaxis\": {\"backgroundcolor\": \"#E5ECF6\", \"gridcolor\": \"white\", \"gridwidth\": 2, \"linecolor\": \"white\", \"showbackground\": true, \"ticks\": \"\", \"zerolinecolor\": \"white\"}}, \"shapedefaults\": {\"line\": {\"color\": \"#2a3f5f\"}}, \"ternary\": {\"aaxis\": {\"gridcolor\": \"white\", \"linecolor\": \"white\", \"ticks\": \"\"}, \"baxis\": {\"gridcolor\": \"white\", \"linecolor\": \"white\", \"ticks\": \"\"}, \"bgcolor\": \"#E5ECF6\", \"caxis\": {\"gridcolor\": \"white\", \"linecolor\": \"white\", \"ticks\": \"\"}}, \"title\": {\"x\": 0.05}, \"xaxis\": {\"automargin\": true, \"gridcolor\": \"white\", \"linecolor\": \"white\", \"ticks\": \"\", \"zerolinecolor\": \"white\", \"zerolinewidth\": 2}, \"yaxis\": {\"automargin\": true, \"gridcolor\": \"white\", \"linecolor\": \"white\", \"ticks\": \"\", \"zerolinecolor\": \"white\", \"zerolinewidth\": 2}}}, \"title\": {\"text\": \"\\u0420\\u0430\\u0441\\u043f\\u0440\\u0435\\u0434\\u0435\\u043b\\u0435\\u043d\\u0438\\u0435 \\u0437\\u0430\\u0440\\u0430\\u0431\\u043e\\u0442\\u043d\\u044b\\u0445 \\u043f\\u043b\\u0430\\u0442 \\u0432 \\u0437\\u0430\\u0432\\u0438\\u0441\\u0438\\u043c\\u043e\\u0441\\u0442\\u0438 \\u043e\\u0442 \\u043e\\u043f\\u044b\\u0442\\u0430\"}, \"xaxis\": {\"anchor\": \"y\", \"domain\": [0.0, 0.98], \"title\": {\"text\": \"\\u041d\\u0438\\u0436\\u043d\\u044f\\u044f \\u0432\\u0438\\u043b\\u043a\\u0430 \\u0437\\u0430\\u0440\\u043f\\u043b\\u0430\\u0442\\u044b\"}}, \"yaxis\": {\"anchor\": \"x\", \"domain\": [0.0, 1.0], \"title\": {\"text\": \"\\u0412\\u0435\\u0440\\u0445\\u043d\\u044f\\u044f \\u0432\\u0438\\u043b\\u043a\\u0430 \\u0437\\u0430\\u0440\\u043f\\u043b\\u0430\\u0442\\u044b\"}}},\n",
       "                        {\"responsive\": true}\n",
       "                    ).then(function(){\n",
       "                            \n",
       "var gd = document.getElementById('f8f73c7c-73a0-4334-8283-174eb361b1bd');\n",
       "var x = new MutationObserver(function (mutations, observer) {{\n",
       "        var display = window.getComputedStyle(gd).display;\n",
       "        if (!display || display === 'none') {{\n",
       "            console.log([gd, 'removed!']);\n",
       "            Plotly.purge(gd);\n",
       "            observer.disconnect();\n",
       "        }}\n",
       "}});\n",
       "\n",
       "// Listen for the removal of the full notebook cells\n",
       "var notebookContainer = gd.closest('#notebook-container');\n",
       "if (notebookContainer) {{\n",
       "    x.observe(notebookContainer, {childList: true});\n",
       "}}\n",
       "\n",
       "// Listen for the clearing of the current output cell\n",
       "var outputEl = gd.closest('.output');\n",
       "if (outputEl) {{\n",
       "    x.observe(outputEl, {childList: true});\n",
       "}}\n",
       "\n",
       "                        })\n",
       "                };\n",
       "                });\n",
       "            </script>\n",
       "        </div>"
      ]
     },
     "metadata": {},
     "output_type": "display_data"
    }
   ],
   "source": [
    "fig = px.scatter(data_frame=df, \n",
    "                 x='sal_from', \n",
    "                 y='sal_to', \n",
    "                 color='experience',\n",
    "                 title='Распределение заработных плат в зависимости от опыта',\n",
    "                 hover_name='name', \n",
    "                 hover_data=['sal_to', 'sal_from', 'skills'], \n",
    "                 color_discrete_sequence=px.colors.qualitative.Plotly,\n",
    "                 category_orders={\"experience\":\n",
    "                                  [\"Нет опыта\", \"От 1 года до 3 лет\", \"От 3 до 6 лет\", \"Более 6 лет\"]},\n",
    "               labels={'experience': 'Опыт', \n",
    "                       'sal_to': 'Верхняя вилка зарплаты', \n",
    "                       'sal_from': 'Нижняя вилка зарплаты',\n",
    "                       'skills': 'Требуемые навыки'}\n",
    "              ).update_traces(marker_size=10)\n",
    "fig.show()"
   ]
  }
 ],
 "metadata": {
  "kernelspec": {
   "display_name": "Python 3 (ipykernel)",
   "language": "python",
   "name": "python3"
  },
  "language_info": {
   "codemirror_mode": {
    "name": "ipython",
    "version": 3
   },
   "file_extension": ".py",
   "mimetype": "text/x-python",
   "name": "python",
   "nbconvert_exporter": "python",
   "pygments_lexer": "ipython3",
   "version": "3.9.18"
  }
 },
 "nbformat": 4,
 "nbformat_minor": 5
}
